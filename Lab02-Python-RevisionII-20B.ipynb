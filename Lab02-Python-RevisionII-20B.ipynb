{
 "cells": [
  {
   "cell_type": "markdown",
   "metadata": {
    "collapsed": false
   },
   "source": [
    "# Lab 2: Revision of Python, Introduction to Jupyter Notebooks (2)\n",
    "\n",
    "In today's lab we'll revise some more Python fundamentals as well as learn how to plot simple diagrams.\n",
    "\n",
    "**Please enter your name and student number in the markdown cell below**"
   ]
  },
  {
   "cell_type": "markdown",
   "metadata": {
    "collapsed": false
   },
   "source": [
    "* Name: Saashiv Valjee\n",
    "* SID: 190288688"
   ]
  },
  {
   "cell_type": "markdown",
   "metadata": {
    "collapsed": false
   },
   "source": [
    "\n",
    "## Importing from modules\n",
    "\n",
    "Python allows programmers to bundle up collections of variables, functions, and other objects such as classes into *modules* that can easily be imported into other projects. One reason Python is such an attractive programming language is the enormous library of modules to help with almost any imaginable type of calculation.\n",
    "\n",
    "There are a few variations on the syntax to import part or all of a module. These make more sense when discussing a particular example, so let's take the case of the square root function `sqrt()`. This isn't included by default when Python is loaded, but is available in the `numpy` module.\n",
    "\n",
    "* `import numpy` will import the whole `numpy` module. The `sqrt()` function will be available by typing `numpy.sqrt()`.\n",
    "* `import numpy as np` will do the same, but calling the module `np` instead: *i.e.*, you should type `np.sqrt()`. This is convenient if you will use many parts of the module and/or it has a long name.\n",
    "* `from numpy import sqrt` will import *only* the `sqrt()` function. It will be available without any prefix (*i.e.*, you should just type `sqrt()`). We say that this function has been imported into the *main namespace*.\n",
    "\n",
    "You can type `from numpy import *` to import *all* of the parts of a module into the main namespace. However, this isn't recommended usage, because it can have unintended consequences. To see what can happen, **evaluate the following code.** Can you explain the output?"
   ]
  },
  {
   "cell_type": "code",
   "execution_count": 1,
   "metadata": {
    "collapsed": false
   },
   "outputs": [
    {
     "name": "stdout",
     "output_type": "stream",
     "text": [
      "2.718281828459045\n"
     ]
    }
   ],
   "source": [
    "e = 3\n",
    "from numpy import *\n",
    "print(e)"
   ]
  },
  {
   "cell_type": "markdown",
   "metadata": {
    "collapsed": false
   },
   "source": [
    "the reason for this is because e was later definited to eulers number and has overridden the previous definition of e"
   ]
  },
  {
   "cell_type": "markdown",
   "metadata": {
    "collapsed": false
   },
   "source": [
    "Now go to the `Kernel` menu at the top of the page and click `Restart` to clear the effects of that `import`!"
   ]
  },
  {
   "cell_type": "markdown",
   "metadata": {
    "collapsed": false
   },
   "source": [
    "## `while` loops: running while a condition is true\n",
    "\n",
    "Sometimes we don't know how many steps a loop should run for in advance. For instance, if we're searching for the best possible fit between our data and some model, we should iterate until the quality of the fit no longer improves. This is where a `while` loop comes in handy. \n",
    "\n",
    "As a very simple example to demonstrate syntax, evaluate the following code:"
   ]
  },
  {
   "cell_type": "code",
   "execution_count": 1,
   "metadata": {
    "collapsed": false
   },
   "outputs": [
    {
     "name": "stdout",
     "output_type": "stream",
     "text": [
      "5\n",
      "4\n",
      "3\n",
      "2\n",
      "1\n"
     ]
    }
   ],
   "source": [
    "n = 5\n",
    "while n > 0:\n",
    "    print(n)\n",
    "    n -= 1 # short for n = n - 1"
   ]
  },
  {
   "cell_type": "markdown",
   "metadata": {
    "collapsed": false
   },
   "source": [
    "You can see that the loop continues to run only while the condition `n > 0` is true. Of course, this is a rather artificial example, because we could have predicted in advance that the loop would run five times, so there is no reason not to use a `for` loop.\n",
    "\n",
    "Before we see a more realistic example, let’s look at a new data type."
   ]
  },
  {
   "cell_type": "markdown",
   "metadata": {
    "collapsed": false
   },
   "source": [
    "## Tuples\n",
    "\n",
    "Tuples are very much like lists, except that they use round brackets `()` rather than square, and that they are *immutable* (cannot be changed). To see this, try evaluating the following code and note the error message:"
   ]
  },
  {
   "cell_type": "code",
   "execution_count": 2,
   "metadata": {
    "collapsed": false
   },
   "outputs": [
    {
     "ename": "TypeError",
     "evalue": "'tuple' object does not support item assignment",
     "output_type": "error",
     "traceback": [
      "\u001b[0;31m---------------------------------------------------------------------------\u001b[0m",
      "\u001b[0;31mTypeError\u001b[0m                                 Traceback (most recent call last)",
      "\u001b[0;32m<ipython-input-2-c299a43992a7>\u001b[0m in \u001b[0;36m<module>\u001b[0;34m\u001b[0m\n\u001b[1;32m      3\u001b[0m \u001b[0;34m\u001b[0m\u001b[0m\n\u001b[1;32m      4\u001b[0m \u001b[0mmy_tuple\u001b[0m \u001b[0;34m=\u001b[0m \u001b[0;34m(\u001b[0m\u001b[0;36m1\u001b[0m\u001b[0;34m,\u001b[0m \u001b[0;36m2\u001b[0m\u001b[0;34m,\u001b[0m \u001b[0;36m3\u001b[0m\u001b[0;34m)\u001b[0m\u001b[0;34m\u001b[0m\u001b[0;34m\u001b[0m\u001b[0m\n\u001b[0;32m----> 5\u001b[0;31m \u001b[0mmy_tuple\u001b[0m\u001b[0;34m[\u001b[0m\u001b[0;36m0\u001b[0m\u001b[0;34m]\u001b[0m \u001b[0;34m=\u001b[0m \u001b[0;36m100\u001b[0m\u001b[0;34m\u001b[0m\u001b[0;34m\u001b[0m\u001b[0m\n\u001b[0m",
      "\u001b[0;31mTypeError\u001b[0m: 'tuple' object does not support item assignment"
     ]
    }
   ],
   "source": [
    "my_list = [1, 2, 3]\n",
    "my_list[0] = 100\n",
    "\n",
    "my_tuple = (1, 2, 3)\n",
    "my_tuple[0] = 100"
   ]
  },
  {
   "cell_type": "markdown",
   "metadata": {
    "collapsed": false
   },
   "source": [
    "For many purposes they can be used in the same way as lists. One good use is if we want to return more than one value from a function: *each function call can only return one object*, but if that object is a tuple, it can contain as many individual elements as we like.\n",
    "\n",
    "Tuples will be automatically created even without the round brackets in certain contexts when objects are separated by commas; this feature is known as tuple *packing*:"
   ]
  },
  {
   "cell_type": "code",
   "execution_count": 3,
   "metadata": {
    "collapsed": false
   },
   "outputs": [
    {
     "name": "stdout",
     "output_type": "stream",
     "text": [
      "(1, 2, 3)\n"
     ]
    }
   ],
   "source": [
    "my_tuple = 1, 2, 3\n",
    "print(my_tuple)"
   ]
  },
  {
   "cell_type": "markdown",
   "metadata": {
    "collapsed": false
   },
   "source": [
    "Similarly and in the opposite direction, we can *unpack* tuples: "
   ]
  },
  {
   "cell_type": "code",
   "execution_count": 4,
   "metadata": {
    "collapsed": false
   },
   "outputs": [
    {
     "name": "stdout",
     "output_type": "stream",
     "text": [
      "1\n"
     ]
    }
   ],
   "source": [
    "a, b, c = my_tuple\n",
    "print(a)"
   ]
  },
  {
   "cell_type": "markdown",
   "metadata": {
    "collapsed": false
   },
   "source": [
    "Combining these features comes in handy when we are investigating mathematical sequences. Suppose that we are investigating two sequences $a_n$ and $b_n$, which follow the rule that $a_{n+1} = b_n + 1$ and $b_{n+1} = a_n + 1$. **The following would be the *wrong* way to do this: can you see why?**"
   ]
  },
  {
   "cell_type": "code",
   "execution_count": 5,
   "metadata": {
    "collapsed": false
   },
   "outputs": [
    {
     "name": "stdout",
     "output_type": "stream",
     "text": [
      "3 4\n"
     ]
    }
   ],
   "source": [
    "# Some initial values\n",
    "a = 1\n",
    "b = 2\n",
    "\n",
    "a = b + 1\n",
    "b = a + 1\n",
    "\n",
    "print(a, b)"
   ]
  },
  {
   "cell_type": "markdown",
   "metadata": {
    "collapsed": false
   },
   "source": [
    "We update `a` *before* `b`, so in fact mathematically we are evaluating $a_{n+1} = b_n + 1$ and $b_{n+1} = a_{n+1} + 1$."
   ]
  },
  {
   "cell_type": "markdown",
   "metadata": {
    "collapsed": false
   },
   "source": [
    "The following is correct but a bit inelegant:"
   ]
  },
  {
   "cell_type": "code",
   "execution_count": 0,
   "metadata": {
    "collapsed": false
   },
   "outputs": [
   ],
   "source": [
    "# Some initial values\n",
    "a = 1\n",
    "b = 2\n",
    "\n",
    "temp_a = a       # Save the value of a for later\n",
    "a = b + 1        # Now we can update a ...\n",
    "b = temp_a + 1   # ... and still calculate the correct new value for b.\n",
    "\n",
    "print(a, b)"
   ]
  },
  {
   "cell_type": "markdown",
   "metadata": {
    "collapsed": false
   },
   "source": [
    "But with tuple packing and unpacking, this becomes rather easier:"
   ]
  },
  {
   "cell_type": "code",
   "execution_count": 0,
   "metadata": {
    "collapsed": false
   },
   "outputs": [
   ],
   "source": [
    "# Some initial values\n",
    "a = 1\n",
    "b = 2\n",
    "\n",
    "a, b = b + 1, a + 1 # One step!\n",
    "\n",
    "print(a, b)"
   ]
  },
  {
   "cell_type": "markdown",
   "metadata": {
    "collapsed": false
   },
   "source": [
    "To show you understand this, try evaluating the following sequence using tuple packing:\n",
    "\n",
    "$$a_{n+1} = \\tfrac12(a_n+b_n) \\qquad b_{n+1} = \\sqrt{a_nb_n} \\qquad c_{n+1} = c_n - \\tfrac14d_n(a_n-b_n)^2\n",
    "\\qquad d_{n+1} = 2d_n$$\n",
    "\n",
    "* Start from the values $a_0 = 1$, $b_0 = 1/\\sqrt{2}$, $c_0 = \\frac14$, $d_0 = 1$, \n",
    "* **use a `while` loop to follow the rule above until** $|a_n - b_n| < 10^{-7}$. \n",
    "* You will need to import the `sqrt` function from the `numpy` module and use a built-in or `numpy` function for the absolute value.\n",
    "* For each step in your while loop print, $a, b, c, d,$ and $a-b$. \n",
    "\n",
    "After the loop has terminated then **calculate** $$ p = \\frac{(a_n + b_n)^2}{4c_n} .$$\n",
    "\n",
    "What do you notice?\n",
    "\n",
    "\n"
   ]
  },
  {
   "cell_type": "code",
   "execution_count": 58,
   "metadata": {
    "collapsed": false
   },
   "outputs": [
    {
     "name": "stdout",
     "output_type": "stream",
     "text": [
      "0.8535533905932737 0.8408964152537145 0.22855339059327376 2 0.29289321881345254\n",
      "----------\n",
      "0.8472249029234942 0.8472012667468914 0.22847329108090064 4 0.012656975339559229\n",
      "----------\n",
      "0.8472130848351929 0.8472130847527654 0.2284732905222318 8 2.363617660272599e-05\n",
      "----------\n",
      "0.8472130848351929 0.8472130847527654 0.2284732905222318\n",
      "3.141592653589794\n"
     ]
    }
   ],
   "source": [
    "from numpy import *\n",
    "\n",
    "a = 1\n",
    "b = 1/sqrt(2)\n",
    "c = 1/4\n",
    "d = 1\n",
    "k = a - b, a-b\n",
    "\n",
    "while (abs(a-b))>10**(-7):\n",
    "    a, b, c, d, k = 1/2*(a+b), sqrt(a*b), c - (1/4)*d*(a-b)**2, 2*d, a-b\n",
    "    print(a,b,c,d,k)\n",
    "    print('----------')\n",
    "\n",
    "print(a,b,c)\n",
    "p = (a+b)**2/(4*c)\n",
    "print(p)\n",
    "\n",
    "#i notice that p is pi"
   ]
  },
  {
   "cell_type": "markdown",
   "metadata": {
    "collapsed": false
   },
   "source": [
    "\n",
    "Before discussing this checkpoint with a demonstrator please do the following:\n",
    "- ensure the code is working properly, especially the boldface type questions\n",
    "- ensure you understand how the code you have written works (e.g., the structure, data types, algorithm....etc).\n",
    "- ensure you have answered the question asked, calculating the value of $p$ after the algorithm has converged (*i.e.*, the loop has finished).\n",
    "\n",
    "Experiment with editing and running code to build intuition about how it functions. \n",
    "\n",
    "When you are ready call over a demonstrator to do your checkpoint."
   ]
  },
  {
   "cell_type": "markdown",
   "metadata": {
    "collapsed": false
   },
   "source": [
    "▶ **CHECKPOINT 1**"
   ]
  },
  {
   "cell_type": "markdown",
   "metadata": {
    "collapsed": false
   },
   "source": [
    "## Visualisation\n",
    "\n",
    "Modern computers have made visualisation so easy that it should be the first step of almost any data analysis: it is far easier to see what is going on from a picture than from, say, a table of numbers.\n",
    "\n",
    "We will use the `matplotlib` package to make pictures, which plays very nicely with Jupyter notebooks. In fact in this lab we will specifically be using the `pyplot` submodule: this is designed to behave similarly to MATLAB plotting, and contains all the functionality we will need for now.\n",
    "\n",
    "Let's start by evaluating a \"magic\" command that allows plots to be written directly to our notebook:"
   ]
  },
  {
   "cell_type": "code",
   "execution_count": 18,
   "metadata": {
    "collapsed": false
   },
   "outputs": [
   ],
   "source": [
    "%matplotlib inline"
   ]
  },
  {
   "cell_type": "markdown",
   "metadata": {
    "collapsed": false
   },
   "source": [
    "**Note that we only need to do this once:** then plots will be displayed “inline” for the rest of the session.\n",
    "\n",
    "*Note:  there is another magic command that allows for interactive plots in classic jupyter notebooks; `%matplotlib notebook`.  While tremendously useful, this command is not supported by the Cocalc environment.  Using it will give errors.  An example is included at the end of this script, should you wish to use code elsewhere (e.g., on your own laptop).\n",
    "\n",
    "\n",
    "Next, we need to import the `plot` and `figure` functions:"
   ]
  },
  {
   "cell_type": "code",
   "execution_count": 19,
   "metadata": {
    "collapsed": false
   },
   "outputs": [
   ],
   "source": [
    "from matplotlib.pyplot import figure, plot"
   ]
  },
  {
   "cell_type": "markdown",
   "metadata": {
    "collapsed": false
   },
   "source": [
    "Let's now consider how to plot a mathematical function. By far the easiest way to do this involves a new data type, provided by the `numpy` package, called an `array`. We will actually generate the array using the `linspace()` function, and the function we want to plot (say) is $\\cos(x)$, or `cos()`. These can be imported into the namespace using the following."
   ]
  },
  {
   "cell_type": "code",
   "execution_count": 20,
   "metadata": {
    "collapsed": false
   },
   "outputs": [
   ],
   "source": [
    "from numpy import linspace, pi, cos"
   ]
  },
  {
   "cell_type": "markdown",
   "metadata": {
    "collapsed": false
   },
   "source": [
    "Suppose we want to plot $\\cos x$ from $-2\\pi$ to $2\\pi$. The first step is to generate a set of $x$ values in this range, which is the job of `linspace`. We can get 50 evenly spaced $x$ points by:"
   ]
  },
  {
   "cell_type": "code",
   "execution_count": 22,
   "metadata": {
    "collapsed": false
   },
   "outputs": [
   ],
   "source": [
    "x = linspace(-2*pi, 2*pi, 50)"
   ]
  },
  {
   "cell_type": "markdown",
   "metadata": {
    "collapsed": false,
    "slideshow": {
     "slide_type": "slide"
    }
   },
   "source": [
    "If you evaluate a cell containing simply `x`, you will see what type `x` is and what it contains.  In this case you see that `x` is an `array`: "
   ]
  },
  {
   "cell_type": "code",
   "execution_count": 23,
   "metadata": {
    "collapsed": false
   },
   "outputs": [
    {
     "data": {
      "text/plain": [
       "array([-6.28318531, -6.02672876, -5.77027222, -5.51381568, -5.25735913,\n",
       "       -5.00090259, -4.74444605, -4.48798951, -4.23153296, -3.97507642,\n",
       "       -3.71861988, -3.46216333, -3.20570679, -2.94925025, -2.6927937 ,\n",
       "       -2.43633716, -2.17988062, -1.92342407, -1.66696753, -1.41051099,\n",
       "       -1.15405444, -0.8975979 , -0.64114136, -0.38468481, -0.12822827,\n",
       "        0.12822827,  0.38468481,  0.64114136,  0.8975979 ,  1.15405444,\n",
       "        1.41051099,  1.66696753,  1.92342407,  2.17988062,  2.43633716,\n",
       "        2.6927937 ,  2.94925025,  3.20570679,  3.46216333,  3.71861988,\n",
       "        3.97507642,  4.23153296,  4.48798951,  4.74444605,  5.00090259,\n",
       "        5.25735913,  5.51381568,  5.77027222,  6.02672876,  6.28318531])"
      ]
     },
     "execution_count": 23,
     "metadata": {
     },
     "output_type": "execute_result"
    }
   ],
   "source": [
    "x"
   ]
  },
  {
   "cell_type": "markdown",
   "metadata": {
    "collapsed": false,
    "slideshow": {
     "slide_type": "slide"
    }
   },
   "source": [
    "One key feature of this data type is that *we can apply mathematical functions to every element at once.* So to calculate our `y` values, we simply type:"
   ]
  },
  {
   "cell_type": "code",
   "execution_count": 24,
   "metadata": {
    "collapsed": false
   },
   "outputs": [
   ],
   "source": [
    "y = cos(x)"
   ]
  },
  {
   "cell_type": "markdown",
   "metadata": {
    "collapsed": false
   },
   "source": [
    "Then plotting is as simple as"
   ]
  },
  {
   "cell_type": "code",
   "execution_count": 25,
   "metadata": {
    "collapsed": false
   },
   "outputs": [
    {
     "data": {
      "text/plain": [
       "[<matplotlib.lines.Line2D at 0x7fbc8ad18fd0>]"
      ]
     },
     "execution_count": 25,
     "metadata": {
     },
     "output_type": "execute_result"
    },
    {
     "data": {
      "image/png": "[encoded data removed]",
      "text/plain": [
       "<Figure size 432x288 with 1 Axes>"
      ]
     },
     "execution_count": 25,
     "metadata": {
      "image/png": {
       "height": 248,
       "width": 386
      },
      "needs_background": "light"
     },
     "output_type": "execute_result"
    }
   ],
   "source": [
    "figure()\n",
    "plot(x,y)"
   ]
  },
  {
   "cell_type": "markdown",
   "metadata": {
    "collapsed": false
   },
   "source": [
    "**Using this functionality, plot $y = \\tanh(x)$ from –5 to 5. Put gridlines on your graph.** \n",
    "\n",
    "*Hint:* you can import almost any mathematical function you can think of, including `tanh()` from `numpy`.  There are also several options in `matplotlib.pyplot` that will improved the presentation of the plot.  For example, the `grid()` function from this submodule will apply gridlines, the `xlabel(string)` function will label the x-axis with `string`, `ylabel(string)` and `legend()` do what you might expect, and there are many others.  You could limit the range of $x$ or limit the range of values shown in the plot using `xlim()` or `ylim()`.  Try a few of these options.\n"
   ]
  },
  {
   "cell_type": "code",
   "execution_count": 2,
   "metadata": {
    "collapsed": false
   },
   "outputs": [
    {
     "data": {
      "text/plain": [
       "[<matplotlib.lines.Line2D at 0x7f945ccddfd0>]"
      ]
     },
     "execution_count": 2,
     "metadata": {
     },
     "output_type": "execute_result"
    },
    {
     "data": {
      "image/png": "[encoded data removed]",
      "text/plain": [
       "<Figure size 864x504 with 1 Axes>"
      ]
     },
     "execution_count": 2,
     "metadata": {
      "image/png": {
       "height": 411,
       "width": 721
      },
      "needs_background": "light"
     },
     "output_type": "execute_result"
    }
   ],
   "source": [
    "from matplotlib.pyplot import figure, plot\n",
    "from numpy import linspace, pi, cos, tanh\n",
    "\n",
    "x = linspace(-5,5,10)\n",
    "y = tanh(x)\n",
    "\n",
    "figure()\n",
    "plot(x,y)"
   ]
  },
  {
   "cell_type": "markdown",
   "metadata": {
    "collapsed": false
   },
   "source": [
    "The `numpy` package and `array` type are very useful in scientific analysis and we will repeatedly return to them during this module."
   ]
  },
  {
   "cell_type": "markdown",
   "metadata": {
    "collapsed": false
   },
   "source": [
    "## An Example: Collatz Conjecture\n",
    "Here we will use plots and `while` loops to investigate the [*Collatz conjecture*](https://en.wikipedia.org/wiki/Collatz_conjecture).  Follow this link for more information and the history of this conjecture.\n",
    "\n",
    "The Collatz Conjecture involves a simple rule for generating a sequence of integers:\n",
    "\n",
    "- If $n_0$ is even, halve it: $n_1 = n_0/2$.\n",
    "- If $n_0$ is odd, multiply by three and add one: $n_1 = 3n_0 + 1$.\n",
    "\n",
    "We generate $n_2$ from $n_1$ in the same way, and so on. \n",
    "\n",
    "The conjecture is that no matter what the starting value, the sequence will eventually reach 1. This has never been proven true, nor has any counterexample been found.\n",
    "\n",
    "**Complete the following code for a function to perform one Collatz step.**"
   ]
  },
  {
   "cell_type": "code",
   "execution_count": 3,
   "metadata": {
    "collapsed": false
   },
   "outputs": [
   ],
   "source": [
    "def collatz_step(n):\n",
    "    \"\"\"Returns the next step in the Collatz sequence, starting from n.\"\"\"\n",
    "    if n % 2 == 0: # the % operator on integers gives the remainder after division.\n",
    "        return n // 2 # the // operator performs *integer* division. \n",
    "    if n % 2 != 0:\n",
    "        return 3*n + 1\n"
   ]
  },
  {
   "cell_type": "markdown",
   "metadata": {
    "collapsed": false
   },
   "source": [
    "Now we can use a `while` loop to see a sample sequence. **Write a `while` loop that will set `n` to the next value given by `collatz_step` until it reaches 1, printing the value of `n` at each step.**"
   ]
  },
  {
   "cell_type": "code",
   "execution_count": 4,
   "metadata": {
    "collapsed": false
   },
   "outputs": [
    {
     "name": "stdout",
     "output_type": "stream",
     "text": [
      "6\n",
      "3\n",
      "10\n",
      "5\n",
      "16\n",
      "8\n",
      "4\n",
      "2\n",
      "1\n",
      "steps:  9\n"
     ]
    }
   ],
   "source": [
    "n = 12\n",
    "steps = 0\n",
    "while n != 1:\n",
    "    n = collatz_step(n)\n",
    "    print(n)\n",
    "    steps += 1\n",
    "\n",
    "print('steps: ', steps)"
   ]
  },
  {
   "cell_type": "markdown",
   "metadata": {
    "collapsed": false
   },
   "source": [
    "may have accidentally deleted task cell, task was to find n in 0 < n < 1000 that uses the most steps to return to 1"
   ]
  },
  {
   "cell_type": "code",
   "execution_count": 5,
   "metadata": {
    "collapsed": false
   },
   "outputs": [
    {
     "name": "stdout",
     "output_type": "stream",
     "text": [
      "maximum number of steps for a single number under 1000: 178\n",
      "the number that corresponds to 178 steps is 871\n"
     ]
    }
   ],
   "source": [
    "def collatz_step(n):\n",
    "    count = 0\n",
    "    while n != 1:\n",
    "        if n % 2 == 0:\n",
    "            n = n // 2  \n",
    "        elif n % 2 != 0:\n",
    "            n = 3*n + 1\n",
    "        count += 1\n",
    "    return count\n",
    "        \n",
    "list_of_numbers = []\n",
    "for x in range(1,1001):\n",
    "    list_of_numbers.append(x)\n",
    "    \n",
    "lists = list(map(collatz_step, list_of_numbers))\n",
    "print('maximum number of steps for a single number under 1000:', max(lists))\n",
    "\n",
    "index = 0\n",
    "for i in lists:\n",
    "    if i != max(lists):\n",
    "        index += 1\n",
    "    else:\n",
    "        break\n",
    "\n",
    "print('the number that corresponds to', max(lists), 'steps is', index + 1)"
   ]
  },
  {
   "cell_type": "markdown",
   "metadata": {
    "collapsed": false
   },
   "source": [
    "▶ **CHECKPOINT 2**"
   ]
  },
  {
   "cell_type": "markdown",
   "metadata": {
    "collapsed": false
   },
   "source": [
    "This sequence would be easier to understand if we could visualise its trajectory. Let’s record each number that the sequence passes through on its way to 1.\n",
    "\n",
    "**Modify your `while` loop to create a list of every number in the Collatz sequence, starting from the value of $n_0$ you determined above.**\n",
    "\n",
    "*Hint:* Start by creating a list `collatz_history = [n]`, where `n` is the starting number; then use the `append` method to add an item to this list for every cycle through the loop."
   ]
  },
  {
   "cell_type": "code",
   "execution_count": 6,
   "metadata": {
    "collapsed": false
   },
   "outputs": [
    {
     "name": "stdout",
     "output_type": "stream",
     "text": [
      "6\n",
      "3\n",
      "10\n",
      "5\n",
      "16\n",
      "8\n",
      "4\n",
      "2\n",
      "1\n",
      "list is [12, 6, 3, 10, 5, 16, 8, 4, 2, 1]\n",
      "steps:  9\n"
     ]
    }
   ],
   "source": [
    "def collatz_step(n):\n",
    "    \"\"\"Returns the next step in the Collatz sequence, starting from n.\"\"\"\n",
    "    if n % 2 == 0: # the % operator on integers gives the remainder after division.\n",
    "        return n // 2 # the // operator performs *integer* division. \n",
    "    if n % 2 != 0:\n",
    "        return 3*n + 1\n",
    "\n",
    "n = 12\n",
    "collatz_history = [n]\n",
    "steps = 0\n",
    "while n != 1:\n",
    "    n = collatz_step(n)\n",
    "    print(n)\n",
    "    collatz_history.append(n)\n",
    "    steps += 1\n",
    "\n",
    "print('list is', collatz_history)\n",
    "print('steps: ', steps)"
   ]
  },
  {
   "cell_type": "markdown",
   "metadata": {
    "collapsed": false
   },
   "source": [
    "Let’s examine that list:"
   ]
  },
  {
   "cell_type": "code",
   "execution_count": 7,
   "metadata": {
    "collapsed": false
   },
   "outputs": [
    {
     "name": "stdout",
     "output_type": "stream",
     "text": [
      "[12, 6, 3, 10, 5, 16, 8, 4, 2, 1]\n"
     ]
    }
   ],
   "source": [
    "print(collatz_history)"
   ]
  },
  {
   "cell_type": "markdown",
   "metadata": {
    "collapsed": false
   },
   "source": [
    "Impressive, but it would be much easier to understand if we plotted it..."
   ]
  },
  {
   "cell_type": "code",
   "execution_count": 8,
   "metadata": {
    "collapsed": false
   },
   "outputs": [
    {
     "data": {
      "text/plain": [
       "[<matplotlib.lines.Line2D at 0x7f945c5e0af0>]"
      ]
     },
     "execution_count": 8,
     "metadata": {
     },
     "output_type": "execute_result"
    },
    {
     "data": {
      "image/png": "[encoded data removed]",
      "text/plain": [
       "<Figure size 864x504 with 1 Axes>"
      ]
     },
     "execution_count": 8,
     "metadata": {
      "image/png": {
       "height": 411,
       "width": 703
      },
      "needs_background": "light"
     },
     "output_type": "execute_result"
    }
   ],
   "source": [
    "figure()\n",
    "plot(collatz_history)"
   ]
  },
  {
   "cell_type": "markdown",
   "metadata": {
    "collapsed": false
   },
   "source": [
    "That gives a much better picture of what is going on: you can see how the value gradually rises until the sequence hits a number that is a multiple of some high power of 2, when the \"halving\" step makes it decrease rapidly.\n",
    "\n",
    "(You don’t actually even need the `figure` function above; the `plot` function will make a new figure if none is open, or plot to the most recent figure if it is still open for input: that is, if you haven’t yet pressed that “power” button. Because this can be confusing if the most recent figure is a long way back in the notebook, I recommend always explicitly creating a new figure with `figure` if you want one.)\n",
    "\n",
    "You can see that the `plot` function called with just a list as argument plots that list against the sequence number (that is, the first element is plotted at $x = 0$, the second at $x = 1$, and so forth).\n",
    "\n",
    "Let's find out a bit more about the `plot` function. Recall that `Shift`+`Tab` is a convenient way to load the documentation for a function. So **put the cursor after the opening bracket of `plot(` in the cell above and press `Shift`+`Tab` to see what happens.**\n",
    "\n",
    "You will see from the inline documentation that the `plot` function can also take a string argument that specifies how to format the plot. Some codes you can use are listed in the table below (full list in the [documentation](https://matplotlib.org/api/_as_gen/matplotlib.pyplot.plot.html)); you can specify the colour, marker style, line style, or any combination of these.\n",
    "\n",
    " character | meaning \n",
    "--------| ------\n",
    "`'b'` |\tblue\n",
    "`'g'` |\tgreen\n",
    "`'r'` |\tred\n",
    "`'k'` |\tblack\n",
    "`'.'` |\tpoint marker\n",
    "`'o'` |\tcircle marker\n",
    "`'s'` |\tsquare marker\n",
    "`'*'` |\tstar marker\n",
    "`'+'` |\tplus marker\n",
    "`'x'` |\tx marker\n",
    "`'-'` |\tsolid line style\n",
    "`'--'`| \tdashed line style\n",
    "`'-.'`| \tdash-dot line style\n",
    "`':'` |\tdotted line style\n",
    "\n",
    "Try using this to **plot the Collatz sequence starting from 12, using red circles joined by a dashed line.** Note from the documentation you saw that the syntax you want is `plot(list, format_string)`."
   ]
  },
  {
   "cell_type": "code",
   "execution_count": 9,
   "metadata": {
    "collapsed": false
   },
   "outputs": [
    {
     "data": {
      "text/plain": [
       "[<matplotlib.lines.Line2D at 0x7f945cc293d0>]"
      ]
     },
     "execution_count": 9,
     "metadata": {
     },
     "output_type": "execute_result"
    },
    {
     "data": {
      "image/png": "[encoded data removed]",
      "text/plain": [
       "<Figure size 864x504 with 1 Axes>"
      ]
     },
     "execution_count": 9,
     "metadata": {
      "image/png": {
       "height": 411,
       "width": 703
      },
      "needs_background": "light"
     },
     "output_type": "execute_result"
    }
   ],
   "source": [
    "figure()\n",
    "plot(collatz_history, 'ro--')"
   ]
  },
  {
   "cell_type": "markdown",
   "metadata": {
    "collapsed": false
   },
   "source": [
    "\n",
    "\n",
    "Return to your Collatz conjecture code and **find the value of $n \\leq 1000$ that reaches the *highest number*** before returning to 1. What is this highest number?\n",
    "\n",
    "Note:  try to make your code here simple to modify and utilise with a different starting or end point.  That is make your code clear and easily repurposed to slight different problems.\n",
    "\n",
    "The quiz questions often ask you to modify your lab scripts to solve a slightly different problem.  These questions are most easily and quickly solved if your code is easy to adapt."
   ]
  },
  {
   "cell_type": "code",
   "execution_count": 10,
   "metadata": {
    "collapsed": false,
    "scrolled": true
   },
   "outputs": [
    {
     "name": "stdout",
     "output_type": "stream",
     "text": [
      "703 , 250504\n"
     ]
    }
   ],
   "source": [
    "'''\n",
    "global list_of_collatz_numbers\n",
    "list_of_collatz_numbers = []\n",
    "global list_of_stuff\n",
    "list_of_stuff = []\n",
    "\n",
    "def collatz_step(n):\n",
    "    list_of_small_stuff = []\n",
    "    count = 0\n",
    "    while n != 1:\n",
    "        list_of_small_stuff.append(n)\n",
    "        list_of_collatz_numbers.append(n)\n",
    "        if n % 2 == 0:\n",
    "            n = n // 2\n",
    "        elif n % 2 != 0:\n",
    "            n = 3*n + 1\n",
    "        count += 1\n",
    "    return max(list_of_small_stuff)\n",
    "\n",
    "list_of_numbers = []\n",
    "#since 1 has no operations, it has no steps and my list of steps will be empty\n",
    "#this causes an error that we avoid by starting at 2\n",
    "for x in range(2,1001):\n",
    "    list_of_numbers.append(x)\n",
    "\n",
    "lists = list(map(collatz_step, list_of_numbers))\n",
    "print('maximum number reached: ', max(list_of_collatz_numbers))\n",
    "\n",
    "#each number in lists represents the maximum number reached using\n",
    "#using each numbers index + 2 as the starting number for the collatz step\n",
    "\n",
    "counter = 2\n",
    "for i in lists:\n",
    "    if i != max(list_of_collatz_numbers):\n",
    "        counter += 1\n",
    "    if i == max(list_of_collatz_numbers):\n",
    "        print('the number(s) that reached',\n",
    "              max(list_of_collatz_numbers), 'is', counter)\n",
    "        break\n",
    "'''\n",
    "\n",
    "def collatz_step(n):\n",
    "    cnlist = []\n",
    "    count = 0\n",
    "    while n != 1:\n",
    "        cnlist.append(n)\n",
    "        if count == 0:\n",
    "            OGnumb = n\n",
    "        if n % 2 == 0:\n",
    "            n = n // 2\n",
    "        elif n % 2 != 0:\n",
    "            n = 3*n + 1\n",
    "        count += 1\n",
    "    mxtup = (OGnumb, max(cnlist))\n",
    "    return(mxtup)\n",
    "\n",
    "list_of_numbers = []\n",
    "for x in range(2,1000):\n",
    "    list_of_numbers.append(x)\n",
    "\n",
    "lists = list(map(collatz_step, list_of_numbers))\n",
    "\n",
    "num = 0\n",
    "for i in lists:\n",
    "    if num < i[1]:\n",
    "        num = i[1]\n",
    "        nnum = i\n",
    "\n",
    "print(nnum[0] ,',', num)"
   ]
  },
  {
   "cell_type": "markdown",
   "metadata": {
    "collapsed": true
   },
   "source": [
    "## Format strings\n",
    "\n",
    "This final section is really a matter of aesthetics – but it's nice to be able to make output look well-laid out and professional!\n",
    "\n",
    "The `format()` function is a string *method* – a function that applies only to strings. It replaces curly brackets `{}` in the string with the values of its arguments. Consider the following simple example:"
   ]
  },
  {
   "cell_type": "code",
   "execution_count": 102,
   "metadata": {
    "collapsed": false
   },
   "outputs": [
    {
     "data": {
      "text/plain": [
       "'Io is a moon of Jupiter'"
      ]
     },
     "execution_count": 102,
     "metadata": {
     },
     "output_type": "execute_result"
    }
   ],
   "source": [
    "\"{} is a moon of {}\".format(\"Io\", \"Jupiter\")"
   ]
  },
  {
   "cell_type": "markdown",
   "metadata": {
    "collapsed": false
   },
   "source": [
    "You can include information in the curly brackets to specify exactly how a value should be converted to a string. This information always comes after a colon `:` and ends with a letter specifying the sort of number that should be printed. Common examples include \n",
    "\n",
    "Letter | Meaning\n",
    "------ | -------\n",
    "   `f` | floating-point number, usual notation\n",
    "   `e` | floating-point number, scientific notation\n",
    "   `d` | integer, decimal\n",
    "   `s` | string\n",
    "\n",
    "In between, we can specify the number of spaces that should be left to print the number and, where relevant, the number of decimal places that should be used:"
   ]
  },
  {
   "cell_type": "code",
   "execution_count": 12,
   "metadata": {
    "collapsed": false
   },
   "outputs": [
    {
     "name": "stdout",
     "output_type": "stream",
     "text": [
      "pi  = 3.141592653589793\n",
      "pi  = 3.14159\n",
      "pi  = 3.14\n",
      "pi  = 3.14e+00\n",
      "pi  > 3\n",
      "pie = apple   \n",
      "-------------\n",
      "pi  = 3.141592653589793\n",
      "pi  =    3.14159\n",
      "pi  =     3.14\n",
      "pi  = 3.14e+00\n",
      "pi  >        3\n",
      "pie = apple   \n"
     ]
    }
   ],
   "source": [
    "from numpy import pi\n",
    "\n",
    "list1 = ['pi  = {}', 'pi  = {:.5f}', 'pi  = {:.2f}', 'pi  = {:.2e}', 'pi  > {:d}', 'pie = {:8s}']\n",
    "list2 = [pi, pi, pi, pi, 3, 'apple']\n",
    "\n",
    "for i in range(0,6):\n",
    "    print(list1[i].format(list2[i]))\n",
    "\n",
    "\n",
    "print('-------------')\n",
    "print(\"pi  = {}\".format(pi))         # no special format information given\n",
    "print(\"pi  = {:10.5f}\".format(pi))   # float, 10 spaces, 5 decimal places\n",
    "print(\"pi  = {:8.2f}\".format(pi))    # float, 8 spaces, 2 decimal places\n",
    "print(\"pi  = {:8.2e}\".format(pi))    # float, scientific notation, 8 spaces, 2 decimal places\n",
    "print(\"pi  > {:8d}\".format(3))       # decimal integer, 8 spaces\n",
    "print(\"pie = {:8s}\".format('apple')) # string, 8 spaces (by default left-aligned)"
   ]
  },
  {
   "cell_type": "markdown",
   "metadata": {
    "collapsed": false
   },
   "source": [
    "Put this all together by using an appropriate loop together with the `format` function to **print the following data set**, using the `format` function to ensure that the data lines up attractively."
   ]
  },
  {
   "cell_type": "code",
   "execution_count": 0,
   "metadata": {
    "collapsed": false
   },
   "outputs": [
   ],
   "source": [
    "element_densities = { # densities in g.cm^-3\n",
    "    'Li': 0.534,\n",
    "    'Be': 1.8477,\n",
    "    'B' : 2.34,\n",
    "    'C' : 2.267,\n",
    "    'Na': 0.968,\n",
    "    'Mg': 1.738,\n",
    "    'Al': 2.70\n",
    "}"
   ]
  },
  {
   "cell_type": "markdown",
   "metadata": {
    "collapsed": false
   },
   "source": [
    "▶ **CHECKPOINT 3**"
   ]
  },
  {
   "cell_type": "markdown",
   "metadata": {
    "collapsed": false
   },
   "source": [
    "## Extension 1: Data types, continued\n",
    "\n",
    "### Dicts\n",
    "\n",
    "A `dict` (dictionary) is a set of *keys*, each of which has a *value*. Syntatically, these are written using curly brackets `{}`. The keys can be used to index the dict in the same way that numbers are used to index lists and tuples. This can be useful if we want to store information associated with, say, a particular name or ID number:"
   ]
  },
  {
   "cell_type": "code",
   "execution_count": 104,
   "metadata": {
    "collapsed": false
   },
   "outputs": [
    {
     "name": "stdout",
     "output_type": "stream",
     "text": [
      "-0.42\n"
     ]
    }
   ],
   "source": [
    "bank_account = {'Anthony': -0.42, 'Basil': 109287.29}\n",
    "print(bank_account['Anthony'])"
   ]
  },
  {
   "cell_type": "markdown",
   "metadata": {
    "collapsed": false
   },
   "source": [
    "Note that dicts do *not* have a guaranteed order, and cannot therefore be indexed by number (unless of course we have specifically defined that number as a key):"
   ]
  },
  {
   "cell_type": "code",
   "execution_count": 105,
   "metadata": {
    "collapsed": false
   },
   "outputs": [
    {
     "ename": "KeyError",
     "evalue": "0",
     "output_type": "error",
     "traceback": [
      "\u001b[0;31m---------------------------------------------------------------------------\u001b[0m",
      "\u001b[0;31mKeyError\u001b[0m                                  Traceback (most recent call last)",
      "\u001b[0;32m<ipython-input-105-a5823e59e0fe>\u001b[0m in \u001b[0;36m<module>\u001b[0;34m\u001b[0m\n\u001b[0;32m----> 1\u001b[0;31m \u001b[0mbank_account\u001b[0m\u001b[0;34m[\u001b[0m\u001b[0;36m0\u001b[0m\u001b[0;34m]\u001b[0m\u001b[0;34m\u001b[0m\u001b[0;34m\u001b[0m\u001b[0m\n\u001b[0m",
      "\u001b[0;31mKeyError\u001b[0m: 0"
     ]
    }
   ],
   "source": [
    "bank_account[0]"
   ]
  },
  {
   "cell_type": "markdown",
   "metadata": {
    "collapsed": false
   },
   "source": [
    "If we try to loop through a dict in the same way as for a list, our variable runs through the *keys* of the dict:"
   ]
  },
  {
   "cell_type": "code",
   "execution_count": 108,
   "metadata": {
    "collapsed": false
   },
   "outputs": [
    {
     "name": "stdout",
     "output_type": "stream",
     "text": [
      "The day on Mercury is 1408 Earth hours long.\n",
      "The day on Venus is 5832 Earth hours long.\n",
      "The day on Earth is 24 Earth hours long.\n",
      "The day on Mars is 25 Earth hours long.\n",
      "The day on Jupiter is 10 Earth hours long.\n",
      "The day on Saturn is 11 Earth hours long.\n",
      "The day on Uranus is 17 Earth hours long.\n",
      "The day on Neptune is 16 Earth hours long.\n"
     ]
    }
   ],
   "source": [
    "day_length = { # planetary day length in hours\n",
    "\"Mercury\": 1408, \n",
    "\"Venus\": 5832, \n",
    "\"Earth\": 24, \n",
    "\"Mars\": 25, \n",
    "\"Jupiter\": 10, \n",
    "\"Saturn\": 11, \n",
    "\"Uranus\": 17, \n",
    "\"Neptune\": 16 \n",
    "}\n",
    "\n",
    "for planet in day_length:\n",
    "    print(\"The day on\", planet, \"is\", day_length[planet], \"Earth hours long.\")"
   ]
  },
  {
   "cell_type": "markdown",
   "metadata": {
    "collapsed": false
   },
   "source": [
    "You can add new keys to a dict simply by referring to them as if they already exist:"
   ]
  },
  {
   "cell_type": "code",
   "execution_count": 107,
   "metadata": {
    "collapsed": false
   },
   "outputs": [
   ],
   "source": [
    "day_length['Pluto'] = 153 # Maintain the rage!"
   ]
  },
  {
   "cell_type": "markdown",
   "metadata": {
    "collapsed": false
   },
   "source": [
    "To see if a key exists in a dictionary you may use the following"
   ]
  },
  {
   "cell_type": "code",
   "execution_count": 109,
   "metadata": {
    "collapsed": false
   },
   "outputs": [
    {
     "name": "stdout",
     "output_type": "stream",
     "text": [
      "No 'Haumea' key does not exist in dict\n"
     ]
    }
   ],
   "source": [
    "if \"Haumea\" in day_length:\n",
    "    print(\"Yes 'Haumea' key exists in dict\")\n",
    "else:\n",
    "    print(\"No 'Haumea' key does not exist in dict\")"
   ]
  },
  {
   "cell_type": "markdown",
   "metadata": {
    "collapsed": false
   },
   "source": [
    "Note this is a logical test with outcome 'True' or 'False' as shown below."
   ]
  },
  {
   "cell_type": "code",
   "execution_count": 110,
   "metadata": {
    "collapsed": false
   },
   "outputs": [
    {
     "name": "stdout",
     "output_type": "stream",
     "text": [
      "False\n",
      "True\n"
     ]
    }
   ],
   "source": [
    "print(\"Haumea\" in day_length)\n",
    "print(\"Jupiter\" in day_length)"
   ]
  },
  {
   "cell_type": "markdown",
   "metadata": {
    "collapsed": false
   },
   "source": [
    "Comprehensions work in a similar way: for instance, we could create a (rather trivial) dict of even and odd numbers using the following dict comprehension:"
   ]
  },
  {
   "cell_type": "code",
   "execution_count": 111,
   "metadata": {
    "collapsed": false
   },
   "outputs": [
    {
     "name": "stdout",
     "output_type": "stream",
     "text": [
      "{0: True, 1: False, 2: True, 3: False, 4: True, 5: False, 6: True, 7: False, 8: True, 9: False}\n"
     ]
    }
   ],
   "source": [
    "even = {i: i % 2 == 0 for i in range(10)} # the % operator gives the remainder after division by an integer\n",
    "print(even)"
   ]
  },
  {
   "cell_type": "markdown",
   "metadata": {
    "collapsed": false
   },
   "source": [
    "**Write a function to create a `dict` whose keys are the characters that occur in a string, and whose values are the number of times those characters occur.**\n",
    "\n",
    "*Hint*: Using a `for` loop to loop through a string will set the loop variable to each character in turn. That is, if I start a loop by `for ch in \"Hello\":`, then the first time through the loop `ch` will be `'H'`, the second time `'e'`, and so forth.\n",
    "\n",
    "*Example input*: `count_characters(\"The rain in Spain falls mainly on the plain.\")` should return\n",
    "\n",
    "    {'T': 1,\n",
    "     'h': 2,\n",
    "     'e': 2,\n",
    "     ' ': 8,\n",
    "     'r': 1,\n",
    "     'a': 5,\n",
    "     'i': 5,\n",
    "     'n': 6,\n",
    "     'S': 1,\n",
    "     'p': 2,\n",
    "     'f': 1,\n",
    "     'l': 4,\n",
    "     's': 1,\n",
    "     'm': 1,\n",
    "     'y': 1,\n",
    "     'o': 1,\n",
    "     't': 1,\n",
    "     '.': 1}"
   ]
  },
  {
   "cell_type": "code",
   "execution_count": 15,
   "metadata": {
    "cocalc": {
     "outputs": {
      "0": {
       "name": "input",
       "opts": {
        "password": false,
        "prompt": "please write a sentence"
       },
       "output_type": "stream",
       "value": "The rain in Spain falls mainly on the plain."
      }
     }
    },
    "collapsed": false
   },
   "outputs": [
    {
     "name": "stdout",
     "output_type": "stream",
     "text": "please write a sentence The rain in Spain falls mainly on the plain."
    },
    {
     "name": "stdout",
     "output_type": "stream",
     "text": [
      "T : 1\n",
      "h : 2\n",
      "e : 2\n",
      "  : 8\n",
      "r : 1\n",
      "a : 5\n",
      "i : 5\n",
      "n : 6\n",
      "S : 1\n",
      "p : 2\n",
      "f : 1\n",
      "l : 4\n",
      "s : 1\n",
      "m : 1\n",
      "y : 1\n",
      "o : 1\n",
      "t : 1\n",
      ". : 1\n"
     ]
    }
   ],
   "source": [
    "letters = {}\n",
    "sent = input('please write a sentence')\n",
    "for i in sent:\n",
    "    if i not in letters:\n",
    "        letters[i] = 1\n",
    "    elif i in letters:\n",
    "        letters[i] = letters[i] + 1\n",
    "\n",
    "for l in letters:\n",
    "    print(l, ':', letters[l])\n"
   ]
  },
  {
   "cell_type": "markdown",
   "metadata": {
    "collapsed": false
   },
   "source": [
    "### Sets\n",
    "\n",
    "A `set` can only have one copy of each element, and again doesn't have any order. Sets are also made using curly brackets `{}`, but without any keys:"
   ]
  },
  {
   "cell_type": "code",
   "execution_count": 123,
   "metadata": {
    "collapsed": false
   },
   "outputs": [
    {
     "name": "stdout",
     "output_type": "stream",
     "text": [
      "{'c', 'b', 'a'}\n"
     ]
    }
   ],
   "source": [
    "favourite_letters = {'a', 'b', 'a', 'a', 'c'}\n",
    "print(favourite_letters)"
   ]
  },
  {
   "cell_type": "markdown",
   "metadata": {
    "collapsed": false
   },
   "source": [
    "One reason to use them where appropriate is that sets are quicker to search through than lists:"
   ]
  },
  {
   "cell_type": "code",
   "execution_count": 124,
   "metadata": {
    "collapsed": false
   },
   "outputs": [
    {
     "name": "stdout",
     "output_type": "stream",
     "text": [
      "109 ns ± 1.39 ns per loop (mean ± std. dev. of 7 runs, 10000000 loops each)\n"
     ]
    },
    {
     "name": "stdout",
     "output_type": "stream",
     "text": [
      "40 ns ± 1.9 ns per loop (mean ± std. dev. of 7 runs, 10000000 loops each)\n"
     ]
    }
   ],
   "source": [
    "my_list = ['a', 'b', 'a', 'a', 'c']\n",
    "my_set = set(my_list) # another way of making a set\n",
    "\n",
    "%timeit 'c' in my_list\n",
    "%timeit 'c' in my_set"
   ]
  },
  {
   "cell_type": "markdown",
   "metadata": {
    "collapsed": false
   },
   "source": [
    "You should find that it takes less time to search for `'c'` in the set than in the list; this time difference becomes more significant when the size of the set grows."
   ]
  },
  {
   "cell_type": "code",
   "execution_count": 125,
   "metadata": {
    "collapsed": false
   },
   "outputs": [
    {
     "name": "stdout",
     "output_type": "stream",
     "text": [
      "Element  Density (g.cm^-3)\n",
      "Li         0.534\n",
      "Be         1.848\n",
      "B          2.340\n",
      "C          2.267\n",
      "Na         0.968\n",
      "Mg         1.738\n",
      "Al         2.700\n"
     ]
    }
   ],
   "source": [
    "element_densities = { # densities in g.cm^-3\n",
    "    'Li': 0.534,\n",
    "    'Be': 1.8477,\n",
    "    'B' : 2.34,\n",
    "    'C' : 2.267, \n",
    "    'Na': 0.968,\n",
    "    'Mg': 1.738,\n",
    "    'Al': 2.70\n",
    "}\n",
    "\n",
    "print(\"{:7s}  {:17s}\".format(\"Element\", \"Density (g.cm^-3)\"))\n",
    "for e, v in element_densities.items():\n",
    "    print(\"{:7s}  {:7.3f}\".format(e,v))"
   ]
  },
  {
   "cell_type": "markdown",
   "metadata": {
    "collapsed": false
   },
   "source": [
    "## Extension 2 - Example Interactive Plot - doesn't work in Cocalc Jupyter Notebooks\n",
    "\n",
    "The following magic command\n",
    "\n",
    "`%matplotlib notebook` \n",
    "\n",
    "allows for interactive plots in classic jupyter notebooks.  This will not work in Cocalc.  If you try the example below in Cocalc you will get an error.\n",
    "\n",
    "This is included so you can see the error (and avoid it in the future), but also so you can be aware of this general functionality when you use notebooks outside of class.\n"
   ]
  },
  {
   "cell_type": "code",
   "execution_count": 2,
   "metadata": {
    "collapsed": false
   },
   "outputs": [
    {
     "data": {
      "application/javascript": "/* Put everything inside the global mpl namespace */\nwindow.mpl = {};\n\n\nmpl.get_websocket_type = function() {\n    if (typeof(WebSocket) !== 'undefined') {\n        return WebSocket;\n    } else if (typeof(MozWebSocket) !== 'undefined') {\n        return MozWebSocket;\n    } else {\n        alert('Your browser does not have WebSocket support. ' +\n              'Please try Chrome, Safari or Firefox ≥ 6. ' +\n              'Firefox 4 and 5 are also supported but you ' +\n              'have to enable WebSockets in about:config.');\n    };\n}\n\nmpl.figure = function(figure_id, websocket, ondownload, parent_element) {\n    this.id = figure_id;\n\n    this.ws = websocket;\n\n    this.supports_binary = (this.ws.binaryType != undefined);\n\n    if (!this.supports_binary) {\n        var warnings = document.getElementById(\"mpl-warnings\");\n        if (warnings) {\n            warnings.style.display = 'block';\n            warnings.textContent = (\n                \"This browser does not support binary websocket messages. \" +\n                    \"Performance may be slow.\");\n        }\n    }\n\n    this.imageObj = new Image();\n\n    this.context = undefined;\n    this.message = undefined;\n    this.canvas = undefined;\n    this.rubberband_canvas = undefined;\n    this.rubberband_context = undefined;\n    this.format_dropdown = undefined;\n\n    this.image_mode = 'full';\n\n    this.root = $('<div/>');\n    this._root_extra_style(this.root)\n    this.root.attr('style', 'display: inline-block');\n\n    $(parent_element).append(this.root);\n\n    this._init_header(this);\n    this._init_canvas(this);\n    this._init_toolbar(this);\n\n    var fig = this;\n\n    this.waiting = false;\n\n    this.ws.onopen =  function () {\n            fig.send_message(\"supports_binary\", {value: fig.supports_binary});\n            fig.send_message(\"send_image_mode\", {});\n            if (mpl.ratio != 1) {\n                fig.send_message(\"set_dpi_ratio\", {'dpi_ratio': mpl.ratio});\n            }\n            fig.send_message(\"refresh\", {});\n        }\n\n    this.imageObj.onload = function() {\n            if (fig.image_mode == 'full') {\n                // Full images could contain transparency (where diff images\n                // almost always do), so we need to clear the canvas so that\n                // there is no ghosting.\n                fig.context.clearRect(0, 0, fig.canvas.width, fig.canvas.height);\n            }\n            fig.context.drawImage(fig.imageObj, 0, 0);\n        };\n\n    this.imageObj.onunload = function() {\n        fig.ws.close();\n    }\n\n    this.ws.onmessage = this._make_on_message_function(this);\n\n    this.ondownload = ondownload;\n}\n\nmpl.figure.prototype._init_header = function() {\n    var titlebar = $(\n        '<div class=\"ui-dialog-titlebar ui-widget-header ui-corner-all ' +\n        'ui-helper-clearfix\"/>');\n    var titletext = $(\n        '<div class=\"ui-dialog-title\" style=\"width: 100%; ' +\n        'text-align: center; padding: 3px;\"/>');\n    titlebar.append(titletext)\n    this.root.append(titlebar);\n    this.header = titletext[0];\n}\n\n\n\nmpl.figure.prototype._canvas_extra_style = function(canvas_div) {\n\n}\n\n\nmpl.figure.prototype._root_extra_style = function(canvas_div) {\n\n}\n\nmpl.figure.prototype._init_canvas = function() {\n    var fig = this;\n\n    var canvas_div = $('<div/>');\n\n    canvas_div.attr('style', 'position: relative; clear: both; outline: 0');\n\n    function canvas_keyboard_event(event) {\n        return fig.key_event(event, event['data']);\n    }\n\n    canvas_div.keydown('key_press', canvas_keyboard_event);\n    canvas_div.keyup('key_release', canvas_keyboard_event);\n    this.canvas_div = canvas_div\n    this._canvas_extra_style(canvas_div)\n    this.root.append(canvas_div);\n\n    var canvas = $('<canvas/>');\n    canvas.addClass('mpl-canvas');\n    canvas.attr('style', \"left: 0; top: 0; z-index: 0; outline: 0\")\n\n    this.canvas = canvas[0];\n    this.context = canvas[0].getContext(\"2d\");\n\n    var backingStore = this.context.backingStorePixelRatio ||\n\tthis.context.webkitBackingStorePixelRatio ||\n\tthis.context.mozBackingStorePixelRatio ||\n\tthis.context.msBackingStorePixelRatio ||\n\tthis.context.oBackingStorePixelRatio ||\n\tthis.context.backingStorePixelRatio || 1;\n\n    mpl.ratio = (window.devicePixelRatio || 1) / backingStore;\n\n    var rubberband = $('<canvas/>');\n    rubberband.attr('style', \"position: absolute; left: 0; top: 0; z-index: 1;\")\n\n    var pass_mouse_events = true;\n\n    canvas_div.resizable({\n        start: function(event, ui) {\n            pass_mouse_events = false;\n        },\n        resize: function(event, ui) {\n            fig.request_resize(ui.size.width, ui.size.height);\n        },\n        stop: function(event, ui) {\n            pass_mouse_events = true;\n            fig.request_resize(ui.size.width, ui.size.height);\n        },\n    });\n\n    function mouse_event_fn(event) {\n        if (pass_mouse_events)\n            return fig.mouse_event(event, event['data']);\n    }\n\n    rubberband.mousedown('button_press', mouse_event_fn);\n    rubberband.mouseup('button_release', mouse_event_fn);\n    // Throttle sequential mouse events to 1 every 20ms.\n    rubberband.mousemove('motion_notify', mouse_event_fn);\n\n    rubberband.mouseenter('figure_enter', mouse_event_fn);\n    rubberband.mouseleave('figure_leave', mouse_event_fn);\n\n    canvas_div.on(\"wheel\", function (event) {\n        event = event.originalEvent;\n        event['data'] = 'scroll'\n        if (event.deltaY < 0) {\n            event.step = 1;\n        } else {\n            event.step = -1;\n        }\n        mouse_event_fn(event);\n    });\n\n    canvas_div.append(canvas);\n    canvas_div.append(rubberband);\n\n    this.rubberband = rubberband;\n    this.rubberband_canvas = rubberband[0];\n    this.rubberband_context = rubberband[0].getContext(\"2d\");\n    this.rubberband_context.strokeStyle = \"#000000\";\n\n    this._resize_canvas = function(width, height) {\n        // Keep the size of the canvas, canvas container, and rubber band\n        // canvas in synch.\n        canvas_div.css('width', width)\n        canvas_div.css('height', height)\n\n        canvas.attr('width', width * mpl.ratio);\n        canvas.attr('height', height * mpl.ratio);\n        canvas.attr('style', 'width: ' + width + 'px; height: ' + height + 'px;');\n\n        rubberband.attr('width', width);\n        rubberband.attr('height', height);\n    }\n\n    // Set the figure to an initial 600x600px, this will subsequently be updated\n    // upon first draw.\n    this._resize_canvas(600, 600);\n\n    // Disable right mouse context menu.\n    $(this.rubberband_canvas).bind(\"contextmenu\",function(e){\n        return false;\n    });\n\n    function set_focus () {\n        canvas.focus();\n        canvas_div.focus();\n    }\n\n    window.setTimeout(set_focus, 100);\n}\n\nmpl.figure.prototype._init_toolbar = function() {\n    var fig = this;\n\n    var nav_element = $('<div/>');\n    nav_element.attr('style', 'width: 100%');\n    this.root.append(nav_element);\n\n    // Define a callback function for later on.\n    function toolbar_event(event) {\n        return fig.toolbar_button_onclick(event['data']);\n    }\n    function toolbar_mouse_event(event) {\n        return fig.toolbar_button_onmouseover(event['data']);\n    }\n\n    for(var toolbar_ind in mpl.toolbar_items) {\n        var name = mpl.toolbar_items[toolbar_ind][0];\n        var tooltip = mpl.toolbar_items[toolbar_ind][1];\n        var image = mpl.toolbar_items[toolbar_ind][2];\n        var method_name = mpl.toolbar_items[toolbar_ind][3];\n\n        if (!name) {\n            // put a spacer in here.\n            continue;\n        }\n        var button = $('<button/>');\n        button.addClass('ui-button ui-widget ui-state-default ui-corner-all ' +\n                        'ui-button-icon-only');\n        button.attr('role', 'button');\n        button.attr('aria-disabled', 'false');\n        button.click(method_name, toolbar_event);\n        button.mouseover(tooltip, toolbar_mouse_event);\n\n        var icon_img = $('<span/>');\n        icon_img.addClass('ui-button-icon-primary ui-icon');\n        icon_img.addClass(image);\n        icon_img.addClass('ui-corner-all');\n\n        var tooltip_span = $('<span/>');\n        tooltip_span.addClass('ui-button-text');\n        tooltip_span.html(tooltip);\n\n        button.append(icon_img);\n        button.append(tooltip_span);\n\n        nav_element.append(button);\n    }\n\n    var fmt_picker_span = $('<span/>');\n\n    var fmt_picker = $('<select/>');\n    fmt_picker.addClass('mpl-toolbar-option ui-widget ui-widget-content');\n    fmt_picker_span.append(fmt_picker);\n    nav_element.append(fmt_picker_span);\n    this.format_dropdown = fmt_picker[0];\n\n    for (var ind in mpl.extensions) {\n        var fmt = mpl.extensions[ind];\n        var option = $(\n            '<option/>', {selected: fmt === mpl.default_extension}).html(fmt);\n        fmt_picker.append(option);\n    }\n\n    // Add hover states to the ui-buttons\n    $( \".ui-button\" ).hover(\n        function() { $(this).addClass(\"ui-state-hover\");},\n        function() { $(this).removeClass(\"ui-state-hover\");}\n    );\n\n    var status_bar = $('<span class=\"mpl-message\"/>');\n    nav_element.append(status_bar);\n    this.message = status_bar[0];\n}\n\nmpl.figure.prototype.request_resize = function(x_pixels, y_pixels) {\n    // Request matplotlib to resize the figure. Matplotlib will then trigger a resize in the client,\n    // which will in turn request a refresh of the image.\n    this.send_message('resize', {'width': x_pixels, 'height': y_pixels});\n}\n\nmpl.figure.prototype.send_message = function(type, properties) {\n    properties['type'] = type;\n    properties['figure_id'] = this.id;\n    this.ws.send(JSON.stringify(properties));\n}\n\nmpl.figure.prototype.send_draw_message = function() {\n    if (!this.waiting) {\n        this.waiting = true;\n        this.ws.send(JSON.stringify({type: \"draw\", figure_id: this.id}));\n    }\n}\n\n\nmpl.figure.prototype.handle_save = function(fig, msg) {\n    var format_dropdown = fig.format_dropdown;\n    var format = format_dropdown.options[format_dropdown.selectedIndex].value;\n    fig.ondownload(fig, format);\n}\n\n\nmpl.figure.prototype.handle_resize = function(fig, msg) {\n    var size = msg['size'];\n    if (size[0] != fig.canvas.width || size[1] != fig.canvas.height) {\n        fig._resize_canvas(size[0], size[1]);\n        fig.send_message(\"refresh\", {});\n    };\n}\n\nmpl.figure.prototype.handle_rubberband = function(fig, msg) {\n    var x0 = msg['x0'] / mpl.ratio;\n    var y0 = (fig.canvas.height - msg['y0']) / mpl.ratio;\n    var x1 = msg['x1'] / mpl.ratio;\n    var y1 = (fig.canvas.height - msg['y1']) / mpl.ratio;\n    x0 = Math.floor(x0) + 0.5;\n    y0 = Math.floor(y0) + 0.5;\n    x1 = Math.floor(x1) + 0.5;\n    y1 = Math.floor(y1) + 0.5;\n    var min_x = Math.min(x0, x1);\n    var min_y = Math.min(y0, y1);\n    var width = Math.abs(x1 - x0);\n    var height = Math.abs(y1 - y0);\n\n    fig.rubberband_context.clearRect(\n        0, 0, fig.canvas.width / mpl.ratio, fig.canvas.height / mpl.ratio);\n\n    fig.rubberband_context.strokeRect(min_x, min_y, width, height);\n}\n\nmpl.figure.prototype.handle_figure_label = function(fig, msg) {\n    // Updates the figure title.\n    fig.header.textContent = msg['label'];\n}\n\nmpl.figure.prototype.handle_cursor = function(fig, msg) {\n    var cursor = msg['cursor'];\n    switch(cursor)\n    {\n    case 0:\n        cursor = 'pointer';\n        break;\n    case 1:\n        cursor = 'default';\n        break;\n    case 2:\n        cursor = 'crosshair';\n        break;\n    case 3:\n        cursor = 'move';\n        break;\n    }\n    fig.rubberband_canvas.style.cursor = cursor;\n}\n\nmpl.figure.prototype.handle_message = function(fig, msg) {\n    fig.message.textContent = msg['message'];\n}\n\nmpl.figure.prototype.handle_draw = function(fig, msg) {\n    // Request the server to send over a new figure.\n    fig.send_draw_message();\n}\n\nmpl.figure.prototype.handle_image_mode = function(fig, msg) {\n    fig.image_mode = msg['mode'];\n}\n\nmpl.figure.prototype.updated_canvas_event = function() {\n    // Called whenever the canvas gets updated.\n    this.send_message(\"ack\", {});\n}\n\n// A function to construct a web socket function for onmessage handling.\n// Called in the figure constructor.\nmpl.figure.prototype._make_on_message_function = function(fig) {\n    return function socket_on_message(evt) {\n        if (evt.data instanceof Blob) {\n            /* FIXME: We get \"Resource interpreted as Image but\n             * transferred with MIME type text/plain:\" errors on\n             * Chrome.  But how to set the MIME type?  It doesn't seem\n             * to be part of the websocket stream */\n            evt.data.type = \"image/png\";\n\n            /* Free the memory for the previous frames */\n            if (fig.imageObj.src) {\n                (window.URL || window.webkitURL).revokeObjectURL(\n                    fig.imageObj.src);\n            }\n\n            fig.imageObj.src = (window.URL || window.webkitURL).createObjectURL(\n                evt.data);\n            fig.updated_canvas_event();\n            fig.waiting = false;\n            return;\n        }\n        else if (typeof evt.data === 'string' && evt.data.slice(0, 21) == \"data:image/png;base64\") {\n            fig.imageObj.src = evt.data;\n            fig.updated_canvas_event();\n            fig.waiting = false;\n            return;\n        }\n\n        var msg = JSON.parse(evt.data);\n        var msg_type = msg['type'];\n\n        // Call the  \"handle_{type}\" callback, which takes\n        // the figure and JSON message as its only arguments.\n        try {\n            var callback = fig[\"handle_\" + msg_type];\n        } catch (e) {\n            console.log(\"No handler for the '\" + msg_type + \"' message type: \", msg);\n            return;\n        }\n\n        if (callback) {\n            try {\n                // console.log(\"Handling '\" + msg_type + \"' message: \", msg);\n                callback(fig, msg);\n            } catch (e) {\n                console.log(\"Exception inside the 'handler_\" + msg_type + \"' callback:\", e, e.stack, msg);\n            }\n        }\n    };\n}\n\n// from http://stackoverflow.com/questions/1114465/getting-mouse-location-in-canvas\nmpl.findpos = function(e) {\n    //this section is from http://www.quirksmode.org/js/events_properties.html\n    var targ;\n    if (!e)\n        e = window.event;\n    if (e.target)\n        targ = e.target;\n    else if (e.srcElement)\n        targ = e.srcElement;\n    if (targ.nodeType == 3) // defeat Safari bug\n        targ = targ.parentNode;\n\n    // jQuery normalizes the pageX and pageY\n    // pageX,Y are the mouse positions relative to the document\n    // offset() returns the position of the element relative to the document\n    var x = e.pageX - $(targ).offset().left;\n    var y = e.pageY - $(targ).offset().top;\n\n    return {\"x\": x, \"y\": y};\n};\n\n/*\n * return a copy of an object with only non-object keys\n * we need this to avoid circular references\n * http://stackoverflow.com/a/24161582/3208463\n */\nfunction simpleKeys (original) {\n  return Object.keys(original).reduce(function (obj, key) {\n    if (typeof original[key] !== 'object')\n        obj[key] = original[key]\n    return obj;\n  }, {});\n}\n\nmpl.figure.prototype.mouse_event = function(event, name) {\n    var canvas_pos = mpl.findpos(event)\n\n    if (name === 'button_press')\n    {\n        this.canvas.focus();\n        this.canvas_div.focus();\n    }\n\n    var x = canvas_pos.x * mpl.ratio;\n    var y = canvas_pos.y * mpl.ratio;\n\n    this.send_message(name, {x: x, y: y, button: event.button,\n                             step: event.step,\n                             guiEvent: simpleKeys(event)});\n\n    /* This prevents the web browser from automatically changing to\n     * the text insertion cursor when the button is pressed.  We want\n     * to control all of the cursor setting manually through the\n     * 'cursor' event from matplotlib */\n    event.preventDefault();\n    return false;\n}\n\nmpl.figure.prototype._key_event_extra = function(event, name) {\n    // Handle any extra behaviour associated with a key event\n}\n\nmpl.figure.prototype.key_event = function(event, name) {\n\n    // Prevent repeat events\n    if (name == 'key_press')\n    {\n        if (event.which === this._key)\n            return;\n        else\n            this._key = event.which;\n    }\n    if (name == 'key_release')\n        this._key = null;\n\n    var value = '';\n    if (event.ctrlKey && event.which != 17)\n        value += \"ctrl+\";\n    if (event.altKey && event.which != 18)\n        value += \"alt+\";\n    if (event.shiftKey && event.which != 16)\n        value += \"shift+\";\n\n    value += 'k';\n    value += event.which.toString();\n\n    this._key_event_extra(event, name);\n\n    this.send_message(name, {key: value,\n                             guiEvent: simpleKeys(event)});\n    return false;\n}\n\nmpl.figure.prototype.toolbar_button_onclick = function(name) {\n    if (name == 'download') {\n        this.handle_save(this, null);\n    } else {\n        this.send_message(\"toolbar_button\", {name: name});\n    }\n};\n\nmpl.figure.prototype.toolbar_button_onmouseover = function(tooltip) {\n    this.message.textContent = tooltip;\n};\nmpl.toolbar_items = [[\"Home\", \"Reset original view\", \"fa fa-home icon-home\", \"home\"], [\"Back\", \"Back to previous view\", \"fa fa-arrow-left icon-arrow-left\", \"back\"], [\"Forward\", \"Forward to next view\", \"fa fa-arrow-right icon-arrow-right\", \"forward\"], [\"\", \"\", \"\", \"\"], [\"Pan\", \"Pan axes with left mouse, zoom with right\", \"fa fa-arrows icon-move\", \"pan\"], [\"Zoom\", \"Zoom to rectangle\", \"fa fa-square-o icon-check-empty\", \"zoom\"], [\"\", \"\", \"\", \"\"], [\"Download\", \"Download plot\", \"fa fa-floppy-o icon-save\", \"download\"]];\n\nmpl.extensions = [\"eps\", \"jpeg\", \"pdf\", \"png\", \"ps\", \"raw\", \"svg\", \"tif\"];\n\nmpl.default_extension = \"png\";var comm_websocket_adapter = function(comm) {\n    // Create a \"websocket\"-like object which calls the given IPython comm\n    // object with the appropriate methods. Currently this is a non binary\n    // socket, so there is still some room for performance tuning.\n    var ws = {};\n\n    ws.close = function() {\n        comm.close()\n    };\n    ws.send = function(m) {\n        //console.log('sending', m);\n        comm.send(m);\n    };\n    // Register the callback with on_msg.\n    comm.on_msg(function(msg) {\n        //console.log('receiving', msg['content']['data'], msg);\n        // Pass the mpl event to the overridden (by mpl) onmessage function.\n        ws.onmessage(msg['content']['data'])\n    });\n    return ws;\n}\n\nmpl.mpl_figure_comm = function(comm, msg) {\n    // This is the function which gets called when the mpl process\n    // starts-up an IPython Comm through the \"matplotlib\" channel.\n\n    var id = msg.content.data.id;\n    // Get hold of the div created by the display call when the Comm\n    // socket was opened in Python.\n    var element = $(\"#\" + id);\n    var ws_proxy = comm_websocket_adapter(comm)\n\n    function ondownload(figure, format) {\n        window.open(figure.imageObj.src);\n    }\n\n    var fig = new mpl.figure(id, ws_proxy,\n                           ondownload,\n                           element.get(0));\n\n    // Call onopen now - mpl needs it, as it is assuming we've passed it a real\n    // web socket which is closed, not our websocket->open comm proxy.\n    ws_proxy.onopen();\n\n    fig.parent_element = element.get(0);\n    fig.cell_info = mpl.find_output_cell(\"<div id='\" + id + \"'></div>\");\n    if (!fig.cell_info) {\n        console.error(\"Failed to find cell for figure\", id, fig);\n        return;\n    }\n\n    var output_index = fig.cell_info[2]\n    var cell = fig.cell_info[0];\n\n};\n\nmpl.figure.prototype.handle_close = function(fig, msg) {\n    var width = fig.canvas.width/mpl.ratio\n    fig.root.unbind('remove')\n\n    // Update the output cell to use the data from the current canvas.\n    fig.push_to_output();\n    var dataURL = fig.canvas.toDataURL();\n    // Re-enable the keyboard manager in IPython - without this line, in FF,\n    // the notebook keyboard shortcuts fail.\n    IPython.keyboard_manager.enable()\n    $(fig.parent_element).html('<img src=\"' + dataURL + '\" width=\"' + width + '\">');\n    fig.close_ws(fig, msg);\n}\n\nmpl.figure.prototype.close_ws = function(fig, msg){\n    fig.send_message('closing', msg);\n    // fig.ws.close()\n}\n\nmpl.figure.prototype.push_to_output = function(remove_interactive) {\n    // Turn the data on the canvas into data in the output cell.\n    var width = this.canvas.width/mpl.ratio\n    var dataURL = this.canvas.toDataURL();\n    this.cell_info[1]['text/html'] = '<img src=\"' + dataURL + '\" width=\"' + width + '\">';\n}\n\nmpl.figure.prototype.updated_canvas_event = function() {\n    // Tell IPython that the notebook contents must change.\n    IPython.notebook.set_dirty(true);\n    this.send_message(\"ack\", {});\n    var fig = this;\n    // Wait a second, then push the new image to the DOM so\n    // that it is saved nicely (might be nice to debounce this).\n    setTimeout(function () { fig.push_to_output() }, 1000);\n}\n\nmpl.figure.prototype._init_toolbar = function() {\n    var fig = this;\n\n    var nav_element = $('<div/>');\n    nav_element.attr('style', 'width: 100%');\n    this.root.append(nav_element);\n\n    // Define a callback function for later on.\n    function toolbar_event(event) {\n        return fig.toolbar_button_onclick(event['data']);\n    }\n    function toolbar_mouse_event(event) {\n        return fig.toolbar_button_onmouseover(event['data']);\n    }\n\n    for(var toolbar_ind in mpl.toolbar_items){\n        var name = mpl.toolbar_items[toolbar_ind][0];\n        var tooltip = mpl.toolbar_items[toolbar_ind][1];\n        var image = mpl.toolbar_items[toolbar_ind][2];\n        var method_name = mpl.toolbar_items[toolbar_ind][3];\n\n        if (!name) { continue; };\n\n        var button = $('<button class=\"btn btn-default\" href=\"#\" title=\"' + name + '\"><i class=\"fa ' + image + ' fa-lg\"></i></button>');\n        button.click(method_name, toolbar_event);\n        button.mouseover(tooltip, toolbar_mouse_event);\n        nav_element.append(button);\n    }\n\n    // Add the status bar.\n    var status_bar = $('<span class=\"mpl-message\" style=\"text-align:right; float: right;\"/>');\n    nav_element.append(status_bar);\n    this.message = status_bar[0];\n\n    // Add the close button to the window.\n    var buttongrp = $('<div class=\"btn-group inline pull-right\"></div>');\n    var button = $('<button class=\"btn btn-mini btn-primary\" href=\"#\" title=\"Stop Interaction\"><i class=\"fa fa-power-off icon-remove icon-large\"></i></button>');\n    button.click(function (evt) { fig.handle_close(fig, {}); } );\n    button.mouseover('Stop Interaction', toolbar_mouse_event);\n    buttongrp.append(button);\n    var titlebar = this.root.find($('.ui-dialog-titlebar'));\n    titlebar.prepend(buttongrp);\n}\n\nmpl.figure.prototype._root_extra_style = function(el){\n    var fig = this\n    el.on(\"remove\", function(){\n\tfig.close_ws(fig, {});\n    });\n}\n\nmpl.figure.prototype._canvas_extra_style = function(el){\n    // this is important to make the div 'focusable\n    el.attr('tabindex', 0)\n    // reach out to IPython and tell the keyboard manager to turn it's self\n    // off when our div gets focus\n\n    // location in version 3\n    if (IPython.notebook.keyboard_manager) {\n        IPython.notebook.keyboard_manager.register_events(el);\n    }\n    else {\n        // location in version 2\n        IPython.keyboard_manager.register_events(el);\n    }\n\n}\n\nmpl.figure.prototype._key_event_extra = function(event, name) {\n    var manager = IPython.notebook.keyboard_manager;\n    if (!manager)\n        manager = IPython.keyboard_manager;\n\n    // Check for shift+enter\n    if (event.shiftKey && event.which == 13) {\n        this.canvas_div.blur();\n        // select the cell after this one\n        var index = IPython.notebook.find_cell_index(this.cell_info[0]);\n        IPython.notebook.select(index + 1);\n    }\n}\n\nmpl.figure.prototype.handle_save = function(fig, msg) {\n    fig.ondownload(fig, null);\n}\n\n\nmpl.find_output_cell = function(html_output) {\n    // Return the cell and output element which can be found *uniquely* in the notebook.\n    // Note - this is a bit hacky, but it is done because the \"notebook_saving.Notebook\"\n    // IPython event is triggered only after the cells have been serialised, which for\n    // our purposes (turning an active figure into a static one), is too late.\n    var cells = IPython.notebook.get_cells();\n    var ncells = cells.length;\n    for (var i=0; i<ncells; i++) {\n        var cell = cells[i];\n        if (cell.cell_type === 'code'){\n            for (var j=0; j<cell.output_area.outputs.length; j++) {\n                var data = cell.output_area.outputs[j];\n                if (data.data) {\n                    // IPython >= 3 moved mimebundle to data attribute of output\n                    data = data.data;\n                }\n                if (data['text/html'] == html_output) {\n                    return [cell, data, j];\n                }\n            }\n        }\n    }\n}\n\n// Register the function which deals with the matplotlib target/channel.\n// The kernel may be null if the page has been refreshed.\nif (IPython.notebook.kernel != null) {\n    IPython.notebook.kernel.comm_manager.register_target('matplotlib', mpl.mpl_figure_comm);\n}\n",
      "text/plain": [
       "<IPython.core.display.Javascript object>"
      ]
     },
     "execution_count": 2,
     "metadata": {
     },
     "output_type": "execute_result"
    },
    {
     "data": {
      "text/html": [
       "<div id='74765c7b-1bcd-4586-835b-8e7917d14cb1'></div>"
      ],
      "text/plain": [
       "<IPython.core.display.HTML object>"
      ]
     },
     "execution_count": 2,
     "metadata": {
     },
     "output_type": "execute_result"
    }
   ],
   "source": [
    "%matplotlib notebook\n",
    "from matplotlib.pyplot import grid,xlabel,ylabel,legend,xlim,figure,plot\n",
    "from numpy import tanh, linspace\n",
    "x = linspace(-10, 10, 50)\n",
    "y = tanh(x)\n",
    "figure()\n",
    "plot(x,y,label='tanh(x)')\n",
    "grid()\n",
    "xlim(-5,5)\n",
    "xlabel('x')\n",
    "ylabel('tanh(x)')\n",
    "legend();"
   ]
  },
  {
   "cell_type": "markdown",
   "metadata": {
    "collapsed": false
   },
   "source": [
    "Using the Cocalc instance of jupyter notebooks you will see something like the following error.\n",
    "\n",
    "ReferenceError: IPython is not defined\n",
    "\n",
    "See your browser Javascript console for more details.\n",
    "\n",
    "You will also need to enter the magic command %matplotlib inline to reset the plotting environment to work in Cocalc again.\n",
    "\n",
    "However, if you are using this notebook in a standard Jupyter notebook, and the display worked, you can **try zooming in to the plot using the \"rectangle\" tool and returning to the original view using the \"home\" button. When you are finished, press the \"power\" button in the top right of the figure (next to the title)** to indicate that you no longer wish to change the figure. \n",
    "\n"
   ]
  },
  {
   "cell_type": "code",
   "execution_count": 4,
   "metadata": {
    "collapsed": false
   },
   "outputs": [
    {
     "name": "stderr",
     "output_type": "stream",
     "text": [
      "UsageError: unrecognized arguments: # to set the plotting environment back\n"
     ]
    }
   ],
   "source": [
    "%matplotlib inline  # to set the plotting environment back"
   ]
  },
  {
   "cell_type": "code",
   "execution_count": 0,
   "metadata": {
    "collapsed": false
   },
   "outputs": [
   ],
   "source": [
   ]
  }
 ],
 "metadata": {
  "kernelspec": {
   "display_name": "Python 3 (Ubuntu Linux)",
   "language": "python",
   "name": "python3-ubuntu",
   "resource_dir": "/usr/local/share/jupyter/kernels/python3-ubuntu"
  },
  "language_info": {
   "codemirror_mode": {
    "name": "ipython",
    "version": 3
   },
   "file_extension": ".py",
   "mimetype": "text/x-python",
   "name": "python",
   "nbconvert_exporter": "python",
   "pygments_lexer": "ipython3",
   "version": "3.8.2"
  }
 },
 "nbformat": 4,
 "nbformat_minor": 4
}