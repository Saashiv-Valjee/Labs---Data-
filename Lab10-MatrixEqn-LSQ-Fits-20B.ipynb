{
 "cells": [
  {
   "cell_type": "markdown",
   "metadata": {
    "collapsed": false
   },
   "source": [
    "# Lab 8: matrix equations and linear least-squares fitting\n",
    "\n",
    "**Please enter your name and student number in the markdown cell below** then press `Shift` + `Enter`."
   ]
  },
  {
   "cell_type": "markdown",
   "metadata": {
    "collapsed": false
   },
   "source": [
    "* Name:    **YOUR NAME HERE**\n",
    "* SID:     **YOUR STUDENT NUMBER**"
   ]
  },
  {
   "cell_type": "markdown",
   "metadata": {
    "collapsed": false
   },
   "source": [
    "## Matrix operations\n",
    "\n",
    "We begin today’s lab with a quick investigation of how to use numpy `array`s to represent matrices. We can use the `array` *constructor* function to make a matrix:"
   ]
  },
  {
   "cell_type": "code",
   "execution_count": 1,
   "metadata": {
    "collapsed": false
   },
   "outputs": [
   ],
   "source": [
    "import numpy as np"
   ]
  },
  {
   "cell_type": "code",
   "execution_count": 2,
   "metadata": {
    "collapsed": false
   },
   "outputs": [
    {
     "name": "stdout",
     "output_type": "stream",
     "text": [
      "[[1 2 3]\n",
      " [4 5 6]\n",
      " [7 8 9]]\n",
      "[[2 0 0]\n",
      " [0 1 0]\n",
      " [0 0 1]]\n"
     ]
    }
   ],
   "source": [
    "A = np.array([[1,2,3],[4,5,6],[7,8,9]])\n",
    "B = np.array([[2,0,0],[0,1,0],[0,0,1]])\n",
    "print(A)\n",
    "print(B)"
   ]
  },
  {
   "cell_type": "markdown",
   "metadata": {
    "collapsed": false
   },
   "source": [
    "### Array shapes\n",
    "\n",
    "We can examine the shape attribute of the numpy array using the following:"
   ]
  },
  {
   "cell_type": "code",
   "execution_count": 3,
   "metadata": {
    "collapsed": false
   },
   "outputs": [
    {
     "data": {
      "text/plain": [
       "(3, 3)"
      ]
     },
     "execution_count": 3,
     "metadata": {
     },
     "output_type": "execute_result"
    }
   ],
   "source": [
    "A.shape"
   ]
  },
  {
   "cell_type": "markdown",
   "metadata": {
    "collapsed": false
   },
   "source": [
    "### Array referencing\n",
    "\n",
    "Similarly we can reference individual value in arrays using element indices. These indices must be integers and generally start with 0.\n",
    "\n",
    "So the $3\\times3$ matrix $\\mathbf{A}$ has indices that run from 0 to 2 in both dimensions:"
   ]
  },
  {
   "cell_type": "code",
   "execution_count": 4,
   "metadata": {
    "collapsed": false
   },
   "outputs": [
    {
     "data": {
      "text/plain": [
       "6"
      ]
     },
     "execution_count": 4,
     "metadata": {
     },
     "output_type": "execute_result"
    }
   ],
   "source": [
    "A[1,2]"
   ]
  },
  {
   "cell_type": "code",
   "execution_count": 5,
   "metadata": {
    "collapsed": false
   },
   "outputs": [
    {
     "data": {
      "text/plain": [
       "8"
      ]
     },
     "execution_count": 5,
     "metadata": {
     },
     "output_type": "execute_result"
    }
   ],
   "source": [
    "A[2,1]"
   ]
  },
  {
   "cell_type": "markdown",
   "metadata": {
    "collapsed": false
   },
   "source": [
    "**Can you explain how this referencing works?**\n",
    "well it starts from 0 and goes row then column\n",
    "### Assignments\n",
    "\n",
    "You can also use references to change the value of elements in an `array`:"
   ]
  },
  {
   "cell_type": "code",
   "execution_count": 6,
   "metadata": {
    "collapsed": false
   },
   "outputs": [
    {
     "name": "stdout",
     "output_type": "stream",
     "text": [
      "[[1 2 3]\n",
      " [4 5 6]\n",
      " [7 8 9]]\n",
      "[[ 1  2  3]\n",
      " [ 4  5 -1]\n",
      " [ 7  8  9]]\n"
     ]
    }
   ],
   "source": [
    "print(A)\n",
    "A[1,2] = -1.0\n",
    "print(A)"
   ]
  },
  {
   "cell_type": "markdown",
   "metadata": {
    "collapsed": false
   },
   "source": [
    "### Array creation\n",
    "\n",
    "As well as creating arrays from a list, as we saw above, there are several helpful `numpy` functions we can use:"
   ]
  },
  {
   "cell_type": "code",
   "execution_count": 7,
   "metadata": {
    "collapsed": false
   },
   "outputs": [
    {
     "data": {
      "text/plain": [
       "array([[0., 0., 0.],\n",
       "       [0., 0., 0.]])"
      ]
     },
     "execution_count": 7,
     "metadata": {
     },
     "output_type": "execute_result"
    }
   ],
   "source": [
    "np.zeros([2,3])"
   ]
  },
  {
   "cell_type": "code",
   "execution_count": 8,
   "metadata": {
    "collapsed": false
   },
   "outputs": [
    {
     "data": {
      "text/plain": [
       "array([[1., 1.],\n",
       "       [1., 1.],\n",
       "       [1., 1.],\n",
       "       [1., 1.]])"
      ]
     },
     "execution_count": 8,
     "metadata": {
     },
     "output_type": "execute_result"
    }
   ],
   "source": [
    "np.ones([4,2])"
   ]
  },
  {
   "cell_type": "code",
   "execution_count": 9,
   "metadata": {
    "collapsed": false
   },
   "outputs": [
    {
     "data": {
      "text/plain": [
       "array([[0, 0, 0],\n",
       "       [0, 0, 0],\n",
       "       [0, 0, 0]])"
      ]
     },
     "execution_count": 9,
     "metadata": {
     },
     "output_type": "execute_result"
    }
   ],
   "source": [
    "np.zeros_like(A)"
   ]
  },
  {
   "cell_type": "code",
   "execution_count": 10,
   "metadata": {
    "collapsed": false
   },
   "outputs": [
    {
     "data": {
      "text/plain": [
       "array([[1, 1, 1],\n",
       "       [1, 1, 1],\n",
       "       [1, 1, 1]])"
      ]
     },
     "execution_count": 10,
     "metadata": {
     },
     "output_type": "execute_result"
    }
   ],
   "source": [
    "np.ones_like(A)"
   ]
  },
  {
   "cell_type": "markdown",
   "metadata": {
    "collapsed": false
   },
   "source": [
    "**Can you explain what these last two functions do and why they might be useful?**\n",
    "returns a type of vector with the same structure as the referenced vector\n",
    "\n",
    "## Array multiplication\n",
    "\n",
    "It is tempting to multiply the matrices by using `*`, but if we try:"
   ]
  },
  {
   "cell_type": "code",
   "execution_count": 11,
   "metadata": {
    "collapsed": false
   },
   "outputs": [
    {
     "name": "stdout",
     "output_type": "stream",
     "text": [
      "[[2 0 0]\n",
      " [0 5 0]\n",
      " [0 0 9]]\n"
     ]
    }
   ],
   "source": [
    "print(A*B) #multiplies each element with the same index"
   ]
  },
  {
   "cell_type": "markdown",
   "metadata": {
    "collapsed": false
   },
   "source": [
    "**Can you explain what has happened?** \n",
    "\n",
    "The correct way is to use the `dot` function, or to use the shorthand `@`:"
   ]
  },
  {
   "cell_type": "code",
   "execution_count": 12,
   "metadata": {
    "collapsed": false
   },
   "outputs": [
    {
     "name": "stdout",
     "output_type": "stream",
     "text": [
      "[[ 2  2  3]\n",
      " [ 8  5 -1]\n",
      " [14  8  9]]\n"
     ]
    }
   ],
   "source": [
    "print(A@B)"
   ]
  },
  {
   "cell_type": "code",
   "execution_count": 13,
   "metadata": {
    "collapsed": false
   },
   "outputs": [
    {
     "name": "stdout",
     "output_type": "stream",
     "text": [
      "[[ 2  2  3]\n",
      " [ 8  5 -1]\n",
      " [14  8  9]]\n"
     ]
    }
   ],
   "source": [
    "print(np.dot(A,B))"
   ]
  },
  {
   "cell_type": "markdown",
   "metadata": {
    "collapsed": false
   },
   "source": [
    "Numpy is clever enough to interpret a one-dimensional array as either a row or a column matrix depending on the context:"
   ]
  },
  {
   "cell_type": "code",
   "execution_count": 14,
   "metadata": {
    "collapsed": false
   },
   "outputs": [
    {
     "name": "stdout",
     "output_type": "stream",
     "text": [
      "[1 4 7]\n",
      "[1 2 3]\n"
     ]
    }
   ],
   "source": [
    "v = np.array([1,0,0])\n",
    "print(A@v)\n",
    "print(v@A)"
   ]
  },
  {
   "cell_type": "markdown",
   "metadata": {
    "collapsed": false
   },
   "source": [
    "Many useful matrix manipulation tools are in the `linalg` namespace. Among these, we can find the inverse of a matrix with `inv`:"
   ]
  },
  {
   "cell_type": "code",
   "execution_count": 0,
   "metadata": {
    "collapsed": false
   },
   "outputs": [
   ],
   "source": [
    "np.linalg.inv(B)"
   ]
  },
  {
   "cell_type": "markdown",
   "metadata": {
    "collapsed": false
   },
   "source": [
    "(Note as always that we can `import` functions directly into the main namespace if this is too much typing, by evaluating `from numpy.linalg import inv` or whatever.)"
   ]
  },
  {
   "cell_type": "markdown",
   "metadata": {
    "collapsed": false
   },
   "source": [
    "Let’s put this to use by solving a matrix equation. Specifically, let’s solve the simultaneous equations\n",
    "$$\\begin{align*}\n",
    "2x + 3y &= 16 \\\\\n",
    "7x - 2y &= 31 \\\\\n",
    "\\end{align*}\n",
    "$$\n",
    "or, equivalently,\n",
    "$$\n",
    "\\begin{pmatrix}2 & 3 \\\\ 7 & -2\\end{pmatrix}\n",
    "\\begin{pmatrix}x \\\\y \\end{pmatrix} =\n",
    "\\begin{pmatrix}16 \\\\ 31\\end{pmatrix}.\n",
    "$$\n",
    "\n",
    "The obvious way is to use the matrix inverse:\n",
    "$$\n",
    "\\begin{pmatrix}x \\\\y \\end{pmatrix} =\n",
    "\\begin{pmatrix}2 & 3 \\\\ 7 & -2\\end{pmatrix}^{-1}\n",
    "\\begin{pmatrix}16 \\\\ 31\\end{pmatrix}.\n",
    "$$\n",
    "**Use the matrix commands we’ve just learned to evaluate the RHS of this equation.**"
   ]
  },
  {
   "cell_type": "code",
   "execution_count": 20,
   "metadata": {
    "collapsed": false
   },
   "outputs": [
    {
     "name": "stdout",
     "output_type": "stream",
     "text": [
      "[[5.]\n",
      " [2.]]\n"
     ]
    }
   ],
   "source": [
    "from numpy import *\n",
    "\n",
    "A = array([[2,3],[7,-2]])\n",
    "B = array([[16],[31]])\n",
    "print(linalg.inv(A)@B)"
   ]
  },
  {
   "cell_type": "markdown",
   "metadata": {
    "collapsed": false
   },
   "source": [
    "Another option is to use the `linalg.solve` function, which exists specifically to solve matrix equations of the form $\\mathbf{Ax} = \\mathbf{b}$. It takes two arguments, the matrix $\\mathbf{A}$ and the vector $\\mathbf{b}$. **Check that you get the same answer using this method:**"
   ]
  },
  {
   "cell_type": "code",
   "execution_count": 22,
   "metadata": {
    "collapsed": false
   },
   "outputs": [
    {
     "data": {
      "text/plain": [
       "array([[5.],\n",
       "       [2.]])"
      ]
     },
     "execution_count": 22,
     "metadata": {
     },
     "output_type": "execute_result"
    }
   ],
   "source": [
    "#?linalg.solve\n",
    "linalg.solve(A,B)"
   ]
  },
  {
   "cell_type": "markdown",
   "metadata": {
    "collapsed": false
   },
   "source": [
    "Let’s compare the performance of these two commands on larger matrices. To generate a big matrix easily, we use the `rand` function, which lives in the `random` namespace in `numpy`. Calling `np.random.rand(20)` will return an `array` of 20 random numbers between 0 and 1, and similarly `np.random.rand(100,100)` will return a $100\\times 100$ `array`.\n",
    "\n",
    "Use the `%timeit` “magic” command to **compare the speeds of these two methods for matrices of suitable sizes**: you should be able to get up to at least $1000\\times 1000$.\n",
    "\n",
    "(*Hint*: The easiest way to use this is just to put `%timeit` before the command you want to time.)\n",
    "\n",
    "**Extension**: A more sophisticated method is to write something like\n",
    "\n",
    "    mytime = %timeit -o some_command()\n",
    "\n",
    "which will store a range of information about the timing in the variable `mytime`. The time taken for each of several runs will be stored as `mytime.all_runs`. Use this information to **calculate the average time taken, and plot this against matrix size on a log-log graph.**"
   ]
  },
  {
   "cell_type": "code",
   "execution_count": 25,
   "metadata": {
    "collapsed": false
   },
   "outputs": [
    {
     "name": "stdout",
     "output_type": "stream",
     "text": [
      "[[-0.87863206  0.14406393  0.19082314 ... -0.46807212  1.41254337\n",
      "  -1.45785124]\n",
      " [-1.66515372  0.12689675  0.35136264 ...  0.05041158  3.36811502\n",
      "  -1.99184248]\n",
      " [ 0.52995137  0.38793116  0.46546052 ...  0.37457688 -0.18645563\n",
      "   0.17404567]\n",
      " ...\n",
      " [ 0.38376363  0.03489365 -0.09067465 ...  0.25066583 -0.97002904\n",
      "   1.32467373]\n",
      " [-1.21586093 -0.86666562  0.75304965 ... -0.07577459  2.20133193\n",
      "  -0.78906926]\n",
      " [ 0.12883166 -0.25799719 -0.21203976 ... -0.17428127 -0.06898793\n",
      "   0.11868804]]\n"
     ]
    },
    {
     "data": {
      "text/plain": [
       "array([[-0.87863206,  0.14406393,  0.19082314, ..., -0.46807212,\n",
       "         1.41254337, -1.45785124],\n",
       "       [-1.66515372,  0.12689675,  0.35136264, ...,  0.05041158,\n",
       "         3.36811502, -1.99184248],\n",
       "       [ 0.52995137,  0.38793116,  0.46546052, ...,  0.37457688,\n",
       "        -0.18645563,  0.17404567],\n",
       "       ...,\n",
       "       [ 0.38376363,  0.03489365, -0.09067465, ...,  0.25066583,\n",
       "        -0.97002904,  1.32467373],\n",
       "       [-1.21586093, -0.86666562,  0.75304965, ..., -0.07577459,\n",
       "         2.20133193, -0.78906926],\n",
       "       [ 0.12883166, -0.25799719, -0.21203976, ..., -0.17428127,\n",
       "        -0.06898793,  0.11868804]])"
      ]
     },
     "execution_count": 25,
     "metadata": {
     },
     "output_type": "execute_result"
    }
   ],
   "source": [
    "A = np.random.rand(50,50)\n",
    "B = np.random.rand(50,50)\n",
    "%timeit\n",
    "print(linalg.inv(A)@B)\n",
    "%timeit\n",
    "linalg.solve(A,B)"
   ]
  },
  {
   "cell_type": "markdown",
   "metadata": {
    "collapsed": false
   },
   "source": [
    "▶ **CHECKPOINT 1**"
   ]
  },
  {
   "cell_type": "markdown",
   "metadata": {
    "collapsed": false
   },
   "source": [
    "## Linear least-squares fitting to polynomials\n",
    "\n",
    "First, we need some data to fit. The code below defines some example data; let's start by **plotting it**."
   ]
  },
  {
   "cell_type": "code",
   "execution_count": 31,
   "metadata": {
    "collapsed": false
   },
   "outputs": [
   ],
   "source": [
    "x = np.array([  0.        ,   0.52631579,   1.05263158,   1.57894737,\n",
    "                2.10526316,   2.63157895,   3.15789474,   3.68421053,\n",
    "                4.21052632,   4.73684211,   5.26315789,   5.78947368,\n",
    "                6.31578947,   6.84210526,   7.36842105,   7.89473684,\n",
    "                8.42105263,   8.94736842,   9.47368421,  10.        ])\n",
    "y = np.array([ -23.65721091,  129.96285988,  316.40610918,  435.59305751,\n",
    "               554.44335211,  614.02561442,  698.64885428,  792.92150483,\n",
    "               857.4523591 ,  886.46905968,  901.03562214,  873.93486904,\n",
    "               829.10300783,  784.39562338,  725.48999232,  609.56149829,\n",
    "               493.30269619,  360.81172505,  203.03897181,   -5.83555244])"
   ]
  },
  {
   "cell_type": "code",
   "execution_count": 40,
   "metadata": {
    "collapsed": false
   },
   "outputs": [
    {
     "name": "stdout",
     "output_type": "stream",
     "text": [
      "[[0.98451232 0.55697636 0.40036772 0.04588853 0.29199572]\n",
      " [0.646815   0.47072694 0.82473474 0.6498371  0.44373679]\n",
      " [0.73504636 0.25156049 0.3231153  0.50974877 0.09214073]\n",
      " [0.71159497 0.95504835 0.97463681 0.91881052 0.33876752]\n",
      " [0.83135622 0.71339203 0.77647282 0.06276284 0.63424641]]\n",
      "---\n",
      "[0.98451232 0.55697636 0.40036772 0.04588853 0.29199572]\n",
      "[0.646815   0.47072694 0.82473474 0.6498371  0.44373679]\n",
      "[0.73504636 0.25156049 0.3231153  0.50974877 0.09214073]\n",
      "[0.71159497 0.95504835 0.97463681 0.91881052 0.33876752]\n",
      "[0.83135622 0.71339203 0.77647282 0.06276284 0.63424641]\n"
     ]
    },
    {
     "data": {
      "text/plain": [
       "[<matplotlib.lines.Line2D at 0x7f34a41f5e80>]"
      ]
     },
     "execution_count": 40,
     "metadata": {
     },
     "output_type": "execute_result"
    },
    {
     "data": {
      "image/png": "[encoded data removed]",
      "text/plain": [
       "<Figure size 864x504 with 1 Axes>"
      ]
     },
     "execution_count": 40,
     "metadata": {
      "image/png": {
       "height": 411,
       "width": 710
      },
      "needs_background": "light"
     },
     "output_type": "execute_result"
    }
   ],
   "source": [
    "import matplotlib.pyplot as plt\n",
    "k = 5\n",
    "B = np.random.rand(k,k)\n",
    "print(B)\n",
    "print('---')\n",
    "for row in B:\n",
    "    print(row)\n",
    "plt.plot(x,y)"
   ]
  },
  {
   "cell_type": "markdown",
   "metadata": {
    "collapsed": false
   },
   "source": [
    "We saw in class that the best-fitting polynomial of order $k$ to a given data set has coefficients $(a_0, a_1, \\dots, a_k)$ that satisfy the matrix equation\n",
    "$$\n",
    "\\begin{pmatrix}\n",
    "N & \\sum_i x_i & \\sum_i x_i^2 & \\dots & \\sum_i x_i^k \\\\\n",
    "\\sum_i x_i & \\sum_i x_i^2 & \\sum_i x_i^3 & \\dots & \\sum_i x_i^{k+1} \\\\\n",
    "\\vdots & \\vdots & \\vdots & \\ddots & \\vdots \\\\\n",
    "\\sum_i x_i^k & \\sum_i x_i^{k+1} & \\sum_i x_i^{k+2} & \\dots & \\sum_i x_i^{2k} \\\\\n",
    "\\end{pmatrix}\n",
    "\\begin{pmatrix} a_0 \\\\ a_1 \\\\ \\vdots \\\\ a_k\\end{pmatrix}\n",
    "=\n",
    "\\begin{pmatrix} \\sum_i y_i \\\\ \\sum_i x_iy_i \\\\ \\vdots \\\\ \\sum_i x_i^k y_i\\end{pmatrix}.\n",
    "$$\n",
    "\n",
    "**Write functions `coefficient_matrix(x, k)` and `constant_matrix(x, y, k)` to calculate, respectively, the square matrix on the LHS and the vector on the RHS.** Here `x` and `y` are 1D numpy `array`s of data, and as in the equation above `k` is the order of polynomial to fit to.\n",
    "\n",
    "*Hint:* We can use the fact that mathematical operations on `array`s are evaluated elementwise to our advantage. For instance, $\\sum_i x_i^2 y_i$ can be written in Python as `sum(x**2 * y)` – can you see why?"
   ]
  },
  {
   "cell_type": "code",
   "execution_count": 0,
   "metadata": {
    "collapsed": false
   },
   "outputs": [
   ],
   "source": [
    "def coefficient_matrix(x, k):\n",
    "A = np.zeros([k,k])\n",
    "first_row = []\n",
    "first\n",
    "\n",
    "def constant_matrix(x, y, k):\n",
    "    \"\"\"Documentation string goes here\"\"\"\n",
    "    ..."
   ]
  },
  {
   "cell_type": "markdown",
   "metadata": {
    "collapsed": false
   },
   "source": [
    "To start with, let’s look for a quadratic solution, $k = 2$. **Use the `solve` function, together with the matrix functions you just defined, to find the coefficients of the best quadratic fit to these data.**"
   ]
  },
  {
   "cell_type": "code",
   "execution_count": 0,
   "metadata": {
    "collapsed": false
   },
   "outputs": [
   ],
   "source": [
    "quadratic_coefficients = ..."
   ]
  },
  {
   "cell_type": "markdown",
   "metadata": {
    "collapsed": false
   },
   "source": [
    "To make your life a bit easier, I’ve defined a Python function that will evaluate a polynomial with given coefficients. Check that you understand how the function below works. Using it and the coefficients you’ve just found, **plot the data together with your fit to them and the *residual* (*i.e.*, the difference between data and fit).**"
   ]
  },
  {
   "cell_type": "code",
   "execution_count": 0,
   "metadata": {
    "collapsed": false
   },
   "outputs": [
   ],
   "source": [
    "def y_fitted(x, coefficients):\n",
    "    return sum([c*x**i for i, c in enumerate(coefficients)])"
   ]
  },
  {
   "cell_type": "code",
   "execution_count": 0,
   "metadata": {
    "collapsed": false
   },
   "outputs": [
   ],
   "source": [
   ]
  },
  {
   "cell_type": "markdown",
   "metadata": {
    "collapsed": false
   },
   "source": [
    "▶ **CHECKPOINT 2**"
   ]
  },
  {
   "cell_type": "markdown",
   "metadata": {
    "collapsed": false
   },
   "source": [
    "We now need some measure of how good the fit is. One such measure is the *reduced chi-squared*, which is simply the sum of the squared residuals divided by the number of *degrees of freedom* – that is, the number of parameters we have fitted:\n",
    "\n",
    "$$\n",
    "\\chi^2_\\text{red} = \\frac{\\sum_i(y_\\text{fitted} - y_\\text{observed})^2}{k + 1}.\n",
    "$$\n",
    "\n",
    "**Write a function `chi_squared(x, y, coefficients)` to calculate the reduced chi-squared. Evaluate this for your quadratic fit.** \n",
    "\n",
    "*Hint:* if you can, try to make your function independent of the number of coefficients so that you can reuse it for a fit that is not quadratic. The denominator $k+1$ is the size of `coefficients`: use `coefficients.size` or `len(coefficients)`."
   ]
  },
  {
   "cell_type": "code",
   "execution_count": 0,
   "metadata": {
    "collapsed": false
   },
   "outputs": [
   ],
   "source": [
    "def chi_squared(x, y, coefficients):\n",
    "    \"\"\"Documentation string here.\"\"\"\n",
    "    ..."
   ]
  },
  {
   "cell_type": "code",
   "execution_count": 0,
   "metadata": {
    "collapsed": false
   },
   "outputs": [
   ],
   "source": [
    "chi_squared(x, y, quadratic_coefficients)"
   ]
  },
  {
   "cell_type": "markdown",
   "metadata": {
    "collapsed": false
   },
   "source": [
    "**Try higher-order fits (cubic, quartic, …). How does the $\\chi^2$ value change?**\n",
    "\n",
    "▶ **CHECKPOINT 3**"
   ]
  },
  {
   "cell_type": "code",
   "execution_count": 0,
   "metadata": {
    "collapsed": false
   },
   "outputs": [
   ],
   "source": [
   ]
  }
 ],
 "metadata": {
  "kernelspec": {
   "display_name": "Python 3 (Ubuntu Linux)",
   "language": "python",
   "name": "python3-ubuntu",
   "resource_dir": "/usr/local/share/jupyter/kernels/python3-ubuntu"
  },
  "language_info": {
   "codemirror_mode": {
    "name": "ipython",
    "version": 3
   },
   "file_extension": ".py",
   "mimetype": "text/x-python",
   "name": "python",
   "nbconvert_exporter": "python",
   "pygments_lexer": "ipython3",
   "version": "3.8.2"
  }
 },
 "nbformat": 4,
 "nbformat_minor": 4
}