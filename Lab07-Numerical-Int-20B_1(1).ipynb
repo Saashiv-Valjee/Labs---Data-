{
 "cells": [
  {
   "cell_type": "markdown",
   "metadata": {
    "collapsed": false
   },
   "source": [
    "# Lab 7: Numerical integration\n",
    "\n",
    "\n",
    "**Please enter your name and student number in the markdown cell below** then press `Shift` + `Enter`."
   ]
  },
  {
   "cell_type": "markdown",
   "metadata": {
    "collapsed": false
   },
   "source": [
    "* Name:    **YOUR NAME HERE**\n",
    "* SID:     **YOUR STUDENT NUMBER**"
   ]
  },
  {
   "cell_type": "markdown",
   "metadata": {
    "collapsed": false
   },
   "source": [
    "\n",
    "## Numerical integration\n",
    "\n",
    "In this lab we will investigate numerical integration methods. We’ll start with the simple trapezoid and Simpson’s rules, with which you may be familiar from your maths study, and move on to the more sophisticated *Gaussian quadrature*.\n",
    "\n",
    "Recall that our general rule for numerical integration is\n",
    "$$\n",
    "\\int_a^b f(x)\\,\\mathrm{d}x \\approx (b-a)\\sum_{i=1}^N w_if(x_i)\n",
    "$$\n",
    "for suitable weights $w_i$ and places $x_i$ to evaluate the function. For the trapezoid and Simpson's rule calculations, the $x_i$ must be evenly spaced; we'll denote the spacing between them by $h$. Then the input to our python function will be a numpy array `d` containing $f(x_i)$. We will need to calculate a suitable weighting array `w` containing the $w_i$ values. Since array multiplication is componentwise, we can then simply calculate `d*w`. The sum is easily evaluated using the Python built-in `sum` function.\n",
    "\n",
    "For the trapezoid rule, the weights array should be\n",
    "$$\n",
    "w = \\tfrac1N\\times(\\tfrac12, 1, 1, \\dots, 1, \\tfrac12).\n",
    "$$\n",
    "Rewriting the integral in a more convenient form, we have\n",
    "$$\n",
    "\\int_a^b f(x)\\,\\mathrm{d}x \\approx h\\sum_{i=1}^N v_if(x_i)\n",
    "$$\n",
    "with\n",
    "$$\n",
    "v = (\\tfrac12, 1, 1, \\dots, 1, \\tfrac12).\n",
    "$$\n",
    "\n",
    "\n",
    "To compute the integral in this way we will need to construct the weighting arrays.  Here it is useful to review some of the properties of `numpy` arrays and the ways they can be manipulated and sliced.\n",
    "\n",
    "### Python Interlude - a brief introduction to numpy arrays and slicing\n",
    "\n",
    "First we import several helper functions from `numpy`."
   ]
  },
  {
   "cell_type": "code",
   "execution_count": 1,
   "metadata": {
    "collapsed": false
   },
   "outputs": [],
   "source": [
    "from numpy import ones, array, empty, zeros"
   ]
  },
  {
   "cell_type": "code",
   "execution_count": 2,
   "metadata": {
    "collapsed": false
   },
   "outputs": [
    {
     "name": "stdout",
     "output_type": "stream",
     "text": [
      "[1. 1. 1. 1. 1.]\n"
     ]
    }
   ],
   "source": [
    "npt=5\n",
    "a = ones(npt)  # creates an array of length (n) , each element has value 1\n",
    "print(a)\n"
   ]
  },
  {
   "cell_type": "markdown",
   "metadata": {
    "collapsed": false
   },
   "source": [
    "The behaviour of `zeros` is similar.  Review the documentation for these functions (e.g., open a cell and execute `?zeros`)."
   ]
  },
  {
   "cell_type": "code",
   "execution_count": 3,
   "metadata": {
    "collapsed": false
   },
   "outputs": [
    {
     "name": "stdout",
     "output_type": "stream",
     "text": [
      "[0. 0. 0. 0. 0.]\n"
     ]
    }
   ],
   "source": [
    "b = zeros(npt)\n",
    "print(b)"
   ]
  },
  {
   "cell_type": "markdown",
   "metadata": {
    "collapsed": false
   },
   "source": [
    "**Slicing**\n",
    "\n",
    "Recall that basic slicing is constructed by start:stop:step notation inside of brackets.  The basic slice syntax is `i:j:k` where `i` is the starting index, `j` is the stopping index, and `k` is the step.  For example,"
   ]
  },
  {
   "cell_type": "code",
   "execution_count": 4,
   "metadata": {
    "collapsed": false
   },
   "outputs": [
    {
     "data": {
      "text/plain": [
       "array([1, 3, 5])"
      ]
     },
     "execution_count": 4,
     "metadata": {},
     "output_type": "execute_result"
    }
   ],
   "source": [
    "x = array([0, 1, 2, 3, 4, 5, 6, 7, 8, 9])\n",
    "x[1:7:2]  # start at index one, stop at 7 and use a step of 2.   Note the endpoint is not a part of the slice.\n"
   ]
  },
  {
   "cell_type": "markdown",
   "metadata": {
    "collapsed": false
   },
   "source": [
    "Slicing syntax can be a useful way to access particular subset of elements in an array and manipulate them.\n",
    "\n",
    "A particularly useful slicing syntax is to use `::` to indicate all remaining elements along the dimension of the array.  When combined with a step interval this can be useful for setting up arrays in this lab script.\n",
    "\n",
    "Try to predict the outcome of the following cells.  Then execute the cells."
   ]
  },
  {
   "cell_type": "code",
   "execution_count": 5,
   "metadata": {
    "collapsed": false
   },
   "outputs": [
    {
     "data": {
      "text/plain": [
       "array([0, 2, 4, 6, 8])"
      ]
     },
     "execution_count": 5,
     "metadata": {},
     "output_type": "execute_result"
    }
   ],
   "source": [
    "x[::2]"
   ]
  },
  {
   "cell_type": "code",
   "execution_count": 6,
   "metadata": {
    "collapsed": false
   },
   "outputs": [
    {
     "data": {
      "text/plain": [
       "array([1, 3, 5, 7, 9])"
      ]
     },
     "execution_count": 6,
     "metadata": {},
     "output_type": "execute_result"
    }
   ],
   "source": [
    "x[1::2]"
   ]
  },
  {
   "cell_type": "code",
   "execution_count": 7,
   "metadata": {
    "collapsed": false
   },
   "outputs": [
    {
     "name": "stdout",
     "output_type": "stream",
     "text": [
      "[array([ 0, 66,  2, 66,  4, 66,  6, 66,  8, 66])]\n"
     ]
    }
   ],
   "source": [
    "x[1::2] = 66\n",
    "print([x])"
   ]
  },
  {
   "cell_type": "markdown",
   "metadata": {
    "collapsed": false
   },
   "source": [
    "**Componentwise operations**\n",
    "\n",
    "Arithmetic array operations are done in a componentwise fashion."
   ]
  },
  {
   "cell_type": "code",
   "execution_count": 8,
   "metadata": {
    "collapsed": false
   },
   "outputs": [
    {
     "name": "stdout",
     "output_type": "stream",
     "text": [
      "[ 0  2  4  6  8 10]\n"
     ]
    }
   ],
   "source": [
    "x = array([0,1,2,3,4,5])\n",
    "print(x+x)"
   ]
  },
  {
   "cell_type": "code",
   "execution_count": 9,
   "metadata": {
    "collapsed": false
   },
   "outputs": [
    {
     "name": "stdout",
     "output_type": "stream",
     "text": [
      "[ 0  1  4  9 16 25]\n"
     ]
    }
   ],
   "source": [
    "print(x*x)"
   ]
  },
  {
   "cell_type": "markdown",
   "metadata": {
    "collapsed": false
   },
   "source": [
    "We can find the number of elements in an array using the `size` attribute."
   ]
  },
  {
   "cell_type": "code",
   "execution_count": 10,
   "metadata": {
    "collapsed": false
   },
   "outputs": [
    {
     "name": "stdout",
     "output_type": "stream",
     "text": [
      "6\n"
     ]
    }
   ],
   "source": [
    "n = x.size\n",
    "print(n)"
   ]
  },
  {
   "cell_type": "markdown",
   "metadata": {
    "collapsed": false
   },
   "source": [
    "We can use this to manipulate the last element in an array.  For example,"
   ]
  },
  {
   "cell_type": "code",
   "execution_count": 11,
   "metadata": {
    "collapsed": false
   },
   "outputs": [
    {
     "name": "stdout",
     "output_type": "stream",
     "text": [
      "0\n",
      "9\n"
     ]
    }
   ],
   "source": [
    "x=array([0,1,2,3,4,5,6,7,8,9])\n",
    "n = x.size\n",
    "print(x[0])\n",
    "print(x[n-1])\n",
    "x[n-1]=0"
   ]
  },
  {
   "cell_type": "markdown",
   "metadata": {
    "collapsed": false
   },
   "source": [
    "\n",
    "Finally `sum()` is a useful function for computing the sum of array elements.\n"
   ]
  },
  {
   "cell_type": "code",
   "execution_count": 12,
   "metadata": {
    "collapsed": false
   },
   "outputs": [
    {
     "name": "stdout",
     "output_type": "stream",
     "text": [
      "10\n",
      "30\n"
     ]
    }
   ],
   "source": [
    "x=array([0,1,2,3,4])\n",
    "print(sum(x))\n",
    "print(sum(x*x))"
   ]
  },
  {
   "cell_type": "markdown",
   "metadata": {
    "collapsed": false
   },
   "source": [
    "\n",
    "\n",
    "**Write a Python function `trapezoid(d, h)` that returns the estimated integral over the points `d` (in the notation above), using the trapezoid rule.**\n",
    "\n",
    "\n",
    "You will need to construct an appropriate weighting array $v$.  The slicing and indexing reviewed above may be useful.\n",
    "\n",
    "∫ab​f(x)dx≈hi=1∑N​vi​f(xi​)"
   ]
  },
  {
   "cell_type": "code",
   "execution_count": 13,
   "metadata": {
    "collapsed": false
   },
   "outputs": [],
   "source": [
    "from numpy import linspace, logspace, cos, pi, exp, sqrt, linspace"
   ]
  },
  {
   "cell_type": "code",
   "execution_count": 14,
   "metadata": {
    "collapsed": false
   },
   "outputs": [],
   "source": [
    "def trapezoid(d, h):\n",
    "    \"\"\"Integrate d using the trapezoid rule and return the value of the integral\n",
    "    \n",
    "    d: array of data points evaluated at even spacing h\n",
    "    h: spacing between data points\n",
    "    \n",
    "    \"\"\"\n",
    "    v = ones(d.size)\n",
    "    v[0] = v[v.size-1] = 0.5\n",
    "    return h*sum(d*v)"
   ]
  },
  {
   "cell_type": "markdown",
   "metadata": {
    "collapsed": false
   },
   "source": [
    "To test your function, we’ll calculate $\\int_0^{\\pi/2}\\cos(x)\\,\\mathrm{d}x = 1$."
   ]
  },
  {
   "cell_type": "code",
   "execution_count": 15,
   "metadata": {
    "collapsed": false
   },
   "outputs": [
    {
     "name": "stdout",
     "output_type": "stream",
     "text": [
      "0.999979020750832\n"
     ]
    }
   ],
   "source": [
    "x = linspace(0, pi/2, 100)\n",
    "y = cos(x)\n",
    "print(trapezoid(y, x[1] - x[0]))"
   ]
  },
  {
   "cell_type": "markdown",
   "metadata": {
    "collapsed": false
   },
   "source": [
    "Assuming that the answer you got above was close to 1, **write a loop to repeat the same calculation with the number $N$ of steps varying from $10$ to $10^7$. Report the error for each step size.**\n",
    "\n",
    "*Hint:* remember that `logspace` from the `numpy` module is an easy way of calculating a range of values that increase (or decrease) by a constant factor. If you’re not sure how to use this, try evaluating `logspace(1, 7, 7)`.\n",
    "\n",
    "*Hint:* You can get a large and *odd* number by using `steps = logspace(1,7,1)+1`.  This may come in handy using Simpson's rule later in the script."
   ]
  },
  {
   "cell_type": "code",
   "execution_count": 16,
   "metadata": {
    "collapsed": false
   },
   "outputs": [
    {
     "name": "stdout",
     "output_type": "stream",
     "text": [
      "0.0025397682082740625 0.9974602317917259\n",
      "2.0979249167996095e-05 0.999979020750832\n",
      "2.0602861861007682e-07 0.9999997939713814\n",
      "2.0565779079717572e-09 0.9999999979434221\n"
     ]
    },
    {
     "name": "stdout",
     "output_type": "stream",
     "text": [
      "2.0581758519711002e-11 0.9999999999794182\n"
     ]
    },
    {
     "name": "stdout",
     "output_type": "stream",
     "text": [
      "1.8884893648873913e-13 0.9999999999998112\n"
     ]
    },
    {
     "name": "stdout",
     "output_type": "stream",
     "text": [
      "-5.995204332975845e-14 1.00000000000006\n"
     ]
    }
   ],
   "source": [
    "for i in range(1,8):\n",
    "    x = linspace(0, pi/2, 10**i)\n",
    "    y = cos(x)\n",
    "    print(1-trapezoid(y, x[1] - x[0]),trapezoid(y, x[1] - x[0]))"
   ]
  },
  {
   "cell_type": "markdown",
   "metadata": {
    "collapsed": false
   },
   "source": [
    "▶ **CHECKPOINT 1**"
   ]
  },
  {
   "cell_type": "markdown",
   "metadata": {
    "collapsed": false
   },
   "source": [
    "For Simpson’s rule, on the other hand, the weights array should be\n",
    "$$\n",
    "v = \\tfrac13\\times(1, 4, 2, 4, 2, \\dots, 4, 2, 4, 1).\n",
    "$$\n",
    "\n",
    "**Write a Python function `simpson(d, h)` that works in the same way to calculate an integral using Simpson’s rule.**\n",
    "\n",
    "Note that because Simpson's rule combines contributions from adjacent intervals it must be used with an even number of intervals (and the minimum number of intervals is 2).  In terms of points, Simpson's rule must use an odd number of points (>3).  Can you see why this is the case from the above?\n",
    "\n",
    "Hint:  Your Simpson's rule function cannot give a correct result without setting up the weighting function properly.  It may be useful to open a few cells to make the weighting function arrays for a modest number of elements first by hand to ensure you've got the syntax and setup correct.\n",
    "\n",
    "Hint: **It is recommended that your function check that the array inputs have the right number of points (the number of points must be odd and at least 3).**  Your code might execute, but will give incorrect results if this is not the case."
   ]
  },
  {
   "cell_type": "code",
   "execution_count": 17,
   "metadata": {
    "collapsed": false
   },
   "outputs": [
    {
     "name": "stdout",
     "output_type": "stream",
     "text": [
      "[1. 4. 2. 4. 2. 4. 2. 4. 2. 4. 1.]\n"
     ]
    }
   ],
   "source": [
    "d=array([0,1,2,3,4,5,6,7,8,9,10])\n",
    "v = ones(d.size)\n",
    "v[1:d.size:2] = 4\n",
    "v[2:d.size-1:2] = 2\n",
    "print(v)\n",
    "v = v * 1/3\n"
   ]
  },
  {
   "cell_type": "code",
   "execution_count": 18,
   "metadata": {
    "collapsed": false
   },
   "outputs": [],
   "source": [
    "def simpson(d,h):\n",
    "    if d.size % 2 != 0:\n",
    "        v = ones(d.size)\n",
    "        v[1:d.size:2] = 4\n",
    "        v[2:d.size-1:2] = 2\n",
    "        v = v * 1/3\n",
    "        return h*sum(d*v)\n",
    "    elif d.size % 2 == 0:\n",
    "        print('oogabooga amount of numbers')\n",
    "    else:\n",
    "        print('congratz you either used 0 or invented a number')"
   ]
  },
  {
   "cell_type": "markdown",
   "metadata": {
    "collapsed": false
   },
   "source": [
    "**Repeat the loop from above, again reporting the error at each step size.** Is Simpson’s rule better or worse than the trapezoid rule in evaluating this integral?"
   ]
  },
  {
   "cell_type": "code",
   "execution_count": 19,
   "metadata": {
    "collapsed": false
   },
   "outputs": [
    {
     "name": "stdout",
     "output_type": "stream",
     "text": [
      "1.0000033922209006\n",
      "1.0000000003382359\n",
      "1.000000000000032\n",
      "0.999999999999999\n",
      "1.0000000000000009\n"
     ]
    },
    {
     "name": "stdout",
     "output_type": "stream",
     "text": [
      "1.0000000000000264\n"
     ]
    },
    {
     "name": "stdout",
     "output_type": "stream",
     "text": [
      "1.0000000000000642\n"
     ]
    }
   ],
   "source": [
    "for i in range(1,8):\n",
    "    x = linspace(0, pi/2, (10**i)+1)\n",
    "    y = cos(x)\n",
    "    print(simpson(y, x[1] - x[0]))"
   ]
  },
  {
   "cell_type": "markdown",
   "metadata": {
    "collapsed": false
   },
   "source": [
    "In the same way as we did for the differentiation algorithms, **plot on the same log-log axes the error against the step size for these two algorithms.** Comment on the shape of these graphs."
   ]
  },
  {
   "cell_type": "code",
   "execution_count": 20,
   "metadata": {
    "collapsed": false
   },
   "outputs": [
    {
     "name": "stdout",
     "output_type": "stream",
     "text": [
      "[3.3922209006220783e-06, 3.3823588374559677e-10, 3.197442310920451e-14, 9.992007221626409e-16, 8.881784197001252e-16, 2.6423307986078726e-14, 6.417089082333405e-14]\n",
      "[0.0025397682082740625, 2.0979249167996095e-05, 2.0602861861007682e-07, 2.0565779079717572e-09, 2.0581758519711002e-11, 1.8884893648873913e-13, 5.995204332975845e-14]\n"
     ]
    },
    {
     "data": {
      "text/plain": [
       "<matplotlib.legend.Legend at 0x7f1458828e50>"
      ]
     },
     "execution_count": 20,
     "metadata": {},
     "output_type": "execute_result"
    },
    {
     "data": {
      "image/png": "[encoded data removed]",
      "text/plain": [
       "<Figure size 864x504 with 1 Axes>"
      ]
     },
     "execution_count": 20,
     "metadata": {
      "image/png": {
       "height": 417,
       "width": 719
      },
      "needs_background": "light"
     },
     "output_type": "execute_result"
    }
   ],
   "source": [
    "from pylab import loglog, xlabel, ylabel, title, legend, figure, ylim\n",
    "from numpy import linspace, logspace, cos, pi, exp, sqrt, linspace\n",
    "# %matplotlib inline\n",
    "figure()\n",
    "\n",
    "trap_error = []\n",
    "simp_error = []\n",
    "\n",
    "for i in range(1,8):\n",
    "    x = linspace(0, pi/2, (10**i))\n",
    "    y = cos(x)\n",
    "    trap_error.append(abs(1-trapezoid(y, x[1] - x[0])))\n",
    "\n",
    "for i in range(1,8):\n",
    "    x = linspace(0, pi/2, (10**i)+1)\n",
    "    y = cos(x)\n",
    "    simp_error.append(abs(1-simpson(y, x[1] - x[0])))\n",
    "\n",
    "print(simp_error)\n",
    "print(trap_error)\n",
    "n = logspace(1,7,7)\n",
    "ylim(10**-16,10**-2,12)\n",
    "loglog(n,simp_error,'go-',label='simp error')\n",
    "loglog(n,trap_error,'bo-',label='trap_error')\n",
    "legend()"
   ]
  },
  {
   "cell_type": "markdown",
   "metadata": {
    "collapsed": false
   },
   "source": [
    "**Repeat the same calculations** (*i.e.*, calculate the error for a range of step sizes) **for the integral**\n",
    "$$\n",
    "\\int_0^1 \\exp(-x)\\,\\mathrm{d}x = 1 - e^{-1}.\n",
    "$$\n",
    "Are your results consistent with the cosine integral from the previous part? **Make a similar figure.**"
   ]
  },
  {
   "cell_type": "code",
   "execution_count": 21,
   "metadata": {
    "collapsed": false
   },
   "outputs": [
    {
     "name": "stdout",
     "output_type": "stream",
     "text": [
      "[3.5076045756810004e-07, 3.5117464491918327e-11, 2.886579864025407e-15, 1.1102230246251565e-15, 5.773159728050814e-15, 4.884981308350689e-15, 3.4416913763379853e-15]\n",
      "[0.0006501960196403367, 5.374617249254143e-06, 5.278222414695222e-08, 5.268762093280088e-10, 5.2698956309882306e-12, 2.842170943040401e-14, 6.328271240363392e-15]\n"
     ]
    },
    {
     "data": {
      "text/plain": [
       "<matplotlib.legend.Legend at 0x7f144cce0790>"
      ]
     },
     "execution_count": 21,
     "metadata": {},
     "output_type": "execute_result"
    },
    {
     "data": {
      "image/png": "[encoded data removed]",
      "text/plain": [
       "<Figure size 432x288 with 1 Axes>"
      ]
     },
     "execution_count": 21,
     "metadata": {
      "image/png": {
       "height": 254,
       "width": 384
      },
      "needs_background": "light"
     },
     "output_type": "execute_result"
    }
   ],
   "source": [
    "from pylab import loglog, xlabel, ylabel, title, legend, figure\n",
    "%matplotlib inline\n",
    "figure()\n",
    "\n",
    "trap_error = []\n",
    "simp_error = []\n",
    "\n",
    "for i in range(1,8):\n",
    "    x = linspace(0,1,10**i)\n",
    "    y = exp(-x)\n",
    "    trap_error.append((abs(1-exp(-1)-trapezoid(y,x[1]-x[0]))))\n",
    "\n",
    "for i in range(1,8):\n",
    "    x = linspace(0,1,(10**i)+1)\n",
    "    y = exp(-x)\n",
    "    simp_error.append((abs(1-exp(-1)-simpson(y,x[1]-x[0]))))\n",
    "\n",
    "print(simp_error)\n",
    "print(trap_error)\n",
    "n = logspace(1,7,7)\n",
    "ylim(10**-16,10**-2,12)\n",
    "loglog(n,simp_error,'go-',label='simp error')\n",
    "loglog(n,trap_error,'bo-',label='trap_error')\n",
    "legend()"
   ]
  },
  {
   "cell_type": "markdown",
   "metadata": {
    "collapsed": false
   },
   "source": [
    "▶ **CHECKPOINT 2**"
   ]
  },
  {
   "cell_type": "markdown",
   "metadata": {
    "collapsed": false
   },
   "source": [
    "## Gaussian quadrature\n",
    "\n",
    "As discussed in the lecture, slides and reading, a more sophisticated method is Gaussian quadrature. We will explore this briefly using our own code, but then move to using precompiled Fortran code provided by the `scipy` package to implement this method.\n",
    "\n",
    "For two-point Gaussian quadrature from $a$ to $b$, the $x$ values should be\n",
    "$$\n",
    "x = a + \\left(\\frac12 \\pm \\frac{1}{2\\sqrt{3}}\\right)(b - a)\n",
    "$$\n",
    "each point should have weight $w_i = \\frac12$.\n",
    "\n",
    "**Use two-point Gaussian quadrature to evaluate the same two integrals, $\\int_0^{\\pi/2}\\cos(x)\\,\\mathrm dx$ and $\\int_0^1 \\exp(-x)\\,\\mathrm{d}x$. How close do you get to the correct answers?**"
   ]
  },
  {
   "cell_type": "code",
   "execution_count": 22,
   "metadata": {
    "collapsed": false
   },
   "outputs": [
    {
     "name": "stdout",
     "output_type": "stream",
     "text": [
      "0.0015273865958849164 0.9984726134041151\n",
      "0.00014179929671220837 0.6319787595318455\n"
     ]
    }
   ],
   "source": [
    "from pylab import loglog, xlabel, ylabel, title, legend, figure, ylim\n",
    "from numpy import linspace, logspace, cos, pi, exp, sqrt, linspace\n",
    "\n",
    "def f(x):\n",
    "    return cos(x)\n",
    "\n",
    "def g(x):\n",
    "    return exp(-x)\n",
    "\n",
    "def gauss_cos(a,b):\n",
    "    c1 = c2 = (b-a)/2\n",
    "    x1 = a + ( 1/2 + 1/(2*sqrt(3)))  * (b - a)\n",
    "    x2 = a + ( 1/2 - 1/(2*sqrt(3)))  * (b - a)\n",
    "    return c1*f(x1) + c2*f(x2)\n",
    "\n",
    "def gauss_e(a,b):\n",
    "    c1 = c2 = (b-a)/2\n",
    "    x1 = a + ( 1/2 + 1/(2*sqrt(3)))  * (b - a)\n",
    "    x2 = a + ( 1/2 - 1/(2*sqrt(3)))  * (b - a)\n",
    "    return (c1*g(x1) + c2*g(x2))\n",
    "\n",
    "print(1-gauss_cos(0,pi/2),gauss_cos(0,pi/2))\n",
    "print((1-exp(-1))-gauss_e(0,1),gauss_e(0,1))"
   ]
  },
  {
   "cell_type": "markdown",
   "metadata": {
    "collapsed": false
   },
   "source": [
    "Now **Import the `quad` function** from the module `scipy.integrate`. **Use the help text** (remember that you can get this by typing `?quad` or `quad?` and evaluating the cell, or by typing `quad` and pressing `Shift`+`Tab`) to work out how to call this function. \n",
    "\n",
    "Note that we *don’t* get to choose how many points are evaluated, which will be either 15 or 21 in each subinterval depending on the exact function we use. The price of convenience is complexity!\n",
    "\n",
    "**Evaluate the two integrals above once again** and compare the absolute error to the best values obtained by the methods we've discussed so far; to the estimate provided by `quad` itself; and to the machine epsilon."
   ]
  },
  {
   "cell_type": "code",
   "execution_count": 23,
   "metadata": {
    "collapsed": false
   },
   "outputs": [
    {
     "name": "stdout",
     "output_type": "stream",
     "text": [
      "(0.9999999999999999, 1.1102230246251564e-14)\n",
      "(0.6321205588285578, 7.017947987503856e-15)\n"
     ]
    }
   ],
   "source": [
    "from scipy.integrate import quad\n",
    "x1 = lambda x: cos(x)\n",
    "x2 = lambda x: exp(-x)\n",
    "\n",
    "print(quad(x1,0,pi/2))\n",
    "print(quad(x2,0,1))"
   ]
  },
  {
   "cell_type": "code",
   "execution_count": 24,
   "metadata": {
    "collapsed": false
   },
   "outputs": [
    {
     "data": {
      "text/plain": [
       "\u001b[0;31mSignature:\u001b[0m\n",
       "\u001b[0mquad\u001b[0m\u001b[0;34m(\u001b[0m\u001b[0;34m\u001b[0m\n",
       "\u001b[0;34m\u001b[0m    \u001b[0mfunc\u001b[0m\u001b[0;34m,\u001b[0m\u001b[0;34m\u001b[0m\n",
       "\u001b[0;34m\u001b[0m    \u001b[0ma\u001b[0m\u001b[0;34m,\u001b[0m\u001b[0;34m\u001b[0m\n",
       "\u001b[0;34m\u001b[0m    \u001b[0mb\u001b[0m\u001b[0;34m,\u001b[0m\u001b[0;34m\u001b[0m\n",
       "\u001b[0;34m\u001b[0m    \u001b[0margs\u001b[0m\u001b[0;34m=\u001b[0m\u001b[0;34m(\u001b[0m\u001b[0;34m)\u001b[0m\u001b[0;34m,\u001b[0m\u001b[0;34m\u001b[0m\n",
       "\u001b[0;34m\u001b[0m    \u001b[0mfull_output\u001b[0m\u001b[0;34m=\u001b[0m\u001b[0;36m0\u001b[0m\u001b[0;34m,\u001b[0m\u001b[0;34m\u001b[0m\n",
       "\u001b[0;34m\u001b[0m    \u001b[0mepsabs\u001b[0m\u001b[0;34m=\u001b[0m\u001b[0;36m1.49e-08\u001b[0m\u001b[0;34m,\u001b[0m\u001b[0;34m\u001b[0m\n",
       "\u001b[0;34m\u001b[0m    \u001b[0mepsrel\u001b[0m\u001b[0;34m=\u001b[0m\u001b[0;36m1.49e-08\u001b[0m\u001b[0;34m,\u001b[0m\u001b[0;34m\u001b[0m\n",
       "\u001b[0;34m\u001b[0m    \u001b[0mlimit\u001b[0m\u001b[0;34m=\u001b[0m\u001b[0;36m50\u001b[0m\u001b[0;34m,\u001b[0m\u001b[0;34m\u001b[0m\n",
       "\u001b[0;34m\u001b[0m    \u001b[0mpoints\u001b[0m\u001b[0;34m=\u001b[0m\u001b[0;32mNone\u001b[0m\u001b[0;34m,\u001b[0m\u001b[0;34m\u001b[0m\n",
       "\u001b[0;34m\u001b[0m    \u001b[0mweight\u001b[0m\u001b[0;34m=\u001b[0m\u001b[0;32mNone\u001b[0m\u001b[0;34m,\u001b[0m\u001b[0;34m\u001b[0m\n",
       "\u001b[0;34m\u001b[0m    \u001b[0mwvar\u001b[0m\u001b[0;34m=\u001b[0m\u001b[0;32mNone\u001b[0m\u001b[0;34m,\u001b[0m\u001b[0;34m\u001b[0m\n",
       "\u001b[0;34m\u001b[0m    \u001b[0mwopts\u001b[0m\u001b[0;34m=\u001b[0m\u001b[0;32mNone\u001b[0m\u001b[0;34m,\u001b[0m\u001b[0;34m\u001b[0m\n",
       "\u001b[0;34m\u001b[0m    \u001b[0mmaxp1\u001b[0m\u001b[0;34m=\u001b[0m\u001b[0;36m50\u001b[0m\u001b[0;34m,\u001b[0m\u001b[0;34m\u001b[0m\n",
       "\u001b[0;34m\u001b[0m    \u001b[0mlimlst\u001b[0m\u001b[0;34m=\u001b[0m\u001b[0;36m50\u001b[0m\u001b[0;34m,\u001b[0m\u001b[0;34m\u001b[0m\n",
       "\u001b[0;34m\u001b[0m\u001b[0;34m)\u001b[0m\u001b[0;34m\u001b[0m\u001b[0;34m\u001b[0m\u001b[0m\n",
       "\u001b[0;31mDocstring:\u001b[0m\n",
       "Compute a definite integral.\n",
       "\n",
       "Integrate func from `a` to `b` (possibly infinite interval) using a\n",
       "technique from the Fortran library QUADPACK.\n",
       "\n",
       "Parameters\n",
       "----------\n",
       "func : {function, scipy.LowLevelCallable}\n",
       "    A Python function or method to integrate. If `func` takes many\n",
       "    arguments, it is integrated along the axis corresponding to the\n",
       "    first argument.\n",
       "\n",
       "    If the user desires improved integration performance, then `f` may\n",
       "    be a `scipy.LowLevelCallable` with one of the signatures::\n",
       "\n",
       "        double func(double x)\n",
       "        double func(double x, void *user_data)\n",
       "        double func(int n, double *xx)\n",
       "        double func(int n, double *xx, void *user_data)\n",
       "\n",
       "    The ``user_data`` is the data contained in the `scipy.LowLevelCallable`.\n",
       "    In the call forms with ``xx``,  ``n`` is the length of the ``xx``\n",
       "    array which contains ``xx[0] == x`` and the rest of the items are\n",
       "    numbers contained in the ``args`` argument of quad.\n",
       "\n",
       "    In addition, certain ctypes call signatures are supported for\n",
       "    backward compatibility, but those should not be used in new code.\n",
       "a : float\n",
       "    Lower limit of integration (use -numpy.inf for -infinity).\n",
       "b : float\n",
       "    Upper limit of integration (use numpy.inf for +infinity).\n",
       "args : tuple, optional\n",
       "    Extra arguments to pass to `func`.\n",
       "full_output : int, optional\n",
       "    Non-zero to return a dictionary of integration information.\n",
       "    If non-zero, warning messages are also suppressed and the\n",
       "    message is appended to the output tuple.\n",
       "\n",
       "Returns\n",
       "-------\n",
       "y : float\n",
       "    The integral of func from `a` to `b`.\n",
       "abserr : float\n",
       "    An estimate of the absolute error in the result.\n",
       "infodict : dict\n",
       "    A dictionary containing additional information.\n",
       "    Run scipy.integrate.quad_explain() for more information.\n",
       "message\n",
       "    A convergence message.\n",
       "explain\n",
       "    Appended only with 'cos' or 'sin' weighting and infinite\n",
       "    integration limits, it contains an explanation of the codes in\n",
       "    infodict['ierlst']\n",
       "\n",
       "Other Parameters\n",
       "----------------\n",
       "epsabs : float or int, optional\n",
       "    Absolute error tolerance. Default is 1.49e-8. `quad` tries to obtain\n",
       "    an accuracy of ``abs(i-result) <= max(epsabs, epsrel*abs(i))``\n",
       "    where ``i`` = integral of `func` from `a` to `b`, and ``result`` is the\n",
       "    numerical approximation. See `epsrel` below.\n",
       "epsrel : float or int, optional\n",
       "    Relative error tolerance. Default is 1.49e-8.\n",
       "    If ``epsabs <= 0``, `epsrel` must be greater than both 5e-29\n",
       "    and ``50 * (machine epsilon)``. See `epsabs` above.\n",
       "limit : float or int, optional\n",
       "    An upper bound on the number of subintervals used in the adaptive\n",
       "    algorithm.\n",
       "points : (sequence of floats,ints), optional\n",
       "    A sequence of break points in the bounded integration interval\n",
       "    where local difficulties of the integrand may occur (e.g.,\n",
       "    singularities, discontinuities). The sequence does not have\n",
       "    to be sorted. Note that this option cannot be used in conjunction\n",
       "    with ``weight``.\n",
       "weight : float or int, optional\n",
       "    String indicating weighting function. Full explanation for this\n",
       "    and the remaining arguments can be found below.\n",
       "wvar : optional\n",
       "    Variables for use with weighting functions.\n",
       "wopts : optional\n",
       "    Optional input for reusing Chebyshev moments.\n",
       "maxp1 : float or int, optional\n",
       "    An upper bound on the number of Chebyshev moments.\n",
       "limlst : int, optional\n",
       "    Upper bound on the number of cycles (>=3) for use with a sinusoidal\n",
       "    weighting and an infinite end-point.\n",
       "\n",
       "See Also\n",
       "--------\n",
       "dblquad : double integral\n",
       "tplquad : triple integral\n",
       "nquad : n-dimensional integrals (uses `quad` recursively)\n",
       "fixed_quad : fixed-order Gaussian quadrature\n",
       "quadrature : adaptive Gaussian quadrature\n",
       "odeint : ODE integrator\n",
       "ode : ODE integrator\n",
       "simps : integrator for sampled data\n",
       "romb : integrator for sampled data\n",
       "scipy.special : for coefficients and roots of orthogonal polynomials\n",
       "\n",
       "Notes\n",
       "-----\n",
       "\n",
       "**Extra information for quad() inputs and outputs**\n",
       "\n",
       "If full_output is non-zero, then the third output argument\n",
       "(infodict) is a dictionary with entries as tabulated below. For\n",
       "infinite limits, the range is transformed to (0,1) and the\n",
       "optional outputs are given with respect to this transformed range.\n",
       "Let M be the input argument limit and let K be infodict['last'].\n",
       "The entries are:\n",
       "\n",
       "'neval'\n",
       "    The number of function evaluations.\n",
       "'last'\n",
       "    The number, K, of subintervals produced in the subdivision process.\n",
       "'alist'\n",
       "    A rank-1 array of length M, the first K elements of which are the\n",
       "    left end points of the subintervals in the partition of the\n",
       "    integration range.\n",
       "'blist'\n",
       "    A rank-1 array of length M, the first K elements of which are the\n",
       "    right end points of the subintervals.\n",
       "'rlist'\n",
       "    A rank-1 array of length M, the first K elements of which are the\n",
       "    integral approximations on the subintervals.\n",
       "'elist'\n",
       "    A rank-1 array of length M, the first K elements of which are the\n",
       "    moduli of the absolute error estimates on the subintervals.\n",
       "'iord'\n",
       "    A rank-1 integer array of length M, the first L elements of\n",
       "    which are pointers to the error estimates over the subintervals\n",
       "    with ``L=K`` if ``K<=M/2+2`` or ``L=M+1-K`` otherwise. Let I be the\n",
       "    sequence ``infodict['iord']`` and let E be the sequence\n",
       "    ``infodict['elist']``.  Then ``E[I[1]], ..., E[I[L]]`` forms a\n",
       "    decreasing sequence.\n",
       "\n",
       "If the input argument points is provided (i.e., it is not None),\n",
       "the following additional outputs are placed in the output\n",
       "dictionary. Assume the points sequence is of length P.\n",
       "\n",
       "'pts'\n",
       "    A rank-1 array of length P+2 containing the integration limits\n",
       "    and the break points of the intervals in ascending order.\n",
       "    This is an array giving the subintervals over which integration\n",
       "    will occur.\n",
       "'level'\n",
       "    A rank-1 integer array of length M (=limit), containing the\n",
       "    subdivision levels of the subintervals, i.e., if (aa,bb) is a\n",
       "    subinterval of ``(pts[1], pts[2])`` where ``pts[0]`` and ``pts[2]``\n",
       "    are adjacent elements of ``infodict['pts']``, then (aa,bb) has level l\n",
       "    if ``|bb-aa| = |pts[2]-pts[1]| * 2**(-l)``.\n",
       "'ndin'\n",
       "    A rank-1 integer array of length P+2. After the first integration\n",
       "    over the intervals (pts[1], pts[2]), the error estimates over some\n",
       "    of the intervals may have been increased artificially in order to\n",
       "    put their subdivision forward. This array has ones in slots\n",
       "    corresponding to the subintervals for which this happens.\n",
       "\n",
       "**Weighting the integrand**\n",
       "\n",
       "The input variables, *weight* and *wvar*, are used to weight the\n",
       "integrand by a select list of functions. Different integration\n",
       "methods are used to compute the integral with these weighting\n",
       "functions, and these do not support specifying break points. The\n",
       "possible values of weight and the corresponding weighting functions are.\n",
       "\n",
       "==========  ===================================   =====================\n",
       "``weight``  Weight function used                  ``wvar``\n",
       "==========  ===================================   =====================\n",
       "'cos'       cos(w*x)                              wvar = w\n",
       "'sin'       sin(w*x)                              wvar = w\n",
       "'alg'       g(x) = ((x-a)**alpha)*((b-x)**beta)   wvar = (alpha, beta)\n",
       "'alg-loga'  g(x)*log(x-a)                         wvar = (alpha, beta)\n",
       "'alg-logb'  g(x)*log(b-x)                         wvar = (alpha, beta)\n",
       "'alg-log'   g(x)*log(x-a)*log(b-x)                wvar = (alpha, beta)\n",
       "'cauchy'    1/(x-c)                               wvar = c\n",
       "==========  ===================================   =====================\n",
       "\n",
       "wvar holds the parameter w, (alpha, beta), or c depending on the weight\n",
       "selected. In these expressions, a and b are the integration limits.\n",
       "\n",
       "For the 'cos' and 'sin' weighting, additional inputs and outputs are\n",
       "available.\n",
       "\n",
       "For finite integration limits, the integration is performed using a\n",
       "Clenshaw-Curtis method which uses Chebyshev moments. For repeated\n",
       "calculations, these moments are saved in the output dictionary:\n",
       "\n",
       "'momcom'\n",
       "    The maximum level of Chebyshev moments that have been computed,\n",
       "    i.e., if ``M_c`` is ``infodict['momcom']`` then the moments have been\n",
       "    computed for intervals of length ``|b-a| * 2**(-l)``,\n",
       "    ``l=0,1,...,M_c``.\n",
       "'nnlog'\n",
       "    A rank-1 integer array of length M(=limit), containing the\n",
       "    subdivision levels of the subintervals, i.e., an element of this\n",
       "    array is equal to l if the corresponding subinterval is\n",
       "    ``|b-a|* 2**(-l)``.\n",
       "'chebmo'\n",
       "    A rank-2 array of shape (25, maxp1) containing the computed\n",
       "    Chebyshev moments. These can be passed on to an integration\n",
       "    over the same interval by passing this array as the second\n",
       "    element of the sequence wopts and passing infodict['momcom'] as\n",
       "    the first element.\n",
       "\n",
       "If one of the integration limits is infinite, then a Fourier integral is\n",
       "computed (assuming w neq 0). If full_output is 1 and a numerical error\n",
       "is encountered, besides the error message attached to the output tuple,\n",
       "a dictionary is also appended to the output tuple which translates the\n",
       "error codes in the array ``info['ierlst']`` to English messages. The\n",
       "output information dictionary contains the following entries instead of\n",
       "'last', 'alist', 'blist', 'rlist', and 'elist':\n",
       "\n",
       "'lst'\n",
       "    The number of subintervals needed for the integration (call it ``K_f``).\n",
       "'rslst'\n",
       "    A rank-1 array of length M_f=limlst, whose first ``K_f`` elements\n",
       "    contain the integral contribution over the interval\n",
       "    ``(a+(k-1)c, a+kc)`` where ``c = (2*floor(|w|) + 1) * pi / |w|``\n",
       "    and ``k=1,2,...,K_f``.\n",
       "'erlst'\n",
       "    A rank-1 array of length ``M_f`` containing the error estimate\n",
       "    corresponding to the interval in the same position in\n",
       "    ``infodict['rslist']``.\n",
       "'ierlst'\n",
       "    A rank-1 integer array of length ``M_f`` containing an error flag\n",
       "    corresponding to the interval in the same position in\n",
       "    ``infodict['rslist']``.  See the explanation dictionary (last entry\n",
       "    in the output tuple) for the meaning of the codes.\n",
       "\n",
       "Examples\n",
       "--------\n",
       "Calculate :math:`\\int^4_0 x^2 dx` and compare with an analytic result\n",
       "\n",
       ">>> from scipy import integrate\n",
       ">>> x2 = lambda x: x**2\n",
       ">>> integrate.quad(x2, 0, 4)\n",
       "(21.333333333333332, 2.3684757858670003e-13)\n",
       ">>> print(4**3 / 3.)  # analytical result\n",
       "21.3333333333\n",
       "\n",
       "Calculate :math:`\\int^\\infty_0 e^{-x} dx`\n",
       "\n",
       ">>> invexp = lambda x: np.exp(-x)\n",
       ">>> integrate.quad(invexp, 0, np.inf)\n",
       "(1.0, 5.842605999138044e-11)\n",
       "\n",
       ">>> f = lambda x,a : a*x\n",
       ">>> y, err = integrate.quad(f, 0, 1, args=(1,))\n",
       ">>> y\n",
       "0.5\n",
       ">>> y, err = integrate.quad(f, 0, 1, args=(3,))\n",
       ">>> y\n",
       "1.5\n",
       "\n",
       "Calculate :math:`\\int^1_0 x^2 + y^2 dx` with ctypes, holding\n",
       "y parameter as 1::\n",
       "\n",
       "    testlib.c =>\n",
       "        double func(int n, double args[n]){\n",
       "            return args[0]*args[0] + args[1]*args[1];}\n",
       "    compile to library testlib.*\n",
       "\n",
       "::\n",
       "\n",
       "   from scipy import integrate\n",
       "   import ctypes\n",
       "   lib = ctypes.CDLL('/home/.../testlib.*') #use absolute path\n",
       "   lib.func.restype = ctypes.c_double\n",
       "   lib.func.argtypes = (ctypes.c_int,ctypes.c_double)\n",
       "   integrate.quad(lib.func,0,1,(1))\n",
       "   #(1.3333333333333333, 1.4802973661668752e-14)\n",
       "   print((1.0**3/3.0 + 1.0) - (0.0**3/3.0 + 0.0)) #Analytic result\n",
       "   # 1.3333333333333333\n",
       "\n",
       "Be aware that pulse shapes and other sharp features as compared to the\n",
       "size of the integration interval may not be integrated correctly using\n",
       "this method. A simplified example of this limitation is integrating a\n",
       "y-axis reflected step function with many zero values within the integrals\n",
       "bounds.\n",
       "\n",
       ">>> y = lambda x: 1 if x<=0 else 0\n",
       ">>> integrate.quad(y, -1, 1)\n",
       "(1.0, 1.1102230246251565e-14)\n",
       ">>> integrate.quad(y, -1, 100)\n",
       "(1.0000000002199108, 1.0189464580163188e-08)\n",
       ">>> integrate.quad(y, -1, 10000)\n",
       "(0.0, 0.0)\n",
       "\u001b[0;31mFile:\u001b[0m      /usr/local/lib/python3.8/dist-packages/scipy/integrate/quadpack.py\n",
       "\u001b[0;31mType:\u001b[0m      function\n"
      ]
     },
     "execution_count": 24,
     "metadata": {},
     "output_type": "execute_result"
    }
   ],
   "source": []
  },
  {
   "cell_type": "markdown",
   "metadata": {
    "collapsed": false
   },
   "source": [
    "errors are roughly 1e-14 & 1e-15\n",
    "lowest simp error for cos 8.881784197001252e-16\n",
    "lowest trap error for cos 5.995204332975845e-14\n",
    "lowest simp error for e 1.1102230246251565e-15\n",
    "lowest trap error for e 6.328271240363392e-15"
   ]
  },
  {
   "cell_type": "code",
   "execution_count": 25,
   "metadata": {
    "collapsed": false
   },
   "outputs": [
    {
     "data": {
      "text/plain": [
       "2.220446049250313e-16"
      ]
     },
     "execution_count": 25,
     "metadata": {},
     "output_type": "execute_result"
    }
   ],
   "source": [
    "from sys import float_info\n",
    "float_info.epsilon"
   ]
  },
  {
   "cell_type": "markdown",
   "metadata": {
    "collapsed": false
   },
   "source": [
    "▶ **CHECKPOINT 3**"
   ]
  },
  {
   "cell_type": "markdown",
   "metadata": {
    "collapsed": false
   },
   "source": [
    "## Extension: the Romberg correction\n",
    "\n",
    "We know that Simpson’s rule has an error proportional to $h^4$. Suppose we do two Simpson’s rule calculations, one with step size $h$ and result $S_1$ and another with step size $2h$ and result $S_2$. Then we expect $S_2$ to have $2^4 = 16$ times the error of $S_1$: if $I$ is the true integral, $I - S_2 = 16(I - S_1)$. This suggests a way of improving the calculation: we simply solve for $I$, giving\n",
    "$$\n",
    "I = \\frac{16S_1 - S_2}{15}.\n",
    "$$\n",
    "\n",
    "**Repeat the calculation of errors in known integrals** using the Romberg rule to improve the calculation at each step size, and once again plotting the absolute error against the step size."
   ]
  },
  {
   "cell_type": "code",
   "execution_count": 26,
   "metadata": {
    "collapsed": false
   },
   "outputs": [
    {
     "name": "stdout",
     "output_type": "stream",
     "text": [
      "0.9333364994061739\n",
      "0.9333333336490202\n",
      "0.9333333333333632\n",
      "0.9333333333333323\n",
      "0.9333333333333341\n"
     ]
    },
    {
     "name": "stdout",
     "output_type": "stream",
     "text": [
      "0.933333333333358\n"
     ]
    },
    {
     "name": "stdout",
     "output_type": "stream",
     "text": [
      "0.9333333333333933\n",
      "0.5899795156164143\n",
      "0.5899791882727635\n",
      "0.5899791882399898\n",
      "0.5899791882399862\n",
      "0.5899791882399817\n"
     ]
    },
    {
     "name": "stdout",
     "output_type": "stream",
     "text": [
      "0.5899791882399917\n"
     ]
    },
    {
     "name": "stdout",
     "output_type": "stream",
     "text": [
      "0.5899791882399839\n"
     ]
    }
   ],
   "source": [
    "def romberg(d,h):\n",
    "    return (16*simpson(d,h) - simpson(d,2*h))/15\n",
    "\n",
    "for i in range(1,8):\n",
    "    x = linspace(0, pi/2, (10**i)+1)\n",
    "    y = cos(x)\n",
    "    print(romberg(y, x[1] - x[0]))\n",
    "    \n",
    "for i in range(1,8):\n",
    "    x = linspace(0, 1, (10**i)+1)\n",
    "    y = exp(-x)\n",
    "    print(romberg(y, x[1] - x[0]))"
   ]
  }
 ],
 "metadata": {
  "kernelspec": {
   "display_name": "Python 3 (Ubuntu Linux)",
   "language": "python",
   "name": "python3-ubuntu",
   "resource_dir": "/usr/local/share/jupyter/kernels/python3-ubuntu"
  },
  "language_info": {
   "codemirror_mode": {
    "name": "ipython",
    "version": 3
   },
   "file_extension": ".py",
   "mimetype": "text/x-python",
   "name": "python",
   "nbconvert_exporter": "python",
   "pygments_lexer": "ipython3",
   "version": "3.8.2"
  }
 },
 "nbformat": 4,
 "nbformat_minor": 4
}