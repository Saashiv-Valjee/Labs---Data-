{
 "cells": [
  {
   "cell_type": "markdown",
   "metadata": {
    "collapsed": false,
    "id": "Qa6JHBgCNa55"
   },
   "source": [
    "# Lab 3: Numerical errors\n",
    "\n",
    "In this lab we will investigate some of the practical implications of the way numbers are stored in computers. In particular, we will look at problems that can arise for the unwary when using floating-point numbers.\n",
    "\n",
    "**Please enter your name and student number in the markdown cell below** then press `Shift` + `Enter`."
   ]
  },
  {
   "cell_type": "markdown",
   "metadata": {
    "collapsed": false,
    "id": "IkuWF8EQNa5_"
   },
   "source": [
    "* Name: Saashiv Valjee\n",
    "* SID: 190288688 (unfinished)"
   ]
  },
  {
   "cell_type": "markdown",
   "metadata": {
    "collapsed": false,
    "id": "4V4HOUMyNa6A"
   },
   "source": [
    "We will check our answers against the \"official results\" from `sys.float_info` – so before getting any further, let's import this:"
   ]
  },
  {
   "cell_type": "code",
   "execution_count": 0,
   "metadata": {
    "collapsed": false,
    "id": "mApKXGO6Na6B"
   },
   "outputs": [
   ],
   "source": [
    "from sys import float_info"
   ]
  },
  {
   "cell_type": "markdown",
   "metadata": {
    "collapsed": false,
    "id": "K8P_4qXMNa6D"
   },
   "source": [
    "## Machine precision\n",
    "\n",
    "**Write a program to find the approximate machine precision** – that is, the largest number $\\epsilon$ such that $1 + \\epsilon = 1$ within the precision of the calculation.\n",
    "\n",
    "An appropriate algorithm would be\n",
    "\n",
    "    Set epsilon to 0.1\n",
    "    Loop until 1 + epsilon is equal to 1:\n",
    "        Set epsilon to half its current value"
   ]
  },
  {
   "cell_type": "code",
   "execution_count": 0,
   "metadata": {
    "collapsed": false,
    "id": "p1xpIXjZNa6D",
    "outputId": "923d3040-52ad-4734-984c-9de8ea672f8e"
   },
   "outputs": [
    {
     "name": "stdout",
     "output_type": "stream",
     "text": [
      "0.1\n",
      "0.05\n",
      "0.025\n",
      "0.0125\n",
      "0.00625\n",
      "0.003125\n",
      "0.0015625\n",
      "0.00078125\n",
      "0.000390625\n",
      "0.0001953125\n",
      "9.765625e-05\n",
      "4.8828125e-05\n",
      "2.44140625e-05\n",
      "1.220703125e-05\n",
      "6.103515625e-06\n",
      "3.0517578125e-06\n",
      "1.52587890625e-06\n",
      "7.62939453125e-07\n",
      "3.814697265625e-07\n",
      "1.9073486328125e-07\n",
      "9.5367431640625e-08\n",
      "4.76837158203125e-08\n",
      "2.384185791015625e-08\n",
      "1.1920928955078126e-08\n",
      "5.960464477539063e-09\n",
      "2.9802322387695314e-09\n",
      "1.4901161193847657e-09\n",
      "7.450580596923829e-10\n",
      "3.7252902984619143e-10\n",
      "1.8626451492309571e-10\n",
      "9.313225746154786e-11\n",
      "4.656612873077393e-11\n",
      "2.3283064365386964e-11\n",
      "1.1641532182693482e-11\n",
      "5.820766091346741e-12\n",
      "2.9103830456733705e-12\n",
      "1.4551915228366853e-12\n",
      "7.275957614183426e-13\n",
      "3.637978807091713e-13\n",
      "1.8189894035458566e-13\n",
      "9.094947017729283e-14\n",
      "4.5474735088646414e-14\n",
      "2.2737367544323207e-14\n",
      "1.1368683772161604e-14\n",
      "5.684341886080802e-15\n",
      "2.842170943040401e-15\n",
      "1.4210854715202005e-15\n",
      "7.105427357601002e-16\n",
      "3.552713678800501e-16\n",
      "1.7763568394002506e-16\n"
     ]
    }
   ],
   "source": [
    "epsilon = 0.1\n",
    "while (1 + epsilon) != 1:\n",
    "    print(epsilon)\n",
    "    epsilon = epsilon / 2\n"
   ]
  },
  {
   "cell_type": "markdown",
   "metadata": {
    "collapsed": false,
    "id": "0oGTd7OINa6E"
   },
   "source": [
    "Let's check this against what we know about how numbers are stored in computers. `float_info.mant_dig` will tell you how many bits (i.e., binary digits) are available to store the significand:"
   ]
  },
  {
   "cell_type": "code",
   "execution_count": 0,
   "metadata": {
    "collapsed": false,
    "id": "_bxyZQo_Na6F",
    "outputId": "d73c71d9-9385-4a29-cdef-b241ce4018ac"
   },
   "outputs": [
    {
     "data": {
      "text/plain": [
       "53"
      ]
     },
     "execution_count": 0,
     "metadata": {
      "tags": [
      ]
     },
     "output_type": "execute_result"
    }
   ],
   "source": [
    "float_info.mant_dig"
   ]
  },
  {
   "cell_type": "markdown",
   "metadata": {
    "collapsed": false,
    "id": "9FhhhCeYNa6H"
   },
   "source": [
    "Can you use this information to calculate the theoretical epsilon? You shouldn't expect to match exactly with the results of your test program (can you see why?) but you should have the correct order of magnitude."
   ]
  },
  {
   "cell_type": "code",
   "execution_count": 0,
   "metadata": {
    "colab": {
     "base_uri": "https://localhost:8080/"
    },
    "collapsed": false,
    "id": "8jhnpjlxNa6H",
    "outputId": "d870e7b7-6628-489e-966d-a2bc2bcf3be8"
   },
   "outputs": [
    {
     "name": "stdout",
     "output_type": "stream",
     "text": [
      "2.220446049250313e-16\n"
     ]
    }
   ],
   "source": [
    "print(2**(-52))"
   ]
  },
  {
   "cell_type": "markdown",
   "metadata": {
    "collapsed": false,
    "id": "4Nz2YU6XpFv8"
   },
   "source": [
    "this is to do with how binary works, each binary digit can represent 2 ^ n, depending on how many digits are available, if one digit is reserved for the sign of the number, the max power can be 52, or -52 in our case"
   ]
  },
  {
   "cell_type": "markdown",
   "metadata": {
    "collapsed": false,
    "id": "h4TbGNETNa6H"
   },
   "source": [
    "Check your answer against `float_info.epsilon`. This should match your theoretical value exactly."
   ]
  },
  {
   "cell_type": "code",
   "execution_count": 0,
   "metadata": {
    "collapsed": false,
    "id": "LlxsV-hYNa6J",
    "outputId": "0e5e2bfb-9436-4924-b546-42971b485667"
   },
   "outputs": [
    {
     "data": {
      "text/plain": [
       "2.220446049250313e-16"
      ]
     },
     "execution_count": 0,
     "metadata": {
      "tags": [
      ]
     },
     "output_type": "execute_result"
    }
   ],
   "source": [
    "float_info.epsilon"
   ]
  },
  {
   "cell_type": "markdown",
   "metadata": {
    "collapsed": false,
    "id": "OaLe3fHrNa6K"
   },
   "source": [
    "## Overflow and underflow\n",
    "\n",
    "**Write a program to find the maximum and minimum positive numbers representable as a Python `float`.**\n",
    "\n",
    "You can use a very similar algorithm, but this time you will need to test whether the number is equal to $\\infty$, which you can represent as `float('inf')`, or zero."
   ]
  },
  {
   "cell_type": "code",
   "execution_count": 2,
   "metadata": {
    "colab": {
     "base_uri": "https://localhost:8080/"
    },
    "collapsed": false,
    "id": "vHehUATiNa6L",
    "outputId": "e4c77b2c-5d83-4e12-c7a3-03b6b92e8096",
    "scrolled": true
   },
   "outputs": [
    {
     "name": "stdout",
     "output_type": "stream",
     "text": [
      "9.999999999999999e+250\n",
      "9.999999999999999e+251\n",
      "1e+253\n",
      "1e+254\n",
      "1e+255\n",
      "1e+256\n",
      "1e+257\n",
      "1e+258\n",
      "1.0000000000000001e+259\n",
      "1e+260\n",
      "1.0000000000000001e+261\n",
      "1.0000000000000002e+262\n",
      "1.0000000000000002e+263\n",
      "1.0000000000000002e+264\n",
      "1.0000000000000002e+265\n",
      "1.0000000000000003e+266\n",
      "1.0000000000000003e+267\n",
      "1.0000000000000003e+268\n",
      "1.0000000000000003e+269\n",
      "1.0000000000000003e+270\n",
      "1.0000000000000003e+271\n",
      "1.0000000000000004e+272\n",
      "1.0000000000000003e+273\n",
      "1.0000000000000003e+274\n",
      "1.0000000000000003e+275\n",
      "1.0000000000000003e+276\n",
      "1.0000000000000002e+277\n",
      "1.0000000000000001e+278\n",
      "1.0000000000000002e+279\n",
      "1.0000000000000002e+280\n",
      "1.0000000000000002e+281\n",
      "1.0000000000000002e+282\n",
      "1.0000000000000002e+283\n",
      "1.0000000000000002e+284\n",
      "1.0000000000000002e+285\n",
      "1.0000000000000002e+286\n",
      "1.0000000000000002e+287\n",
      "1.0000000000000003e+288\n",
      "1.0000000000000003e+289\n",
      "1.0000000000000002e+290\n",
      "1.0000000000000002e+291\n",
      "1.0000000000000002e+292\n",
      "1.0000000000000003e+293\n",
      "1.0000000000000002e+294\n",
      "1.0000000000000002e+295\n",
      "1.0000000000000002e+296\n",
      "1.0000000000000002e+297\n",
      "1.0000000000000002e+298\n",
      "1.0000000000000002e+299\n",
      "1.0000000000000002e+300\n",
      "1.0000000000000002e+301\n",
      "1e+302\n",
      "1e+303\n",
      "1e+304\n",
      "1e+305\n",
      "9.999999999999999e+305\n",
      "9.999999999999999e+306\n",
      "9.999999999999998e+307\n",
      "inf\n"
     ]
    }
   ],
   "source": [
    "\n",
    "#max\n",
    "num = 1e+250\n",
    "inf = float('inf')\n",
    "while num != inf:\n",
    "    num = num * 10\n",
    "    print(num)\n"
   ]
  },
  {
   "cell_type": "code",
   "execution_count": 0,
   "metadata": {
    "collapsed": false,
    "id": "bFp6BEDZNa6L",
    "outputId": "cb725ffe-d832-4501-da89-9dbe9f927742",
    "scrolled": true
   },
   "outputs": [
    {
     "name": "stdout",
     "output_type": "stream",
     "text": [
      "1e-251\n",
      "1.0000000000000001e-252\n",
      "1e-253\n",
      "1.0000000000000001e-254\n",
      "1.0000000000000001e-255\n",
      "1.0000000000000001e-256\n",
      "1.0000000000000002e-257\n",
      "1.0000000000000002e-258\n",
      "1.0000000000000002e-259\n",
      "1.0000000000000001e-260\n",
      "1.0000000000000001e-261\n",
      "1.0000000000000002e-262\n",
      "1.0000000000000002e-263\n",
      "1.0000000000000002e-264\n",
      "1.0000000000000003e-265\n",
      "1.0000000000000003e-266\n",
      "1.0000000000000004e-267\n",
      "1.0000000000000004e-268\n",
      "1.0000000000000003e-269\n",
      "1.0000000000000003e-270\n",
      "1.0000000000000002e-271\n",
      "1.0000000000000003e-272\n",
      "1.0000000000000003e-273\n",
      "1.0000000000000004e-274\n",
      "1.0000000000000004e-275\n",
      "1.0000000000000005e-276\n",
      "1.0000000000000005e-277\n",
      "1.0000000000000004e-278\n",
      "1.0000000000000004e-279\n",
      "1.0000000000000004e-280\n",
      "1.0000000000000005e-281\n",
      "1.0000000000000004e-282\n",
      "1.0000000000000004e-283\n",
      "1.0000000000000005e-284\n",
      "1.0000000000000004e-285\n",
      "1.0000000000000004e-286\n",
      "1.0000000000000005e-287\n",
      "1.0000000000000004e-288\n",
      "1.0000000000000005e-289\n",
      "1.0000000000000005e-290\n",
      "1.0000000000000005e-291\n",
      "1.0000000000000005e-292\n",
      "1.0000000000000005e-293\n",
      "1.0000000000000005e-294\n",
      "1.0000000000000005e-295\n",
      "1.0000000000000005e-296\n",
      "1.0000000000000005e-297\n",
      "1.0000000000000005e-298\n",
      "1.0000000000000005e-299\n",
      "1.0000000000000005e-300\n",
      "1.0000000000000005e-301\n",
      "1.0000000000000005e-302\n",
      "1.0000000000000004e-303\n",
      "1.0000000000000004e-304\n",
      "1.0000000000000004e-305\n",
      "1.0000000000000003e-306\n",
      "1.0000000000000003e-307\n",
      "1.0000000000000004e-308\n",
      "1e-309\n",
      "1e-310\n",
      "1e-311\n",
      "1e-312\n",
      "1e-313\n",
      "1e-314\n",
      "1e-315\n",
      "1e-316\n",
      "9.999997e-318\n",
      "1e-318\n",
      "1e-319\n",
      "1e-320\n",
      "1e-321\n",
      "1e-322\n",
      "1e-323\n",
      "0.0\n"
     ]
    }
   ],
   "source": [
    "#min\n",
    "num = 1e-250\n",
    "while num != 0:\n",
    "    num = num / 10\n",
    "    print(num)\n"
   ]
  },
  {
   "cell_type": "markdown",
   "metadata": {
    "collapsed": false,
    "id": "wlptnxGfNa6L"
   },
   "source": [
    "**Check your answers** against the \"official\" numbers from the following code:"
   ]
  },
  {
   "cell_type": "code",
   "execution_count": 0,
   "metadata": {
    "collapsed": false,
    "id": "PsiTf82qNa6L",
    "outputId": "40736807-4e45-4896-8549-26fe3b1c8012"
   },
   "outputs": [
    {
     "data": {
      "text/plain": [
       "(2.2250738585072014e-308, 1.7976931348623157e+308)"
      ]
     },
     "execution_count": 0,
     "metadata": {
      "tags": [
      ]
     },
     "output_type": "execute_result"
    }
   ],
   "source": [
    "float_info.min, float_info.max"
   ]
  },
  {
   "cell_type": "markdown",
   "metadata": {
    "collapsed": false,
    "id": "tiINZ1Q2Na6M"
   },
   "source": [
    "You will notice something odd: while the greatest possible number should match your results fairly well, the smallest possible number from your results should be several orders of magnitude *smaller* than is theoretically possible! This is because of a clever process known as *gradual underflow*. \n",
    "\n",
    "To investigate, **start with a number near the smallest possible, say $10^{-300}$, and divide repeatedly by 300, printing out the result at each step.** What do you notice about the precision of each result? Can you explain what is going on?"
   ]
  },
  {
   "cell_type": "code",
   "execution_count": 0,
   "metadata": {
    "collapsed": false,
    "id": "0p1WFcfBNa6M",
    "outputId": "18bb6ff2-f3cc-4733-b93b-d4c78d0c826f"
   },
   "outputs": [
    {
     "name": "stdout",
     "output_type": "stream",
     "text": [
      "3.333333333333333e-303\n",
      "1.1111111111111111e-305\n",
      "3.7037037037037035e-308\n",
      "1.23456790123455e-310\n",
      "4.11522633745e-313\n",
      "1.371742115e-315\n",
      "4.572474e-318\n",
      "1.524e-320\n",
      "5e-323\n",
      "0.0\n"
     ]
    }
   ],
   "source": [
    "#min\n",
    "num = 1e-300\n",
    "while num != 0:\n",
    "    num = num / 300\n",
    "    print(num)\n"
   ]
  },
  {
   "cell_type": "markdown",
   "metadata": {
    "collapsed": false,
    "id": "CEHSrSeXNa6M"
   },
   "source": [
    "there are less decimal points past 1e-308, the precision is going down, this is due to the amount of 'useable' digits running out as they're being taken up by zeros, this means they have to round and take away more digits as the amount of zeros the data is taking up has taken away the amount of actual digits the number can have processed. this rounding lowers the precision."
   ]
  },
  {
   "cell_type": "markdown",
   "metadata": {
    "collapsed": false,
    "id": "ttmyZbYeNa6N"
   },
   "source": [
    "## Integer overflow\n",
    "\n",
    "As we noted in class, it's a little tricky to demonstrate integer overflow using the base Python library, because it cleverly increases the amount of memory allocated in order to be able to store arbitrarily large integers. The `array` type from the `numpy` library, however, doesn't do this. (This is on balance a good thing: it is designed to deal fast with very large amounts of data, and being able to specify exactly how much memory should be reserved for each array entry makes sense if there are millions of entries.)\n",
    "\n",
    "We will create an `array` with only one component, which we specify as an integer occupying sixteen bits of memory:"
   ]
  },
  {
   "cell_type": "code",
   "execution_count": 33,
   "metadata": {
    "colab": {
     "base_uri": "https://localhost:8080/"
    },
    "collapsed": false,
    "id": "ovzUpMJANa6N",
    "outputId": "00e2cb2f-2f29-49ca-e337-a8ed41c3f587"
   },
   "outputs": [
    {
     "name": "stdout",
     "output_type": "stream",
     "text": [
      "[0]\n"
     ]
    }
   ],
   "source": [
    "from numpy import array\n",
    "my_integer = array([0], dtype='int16')\n",
    "print(my_integer)"
   ]
  },
  {
   "cell_type": "markdown",
   "metadata": {
    "collapsed": false,
    "id": "0C1MyYJtNa6N"
   },
   "source": [
    "Remembering that one of those sixteen bits is reserved to indicate the sign, **what is the largest number that can be represented in this array?**"
   ]
  },
  {
   "cell_type": "code",
   "execution_count": 16,
   "metadata": {
    "colab": {
     "base_uri": "https://localhost:8080/"
    },
    "collapsed": false,
    "id": "oGiFANPhNa6O",
    "outputId": "f26757f7-1366-424b-faed-87f621366d17"
   },
   "outputs": [
    {
     "name": "stdout",
     "output_type": "stream",
     "text": [
      "<class 'numpy.ndarray'>\n",
      "[32767]\n",
      "[-32768]\n",
      "<class 'numpy.ndarray'>\n"
     ]
    }
   ],
   "source": [
    "from numpy import array\n",
    "my_integer = array([2**15 - 1], dtype='int16')\n",
    "print(type(my_integer))\n",
    "print(my_integer)\n",
    "my_integer += 1\n",
    "print(my_integer)\n",
    "print(type(my_integer))"
   ]
  },
  {
   "cell_type": "markdown",
   "metadata": {
    "collapsed": false,
    "id": "2DeQiCCJNa6P"
   },
   "source": [
    "**Check your answer by setting `my_integer[0]` to this number, then adding one.** Is the result what you expect?"
   ]
  },
  {
   "cell_type": "code",
   "execution_count": 62,
   "metadata": {
    "colab": {
     "base_uri": "https://localhost:8080/"
    },
    "collapsed": false,
    "id": "vDasi17vNa6P",
    "outputId": "7b298ce5-72a9-43db-dd06-055027f2b399"
   },
   "outputs": [
    {
     "name": "stdout",
     "output_type": "stream",
     "text": [
      "[32767]\n",
      "[-32768]\n"
     ]
    }
   ],
   "source": [
    "my_integer[0] = my_integer\n",
    "print(my_integer)\n",
    "\n",
    "from numpy import array\n",
    "my_integer = array([-2**15], dtype='int16')\n",
    "\n",
    "my_integer[0] = my_integer\n",
    "print(my_integer)"
   ]
  },
  {
   "cell_type": "markdown",
   "metadata": {
    "collapsed": false,
    "id": "UDLdCXeqNa6P"
   },
   "source": [
    "▶ **CHECKPOINT 1**"
   ]
  },
  {
   "cell_type": "markdown",
   "metadata": {
    "collapsed": false,
    "id": "miQNNGf8Na6P"
   },
   "source": [
    "## Subtractive cancellation\n",
    "\n",
    "The well-known *quadratic formula* says that the equation $ax^2 + bx + c = 0$ has solutions\n",
    "\n",
    "$$ x_{1, 2} = \\frac{-b \\pm \\sqrt{b^2 - 4ac}}{2a}.$$ \n",
    "\n",
    "However, multiplying numerator and denominator by $-b \\mp \\sqrt{b^2 - 4ac}$, we find that these can alternatively be expressed as\n",
    "\n",
    "$$ x'_{1,2} = \\frac{-2c}{b\\pm\\sqrt{b^2 - 4ac}}.$$\n",
    "\n",
    "**Write a program to calculate all four answers for given $a$, $b$, $c$. Your program should calculate the fractional differences $(x_1 - x_1')/x_1$ and $(x_2 - x_2')/x_2$.** \n",
    "\n",
    "(Remember that you can get a square root function from the `numpy` module: `from numpy import sqrt`.)"
   ]
  },
  {
   "cell_type": "code",
   "execution_count": 0,
   "metadata": {
    "cocalc": {
     "outputs": {
      "0": {
       "name": "input",
       "opts": {
        "password": false,
        "prompt": "a: "
       },
       "output_type": "stream",
       "value": "1"
      },
      "1": {
       "name": "input",
       "opts": {
        "password": false,
        "prompt": "b: "
       },
       "output_type": "stream",
       "value": "3"
      },
      "2": {
       "name": "input",
       "opts": {
        "password": false,
        "prompt": "c: "
       },
       "output_type": "stream",
       "value": "2"
      }
     }
    },
    "collapsed": false,
    "id": "dE7OBqhGNa6Q",
    "outputId": "0bbcb959-c968-4ace-fb49-4a6f9db57eda"
   },
   "outputs": [
    {
     "name": "stdout",
     "output_type": "stream",
     "text": "a:  1"
    },
    {
     "name": "stdout",
     "output_type": "stream",
     "text": "b:  3"
    },
    {
     "name": "stdout",
     "output_type": "stream",
     "text": "c:  2"
    },
    {
     "name": "stdout",
     "output_type": "stream",
     "text": [
      "x1:  -1.0\n",
      "x2:  -2.0\n",
      "x3:  -0.33333333333333326\n",
      "x4:  -2.333333333333333\n",
      "d1:  0.6666666666666667\n",
      "d2:  -0.16666666666666652\n"
     ]
    }
   ],
   "source": [
    "from numpy import *\n",
    "\n",
    "a = int(input('a: '))\n",
    "b = int(input('b: '))\n",
    "c = int(input('c: '))\n",
    "\n",
    "x1 = (-b+sqrt((b**2) - (4*a*c)))/(2*a)\n",
    "x2 = (-b-sqrt((b**2) - (4*a*c))) /(2*a)\n",
    "x3 = (-2*c)/b+sqrt((b**2) - 4*a*c)\n",
    "x4 = (-2*c)/b-sqrt((b**2) - 4*a*c)\n",
    "\n",
    "d1 = (x1 - x3)/x1\n",
    "d2 = (x2 - x4)/x2\n",
    "\n",
    "print('x1: ',x1)\n",
    "print('x2: ',x2)\n",
    "print('x3: ',x3)\n",
    "print('x4: ',x4)\n",
    "print('d1: ',d1)\n",
    "print('d2: ',d2)"
   ]
  },
  {
   "cell_type": "markdown",
   "metadata": {
    "collapsed": false,
    "id": "BNXMwjUqNa6Q"
   },
   "source": [
    "#### We will test your program on the equation with $a = b = 1$, $c = 10^{-n}$, $n = 1, 2, 3, \\dots$, or in other words\n",
    "\n",
    "$$ x^2 + x = -10^{-n}.$$\n",
    "\n",
    "In the limit where the right-hand side tends to zero, of course the solutions are $x_1 = 0$ and $x_2 = -1$. For small but non-zero $c$, we can make a good approximation by noting that, since $x_1$ will be very small, $x_1^2$ will be negligible; thus $x_1\\approx -10^{-n}$. Similarly, $x_2\\approx 1 - 10^{-n}$.\n",
    "\n",
    "**Test your program for $a = b = 1$, $c = 10^{-n}$, $n = 1, 2, 3, \\dots$.** \n",
    "- Can you explain your results? \n",
    "- Where the two formulae differ, which is the most accurate and why?\n",
    "\n",
    "It may be useful to compare results with the approximate solutions mentioned above (e.g., printing out for each value of c)."
   ]
  },
  {
   "cell_type": "code",
   "execution_count": 25,
   "metadata": {
    "collapsed": false,
    "id": "FLLlqUBDNa6Q",
    "outputId": "3f177504-df9d-4549-d2b8-91a8c25f29a9"
   },
   "outputs": [
    {
     "name": "stdout",
     "output_type": "stream",
     "text": [
      "c:  0.1\n",
      "n:  1\n",
      "x1:  -0.1127016653792583\n",
      "x2:  -0.8872983346207417\n",
      "x3:  -0.11270166537925831\n",
      "x4:  -0.8872983346207418\n",
      "d1:  -1.2313738010093803e-16\n",
      "d2:  -1.2512398381765246e-16\n",
      "---------\n",
      "c:  0.01\n",
      "n:  2\n",
      "x1:  -0.010102051443364402\n",
      "x2:  -0.9898979485566356\n",
      "x3:  -0.01010205144336438\n",
      "x4:  -0.9898979485566336\n",
      "d1:  2.0606390522189688e-15\n",
      "d2:  2.0187954195067675e-15\n",
      "---------\n",
      "c:  0.001\n",
      "n:  3\n",
      "x1:  -0.0010010020050140178\n",
      "x2:  -0.998998997994986\n",
      "x3:  -0.001001002005014042\n",
      "x4:  -0.9989989979950102\n",
      "d1:  -2.4261818200189522e-14\n",
      "d2:  -2.4227113325843282e-14\n",
      "---------\n",
      "c:  0.0001\n",
      "n:  4\n",
      "x1:  -0.00010001000200049459\n",
      "x2:  -0.9998999899979994\n",
      "x3:  -0.00010001000200050015\n",
      "x4:  -0.9998999899980551\n",
      "d1:  -5.5559804247986424e-14\n",
      "d2:  -5.562773686379538e-14\n",
      "---------\n",
      "c:  1e-05\n",
      "n:  5\n",
      "x1:  -1.0000100002016676e-05\n",
      "x2:  -0.9999899998999979\n",
      "x3:  -1.000010000200005e-05\n",
      "x4:  -0.9999899998983355\n",
      "d1:  1.6625396431390289e-12\n",
      "d2:  1.6624645818857782e-12\n",
      "---------\n",
      "c:  1e-06\n",
      "n:  6\n",
      "x1:  -1.000001000006634e-06\n",
      "x2:  -0.999998999999\n",
      "x3:  -1.000001000002e-06\n",
      "x4:  -0.999998999994366\n",
      "d1:  4.63390086225986e-12\n",
      "d2:  4.633964516452091e-12\n",
      "---------\n",
      "c:  1e-07\n",
      "n:  7\n",
      "x1:  -1.0000000999488279e-07\n",
      "x2:  -0.99999989999999\n",
      "x3:  -1.00000010000002e-07\n",
      "x4:  -0.9999999000511821\n",
      "d1:  -5.11921515863922e-11\n",
      "d2:  -5.119216674007823e-11\n",
      "---------\n",
      "c:  1e-08\n",
      "n:  8\n",
      "x1:  -1.0000000105758744e-08\n",
      "x2:  -0.9999999899999998\n",
      "x3:  -1.0000000100000004e-08\n",
      "x4:  -0.9999999894241257\n",
      "d1:  5.758740373823083e-10\n",
      "d2:  5.758741319217421e-10\n",
      "---------\n",
      "c:  1e-09\n",
      "n:  9\n",
      "x1:  -1.0000000272292198e-09\n",
      "x2:  -0.9999999989999999\n",
      "x3:  -1.0000000010000002e-09\n",
      "x4:  -0.999999972770781\n",
      "d1:  2.622921884213851e-08\n",
      "d2:  2.622921893416528e-08\n",
      "---------\n",
      "c:  1e-10\n",
      "n:  10\n",
      "x1:  -1.000000082740371e-10\n",
      "x2:  -0.9999999999\n",
      "x3:  -1.0000000001000001e-10\n",
      "x4:  -0.9999999172596359\n",
      "d1:  8.264036406351376e-08\n",
      "d2:  8.264036411569762e-08\n",
      "---------\n",
      "c:  1e-11\n",
      "n:  11\n",
      "x1:  -1.000000082740371e-11\n",
      "x2:  -0.99999999999\n",
      "x3:  -1.00000000001e-11\n",
      "x4:  -0.9999999172596358\n",
      "d1:  8.273036421476973e-08\n",
      "d2:  8.273036422672982e-08\n",
      "---------\n",
      "c:  1e-12\n",
      "n:  12\n",
      "x1:  -1.0000333894311098e-12\n",
      "x2:  -0.9999999999989999\n",
      "x3:  -1.000000000001e-12\n",
      "x4:  -0.9999666116837072\n",
      "d1:  3.338831529287212e-05\n",
      "d2:  3.338831529279282e-05\n",
      "---------\n",
      "c:  1e-13\n",
      "n:  13\n",
      "x1:  -1.000310945187266e-13\n",
      "x2:  -0.9999999999999\n",
      "x3:  -1.0000000000001001e-13\n",
      "x4:  -0.9996891514695885\n",
      "d1:  0.0003108485303114528\n",
      "d2:  0.00031084853031152274\n",
      "---------\n",
      "c:  1e-14\n",
      "n:  14\n",
      "x1:  -9.992007221626409e-15\n",
      "x2:  -0.99999999999999\n",
      "x3:  -1.00000000000001e-14\n",
      "x4:  -1.0007999171934436\n",
      "d1:  -0.000799917193453502\n",
      "d2:  -0.0007999171934536334\n",
      "---------\n",
      "c:  1e-15\n",
      "n:  15\n",
      "x1:  -9.992007221626409e-16\n",
      "x2:  -0.999999999999999\n",
      "x3:  -1.000000000000001e-15\n",
      "x4:  -1.0007999171934436\n",
      "d1:  -0.0007999171934446202\n",
      "d2:  -0.0007999171934446333\n",
      "---------\n",
      "c:  1e-16\n",
      "n:  16\n",
      "x1:  -1.1102230246251565e-16\n",
      "x2:  -0.9999999999999999\n",
      "x3:  -1.0000000000000001e-16\n",
      "x4:  -0.9007199254740992\n",
      "d1:  0.09928007452590071\n",
      "d2:  0.09928007452590072\n",
      "---------\n",
      "c is 0\n",
      "c is 0\n",
      "c is 0\n"
     ]
    }
   ],
   "source": [
    "from numpy import *\n",
    "\n",
    "a = 1\n",
    "b = a\n",
    "\n",
    "for i in range(20):\n",
    "    if i!= 0:\n",
    "        n = i\n",
    "        c = 10**(-n)\n",
    "        if (b-sqrt((b**2) - 4*a*c)) != 0:\n",
    "            x1 = (-b+sqrt((b**2) - (4*a*c)))/(2*a)\n",
    "            x2 = (-b-sqrt((b**2) - (4*a*c))) / (2*a)\n",
    "            x3 = (-2*c)/(b+sqrt((b**2) - 4*a*c))\n",
    "            x4 = (-2*c)/(b-sqrt((b**2) - 4*a*c))\n",
    "            #find a better condition\n",
    "            if x1 != 0:\n",
    "                d1 = (x1 - x3)/x1\n",
    "                d2 = (x2 - x4)/x2\n",
    "\n",
    "            print('c: ', c)\n",
    "            print('n: ', n)\n",
    "            print('x1: ',x1)\n",
    "            print('x2: ',x2)\n",
    "            print('x3: ',x3)\n",
    "            print('x4: ',x4)\n",
    "            print('d1: ',d1)\n",
    "            print('d2: ',d2)\n",
    "            print('---------')\n",
    "        else:\n",
    "            print('c is 0')"
   ]
  },
  {
   "cell_type": "markdown",
   "metadata": {
    "collapsed": false,
    "id": "uz0MNH3UNa6Q"
   },
   "source": [
    "**What would you expect to happen for the case $a = 1$, $b = -1$, $c = 10^{-n}$, $n = 1, 2, 3, \\dots$?** Make a prediction then use your program to test it."
   ]
  },
  {
   "cell_type": "markdown",
   "metadata": {
    "collapsed": false,
    "id": "Q7SvhsdbNa6Q"
   },
   "source": [
    "Write your prediction (here in the markup cell):  the signs will change due to the b having a sign change brought over the whole term, but the numbers will stay the same though the order they're displayed may change"
   ]
  },
  {
   "cell_type": "code",
   "execution_count": 22,
   "metadata": {
    "collapsed": false,
    "id": "0eH-hbP-Na6R"
   },
   "outputs": [
    {
     "name": "stdout",
     "output_type": "stream",
     "text": [
      "c:  0.1\n",
      "n:  1\n",
      "x1:  0.8872983346207417\n",
      "x2:  0.1127016653792583\n",
      "x3:  0.8872983346207418\n",
      "x4:  0.11270166537925831\n",
      "d1:  -1.2512398381765246e-16\n",
      "d2:  -1.2313738010093803e-16\n",
      "---------\n",
      "c:  0.01\n",
      "n:  2\n",
      "x1:  0.9898979485566356\n",
      "x2:  0.010102051443364402\n",
      "x3:  0.9898979485566336\n",
      "x4:  0.01010205144336438\n",
      "d1:  2.0187954195067675e-15\n",
      "d2:  2.0606390522189688e-15\n",
      "---------\n",
      "c:  0.001\n",
      "n:  3\n",
      "x1:  0.998998997994986\n",
      "x2:  0.0010010020050140178\n",
      "x3:  0.9989989979950102\n",
      "x4:  0.001001002005014042\n",
      "d1:  -2.4227113325843282e-14\n",
      "d2:  -2.4261818200189522e-14\n",
      "---------\n",
      "c:  0.0001\n",
      "n:  4\n",
      "x1:  0.9998999899979994\n",
      "x2:  0.00010001000200049459\n",
      "x3:  0.9998999899980551\n",
      "x4:  0.00010001000200050015\n",
      "d1:  -5.562773686379538e-14\n",
      "d2:  -5.5559804247986424e-14\n",
      "---------\n",
      "c:  1e-05\n",
      "n:  5\n",
      "x1:  0.9999899998999979\n",
      "x2:  1.0000100002016676e-05\n",
      "x3:  0.9999899998983355\n",
      "x4:  1.000010000200005e-05\n",
      "d1:  1.6624645818857782e-12\n",
      "d2:  1.6625396431390289e-12\n",
      "---------\n",
      "c:  1e-06\n",
      "n:  6\n",
      "x1:  0.999998999999\n",
      "x2:  1.000001000006634e-06\n",
      "x3:  0.999998999994366\n",
      "x4:  1.000001000002e-06\n",
      "d1:  4.633964516452091e-12\n",
      "d2:  4.63390086225986e-12\n",
      "---------\n",
      "c:  1e-07\n",
      "n:  7\n",
      "x1:  0.99999989999999\n",
      "x2:  1.0000000999488279e-07\n",
      "x3:  0.9999999000511821\n",
      "x4:  1.00000010000002e-07\n",
      "d1:  -5.119216674007823e-11\n",
      "d2:  -5.11921515863922e-11\n",
      "---------\n",
      "c:  1e-08\n",
      "n:  8\n",
      "x1:  0.9999999899999998\n",
      "x2:  1.0000000105758744e-08\n",
      "x3:  0.9999999894241257\n",
      "x4:  1.0000000100000004e-08\n",
      "d1:  5.758741319217421e-10\n",
      "d2:  5.758740373823083e-10\n",
      "---------\n",
      "c:  1e-09\n",
      "n:  9\n",
      "x1:  0.9999999989999999\n",
      "x2:  1.0000000272292198e-09\n",
      "x3:  0.999999972770781\n",
      "x4:  1.0000000010000002e-09\n",
      "d1:  2.622921893416528e-08\n",
      "d2:  2.622921884213851e-08\n",
      "---------\n",
      "c:  1e-10\n",
      "n:  10\n",
      "x1:  0.9999999999\n",
      "x2:  1.000000082740371e-10\n",
      "x3:  0.9999999172596359\n",
      "x4:  1.0000000001000001e-10\n",
      "d1:  8.264036411569762e-08\n",
      "d2:  8.264036406351376e-08\n",
      "---------\n",
      "c:  1e-11\n",
      "n:  11\n",
      "x1:  0.99999999999\n",
      "x2:  1.000000082740371e-11\n",
      "x3:  0.9999999172596358\n",
      "x4:  1.00000000001e-11\n",
      "d1:  8.273036422672982e-08\n",
      "d2:  8.273036421476973e-08\n",
      "---------\n",
      "c:  1e-12\n",
      "n:  12\n",
      "x1:  0.9999999999989999\n",
      "x2:  1.0000333894311098e-12\n",
      "x3:  0.9999666116837072\n",
      "x4:  1.000000000001e-12\n",
      "d1:  3.338831529279282e-05\n",
      "d2:  3.338831529287212e-05\n",
      "---------\n",
      "c:  1e-13\n",
      "n:  13\n",
      "x1:  0.9999999999999\n",
      "x2:  1.000310945187266e-13\n",
      "x3:  0.9996891514695885\n",
      "x4:  1.0000000000001001e-13\n",
      "d1:  0.00031084853031152274\n",
      "d2:  0.0003108485303114528\n",
      "---------\n",
      "c:  1e-14\n",
      "n:  14\n",
      "x1:  0.99999999999999\n",
      "x2:  9.992007221626409e-15\n",
      "x3:  1.0007999171934436\n",
      "x4:  1.00000000000001e-14\n",
      "d1:  -0.0007999171934536334\n",
      "d2:  -0.000799917193453502\n",
      "---------\n",
      "c:  1e-15\n",
      "n:  15\n",
      "x1:  0.999999999999999\n",
      "x2:  9.992007221626409e-16\n",
      "x3:  1.0007999171934436\n",
      "x4:  1.000000000000001e-15\n",
      "d1:  -0.0007999171934446333\n",
      "d2:  -0.0007999171934446202\n",
      "---------\n",
      "c:  1e-16\n",
      "n:  16\n",
      "x1:  0.9999999999999999\n",
      "x2:  1.1102230246251565e-16\n",
      "x3:  0.9007199254740992\n",
      "x4:  1.0000000000000001e-16\n",
      "d1:  0.09928007452590072\n",
      "d2:  0.09928007452590071\n",
      "---------\n",
      "c:  1e-17\n",
      "n:  17\n",
      "x1:  1.0\n",
      "x2:  0.0\n",
      "x3:  -inf\n",
      "x4:  1e-17\n",
      "d1:  0.09928007452590072\n",
      "d2:  0.09928007452590071\n",
      "---------\n",
      "c:  1e-18\n",
      "n:  18\n",
      "x1:  1.0\n",
      "x2:  0.0\n",
      "x3:  -inf\n",
      "x4:  1e-18\n",
      "d1:  0.09928007452590072\n",
      "d2:  0.09928007452590071\n",
      "---------\n",
      "c:  1e-19\n",
      "n:  19\n",
      "x1:  1.0\n",
      "x2:  0.0\n",
      "x3:  -inf\n",
      "x4:  1e-19\n",
      "d1:  0.09928007452590072\n",
      "d2:  0.09928007452590071\n",
      "---------\n"
     ]
    },
    {
     "name": "stderr",
     "output_type": "stream",
     "text": [
      "<ipython-input-22-2a87a035c7e4>:13: RuntimeWarning: divide by zero encountered in double_scalars\n",
      "  x3 = (-2*c)/(b+sqrt((b**2) - 4*a*c))\n"
     ]
    }
   ],
   "source": [
    "from numpy import *\n",
    "\n",
    "a = 1\n",
    "b = -1\n",
    "\n",
    "for i in range(20):\n",
    "    if i!= 0:\n",
    "        n = i\n",
    "        c = 10**(-n)\n",
    "\n",
    "        x1 = (-b+sqrt((b**2) - (4*a*c)))/(2*a)\n",
    "        x2 = (-b-sqrt((b**2) - (4*a*c))) / (2*a)\n",
    "        x3 = (-2*c)/(b+sqrt((b**2) - 4*a*c))\n",
    "        x4 = (-2*c)/(b-sqrt((b**2) - 4*a*c))\n",
    "        if x2 != 0:\n",
    "            d1 = (x1 - x3)/x1\n",
    "            d2 = (x2 - x4)/x2\n",
    "\n",
    "        print('c: ', c)\n",
    "        print('n: ', n)\n",
    "        print('x1: ',x1)\n",
    "        print('x2: ',x2)\n",
    "        print('x3: ',x3)\n",
    "        print('x4: ',x4)\n",
    "        print('d1: ',d1)\n",
    "        print('d2: ',d2)\n",
    "        print('---------')"
   ]
  },
  {
   "cell_type": "markdown",
   "metadata": {
    "collapsed": false,
    "id": "zjbl7nygNa6R"
   },
   "source": [
    "▶ **CHECKPOINT 2**"
   ]
  },
  {
   "cell_type": "markdown",
   "metadata": {
    "collapsed": false,
    "id": "QsgePu43Na6R"
   },
   "source": [
    "## Series summation\n",
    "\n",
    "We will write our own (Python) function to calculate the (mathematical) sine function. One obvious way is to evaluate the Taylor series:\n",
    "\n",
    "$$\n",
    "\\sin x = x - \\frac{x^3}{3!} + \\frac{x^5}{5!} - \\frac{x^7}{7!} + \\dots = \\sum_{n=1}^\\infty\\frac{(-1)^{n-1}x^{2n-1}}{(2n-1)!}\n",
    "$$\n",
    "\n",
    "A small trick will come in useful here. As $n$ gets larger (and we will certainly need to add lots of terms to get an accurate result!) it will take longer and longer to calculate both $x^{2n-1}$ and $(2n-1)!$. However, both of these are easy to calculate *given the previous term*. So the smart way to evaluate this series is to keep track of the previous term added, and then use a recursive relationship\n",
    "\n",
    "$$\n",
    "t_{n} = t_{n-1} \\times \\frac{-x^2}{(2n - 1)(2n - 2)}.\n",
    "$$\n",
    "\n",
    "**Check that you understand** how this works, then **write a function `sine_sum(x)`** to calculate $\\sin(x)$ by this method. You will need to make a sensible choice for when to stop adding terms: discuss this with your demonstrator if you're not sure."
   ]
  },
  {
   "cell_type": "code",
   "execution_count": 3,
   "metadata": {
    "colab": {
     "base_uri": "https://localhost:8080/"
    },
    "collapsed": false,
    "id": "jFrgoug7Na6R",
    "outputId": "63946d0f-2eb6-460c-f805-7171b825a37a"
   },
   "outputs": [
    {
     "data": {
      "text/plain": [
       "'\\nif abs(sum) > 0:\\n    MATHS\\nelse:\\n    sum = x\\nwhile abs(t) > 10e-10\\n'"
      ]
     },
     "execution_count": 3,
     "metadata": {
     },
     "output_type": "execute_result"
    }
   ],
   "source": [
    "from numpy import *\n",
    "import time\n",
    "\n",
    "def sine_sum(x):\n",
    "  n = 1\n",
    "  t = x\n",
    "  sum = x\n",
    "  '''\n",
    "  while n < 20:\n",
    "    if n == 01:\n",
    "      term = x\n",
    "      total = total + term\n",
    "    elif n == 1:\n",
    "      term = -(x**3)/(3*2*1)\n",
    "      total = total + term\n",
    "    elif n > 1:\n",
    "      prev_term = term\n",
    "      print('prev_term: ', prev_term)\n",
    "      term = prev_term * (-x**2)/(2*n-1)*(2*n-2)\n",
    "      total = total + term\n",
    "\n",
    "\n",
    "    print('n: ', n)\n",
    "    print('total: ', total)\n",
    "    print('term: ', term)\n",
    "    print('---------------')\n",
    "    \n",
    "    n = n + 1\n",
    "    '''\n",
    "  for n in range(2,100):\n",
    "      t = t * (-x**2)/((2*n-1)*(2*n-2))\n",
    "      sum = sum + t\n",
    "\n",
    "  return sum\n",
    "\n",
    "sine_sum(0.1)\n",
    "'''\n",
    "if abs(sum) > 0:\n",
    "    MATHS\n",
    "else:\n",
    "    sum = x\n",
    "while abs(t) > 10e-10\n",
    "'''"
   ]
  },
  {
   "cell_type": "markdown",
   "metadata": {
    "collapsed": false,
    "id": "lfe7DR20Na6T"
   },
   "source": [
    "With care, it is not difficult to write functions that can cope with `array` arguments. However, there is a \"cheat\" way to do this automatically, using the `vectorize` function from `numpy`:"
   ]
  },
  {
   "cell_type": "code",
   "execution_count": 7,
   "metadata": {
    "collapsed": false,
    "id": "x9leSh3uNa6T"
   },
   "outputs": [
   ],
   "source": [
    "from numpy import vectorize\n",
    "sine_sum = vectorize(sine_sum)"
   ]
  },
  {
   "cell_type": "markdown",
   "metadata": {
    "collapsed": false,
    "id": "YDX3EWXaNa6T"
   },
   "source": [
    "Now you can call `sine_sum()` on an array in the same way as you can on the library `sin()` function. This lets us plot this function very easily. \n",
    "\n",
    "(Advanced Python note: if you know in advance you are going to do this, you can use the *decorator* syntax:\n",
    "\n",
    "    from numpy import vectorize\n",
    "    \n",
    "    @vectorize\n",
    "    def sine_sum(x):\n",
    "        #... function definition goes here\n",
    "\n",
    "This does the same thing as calling `sine_sum = vectorize(sine_sum)` after the event as we’ve done here.)\n",
    "\n",
    "**Complete the following code** to plot both your function and the library one. "
   ]
  },
  {
   "cell_type": "code",
   "execution_count": 8,
   "metadata": {
    "colab": {
     "base_uri": "https://localhost:8080/",
     "height": 306
    },
    "collapsed": false,
    "id": "hZaqWcmQNa6T",
    "outputId": "5bd7509a-75f1-49b6-e3d5-62ec5e38bb47"
   },
   "outputs": [
    {
     "data": {
      "text/plain": [
       "[<matplotlib.lines.Line2D at 0x7f1fe1a11d60>,\n",
       " <matplotlib.lines.Line2D at 0x7f1fe19cd0d0>]"
      ]
     },
     "execution_count": 8,
     "metadata": {
     },
     "output_type": "execute_result"
    },
    {
     "data": {
      "image/png": "[encoded data removed]",
      "text/plain": [
       "<Figure size 432x288 with 1 Axes>"
      ]
     },
     "execution_count": 8,
     "metadata": {
      "image/png": {
       "height": 252,
       "width": 380
      },
      "needs_background": "light"
     },
     "output_type": "execute_result"
    }
   ],
   "source": [
    "%matplotlib inline\n",
    "from pylab import plot, grid, xlim, ylim, sin, linspace\n",
    "\n",
    "x = linspace(-3, 40, 1000) # choose some appropriate values here\n",
    "grid()\n",
    "ylim(-2,2)\n",
    "y_series = sine_sum(x)\n",
    "y_library = sin(x)\n",
    "\n",
    "plot(x, y_series, x, y_library) # The plot command can take as many x, y pairs as you like.\n",
    "                                # Note that we do need to repeat x here since this array represents\n",
    "                                # the x values of two different lines on the plot.\n",
    "\n",
    "# you might like to set the x and y limits using the xlim and ylim functions, or to apply a grid.\n",
    "# e.g., ylim(-2, 2) will set the y range to run from -2 to 2."
   ]
  },
  {
   "cell_type": "markdown",
   "metadata": {
    "collapsed": false,
    "id": "kSzKMgAmNa6U"
   },
   "source": [
    "- When does your function start to diverge noticeably from the library one? \n",
    "- Can you explain why it eventually stops behaving as well as the library function? \n",
    "- Can you think of a way to fix this problem? (*Hint*: consider the periodicity of the $\\sin$ function.)"
   ]
  },
  {
   "cell_type": "markdown",
   "metadata": {
    "collapsed": false
   },
   "source": [
   ]
  },
  {
   "cell_type": "code",
   "execution_count": 12,
   "metadata": {
    "colab": {
     "base_uri": "https://localhost:8080/",
     "height": 136
    },
    "collapsed": false,
    "id": "pS3ez29nNa6U",
    "outputId": "bb65ddb6-6f42-4cca-e2b6-194f7831171f"
   },
   "outputs": [
    {
     "ename": "SyntaxError",
     "evalue": "ignored",
     "output_type": "error",
     "traceback": [
      "\u001b[0;36m  File \u001b[0;32m\"<ipython-input-12-0bafb4912f63>\"\u001b[0;36m, line \u001b[0;32m1\u001b[0m\n\u001b[0;31m    idk bro\u001b[0m\n\u001b[0m          ^\u001b[0m\n\u001b[0;31mSyntaxError\u001b[0m\u001b[0;31m:\u001b[0m invalid syntax\n"
     ]
    }
   ],
   "source": [
   ]
  },
  {
   "cell_type": "markdown",
   "metadata": {
    "collapsed": false,
    "id": "9oRoE7I9Na6U"
   },
   "source": [
    "▶ **CHECKPOINT 3**"
   ]
  }
 ],
 "metadata": {
  "colab": {
   "name": "Lab03-Numerical-Error-20B.ipynb",
   "provenance": [
   ]
  },
  "kernelspec": {
   "display_name": "Python 3 (Ubuntu Linux)",
   "language": "python",
   "name": "python3-ubuntu",
   "resource_dir": "/usr/local/share/jupyter/kernels/python3-ubuntu"
  },
  "language_info": {
   "codemirror_mode": {
    "name": "ipython",
    "version": 3
   },
   "file_extension": ".py",
   "mimetype": "text/x-python",
   "name": "python",
   "nbconvert_exporter": "python",
   "pygments_lexer": "ipython3",
   "version": "3.8.2"
  }
 },
 "nbformat": 4,
 "nbformat_minor": 4
}