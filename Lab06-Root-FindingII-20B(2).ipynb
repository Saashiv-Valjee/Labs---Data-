{
 "cells": [
  {
   "cell_type": "markdown",
   "metadata": {
    "collapsed": false
   },
   "source": [
    "# Lab 6: Root finding (2)\n",
    "\n",
    "In this lab we will continue our study of root-finding methods, now considering the famous Newton-Raphson algorithm (this is sometimes just called 'Newton's Method'. This requires that we know the function's derivative; we can either specify this by hand or use the differentiation algorithms from Lab 5.\n",
    "\n",
    "**Please enter your name and student number in the markdown cell below** then press `Shift` + `Enter`."
   ]
  },
  {
   "cell_type": "markdown",
   "metadata": {
    "collapsed": false
   },
   "source": [
    "* Name:    **YOUR NAME HERE**\n",
    "* SID:     **YOUR STUDENT NUMBER**"
   ]
  },
  {
   "attachments": {
   },
   "cell_type": "markdown",
   "metadata": {
    "collapsed": false
   },
   "source": [
    "\n",
    "\n",
    "## The Newton-Raphson method: basics\n",
    "\n",
    "Recall that the Newton-Raphson algorithm involves linearising the function at some guess $x_0$ – that is, we follow the *derivative* down to the $x$-axis rather than the function itself:\n",
    "\n",
    "![newton.png](attachment:newton.png)\n",
    "\n",
    "Mathematically, \n",
    "$$\n",
    "x_{n+1} = x_n - \\frac{f(x_n)}{f'(x_n)}.\n",
    "$$\n",
    "\n",
    "**Write a function `newton_step(f, fp, x0)` to calculate the next step** (*i.e.*, it returns $x_1$) **from the Newton-Raphson algorithm**, given function `f` and its derivative `fp` (“f prime”) and starting value `x0`."
   ]
  },
  {
   "cell_type": "code",
   "execution_count": 4,
   "metadata": {
    "collapsed": false
   },
   "outputs": [
    {
     "name": "stdout",
     "output_type": "stream",
     "text": [
      "1.6421033176027842\n"
     ]
    }
   ],
   "source": [
    "from numpy import *\n",
    "\n",
    "\n",
    "def derivative(f, a, h=0.01):\n",
    "    return (f(a + h) - f(a - h)) / (2 * h)\n",
    "\n",
    "\n",
    "def newton(f, x0):\n",
    "    return x0 - f(x0) / derivative(f, x0)\n",
    "\n",
    "\n",
    "print(newton(cos, 1))"
   ]
  },
  {
   "cell_type": "markdown",
   "metadata": {
    "collapsed": false
   },
   "source": [
    "As a test, let's use this to calculate $\\sqrt{2}$. **Define two (Python) functions** corresponding to the mathematical functions $f(x) = x^2 - 2$ and its derivative $f'(x) = 2x$. Then **choose a suitable starting guess** and **write a loop to call your Newton-Raphson function until it has converged** – say, until $x_n$ and $x_{n+1}$ differ by less than a small number $\\epsilon = 10^{-8}$.\n",
    "\n",
    "**Check your result** by confirming the value of the function at your root (i.e., is $f(x_{n+1})$ close to zero, or in this case is $x_{n+1}$ close to $\\sqrt{2}$). **How many iterations were necessary?**  It can be useful to write your code to automatically count the number of iterations.\n",
    "\n",
    "**Code defensively** - In the event the method fails and continues to iterate indefinitely, it can be helpful to set an upper limit on the number of iterations allowed (e.g., 35).  This prevents the code from iterating without end if it should fail or contain a mistake.  In this sense the stopping criteria are:\n",
    "\n",
    "$$|x_{n+1} - x_{n}| < \\epsilon $$\n",
    "or \n",
    "the number of iterations exceeds some number `Nitermax`\n",
    "\n",
    "It can be useful to check your final result if it converged successfully or exceeded the allowed number of iterations and print useful feedback.\n",
    "\n",
    "Since we'll be using these values repeatedly it is useful to store them in variables with meaningful names.  We can then easily change them as needed (e.g., for lower/higher precision or higher/lower number of iterations.)"
   ]
  },
  {
   "cell_type": "code",
   "execution_count": 138,
   "metadata": {
    "collapsed": false
   },
   "outputs": [
    {
     "name": "stdout",
     "output_type": "stream",
     "text": [
      "initial guess:  1\n",
      "-------\n",
      "x:  1.5\n",
      "iteration:  1\n",
      "f(x):  0.25\n",
      "fp(x):  3.0\n",
      "--------\n",
      "x:  1.4166666666666667\n",
      "iteration:  2\n",
      "f(x):  0.006944444444444642\n",
      "fp(x):  2.8333333333333335\n",
      "--------\n",
      "x:  1.4142156862745099\n",
      "iteration:  3\n",
      "f(x):  6.007304882871267e-06\n",
      "fp(x):  2.8284313725490198\n",
      "--------\n",
      "x:  1.4142135623746899\n",
      "iteration:  4\n",
      "f(x):  4.510614104447086e-12\n",
      "fp(x):  2.8284271247493797\n",
      "--------\n",
      "x:  1.4142135623730951\n",
      "iteration:  5\n",
      "f(x):  4.440892098500626e-16\n",
      "fp(x):  2.8284271247461903\n",
      "--------\n",
      "initial guess:  2\n",
      "x:  10.05\n",
      "iteration:  1\n",
      "f(x):  99.00250000000001\n",
      "fp(x):  20.1\n",
      "--------\n",
      "x:  5.124502487562189\n",
      "iteration:  2\n",
      "f(x):  24.260525745031067\n",
      "fp(x):  10.249004975124379\n",
      "--------\n",
      "x:  2.7573921384195743\n",
      "iteration:  3\n",
      "f(x):  5.603211405018073\n",
      "fp(x):  5.514784276839149\n",
      "--------\n",
      "x:  1.741357580449592\n",
      "iteration:  4\n",
      "f(x):  1.0323262229892571\n",
      "fp(x):  3.482715160899184\n",
      "--------\n",
      "x:  1.444943381958916\n",
      "iteration:  5\n",
      "f(x):  0.08786137706686947\n",
      "fp(x):  2.889886763917832\n",
      "--------\n",
      "x:  1.4145403301286927\n",
      "iteration:  6\n",
      "f(x):  0.0009243455605911777\n",
      "fp(x):  2.8290806602573855\n",
      "--------\n",
      "x:  1.4142136001158032\n",
      "iteration:  7\n",
      "f(x):  1.0675250106118028e-07\n",
      "fp(x):  2.8284272002316064\n",
      "--------\n",
      "x:  1.4142135623730956\n",
      "iteration:  8\n",
      "f(x):  1.3322676295501878e-15\n",
      "fp(x):  2.828427124746191\n",
      "--------\n"
     ]
    },
    {
     "data": {
      "image/png": "[encoded data removed]",
      "text/plain": [
       "<Figure size 432x288 with 1 Axes>"
      ]
     },
     "execution_count": 138,
     "metadata": {
      "image/png": {
       "height": 261,
       "width": 385
      },
      "needs_background": "light"
     },
     "output_type": "execute_result"
    }
   ],
   "source": [
    "from numpy import *\n",
    "import matplotlib.pyplot as plt\n",
    "%matplotlib inline\n",
    "\n",
    "def f(x):\n",
    "    return x ** 2 - 2\n",
    "\n",
    "\n",
    "def fp(x):\n",
    "    return 2 * x\n",
    "\n",
    "\n",
    "def newton(f, fp, x0):\n",
    "    return x0 - f(x0) / fp(x0)\n",
    "\n",
    "\n",
    "x = 1  # initial guess\n",
    "n = 1\n",
    "epsilon = 1e-12\n",
    "print('initial guess: ', x)\n",
    "print('-------')\n",
    "while abs(f(x)) > epsilon:\n",
    "    x = newton(f, fp, x)\n",
    "    print('x: ', x )\n",
    "    print('iteration: ', n)\n",
    "    print('f(x): ', f(x))\n",
    "    print('fp(x): ', fp(x))\n",
    "    print('--------')\n",
    "    n = n + 1\n",
    "    if n > 100:\n",
    "        break\n",
    "\n",
    "x = 20  # initial guess\n",
    "n = 1\n",
    "epsilon = 1e-12\n",
    "print('initial guess: ', 2)\n",
    "while abs(f(x)) > epsilon:\n",
    "    x = newton(f, fp, x)\n",
    "    print('x: ', x )\n",
    "    print('iteration: ', n)\n",
    "    print('f(x): ', f(x))\n",
    "    print('fp(x): ', fp(x))\n",
    "    print('--------')\n",
    "    n = n + 1\n",
    "    if n > 100:\n",
    "        break\n",
    "        \n",
    "        \n",
    "x = linspace(-12, 12, 10000)\n",
    "y = f(x)\n",
    "plt.xlabel('$x$')  # note the use of dollar signs for LaTeX-like maths syntax\n",
    "plt.ylabel('$x^2-2$')\n",
    "plt.scatter(x, y, s=0.3)  # the s option here gives the size of the symbol\n",
    "plt.ylim(-5, 5)\n",
    "plt.grid()\n",
    "plt.show()\n",
    "\n",
    "'''\n",
    "x = 4\n",
    "print(x)\n",
    "eps = 10**-8\n",
    "x_new = newton(f,fp,x)\n",
    "\n",
    "n = 1\n",
    "while abs(x_new - x) > eps:\n",
    "    x = newton(f,fp,x)\n",
    "    x_new = newton(f,fp,x)\n",
    "    print(x)\n",
    "    n = n + 1\n",
    "    if n > 100:\n",
    "        n = 0\n",
    "        print('reached 100 iterations')\n",
    "        break\n",
    "'''"
   ]
  },
  {
   "cell_type": "markdown",
   "metadata": {
    "collapsed": false
   },
   "source": [
    "**Reminder - with numerical root finding it is always a good idea to get a sense of the function before trying to find its roots.**  This can be done simply by inspection (e.g., the simple example above) or by plotting the function.   Plotting can be useful as it illustrates all the local features that affect the behaviour of the numerical method (e.g., inflection points, local extrema, asymptotes, divergences, ... etc).\n",
    "\n",
    "Let's investigate how convergence depends on the starting guess. What happens if you start with a guess that is further away? **Try some different starting guesses and come to a conclusion about how dependent the answer we get is on the starting point. Can you explain your results?** (Suggested guesses to try: $10^5$; $-1$; $0$; small values near 0;....). \n",
    "\n",
    "Try to predict how the algorithm will function with an initial guess.  Then explain what is happening.\n",
    "\n",
    "Some things that might help you interpret your results include, plotting the function, printing values of $x_{i}, f(x_{i}), f'(x_{i})$ for each iteration.\n",
    "\n",
    "Include your code and results for different initial guesses in separate markdown cells. >>>>>>>>!!!!!!!!!this is done in the cell above!!!!!!!!!<<<<<<<<<<<<<\n",
    "\n",
    "\n",
    "Finally, edit the markdown cell below to add new results for different initial guesses to the table.\n",
    "\n",
    "Include your explanation.\n"
   ]
  },
  {
   "cell_type": "markdown",
   "metadata": {
    "collapsed": false
   },
   "source": [
    "## Solving Roots of f(x)\n",
    "| Initial Guess ($x_o$)  | Number of iterations |  Root Found  | Comment |\n",
    "|----|----|----|----|\n",
    "| 1   |   5  |  sqrt(2)   |  works as it should, converges at root sqrt(2)  |\n",
    "| 1e5 |  21   |  sqrt(2)   |  works as it should, takes slightly longer then 1  |\n",
    "|  0 |  0   |  N/A   |  division by 0 error  |\n",
    "| 1e-5  |  31   |  sqrt(2)   |  takes longer then 1e+5  |\n",
    "|  ...  |     |     |    |\n"
   ]
  },
  {
   "cell_type": "markdown",
   "metadata": {
    "collapsed": false
   },
   "source": [
    "▶ **CHECKPOINT 1**\n",
    "\n",
    "## A trickier example\n",
    "\n",
    "Let's try a more interesting function. We saw in the very first lecture that, in quantum mechanics, the energies available to a particle trapped in a finite well are given by the solutions of equations similar to $\\tan(x) = x$. **Use the Newton-Raphson method to find all solutions to this equation in the range $0 \\leq x \\leq 10$.** \n",
    "\n",
    "*Hint*: You will need to rearrange the equation into the form $g(x) = 0$ for some $g(x)$. You may find it helpful to plot this function first.\n",
    "\n",
    "*Hint 2*: The derivative of $\\tan(x)$ is $\\sec^2(x)$. The `numpy` module does *not* contain a secant function, so you may want to define your own (recalling that $\\sec(x) = 1/\\cos(x)$).\n",
    "\n",
    "*Hint 3*:  It can be helpful to plot the function to identify regions where roots exist, to choose initial guesses and interpret your results. A scatter plot with lots of points can help illustrate plot features here."
   ]
  },
  {
   "cell_type": "code",
   "execution_count": 2,
   "metadata": {
    "collapsed": false
   },
   "outputs": [
    {
     "data": {
      "image/png": "[encoded data removed]",
      "text/plain": [
       "<Figure size 432x288 with 1 Axes>"
      ]
     },
     "execution_count": 2,
     "metadata": {
      "image/png": {
       "height": 261,
       "width": 385
      },
      "needs_background": "light"
     },
     "output_type": "execute_result"
    }
   ],
   "source": [
    "%matplotlib inline\n",
    "import matplotlib.pyplot as plt\n",
    "from numpy import *\n",
    "\n",
    "def g(x):\n",
    "    return (tan(x) - x)\n",
    "\n",
    "def gp(x):\n",
    "    return ((1/cos(x))**2 - 1)\n",
    "\n",
    "\n",
    "x = linspace(-12, 12, 10000)\n",
    "y = g(x)\n",
    "plt.xlabel('$x$')         # note the use of dollar signs for LaTeX-like maths syntax\n",
    "plt.ylabel('$tan(x)-x$')\n",
    "plt.scatter(x, y, s=0.3)  # the s option here gives the size of the symbol\n",
    "plt.ylim(-5,5)\n",
    "plt.grid()"
   ]
  },
  {
   "cell_type": "code",
   "execution_count": 3,
   "metadata": {
    "collapsed": false
   },
   "outputs": [
    {
     "name": "stdout",
     "output_type": "stream",
     "text": [
      "0.004656155208204482\n",
      "1.9107891175801253e+59\n",
      "3.3594418915251e+65\n",
      "7.226155715831119e+67\n",
      "1.656656197305363e+51\n",
      "3.4474462093098826e+64\n",
      "3.8031161529696806e+58\n",
      "10.904121659510574\n",
      "1.542708958973325e+60\n",
      "3.382128111129229e+71\n",
      "----------\n",
      "4.493409457909247 4\n"
     ]
    },
    {
     "data": {
      "image/png": "[encoded data removed]",
      "text/plain": [
       "<Figure size 864x504 with 1 Axes>"
      ]
     },
     "execution_count": 3,
     "metadata": {
      "image/png": {
       "height": 424,
       "width": 720
      },
      "needs_background": "light"
     },
     "output_type": "execute_result"
    }
   ],
   "source": [
    "from numpy import *\n",
    "import matplotlib.pyplot as plt\n",
    "\n",
    "\n",
    "def f(x):\n",
    "    return tan(x) - x\n",
    "\n",
    "\n",
    "def fp(x):\n",
    "    return (1 / cos(x)) ** 2 - 1\n",
    "\n",
    "\n",
    "def newton(f, fp, x0):\n",
    "    return x0 - (f(x0) / fp(x0))\n",
    "\n",
    "for x in range(1,11):\n",
    "    initial = x\n",
    "    #x = 1\n",
    "    n = 1\n",
    "    epsilon = 1e-7\n",
    "    while abs(f(x)) > epsilon and n < 100:\n",
    "        x = newton(f,fp,x)\n",
    "        n = n + 1\n",
    "    print(x)\n",
    "print('----------')\n",
    "\n",
    "\n",
    "x = 4.5\n",
    "n = 1\n",
    "epsilon = 1e-7\n",
    "while abs(f(x)) > epsilon and n < 100:\n",
    "    x = newton(f,fp,x)\n",
    "    n = n + 1\n",
    "print(x, n)\n",
    "\n",
    "\n",
    "x = linspace(0, 10, 10000)\n",
    "y1 = f(x)\n",
    "y2 = fp(x)\n",
    "plt.xlabel('$x$')  # note the use of dollar signs for LaTeX-like maths syntax\n",
    "plt.ylabel('$tan(x)-x$')\n",
    "plt.scatter(x, y1, s=0.3)\n",
    "plt.scatter(x, y2, s=0.3)# the s option here gives the size of the symbol\n",
    "plt.ylim(-5, 5)\n",
    "plt.grid()\n",
    "plt.show()\n"
   ]
  },
  {
   "cell_type": "markdown",
   "metadata": {
    "collapsed": false
   },
   "source": [
    "**Explore carefully for which starting guesses the Newton-Raphson converges, to which solution, and in how many iterations.**\n",
    "\n",
    "(Suggested guesses to try: 0.1, 4, 4.5, 8,...   but you should try other ones too) - edit this cell and summarise your results in the table below.\n",
    "\n",
    "| Initial Guess ($x_o$)  | Number of iterations |  Root Found  | Comment |\n",
    "|----|----|----|----|\n",
    "| 0.1   | as many as it wants, related to comment & epsilon  |  kinda 0  |  approaches 0 based on epsilon, decrease epsilon for root closer to 0, due to curve at x almost = 0  |\n",
    "| 4.5 | 4  |  4.493409457909247  |  i was testing just 4 for 5 days and expected this root but it comes up with 4.5 instead... i thought my code was broken for almost a week i hate life hahahahahahahahahaha  |\n",
    "| 8   | 7  | 10.904121659510574   |   expected |\n",
    "| 4 | 100  |  7.226155715831119e+67  |   wtf |\n",
    "|... | | | |\n",
    "\n"
   ]
  },
  {
   "cell_type": "markdown",
   "metadata": {
    "collapsed": false
   },
   "source": [
    "▶ **CHECKPOINT 2**"
   ]
  },
  {
   "cell_type": "markdown",
   "metadata": {
    "collapsed": false
   },
   "source": [
    "## Using numerical derivatives\n",
    "\n",
    "Of course, sometimes it is inconvenient to program in the derivative of the function we're exploring. Fortunately, last lab we have seen how to calculate the derivative numerically. I have copied below our central-difference function from that lab, setting the default value of the step size $h$ to $10^{-5}$. \n",
    "\n",
    "(Why did we choose $h=10^{-5}$? See the error plot in the last lab.)"
   ]
  },
  {
   "cell_type": "code",
   "execution_count": 3,
   "metadata": {
    "collapsed": false
   },
   "outputs": [
    {
     "name": "stdout",
     "output_type": "stream",
     "text": [
      "initial x: 1\n",
      "final root: 0.023568765865397016\n",
      "iterations: 10\n",
      "------\n",
      "initial x: 2\n",
      "root was infinity for inital x value: 2\n",
      "iterations: 32\n",
      "------\n",
      "initial x: 3\n",
      "root was infinity for inital x value: 3\n",
      "iterations: 17\n",
      "------\n",
      "initial x: 4\n",
      "root was infinity for inital x value: 4\n",
      "iterations: 19\n",
      "------\n",
      "initial x: 5\n",
      "root was infinity for inital x value: 5\n",
      "iterations: 25\n",
      "------\n",
      "initial x: 6\n",
      "root was infinity for inital x value: 6\n",
      "iterations: 14\n",
      "------\n",
      "initial x: 7\n",
      "root was infinity for inital x value: 7\n",
      "iterations: 17\n",
      "------\n",
      "initial x: 8\n",
      "final root: 10.904121659510583\n",
      "iterations: 6\n",
      "------\n",
      "initial x: 9\n",
      "root was infinity for inital x value: 9\n",
      "iterations: 15\n",
      "------\n",
      "initial x: 10\n",
      "root was infinity for inital x value: 10\n",
      "iterations: 13\n",
      "------\n"
     ]
    },
    {
     "name": "stderr",
     "output_type": "stream",
     "text": [
      "<ipython-input-3-b277ecd1eb53>:15: RuntimeWarning: divide by zero encountered in double_scalars\n",
      "  return x0 - (f(x0) / CD(f, x0))\n",
      "<ipython-input-3-b277ecd1eb53>:7: RuntimeWarning: invalid value encountered in tan\n",
      "  return tan(x) - x\n"
     ]
    }
   ],
   "source": [
    "def CD(f, x, h=1e-5):\n",
    "    \"\"\"Estimate the derivative f'(x) using the central difference algorithm with step size h.\"\"\"\n",
    "    return (f(x + h/2) - f(x - h/2))/h\n",
    "\n",
    "\n",
    "def f(x):\n",
    "    return tan(x) - x\n",
    "\n",
    "\n",
    "def newton(f, fp, x0):\n",
    "    return x0 - (f(x0) / fp(x0))\n",
    "\n",
    "\n",
    "def newton_CD_step(f,x0):\n",
    "    return x0 - (f(x0) / CD(f, x0))\n",
    "\n",
    "for i in range(1,11):\n",
    "    print('initial x:', i)\n",
    "    x = newton_CD_step(f,i)\n",
    "    n = 1\n",
    "    while abs(f(x)) > 1e-5 and n < 100:\n",
    "        x = newton_CD_step(f,x)\n",
    "        n = n + 1\n",
    "    if x == inf:\n",
    "            print('root was infinity for inital x value:', i)\n",
    "    else:\n",
    "            print('final root:', x)\n",
    "    print('iterations:', n)\n",
    "    print('------')"
   ]
  },
  {
   "cell_type": "markdown",
   "metadata": {
    "collapsed": false
   },
   "source": [
    "**Write a revised function `newton_CD_step(f, x0)` to perform one step of the Newton-Raphson algorithm, this time using the derivative from the `CD()` function.**\n",
    "\n",
    "**Can you find the same roots using this method as you did using the exact derivative?**\n",
    "\n",
    "▶ **CHECKPOINT 3**"
   ]
  }
 ],
 "metadata": {
  "kernelspec": {
   "display_name": "Python 3 (Ubuntu Linux)",
   "language": "python",
   "name": "python3-ubuntu",
   "resource_dir": "/usr/local/share/jupyter/kernels/python3-ubuntu"
  },
  "language_info": {
   "codemirror_mode": {
    "name": "ipython",
    "version": 3
   },
   "file_extension": ".py",
   "mimetype": "text/x-python",
   "name": "python",
   "nbconvert_exporter": "python",
   "pygments_lexer": "ipython3",
   "version": "3.8.2"
  }
 },
 "nbformat": 4,
 "nbformat_minor": 4
}