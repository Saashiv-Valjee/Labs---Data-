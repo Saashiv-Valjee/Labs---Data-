{
 "cells": [
  {
   "cell_type": "markdown",
   "metadata": {
    "collapsed": false
   },
   "source": [
    "# Lab 1: Revision of Python, Introduction to Jupyter Notebooks\n",
    "\n",
    "The aim of this lab is to revise some basics of Python programming, including importing from modules, functions, loops, lists, tuples, and dicts. We'll also introduce a few useful syntactic features. And you'll also have plenty of chance to practice working within a Jupyter notebook.\n",
    "\n",
    "In this and in every lab script, **instructions that you should follow are in bold**. Occasionally there will be *checkpoints*, indicated by the symbol &#9654;. At these points you will be ready to discuss what you have learned with a demonstrator. Once they are satisfied that you understand the concept or code you have been working on, they will award you a point towards your continuous assessment.\n",
    "\n",
    "**Please enter your name and student number in the markdown cell below** then press `Shift` + `Enter`."
   ]
  },
  {
   "cell_type": "markdown",
   "metadata": {
    "collapsed": false
   },
   "source": [
    "* Name:Saashiv Valjee\n",
    "* SID:190288688 (please have checked through once more, for reassurance)"
   ]
  },
  {
   "cell_type": "markdown",
   "metadata": {
    "collapsed": false
   },
   "source": [
    "## Jupyter\n",
    "\n",
    "Jupyter notebooks are a user-friendly way of running snippets of code and displaying text or graphical results: it's easy to edit your code or to share the results. They are a very convenient way to do initial exploration of a data set or algorithm, although they are *not* necessarily the best way of running a completed program. All of the computer labs will be Jupyter notebooks, and this is also the format in which we would like you to hand in your reports.\n",
    "\n",
    "The editable boxes you can type code into are called *cells*. To evaluate a cell, simply make sure that the cursor is in the cell (you may need to double-click it) then press `Shift` + `Enter`. As an example, **enter a simple arithmetic operation, say `2 + 2`, into the cell below, and evaluate it:**"
   ]
  },
  {
   "cell_type": "code",
   "execution_count": 1,
   "metadata": {
    "collapsed": false
   },
   "outputs": [
    {
     "data": {
      "text/plain": [
       "4"
      ]
     },
     "execution_count": 1,
     "metadata": {
     },
     "output_type": "execute_result"
    }
   ],
   "source": [
    "2+2"
   ]
  },
  {
   "cell_type": "markdown",
   "metadata": {
    "collapsed": false
   },
   "source": [
    "You will see that this cell now has a number, like `In [1]`, so that you can refer back to it. Jupyter will display the result of the final calculation in a cell: the output from this one, `Out[1]: 4`, will now be displayed beneath it. And your cursor will have been moved forward to the next cell.\n",
    "\n",
    "(You can also type `Ctrl` + `Enter` to run the cell and keep the cursor inside it – perhaps for more editing – or `Alt` + `Enter` to run the cell and insert a new one beneath it. These and many other commands can be found in the *command palette* by clicking the keyboard icon at the top of the page.)\n",
    "\n",
    "You can type more than a single line into a cell. For instance, consider the simple program below. This calculates the distance that an object, initially at rest, falls under gravitational acceleration in a given time $t$, according to $s = \\frac{1}{2}gt^2$. **Evaluate this cell:**"
   ]
  },
  {
   "cell_type": "code",
   "execution_count": 3,
   "metadata": {
    "collapsed": false
   },
   "outputs": [
    {
     "name": "stdout",
     "output_type": "stream",
     "text": [
      "1962.0\n"
     ]
    }
   ],
   "source": [
    "g = 9.81 # acceleration due to gravity, in m.s^-1\n",
    "t = 20   # time in seconds\n",
    "\n",
    "s = 0.5*g*t**2 # remember that exponentiation is represented in Python by **\n",
    "\n",
    "print(s)"
   ]
  },
  {
   "cell_type": "markdown",
   "metadata": {
    "collapsed": false
   },
   "source": [
    "Note that we didn't have to declare the variables `g`, `t`, or `s` in advance: these \"labels\" are simply created for us by Python when we start using them.\n",
    "\n",
    "Now choose a different time, say $t = 20$. **Edit the cell above, evaluate it, and confirm that the program prints the correct answer `1962.0`.**"
   ]
  },
  {
   "cell_type": "markdown",
   "metadata": {
    "collapsed": false
   },
   "source": [
    "To annotate your code, you will also need to be able to edit text boxes like these. **Select the cell below and use the drop-down menu at the top of the page to change its type to \"Markdown\". Type in your name and evaluate the cell.**"
   ]
  },
  {
   "cell_type": "markdown",
   "metadata": {
    "collapsed": false
   },
   "source": [
    "Saashiv Valjee"
   ]
  },
  {
   "cell_type": "markdown",
   "metadata": {
    "collapsed": false
   },
   "source": [
    "Occasionally it is useful to enter a command for Jupyter itself rather than Python. These commands, colloquially known as \"magic\", start with a percentage sign, `%`. We will see some of these later in the module, but let's consider a simple example now. How long does it take to calculate the displacement using the formula above? **Evaluate the cell below:**"
   ]
  },
  {
   "cell_type": "code",
   "execution_count": 4,
   "metadata": {
    "collapsed": false
   },
   "outputs": [
    {
     "name": "stdout",
     "output_type": "stream",
     "text": [
      "284 ns ± 4.58 ns per loop (mean ± std. dev. of 7 runs, 1000000 loops each)\n"
     ]
    }
   ],
   "source": [
    "%timeit s = 0.5*g*t**2"
   ]
  },
  {
   "cell_type": "markdown",
   "metadata": {
    "collapsed": false
   },
   "source": [
    "## Functions\n",
    "\n",
    "Recall that in Python we can wrap up any piece of code, especially if we might want to re-use it, into a *function*. To do this we use the keyword `def`. As an example, let's turn the simple program above into a function. **Evaluate the cell below:**"
   ]
  },
  {
   "cell_type": "code",
   "execution_count": 5,
   "metadata": {
    "collapsed": false
   },
   "outputs": [
   ],
   "source": [
    "def free_fall_displacement(t, g):\n",
    "    s = 0.5*g*t**2\n",
    "    return s"
   ]
  },
  {
   "cell_type": "markdown",
   "metadata": {
    "collapsed": false
   },
   "source": [
    "Some points to notice:\n",
    "1. We have given our function the name `free_fall_displacement`. Descriptive names are always good!\n",
    "1. The function has two *arguments*, `t` and `g`. These go in brackets after the function name. Rather than setting `g` and `t` explicitly, as we did in the previous program, we will specify these when we call the function.\n",
    "1. We have shown which lines of code are part of the function by pressing `Tab` before them to indent them. Anything indented is part of the function; anything on the same level as the `def` keyword is not. This way of delineating blocks of code is common in Python, as we'll see.\n",
    "1. Rather than printing the result, we use the keyword `return`. This specifies the \"result\" of running this code: when we *call* this function, it will be replaced by the value it returns, here the value of the variable `s`. (We'll explore this point in a little more detail in a few moments.)\n",
    "\n",
    "Putting this all together, we can now *call* our function. In the cell below, **type in \"fr\", then press `Tab`**. You will see that Jupyter recognises a name we've previously used, and completes `free_fall_displacement` for you. **Keep typing so that the cell reads `free_fall_displacement(10, 9.81)`, then evaluate it.**"
   ]
  },
  {
   "cell_type": "code",
   "execution_count": 6,
   "metadata": {
    "collapsed": false
   },
   "outputs": [
    {
     "data": {
      "text/plain": [
       "490.5"
      ]
     },
     "execution_count": 6,
     "metadata": {
     },
     "output_type": "execute_result"
    }
   ],
   "source": [
    "free_fall_displacement(10, 9.81)"
   ]
  },
  {
   "cell_type": "markdown",
   "metadata": {
    "collapsed": false
   },
   "source": [
    "Let's refine the function a little. **Evaluate the cell below:**"
   ]
  },
  {
   "cell_type": "code",
   "execution_count": 3,
   "metadata": {
    "collapsed": false
   },
   "outputs": [
   ],
   "source": [
    "def free_fall_displacement(t, g = 9.81):\n",
    "    \"\"\"Calculates the displacement after time t of free fall with acceleration g.\"\"\"\n",
    "    s = 0.5*g*t**2\n",
    "    return s"
   ]
  },
  {
   "cell_type": "markdown",
   "metadata": {
    "collapsed": false
   },
   "source": [
    "(Note that executing this code has overwritten the previous definition of the function. If you want to return to the previous version, of course you can just scroll up and evaluate the original cell again.)\n",
    "\n",
    "There are two changes in this version. First, we have added a string that describes what the function does to the second line, as a helpful form of documentation. **To see what this does, type `?free_fall_displacement`** (using `Tab`-completion if you like!) **in the cell below and evaluate it:**"
   ]
  },
  {
   "cell_type": "code",
   "execution_count": 9,
   "metadata": {
    "collapsed": false
   },
   "outputs": [
    {
     "data": {
      "text/plain": [
       "\u001b[0;31mSignature:\u001b[0m \u001b[0mfree_fall_displacement\u001b[0m\u001b[0;34m(\u001b[0m\u001b[0mt\u001b[0m\u001b[0;34m,\u001b[0m \u001b[0mg\u001b[0m\u001b[0;34m=\u001b[0m\u001b[0;36m9.81\u001b[0m\u001b[0;34m)\u001b[0m\u001b[0;34m\u001b[0m\u001b[0;34m\u001b[0m\u001b[0m\n",
       "\u001b[0;31mDocstring:\u001b[0m Calculates the displacement after time t of free fall with acceleration g.\n",
       "\u001b[0;31mFile:\u001b[0m      ~/Assignments/Lab01-Revision-I/<ipython-input-8-b29383f97b73>\n",
       "\u001b[0;31mType:\u001b[0m      function\n"
      ]
     },
     "execution_count": 9,
     "metadata": {
     },
     "output_type": "execute_result",
     "start": 0
    }
   ],
   "source": [
    "?free_fall_displacement"
   ]
  },
  {
   "cell_type": "markdown",
   "metadata": {
    "collapsed": false
   },
   "source": [
    "As an alternative way of doing the same thing, **type `free_fall_displacement` and then `Shift`+`Tab`.** "
   ]
  },
  {
   "cell_type": "code",
   "execution_count": 10,
   "metadata": {
    "collapsed": false
   },
   "outputs": [
    {
     "data": {
      "text/plain": [
       "'free_fall_displacement'"
      ]
     },
     "execution_count": 10,
     "metadata": {
     },
     "output_type": "execute_result"
    }
   ],
   "source": [
    "'free_fall_displacement'"
   ]
  },
  {
   "cell_type": "markdown",
   "metadata": {
    "collapsed": false
   },
   "source": [
    "This way of displaying documentation is available for all functions, not just ones we've defined ourselves; it comes in very handy when using built-in functions or those that we import from pre-written modules (which we'll talk more about next lab)."
   ]
  },
  {
   "cell_type": "markdown",
   "metadata": {
    "collapsed": false
   },
   "source": [
    "The second change is that we have specified a *default* value of `g`, here 9.81. This means that we no longer have to specify a value of `g` when we call the function. To demonstrate, **type `free_fall_displacement(10)` below and evaluate the cell.**"
   ]
  },
  {
   "cell_type": "code",
   "execution_count": 11,
   "metadata": {
    "collapsed": false
   },
   "outputs": [
    {
     "data": {
      "text/plain": [
       "490.5"
      ]
     },
     "execution_count": 11,
     "metadata": {
     },
     "output_type": "execute_result"
    }
   ],
   "source": [
    "free_fall_displacement(10)"
   ]
  },
  {
   "cell_type": "markdown",
   "metadata": {
    "collapsed": false
   },
   "source": [
    "What happens if you try calling the function with no arguments at all, `free_fall_displacement()`? **Create a new cell below and try this out. Then create a Markdown cell below it and type a sentence or two of explanation.**"
   ]
  },
  {
   "cell_type": "code",
   "execution_count": 12,
   "metadata": {
    "collapsed": false
   },
   "outputs": [
    {
     "ename": "TypeError",
     "evalue": "free_fall_displacement() missing 1 required positional argument: 't'",
     "output_type": "error",
     "traceback": [
      "\u001b[0;31m---------------------------------------------------------------------------\u001b[0m",
      "\u001b[0;31mTypeError\u001b[0m                                 Traceback (most recent call last)",
      "\u001b[0;32m<ipython-input-12-0295a52d1d13>\u001b[0m in \u001b[0;36m<module>\u001b[0;34m\u001b[0m\n\u001b[0;32m----> 1\u001b[0;31m \u001b[0mfree_fall_displacement\u001b[0m\u001b[0;34m(\u001b[0m\u001b[0;34m)\u001b[0m\u001b[0;34m\u001b[0m\u001b[0;34m\u001b[0m\u001b[0m\n\u001b[0m",
      "\u001b[0;31mTypeError\u001b[0m: free_fall_displacement() missing 1 required positional argument: 't'"
     ]
    }
   ],
   "source": [
    "free_fall_displacement()"
   ]
  },
  {
   "cell_type": "markdown",
   "metadata": {
    "collapsed": false
   },
   "source": [
    "The reason there is an error is because the code has no data assigned to the variable 't', it therefore cant use t to return s."
   ]
  },
  {
   "cell_type": "markdown",
   "metadata": {
    "collapsed": false
   },
   "source": [
    "### Returning values *vs* printing output\n",
    "\n",
    "Jupyter notebooks have the useful function that they automatically print out the value of the *last expression* in a cell. So when you evaluated `free_fall_displacement(10)`, Jupyter printed out the value of the displacement it calculated. You might think it would be equally acceptable to write a function that explicitly prints the value it calculates, something like the following:"
   ]
  },
  {
   "cell_type": "code",
   "execution_count": 2,
   "metadata": {
    "collapsed": false
   },
   "outputs": [
   ],
   "source": [
    "def free_fall_displacement_wrong(t, g = 9.81):\n",
    "    \"\"\"Calculates the displacement after time t of free fall with acceleration g.\n",
    "    Prints the answer rather than returning it, which is a coding mistake!\"\"\"\n",
    "    s = 0.5*g*t**2\n",
    "    print(s)"
   ]
  },
  {
   "cell_type": "markdown",
   "metadata": {
    "collapsed": false
   },
   "source": [
    "Now `free_fall_displacement_wrong(10)` should give output that looks very similar to `free_fall_displacement(10)`. **Check this.** "
   ]
  },
  {
   "cell_type": "code",
   "execution_count": 4,
   "metadata": {
    "collapsed": false
   },
   "outputs": [
    {
     "name": "stdout",
     "output_type": "stream",
     "text": [
      "490.5\n"
     ]
    }
   ],
   "source": [
    "free_fall_displacement(10)\n",
    "free_fall_displacement_wrong(10)"
   ]
  },
  {
   "cell_type": "markdown",
   "metadata": {
    "collapsed": false
   },
   "source": [
    "But this version is not nearly as useful if we want to do anything further with the results of our calculation. For instance, suppose that we drop an object from the top of a tower 500 m tall, and want to calculate not the displacement from the top but the distance from the bottom of the tower. **Evaluate the following cells. Can you explain why the first version works and the \"wrong\" one doesn't?**"
   ]
  },
  {
   "cell_type": "code",
   "execution_count": 14,
   "metadata": {
    "collapsed": false
   },
   "outputs": [
    {
     "data": {
      "text/plain": [
       "9.5"
      ]
     },
     "execution_count": 14,
     "metadata": {
     },
     "output_type": "execute_result"
    }
   ],
   "source": [
    "500 - free_fall_displacement(10)"
   ]
  },
  {
   "cell_type": "code",
   "execution_count": 15,
   "metadata": {
    "collapsed": false
   },
   "outputs": [
    {
     "ename": "NameError",
     "evalue": "name 'free_fall_displacement_wrong' is not defined",
     "output_type": "error",
     "traceback": [
      "\u001b[0;31m---------------------------------------------------------------------------\u001b[0m",
      "\u001b[0;31mNameError\u001b[0m                                 Traceback (most recent call last)",
      "\u001b[0;32m<ipython-input-15-ffdf1170cf0c>\u001b[0m in \u001b[0;36m<module>\u001b[0;34m\u001b[0m\n\u001b[0;32m----> 1\u001b[0;31m \u001b[0;36m500\u001b[0m \u001b[0;34m-\u001b[0m \u001b[0mfree_fall_displacement_wrong\u001b[0m\u001b[0;34m(\u001b[0m\u001b[0;36m10\u001b[0m\u001b[0;34m)\u001b[0m\u001b[0;34m\u001b[0m\u001b[0;34m\u001b[0m\u001b[0m\n\u001b[0m",
      "\u001b[0;31mNameError\u001b[0m: name 'free_fall_displacement_wrong' is not defined"
     ]
    }
   ],
   "source": [
    "500 - free_fall_displacement_wrong(10)``"
   ]
  },
  {
   "cell_type": "markdown",
   "metadata": {
    "collapsed": false
   },
   "source": [
    "by returning s, we are able to use the variable after the function is finished, as returning it can be described by pulling the variable out of the function itself, printing s keeps the variable inside the function which is bad as we can't do anything with the variable itself. This stops us from continuing on to complete further calculation as the variable is lost once the function is finished running."
   ]
  },
  {
   "cell_type": "markdown",
   "metadata": {
    "collapsed": false
   },
   "source": [
    "## Branching\n",
    "\n",
    "Almost all algorithms have *decision points*, where what happens next has to be decided based on, say, the value of a variable. In Python this is done using the `if` statement. **Evaluate the following cell.**\n",
    "\n",
    "(Note the *comment* starting with the `#` character. It is a good idea to leave comments throughout your code to explain *why* you are doing what you're doing.)"
   ]
  },
  {
   "cell_type": "code",
   "execution_count": 17,
   "metadata": {
    "collapsed": false
   },
   "outputs": [
    {
     "name": "stdout",
     "output_type": "stream",
     "text": [
      "5  is positive\n"
     ]
    }
   ],
   "source": [
    "number = 5\n",
    "\n",
    "# Check for an acceptable value of `number`.\n",
    "if number > 0:\n",
    "    print (number, \" is positive\")"
   ]
  },
  {
   "cell_type": "markdown",
   "metadata": {
    "collapsed": false
   },
   "source": [
    "**Now change the first line, where `number` is defined, *without changing anything in the subsequent code*, so that some output will be printed, and evaluate the cell again to check.**\n",
    "\n",
    "Sometimes we want to use one set of instructions if a condition holds, and another if it does not. **Evaluate the following cell:**"
   ]
  },
  {
   "cell_type": "code",
   "execution_count": 18,
   "metadata": {
    "collapsed": false
   },
   "outputs": [
    {
     "name": "stdout",
     "output_type": "stream",
     "text": [
      "-3 is negative or zero\n"
     ]
    }
   ],
   "source": [
    "number = -3\n",
    "\n",
    "if number > 0:\n",
    "    print (number, \"is positive\")\n",
    "else:\n",
    "    print (number, \"is negative or zero\")"
   ]
  },
  {
   "cell_type": "markdown",
   "metadata": {
    "collapsed": false
   },
   "source": [
    "If we want to chain lots of these statements together, the `elif` statement comes in handy: this is short for `else if`. **Evaluate the following cell.**\n",
    "\n",
    "(Note, incidentally, the difference between the *assignment* operator `=` on the first line, used to set `number` to -3, and the *comparison* operator `==` later on, used to compare `number` to zero.)"
   ]
  },
  {
   "cell_type": "code",
   "execution_count": 3,
   "metadata": {
    "collapsed": false
   },
   "outputs": [
    {
     "name": "stdout",
     "output_type": "stream",
     "text": [
      "-3 is negative\n"
     ]
    }
   ],
   "source": [
    "number = -3\n",
    "\n",
    "if number > 0:\n",
    "    print (number, \"is positive\")\n",
    "elif number == 0: \n",
    "    print (number, \"is zero\")\n",
    "else:\n",
    "    print (number, \"is negative\")"
   ]
  },
  {
   "cell_type": "markdown",
   "metadata": {
    "collapsed": false
   },
   "source": [
    "Consider the following function. **Try evaluating it with different values of the argument N. What is wrong with its logic? Can you fix it?**"
   ]
  },
  {
   "cell_type": "code",
   "execution_count": 1,
   "metadata": {
    "collapsed": false
   },
   "outputs": [
    {
     "name": "stdout",
     "output_type": "stream",
     "text": [
      "Too low, please try again.\n",
      "Valid input.\n"
     ]
    }
   ],
   "source": [
    "def check_input(N):\n",
    "    \"\"\"Checks that an input number is within the range 1-10.\"\"\"\n",
    "    if N < 1:\n",
    "        print(\"Too low, please try again.\")\n",
    "    if N > 10:\n",
    "        print(\"Too high, please try again.\")\n",
    "    else:\n",
    "        print(\"Valid input.\")\n",
    "check_input(-1)"
   ]
  },
  {
   "cell_type": "markdown",
   "metadata": {
    "collapsed": false
   },
   "source": [
    "once a suitable branch is found, the coder intends for the code to exit the branch however, this doesnt happen if the number is outside the range. It will first print the relative statement, and as one if statment will never be true (if the number is out the range, it will be either too low or too high, whatever it ISNT, the respective if statment will NOT be true), due to this the else statment will always run. This can be fixed using elif."
   ]
  },
  {
   "cell_type": "markdown",
   "metadata": {
    "collapsed": false
   },
   "source": [
    "Before discussing a checkpoint with a demonstrator please do the following:\n",
    "- ensure the code is working properly, especially the boldface type questions\n",
    "- ensure you understand how the code you have written works (e.g., the structure, data types, algorithm....etc).  Experiment with editing and running code to build intuition about how it functions. \n",
    "\n",
    "When you are ready call over a demonstrator to do your checkpoint.\n",
    "\n",
    "▶ **CHECKPOINT 1**"
   ]
  },
  {
   "cell_type": "markdown",
   "metadata": {
    "collapsed": false
   },
   "source": [
    "## Data types\n",
    "\n",
    "Python uses \"duck typing\": variables don't need to have their data type predefined, but change automatically as you use them. Nonetheless, it's often important to be aware of what's going on behind the scenes.\n",
    "\n",
    "Some of the numeric types are listed in the following table; we'll talk more about these next week.\n",
    "\n",
    "Short name | English name               | Example\n",
    "-----------|----------------------------|---------\n",
    "`int`      | integer                    | 3\n",
    "`float`    | floating-point number      | `3.5e-9`$=3.5\\times10^{-9}$\n",
    "`complex`  | complex number             | `1 + 2j`$=1+2\\sqrt{-1}$\n",
    "`bool`     | Boolean (true/false) value | `True `\n",
    "\n",
    "There are also data types that we might consider \"collections\": sequences or sets of data. Some of these are the following:\n",
    "\n",
    "Short name | Example | Note\n",
    "-----------|---------|------\n",
    "`str`   | \"Hello\"           | A string is essentially just a sequence of characters. Mutable (can be changed).\n",
    "`list`  | `['a', 'b', 'a']` | Mutable (can be changed).\n",
    "`tuple` | `('a', 'b', 'a')` | Immutable. Generated automatically if a list of items is given.\n",
    "`dict`  | `{'a': 1, 'b': 2}`| Indexed by a set of *keys* rather than just numbers.\n",
    "`set`   | `{'a', 'b'}`      | Can only have any given entry once. \n",
    "\n",
    "Don't worry if the \"Note\" column doesn't make too much sense at this stage: it's provided here just for reference. In the next section we'll explore the use of some of these data types (the rest will come next lab)."
   ]
  },
  {
   "cell_type": "markdown",
   "metadata": {
    "collapsed": false
   },
   "source": [
    "## Lists\n",
    "\n",
    "As the name suggests, a Python `list` is just an ordered collection of data. Recall that these are written within square brackets. For instance, the code below creates a list of three items. (From now on, when you come to a cell containing code, you should **evaluate it.**)"
   ]
  },
  {
   "cell_type": "code",
   "execution_count": 6,
   "metadata": {
    "collapsed": false
   },
   "outputs": [
   ],
   "source": [
    "my_list = ['Hello', 2, 3.14159]"
   ]
  },
  {
   "cell_type": "markdown",
   "metadata": {
    "collapsed": false
   },
   "source": [
    "Note that the three *elements* of the list are all of different types: a string, an integer, and a floating-point number. We can reference elements of the list also using square brackets; note that the numbering starts from zero:"
   ]
  },
  {
   "cell_type": "code",
   "execution_count": 14,
   "metadata": {
    "collapsed": false
   },
   "outputs": [
    {
     "data": {
      "text/plain": [
       "'Hello'"
      ]
     },
     "execution_count": 14,
     "metadata": {
     },
     "output_type": "execute_result"
    }
   ],
   "source": [
    "my_list[0]"
   ]
  },
  {
   "cell_type": "markdown",
   "metadata": {
    "collapsed": false
   },
   "source": [
    "We can also choose a subsection of the list – what in Python is often called a *slice* – by using two indices with a colon:"
   ]
  },
  {
   "cell_type": "code",
   "execution_count": 15,
   "metadata": {
    "collapsed": false
   },
   "outputs": [
    {
     "data": {
      "text/plain": [
       "[2, 3.14159]"
      ]
     },
     "execution_count": 15,
     "metadata": {
     },
     "output_type": "execute_result"
    }
   ],
   "source": [
    "my_list[1:3]"
   ]
  },
  {
   "cell_type": "markdown",
   "metadata": {
    "collapsed": false
   },
   "source": [
    "Note the way it works: the first index (`mylist[1]`) is *included*, the second (`mylist[3]`) *not*. This can be a little confusing, but has the advantage that the number of elements in the slice `[m:n]` is always `n - m`.\n",
    "\n",
    "Either `m` or `n` can be omitted in slice notation: this just makes a slice that goes from the beginning or to the end of a list:"
   ]
  },
  {
   "cell_type": "code",
   "execution_count": 16,
   "metadata": {
    "collapsed": false
   },
   "outputs": [
    {
     "data": {
      "text/plain": [
       "['Hello', 2]"
      ]
     },
     "execution_count": 16,
     "metadata": {
     },
     "output_type": "execute_result"
    }
   ],
   "source": [
    "my_list[:2]"
   ]
  },
  {
   "cell_type": "markdown",
   "metadata": {
    "collapsed": false
   },
   "source": [
    "The length of a list is given by the built-in function `len`:"
   ]
  },
  {
   "cell_type": "code",
   "execution_count": 17,
   "metadata": {
    "collapsed": false
   },
   "outputs": [
    {
     "data": {
      "text/plain": [
       "3"
      ]
     },
     "execution_count": 17,
     "metadata": {
     },
     "output_type": "execute_result"
    }
   ],
   "source": [
    "len(my_list)"
   ]
  },
  {
   "cell_type": "markdown",
   "metadata": {
    "collapsed": false
   },
   "source": [
    "**Try typing `?len` in the cell below and evaluating it.** This is a useful way to find out more about a Python command or function you're not sure about using!  Again `Shift`-`Tab` is an alternative way to do the same thing."
   ]
  },
  {
   "cell_type": "code",
   "execution_count": 18,
   "metadata": {
    "collapsed": false
   },
   "outputs": [
    {
     "data": {
      "text/plain": [
       "\u001b[0;31mSignature:\u001b[0m \u001b[0mlen\u001b[0m\u001b[0;34m(\u001b[0m\u001b[0mobj\u001b[0m\u001b[0;34m,\u001b[0m \u001b[0;34m/\u001b[0m\u001b[0;34m)\u001b[0m\u001b[0;34m\u001b[0m\u001b[0;34m\u001b[0m\u001b[0m\n",
       "\u001b[0;31mDocstring:\u001b[0m Return the number of items in a container.\n",
       "\u001b[0;31mType:\u001b[0m      builtin_function_or_method\n"
      ]
     },
     "execution_count": 18,
     "metadata": {
     },
     "output_type": "execute_result",
     "start": 0
    }
   ],
   "source": [
    "?len"
   ]
  },
  {
   "cell_type": "markdown",
   "metadata": {
    "collapsed": false
   },
   "source": [
    "You can use the `append` method to add a single item to a list:\n",
    "\n",
    "(\"Method\" here means a function that \"belongs\" to the `list` type. The syntax is to put a full stop `.` after the name of the list (or whatever) then add the name of the method, as below.)"
   ]
  },
  {
   "cell_type": "code",
   "execution_count": 19,
   "metadata": {
    "collapsed": false
   },
   "outputs": [
    {
     "name": "stdout",
     "output_type": "stream",
     "text": [
      "['Hello', 2, 3.14159, \"I'm new!\"]\n"
     ]
    }
   ],
   "source": [
    "my_list.append(\"I'm new!\") # note that I use double quotes to easily include a single quote in the string\n",
    "print(my_list)"
   ]
  },
  {
   "cell_type": "markdown",
   "metadata": {
    "collapsed": false
   },
   "source": [
    "Alternatively, if you have lots of items to add, you can combine lists by using the ordinary `+` symbol:"
   ]
  },
  {
   "cell_type": "code",
   "execution_count": 20,
   "metadata": {
    "collapsed": false
   },
   "outputs": [
    {
     "data": {
      "text/plain": [
       "[1, 2, 3, 7, 8, 9]"
      ]
     },
     "execution_count": 20,
     "metadata": {
     },
     "output_type": "execute_result"
    }
   ],
   "source": [
    "[1, 2, 3] + [7, 8, 9]"
   ]
  },
  {
   "cell_type": "markdown",
   "metadata": {
    "collapsed": false
   },
   "source": [
    "Try putting some of these techniques together by **writing a function to \"cycle\" a list by two elements, taking the first two elements and putting them at the end.**"
   ]
  },
  {
   "cell_type": "code",
   "execution_count": 7,
   "metadata": {
    "collapsed": false
   },
   "outputs": [
   ],
   "source": [
    "def cycle_two(L):\n",
    "    \"\"\"'Cycles' the list L by two elements, so that the first two elements become the last.\"\"\"\n",
    "    list = []\n",
    "    return L[2:] + L[:2]"
   ]
  },
  {
   "cell_type": "markdown",
   "metadata": {
    "collapsed": false
   },
   "source": [
    "**Test your code** by evaluating the following cell:"
   ]
  },
  {
   "cell_type": "code",
   "execution_count": 8,
   "metadata": {
    "collapsed": false
   },
   "outputs": [
    {
     "data": {
      "text/plain": [
       "['c', 'd', 'e', 'a', 'b']"
      ]
     },
     "execution_count": 8,
     "metadata": {
     },
     "output_type": "execute_result"
    }
   ],
   "source": [
    "cycle_two(['a', 'b', 'c', 'd', 'e'])"
   ]
  },
  {
   "cell_type": "markdown",
   "metadata": {
    "collapsed": false
   },
   "source": [
    "The output should be `['c', 'd', 'e', 'a', 'b']`."
   ]
  },
  {
   "cell_type": "markdown",
   "metadata": {
    "collapsed": false
   },
   "source": [
    "Now **modify your function to \"cycle\" the list by any number N of elements.**"
   ]
  },
  {
   "cell_type": "code",
   "execution_count": 13,
   "metadata": {
    "collapsed": false
   },
   "outputs": [
   ],
   "source": [
    "def cycle_N(L, N):\n",
    "    \"\"\"'Rolls' the list L by N elements, so that the first N elements become the last.\"\"\"\n",
    "    list = L[N:] + L[:N]\n",
    "    return list"
   ]
  },
  {
   "cell_type": "markdown",
   "metadata": {
    "collapsed": false
   },
   "source": [
    "**Test your code** by evaluating the following cell:"
   ]
  },
  {
   "cell_type": "code",
   "execution_count": 14,
   "metadata": {
    "collapsed": false
   },
   "outputs": [
    {
     "data": {
      "text/plain": [
       "['d', 'e', 'a', 'b', 'c']"
      ]
     },
     "execution_count": 14,
     "metadata": {
     },
     "output_type": "execute_result"
    }
   ],
   "source": [
    "cycle_N(['a', 'b', 'c', 'd', 'e'], 3)"
   ]
  },
  {
   "cell_type": "markdown",
   "metadata": {
    "collapsed": false
   },
   "source": [
    "The output should be `['d', 'e', 'a', 'b', 'c']`."
   ]
  },
  {
   "cell_type": "markdown",
   "metadata": {
    "collapsed": false
   },
   "source": [
    "▶ **CHECKPOINT 2**"
   ]
  },
  {
   "cell_type": "markdown",
   "metadata": {
    "collapsed": false
   },
   "source": [
    "## Loops\n",
    "### `for` loops 1: running a given number of times\n",
    "\n",
    "Recall that a *loop* in a computer program is a way of running the same set of instructions multiple times. The simplest case is where we know in advance how many times we want to code to run. In Python this is accomplished using the `for` command:"
   ]
  },
  {
   "cell_type": "code",
   "execution_count": 32,
   "metadata": {
    "collapsed": false
   },
   "outputs": [
    {
     "name": "stdout",
     "output_type": "stream",
     "text": [
      "Looping with i = 0\n",
      "Looping with i = 1\n",
      "Looping with i = 2\n",
      "Looping with i = 3\n",
      "Looping with i = 4\n"
     ]
    }
   ],
   "source": [
    "for i in range(5):\n",
    "    print(\"Looping with i =\" , i)"
   ]
  },
  {
   "cell_type": "markdown",
   "metadata": {
    "collapsed": false
   },
   "source": [
    "In this example the `print` command is run 5 times: each time the value of the variable `i` changes. Note that, just as for string slicing, the range begins with zero. If we want to specify a different starting point, we can do so as follows:"
   ]
  },
  {
   "cell_type": "code",
   "execution_count": 33,
   "metadata": {
    "collapsed": false
   },
   "outputs": [
    {
     "name": "stdout",
     "output_type": "stream",
     "text": [
      "Looping with i = 5\n",
      "Looping with i = 6\n",
      "Looping with i = 7\n",
      "Looping with i = 8\n",
      "Looping with i = 9\n"
     ]
    }
   ],
   "source": [
    "for i in range(5, 10):\n",
    "    print(\"Looping with i =\", i)"
   ]
  },
  {
   "cell_type": "markdown",
   "metadata": {
    "collapsed": false
   },
   "source": [
    "**Write a function `draw_triangle(N)` to draw a triangle using \"O\" characters, with a base of N characters**. \n",
    "\n",
    "*Example use:* `draw_triangle(5)` should give the output\n",
    "```\n",
    "O\n",
    "OO\n",
    "OOO\n",
    "OOOO\n",
    "OOOOO\n",
    "```\n",
    "*Hint:* you can use the `*` operator to repeat a string. Try evaluating `\"hello \" * 3`: can you see how this helps?"
   ]
  },
  {
   "cell_type": "code",
   "execution_count": 7,
   "metadata": {
    "collapsed": false
   },
   "outputs": [
    {
     "name": "stdout",
     "output_type": "stream",
     "text": [
      "\n",
      "O\n",
      "OO\n",
      "OOO\n",
      "OOOO\n",
      "OOOOO\n"
     ]
    }
   ],
   "source": [
    "def draw_triangle(N):\n",
    "    for i in range(0,N+1):\n",
    "        print('O'*i)\n",
    "\n",
    "draw_triangle(5)"
   ]
  },
  {
   "cell_type": "markdown",
   "metadata": {
    "collapsed": false
   },
   "source": [
    "**Evaluate the cell below and look carefully at the output:**"
   ]
  },
  {
   "cell_type": "code",
   "execution_count": 1,
   "metadata": {
    "collapsed": false
   },
   "outputs": [
    {
     "name": "stdout",
     "output_type": "stream",
     "text": [
      "Looping with i = 4\n",
      "Looping with i = 6\n",
      "Looping with i = 8\n"
     ]
    }
   ],
   "source": [
    "for i in range(4, 10, 2):\n",
    "    print(\"Looping with i =\", i)"
   ]
  },
  {
   "cell_type": "markdown",
   "metadata": {
    "collapsed": false
   },
   "source": [
    "**Hence modify your function to give a new function `draw_upside_down_triangle`, which will draw the same triangle \"upside-down\".** \n",
    "\n",
    "*Example use:* `draw_upside_down_triangle(5)` should give the output\n",
    "```\n",
    "OOOOO\n",
    "OOOO\n",
    "OOO\n",
    "OO\n",
    "O\n",
    "```"
   ]
  },
  {
   "cell_type": "code",
   "execution_count": 9,
   "metadata": {
    "collapsed": false
   },
   "outputs": [
    {
     "name": "stdout",
     "output_type": "stream",
     "text": [
      "OOOOO\n",
      "OOOO\n",
      "OOO\n",
      "OO\n",
      "O\n",
      "\n"
     ]
    }
   ],
   "source": [
    "def draw_upside_down_triangle(N):\n",
    "    for i in range(0,N+1):\n",
    "        print('O'*(N-i))\n",
    "        \n",
    "draw_upside_down_triangle(5)"
   ]
  },
  {
   "cell_type": "markdown",
   "metadata": {
    "collapsed": false
   },
   "source": [
    "**Using your `cycle_N` function from above, write a function that decides whether two lists are \"circularly identical\".** That is, if cycling by *any* number `N` makes the lists identical, the function should return `True`, otherwise it should return `False`.\n",
    "\n",
    "*Example use:* \n",
    "- `circularly_identical([1,2,3,4,5,6], [5,6,1,2,3,4])` should give `True`. \n",
    "- `circularly_identical([1,2,3,4,5,6], [1,2,3,4])` should give `False`. \n",
    "- `circularly_identical([1,2,3,4,5,6], [1,2,3,4,6,5])` should give `False`.\n",
    "\n",
    "*Hint:* you can use the `==` operator to compare any two objects, including two lists. Try evaluating `2 == 2` and `2 == 3` to see how this works. The opposite is `!=`."
   ]
  },
  {
   "cell_type": "code",
   "execution_count": 16,
   "metadata": {
    "collapsed": false
   },
   "outputs": [
    {
     "name": "stdout",
     "output_type": "stream",
     "text": [
      "True\n",
      "False\n",
      "False\n"
     ]
    }
   ],
   "source": [
    "def circularly_identical(list1,list2):\n",
    "    if len(list1) == len(list2):\n",
    "        for i in range(0,len(list1)):\n",
    "            list1 = cycle_N(list1, i)\n",
    "            if list1 == list2:\n",
    "                print('True')\n",
    "                break\n",
    "            if i == len(list1)-1:\n",
    "                if list1 != list2:\n",
    "                    print('False')\n",
    "    else:\n",
    "        print('False')\n",
    "circularly_identical([1,2,3,4,5,6], [5,6,1,2,3,4])\n",
    "circularly_identical([1,2,3,4,5,6], [1,2,3,4])\n",
    "circularly_identical([1,2,3,4,5,6], [1,2,3,4,6,5])\n",
    "'''def cycle_N(L, N):\n",
    "    \"\"\"'Rolls' the list L by N elements, so that the first N elements become the last.\"\"\"\n",
    "    list = L[N:] + L[:N]\n",
    "    return list'''"
   ]
  },
  {
   "cell_type": "code",
   "execution_count": 7,
   "metadata": {
    "collapsed": false
   },
   "outputs": [
    {
     "name": "stdout",
     "output_type": "stream",
     "text": [
      "0\n",
      "1\n",
      "4\n",
      "9\n",
      "16\n"
     ]
    }
   ],
   "source": [
    "    for i in range (0,5): # finish this line\n",
    "    print(i**2)\n"
   ]
  },
  {
   "cell_type": "markdown",
   "metadata": {
    "collapsed": false
   },
   "source": [
    "If, instead of printing out the results, we wanted to store them in a list, we could use the `append` method from above:"
   ]
  },
  {
   "cell_type": "code",
   "execution_count": 1,
   "metadata": {
    "collapsed": false
   },
   "outputs": [
    {
     "name": "stdout",
     "output_type": "stream",
     "text": [
      "[0, 1, 4, 9, 16]\n"
     ]
    }
   ],
   "source": [
    "square_numbers = []\n",
    "\n",
    "for i in range(5):\n",
    "    square_numbers.append(i**2)\n",
    "print(square_numbers)"
   ]
  },
  {
   "cell_type": "markdown",
   "metadata": {
    "collapsed": false
   },
   "source": [
    "**Modify the code above to generate a list of the first ten square numbers starting from 1.**"
   ]
  },
  {
   "cell_type": "code",
   "execution_count": 2,
   "metadata": {
    "collapsed": false
   },
   "outputs": [
    {
     "name": "stdout",
     "output_type": "stream",
     "text": [
      "[1, 4, 9, 16, 25, 36, 49, 64, 81, 100]\n"
     ]
    }
   ],
   "source": [
    "square_numbers = []\n",
    "\n",
    "for i in range(1,11):\n",
    "    square_numbers.append(i**2)\n",
    "print(square_numbers)"
   ]
  },
  {
   "cell_type": "markdown",
   "metadata": {
    "collapsed": false
   },
   "source": [
    "This way of appending to a list at every step of a loop is a very useful technique in general when we are assembling the results of different calculations, and we'll use it lots in this module. However, the code above is *not* the most efficient way of writing this in Python. It is more efficient to use a syntax called *comprehensions*, which we turn to now."
   ]
  },
  {
   "cell_type": "markdown",
   "metadata": {
    "collapsed": false
   },
   "source": [
    "### List comprehensions\n",
    "Suppose that, rather than print out each of these results, we want to store them in another list. This is such a common task that Python has a shorthand for it, called *list comprehensions*. To see how these work, **evaluate the following cell:**"
   ]
  },
  {
   "cell_type": "code",
   "execution_count": 12,
   "metadata": {
    "collapsed": false
   },
   "outputs": [
    {
     "name": "stdout",
     "output_type": "stream",
     "text": [
      "['Hello world', 'Hello Mars', 'Hello Jupiter']\n"
     ]
    }
   ],
   "source": [
    "greetings = [\"Hello \" + planet for planet in ['world', 'Mars', 'Jupiter']]\n",
    "print(greetings)"
   ]
  },
  {
   "cell_type": "markdown",
   "metadata": {
    "collapsed": false
   },
   "source": [
    "The general syntax is `[something for element in list]`, where `element` will be set in turn to each element of `list` and used to calculate `something`.\n",
    "\n",
    "Prove that you understand this by **writing a comprehension to generate a list of the first 10 square numbers, starting from zero**. You should get the same results as the `square_numbers` list above, but using the list comprehension syntax this time.\n"
   ]
  },
  {
   "cell_type": "code",
   "execution_count": 6,
   "metadata": {
    "collapsed": false
   },
   "outputs": [
    {
     "name": "stdout",
     "output_type": "stream",
     "text": [
      "[0, 1, 4, 9, 16]\n"
     ]
    }
   ],
   "source": [
    "square_numbers = [x**2 for x in range(5)]\n",
    "print(square_numbers)"
   ]
  },
  {
   "cell_type": "markdown",
   "metadata": {
    "collapsed": false
   },
   "source": [
    "**What if (as above) you want instead to start from 1?**"
   ]
  },
  {
   "cell_type": "code",
   "execution_count": 7,
   "metadata": {
    "collapsed": false
   },
   "outputs": [
    {
     "name": "stdout",
     "output_type": "stream",
     "text": [
      "[1, 4, 9, 16, 25, 36, 49, 64, 81, 100]\n"
     ]
    }
   ],
   "source": [
    "square_numbers = [x**2 for x in range(1,11)]\n",
    "print(square_numbers)"
   ]
  },
  {
   "cell_type": "markdown",
   "metadata": {
    "collapsed": false
   },
   "source": [
    "Sometimes we want to combine the two versions of a `for` loop we've seen: loop through a list, but keep track of what number item we're up to. For this purpose, the `enumerate()` function is our friend:"
   ]
  },
  {
   "cell_type": "code",
   "execution_count": 8,
   "metadata": {
    "collapsed": false
   },
   "outputs": [
    {
     "name": "stdout",
     "output_type": "stream",
     "text": [
      "0 ==> Hello world\n",
      "1 ==> Hello Mars\n",
      "2 ==> Hello Jupiter\n"
     ]
    }
   ],
   "source": [
    "planets = ['world', 'Mars', 'Jupiter']\n",
    "for i, planet in enumerate(planets):\n",
    "    print(i, \"==> Hello\", planet)"
   ]
  },
  {
   "cell_type": "markdown",
   "metadata": {
    "collapsed": false
   },
   "source": [
    "To join two arbitrary lists in this way, use the `zip()` function:"
   ]
  },
  {
   "cell_type": "code",
   "execution_count": 9,
   "metadata": {
    "collapsed": false
   },
   "outputs": [
    {
     "name": "stdout",
     "output_type": "stream",
     "text": [
      "A satellite of Earth is the moon\n",
      "A satellite of Mars is Phobos\n",
      "A satellite of Jupiter is Europa\n"
     ]
    }
   ],
   "source": [
    "    planets = ['Earth', 'Mars', 'Jupiter']\n",
    "moons = ['the moon', 'Phobos', 'Europa']\n",
    "for planet, moon in zip(planets, moons):\n",
    "    print(\"A satellite of\", planet, \"is\", moon)"
   ]
  },
  {
   "cell_type": "markdown",
   "metadata": {
    "collapsed": false
   },
   "source": [
    "Show that you understand this by **writing a loop that prints out the list of the [Galilean moons](https://en.wikipedia.org/wiki/Galilean_moons), numbered.** \n",
    "\n",
    "Each line of the output should look like\n",
    "\n",
    "    Io is Galilean moon number 0"
   ]
  },
  {
   "cell_type": "code",
   "execution_count": 7,
   "metadata": {
    "collapsed": false
   },
   "outputs": [
    {
     "name": "stdout",
     "output_type": "stream",
     "text": [
      "Io is Galilean moon number 0\n",
      "Europa is Galilean moon number 1\n",
      "Ganymede is Galilean moon number 2\n",
      "Callisto is Galilean moon number 3\n"
     ]
    }
   ],
   "source": [
    "galilean_moons = ['Io', 'Europa', 'Ganymede', 'Callisto']\n",
    "for i, moon in enumerate(galilean_moons):\n",
    "    print(moon, 'is Galilean moon number', i)"
   ]
  },
  {
   "cell_type": "markdown",
   "metadata": {
    "collapsed": false
   },
   "source": [
    "▶ **CHECKPOINT 3**"
   ]
  },
  {
   "cell_type": "markdown",
   "metadata": {
    "collapsed": false
   },
   "source": [
    "More so than in other weeks, different people will take different amounts of time to finish Lab 1, depending on how much you remember of your previous Python experience and whether there are any glitches with the computer you're using. If you finish early, feel free to continue to Lab 2."
   ]
  }
 ],
 "metadata": {
  "kernelspec": {
   "display_name": "Python 3 (Ubuntu Linux)",
   "language": "python",
   "name": "python3-ubuntu",
   "resource_dir": "/usr/local/share/jupyter/kernels/python3-ubuntu"
  },
  "language_info": {
   "codemirror_mode": {
    "name": "ipython",
    "version": 3
   },
   "file_extension": ".py",
   "mimetype": "text/x-python",
   "name": "python",
   "nbconvert_exporter": "python",
   "pygments_lexer": "ipython3",
   "version": "3.8.2"
  }
 },
 "nbformat": 4,
 "nbformat_minor": 4
}