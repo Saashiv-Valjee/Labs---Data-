{
 "cells": [
  {
   "cell_type": "markdown",
   "metadata": {
    "collapsed": false
   },
   "source": [
    "# Lab 5: Numerical differentiation\n",
    "\n",
    "In this lab we will investigate three methods of increasing sophistication to estimate the derivative of a mathematical function. We'll also investigate how to choose the parameters of these methods to get accurate results.\n",
    "\n",
    "Remember to consult the sections of the recommended texts, the cheat sheet and/or lecture slides on QM+ if you're uncertain about the maths involved.\n",
    "\n",
    "### A note on programming style and output\n",
    "\n",
    "As you have now completed several lab scripts it is a good time to start thinking about how to make both your code and output as easy as possible for other people to read. For instance:\n",
    "\n",
    "* Printed output should be nicely formatted and easy to read (*e.g.*, in neat columns).  Refer to the Extension to Lab 2 for instructions on how to do this with `print(\"{}\".format(variable))` syntax.  \n",
    "\n",
    "* All plots should have appropriate labelling (*e.g.*, axes labels, title, legends,...).  \n",
    "\n",
    "* Your variable names should be meaningful.\n",
    "\n",
    "* Your functions should include docstrings.\n",
    "\n",
    "* Your code should be appropriately commented.\n",
    "\n",
    "Demonstrators will also begin commenting on these aspects of your lab script presentation.\n",
    "\n",
    "\n",
    "**Please enter your name and student number in the markdown cell below** then press `Shift` + `Enter`."
   ]
  },
  {
   "cell_type": "markdown",
   "metadata": {
    "collapsed": false
   },
   "source": [
    "* Name:    Saashiv Valjee\n",
    "* SID:     190288688"
   ]
  },
  {
   "cell_type": "markdown",
   "metadata": {
    "collapsed": false
   },
   "source": [
    "## Coding the three methods\n",
    "\n",
    "Recall that the simplest possible algorithm, the *forward difference method*, is very similar to the definition of differentiation:\n",
    "\n",
    "$$\n",
    "f'(x) = \\lim_{x\\rightarrow 0}\\frac{f(x + h) - f(x)}{h}.\n",
    "$$\n",
    "\n",
    "We simply choose a small step $h$ and write\n",
    "\n",
    "$$\n",
    "f'(x, h)_\\text{FD} = \\frac{f(x + h) - f(x)}{h}.\n",
    "$$\n",
    "\n",
    "**Write a function `FD(f, x, h)` to return the derivative of some function `f` at `x` using a step size of `h`.**\n",
    "\n",
    "(Note that I am asking you to pass the *function* `f` as an argument to another function `FD`. This is possible in Python in exactly the same way as passing any other argument, like a tuple, string, or float.)"
   ]
  },
  {
   "cell_type": "code",
   "execution_count": 2,
   "metadata": {
    "collapsed": false
   },
   "outputs": [
   ],
   "source": [
    "def fderivative(f, a, h):\n",
    "    return (f(a + h) - f(a)) / h"
   ]
  },
  {
   "cell_type": "markdown",
   "metadata": {
    "collapsed": false
   },
   "source": [
    "**Check your function** using the cosine function (recall that you can `from numpy import cos`) at $x = 0$ and various step sizes (e.g., perhaps with a loop over step sizes $h=10^{-1}\\rightarrow10^{-7}$, or just printing a few values and comparing with the expected ones)."
   ]
  },
  {
   "cell_type": "code",
   "execution_count": 3,
   "metadata": {
    "collapsed": false
   },
   "outputs": [
    {
     "name": "stdout",
     "output_type": "stream",
     "text": [
      "-0.45969769413186023\n",
      "-0.049958347219741794\n",
      "-0.004999958333473664\n",
      "-0.0004999999583255033\n",
      "-4.999999969612645e-05\n",
      "-5.000000413701855e-06\n",
      "-5.000444502911705e-07\n",
      "-4.9960036108132044e-08\n",
      "0.0\n",
      "0.0\n"
     ]
    }
   ],
   "source": [
    "from numpy import *\n",
    "\n",
    "for i in range(10):\n",
    "    print(fderivative(cos, 0, 10**(-i)))\n"
   ]
  },
  {
   "cell_type": "markdown",
   "metadata": {
    "collapsed": false
   },
   "source": [
    "A more sophisticated algorithm is the *central difference* method, which as we have seen in class eliminates first-order error, so that the error is proportional to $h^2$ rather than $h$. Recall that this method sets\n",
    "\n",
    "$$\n",
    "f'(x, h)_\\text{CD} = \\frac{f(x + \\tfrac12h) - f(x - \\tfrac12h)}{h}.\n",
    "$$\n",
    "\n",
    "**Write a function `CD(f, x, h)` in the same way. Again, you may want to check your function works as expected before proceeding.**"
   ]
  },
  {
   "cell_type": "code",
   "execution_count": 4,
   "metadata": {
    "collapsed": false
   },
   "outputs": [
   ],
   "source": [
    "def cderivative(f,a,h):\n",
    "    return (f(a + h) - f(a - h))/(2*h)\n",
    "\n",
    "#this should still work"
   ]
  },
  {
   "cell_type": "markdown",
   "metadata": {
    "collapsed": false
   },
   "source": [
    "The final method we discussed was the *extrapolated difference* method, in which we combine two iterations of the central difference algorithm to give error proportional to $h^4$:\n",
    "\n",
    "$$\n",
    "f'(x, h)_\\text{ED} = \\tfrac13\\big(4f'(x, \\tfrac12h)_\\text{CD} - f'(x, h)_\\text{CD}\\big).\n",
    "$$\n",
    "\n",
    "**Once again, write a function `ED(f, x, h)` to use this method. It will be easiest to have your function call the `CD` function you've already written.**"
   ]
  },
  {
   "cell_type": "code",
   "execution_count": 5,
   "metadata": {
    "collapsed": false
   },
   "outputs": [
    {
     "name": "stdout",
     "output_type": "stream",
     "text": [
      "0.0\n"
     ]
    }
   ],
   "source": [
    "from numpy import *\n",
    "\n",
    "\n",
    "def fderivative(f, a, h):\n",
    "    return (f(a + h) - f(a)) / h\n",
    "\n",
    "\n",
    "def cderivative(f,a,h):\n",
    "    return (f(a + h) - f(a - h))/(2*h)\n",
    "\n",
    "\n",
    "def extrapdiff(f, a, h):\n",
    "    return (1/3) * ((4*(cderivative(f, a, 0.5 * h))) - (cderivative(f, a, h)))\n",
    "\n",
    "\n",
    "print(extrapdiff(cos,0,1))"
   ]
  },
  {
   "cell_type": "markdown",
   "metadata": {
    "collapsed": false
   },
   "source": [
    "▶ **CHECKPOINT 1**"
   ]
  },
  {
   "cell_type": "markdown",
   "metadata": {
    "collapsed": false
   },
   "source": [
    "## Testing the algorithms\n",
    "\n",
    "Let's test these three algorithms using functions that are easy to differentiate by hand. Specifically, we'll differentiate the functions $\\cos(x)$ and $e^x$ at $x = 0.1$, $1$ and $100$.  \n",
    "\n",
    "Initially, you should **pick one function and one point to test it at** from these lists. The following code outline, when complete, will calculate the derivative of a test function at some point using the FD method for a range of step sizes $h$. It will then calculate and print out the relative error $\\epsilon$, where\n",
    "$$\n",
    "\\epsilon = \\frac{f'(x)_\\text{calculated} - f'(x)_\\text{exact}}{f'(x)_\\text{exact}},\n",
    "$$\n",
    "and finally plot $|\\epsilon|$ against $h$ on a log-log plot.\n",
    "\n",
    "**Complete this code to perform as described.**\n",
    "\n",
    "▶ **CHECKPOINT 2**\n",
    "\n",
    "**Then modify it to include the CD and ED algorithms, all plotted on the one figure.**\n",
    "\n"
   ]
  },
  {
   "cell_type": "code",
   "execution_count": 10,
   "metadata": {
    "collapsed": false
   },
   "outputs": [
    {
     "name": "stdout",
     "output_type": "stream",
     "text": [
      "0.0\n",
      "0.09983341664682815\n"
     ]
    },
    {
     "data": {
      "text/plain": [
       "<matplotlib.legend.Legend at 0x7f251adaa220>"
      ]
     },
     "execution_count": 10,
     "metadata": {
     },
     "output_type": "execute_result"
    },
    {
     "data": {
      "image/png": "[encoded data removed]",
      "text/plain": [
       "<Figure size 432x288 with 1 Axes>"
      ]
     },
     "execution_count": 10,
     "metadata": {
      "image/png": {
       "height": 280,
       "width": 399
      },
      "needs_background": "light"
     },
     "output_type": "execute_result"
    }
   ],
   "source": [
    "%matplotlib inline\n",
    "from matplotlib.pyplot import loglog, xlabel, ylabel, title, legend, ylim\n",
    "import matplotlib.pyplot as plt\n",
    "from numpy import *\n",
    "\n",
    "\n",
    "def fderivative(f, a, h):\n",
    "    return (f(a + h) - f(a)) / h\n",
    "\n",
    "\n",
    "def cderivative(f, a, h):\n",
    "    return (f(a + h) - f(a - h)) / (2 * h)\n",
    "\n",
    "\n",
    "def extrapdiff(f, a, h):\n",
    "    return (1 / 3) * ((4 * (cderivative(f, a, 0.5 * h))) - (cderivative(f, a, h)))\n",
    "\n",
    "\n",
    "def IS(f, x, h):\n",
    "    return (f(x + 1j * h)).imag / h\n",
    "\n",
    "\n",
    "print(extrapdiff(cos, 0, 1))\n",
    "\n",
    "test_f1 = cos\n",
    "test_f2 = e\n",
    "x0 = 0.1\n",
    "fx0p_1 = 0.09983341664  # put the true value of the derivative of test_f at x0 here\n",
    "fx0p_1 = sin(x0)\n",
    "print(fx0p_1)\n",
    "fx0p_2 = 'something'\n",
    "\n",
    "hh = logspace(-1, -17, 17)  # same syntax as linspace: this gives us a range from 10^-1 to 10^-17 with 17 points.\n",
    "\n",
    "fd_errors = []\n",
    "fd_estimate = []\n",
    "cd_errors = []\n",
    "cd_estimate = []\n",
    "ed_estimate = []\n",
    "ed_errors = []\n",
    "IS_estimate = []\n",
    "IS_errors = []\n",
    "x = []\n",
    "\n",
    "for h in hh:\n",
    "\n",
    "    fd_estimate.append([h, fderivative(test_f1, x0, h)])\n",
    "    festimate = fderivative(test_f1, x0, h)\n",
    "    fd_errors.append((abs(festimate) - fx0p_1) / fx0p_1)\n",
    "\n",
    "    cd_estimate.append([h, cderivative(test_f1, x0, h)])\n",
    "    cestimate = cderivative(test_f1, x0, h)\n",
    "    cd_errors.append(abs((abs(cestimate) - fx0p_1) / fx0p_1))\n",
    "\n",
    "    ed_estimate.append([h, extrapdiff(test_f1, x0, h)])\n",
    "    eestimate = extrapdiff(test_f1, x0, h)\n",
    "    ed_errors.append(abs((abs(eestimate) - fx0p_1) / fx0p_1))\n",
    "    \n",
    "    IS_estimate.append([h, IS(test_f1, x0, h)])\n",
    "    ISestimate = IS(test_f1, x0, h)\n",
    "    IS_errors.append(abs((abs(ISestimate) - fx0p_1) / fx0p_1))\n",
    "\n",
    "loglog(hh, IS_errors, 'go-', label=\"IS\")\n",
    "loglog(hh, ed_errors, 'bo-', label=\"ED\")\n",
    "loglog(hh, fd_errors, 'o-', label=\"FD\")\n",
    "loglog(hh, cd_errors, 'ro-', label=\"CD\")  # Same syntax as plot. The label is used in the legend.\n",
    "xlabel('step size $h$')  # Note that we can include LaTeX-style maths within dollar signs.\n",
    "ylim(10**(-18), 10**2, 23)\n",
    "ylabel('absolute error $|\\epsilon|$')\n",
    "title('forward derivative error')  # Include an appropriate string for a graph title here.\n",
    "legend()\n"
   ]
  },
  {
   "cell_type": "markdown",
   "metadata": {
    "collapsed": false
   },
   "source": [
    "maximum accuracy\n",
    "CD & ED: h = 10**-6\n",
    "FD: 10**-8\n",
    "\n",
    "at extremely low values of h, the error goes up rather then continuing to decrease.\n",
    "this could be due to rounding"
   ]
  },
  {
   "cell_type": "markdown",
   "metadata": {
    "collapsed": false
   },
   "source": [
    "**Open a new markdown cell and answer the following questions**\n",
    "- Where is each algorithm most accurate?\n",
    "- Can you identify which sorts of error occur elsewhere?**\n",
    "\n",
    "Once you have your code working, it may be useful to write your code in a way that allows you to easily change the function being differentiated and the value of $x$ where the derivative is evaluated.  This provides some additional testing of the code and makes it easy to reuse (e.g., quiz questions often involve modifying your code to solve a slightly different problem).\n",
    "\n",
    "▶ **CHECKPOINT 3**"
   ]
  },
  {
   "cell_type": "markdown",
   "metadata": {
    "collapsed": false
   },
   "source": [
    "## Extension: *Imaginary step* algorithm\n",
    "\n",
    "The *imaginary step* algorithm is\n",
    "\n",
    "$$\n",
    "f'(x, h)_\\text{IS} = \\frac{\\mathrm{Im}\\{f(x + \\mathrm{i}h)\\}}{h}\n",
    "$$\n",
    "\n",
    "where $\\mathrm{Im}$ represents the imaginary part of a number; this only works if $f$ is a *real* function. This looks extraordinarily bizarre on the face of it, but can be shown to work using Taylor series in much the same way as we did in class for the other algorithms.\n",
    "\n",
    "**Code a function `IS(f, x, h)` to calculate the derivative using this method. Is it more or less accurate than the other methods we have discussed? Can you see why?**\n",
    "\n",
    "*Hint*: The number $2 + 3\\mathrm{i}$ is written in Python as `2 + 3j`. If `z` is a complex number in Python, its imaginary part is `z.imag`. That is, `1j` is the unit imaginary number in Python and can be used in mathematical expressions. For example, pure imaginary numbers may be created via `d*1j` where `d` is a pure real variable.\n",
    "\n",
    "For more information about this algorithm, you might like to see [this informal blog post](https://sinews.siam.org/Details-Page/differentiation-without-a-difference) or a [more formal paper](https://core.ac.uk/download/pdf/230397657.pdf) (section 2.1 is most relevant for our purposes)."
   ]
  },
  {
   "cell_type": "code",
   "execution_count": 7,
   "metadata": {
    "collapsed": false
   },
   "outputs": [
    {
     "name": "stdout",
     "output_type": "stream",
     "text": [
      "-0.0999998888888977\n"
     ]
    }
   ],
   "source": [
    "def IS(f, x, h):\n",
    "    return (f(x + 1j * h)).imag / h\n",
    "def f(x):\n",
    "    return cos*()\n",
    "print(IS(cos, 0.1, 0.1))\n",
    "\n",
    "#its less accurate, idk why lol... yet :)"
   ]
  },
  {
   "cell_type": "code",
   "execution_count": 0,
   "metadata": {
    "collapsed": false
   },
   "outputs": [
   ],
   "source": [
   ]
  }
 ],
 "metadata": {
  "kernelspec": {
   "display_name": "Python 3 (Ubuntu Linux)",
   "language": "python",
   "name": "python3-ubuntu",
   "resource_dir": "/usr/local/share/jupyter/kernels/python3-ubuntu"
  },
  "language_info": {
   "codemirror_mode": {
    "name": "ipython",
    "version": 3
   },
   "file_extension": ".py",
   "mimetype": "text/x-python",
   "name": "python",
   "nbconvert_exporter": "python",
   "pygments_lexer": "ipython3",
   "version": "3.8.2"
  }
 },
 "nbformat": 4,
 "nbformat_minor": 4
}