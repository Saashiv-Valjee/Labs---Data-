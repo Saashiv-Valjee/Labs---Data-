{
 "cells": [
  {
   "cell_type": "markdown",
   "metadata": {
    "collapsed": false
   },
   "source": [
    "# SPA5666 Midterm Project\n",
    "\n",
    "## The Luminous Efficiency of an Incandescent Light Bulb\n",
    "\n",
    "## Introduction\n",
    "\n",
    "An incandescent light bulb is a simple device - it contains a filament, usually made of tungsten, heated by the flow of electricity until it becomes hot enough to radiate thermally.  Essentially all the power consumed by an incandescent bulb is radiated as electromagnetic energy, but some of the radiation is not in the visible wavelengths, which means that it is useless for lighting purposes.\n",
    "Here we will use several numerical methods to model the efficiency of an incandescent bulb in producing visible light and determine the temperature at which it is most efficient.\n",
    "The radiation emitted from a filament at temperature $T$ obeys the Planck radiation law to a good approximation, meaning that the power radiated per unit wavelength $\\lambda$ obeys\n",
    "\n",
    "$$\n",
    "I(\\lambda) = 2 \\pi A h c^2 \\frac{\\lambda^{-5}}{e^{hc/(\\lambda k_B T)}-1}, (2)\n",
    "$$\n",
    "\n",
    "where $A$ is the surface area of the filament, $h$ is Planck's constant, $c$ is the speed of light, and $k_B$ is Boltzmann's constant. \n",
    "we can define the efficiency of a light bulb to be the fraction of the radiated energy that falls in the visible band of wavelengths when compared to the total energy radiated at all wavelengths.\n",
    "The visible portion of the spectrum is between wavelength of $\\lambda_1 = 390$ nm and $\\lambda_2 = 750$ nm.  The radiative efficiency is expressed as $\n",
    "\\eta(T) = \\frac{P_\\text{visible}}{P_\\text{total}}$ where \n",
    "\n",
    "$\n",
    "P_\\text{visible} = \\int_{\\lambda_1}^{\\lambda_2} I(\\lambda) d\\lambda\n",
    "$\n",
    "\n",
    "is the the total power radiated in the visible window $\\lambda_1 \\rightarrow \\lambda_2$ \n",
    "and \n",
    "\n",
    "$\n",
    "P_\\text{total} = \\int_{0}^{\\infty} I(\\lambda) d\\lambda\n",
    "$\n",
    "\n",
    "is the total power emitted at all wavelengths.  Making the substitution $x=hc/(\\lambda k_B T)$ and using the exact known value of the integral in the denominator, the efficiency of the bulb is then\n",
    "\n",
    "$$\n",
    "\\eta(T) = \\frac{15}{\\pi^4}\\int_{hc/(\\lambda_2 k_B T)}^{hc/(\\lambda_1 k_B T)} \\frac{x^{3}}{e^{x}-1} \\,\\mathrm{d} x,\n",
    "$$\n",
    "\n",
    "where the leading constants and the area $A$ of the filament have cancelled out.  The value of this integral function for efficiency $\\eta(T)$ cannot be determined analytically.\n",
    "Using several numerical methods find the temperature $T$ where the efficiency $\\eta(T)$ of this theoretical blackbody light source is maximised.\n",
    "This report will feature the Bisection method, the Regula Falsi method, and the Newton step method. We will be using these methods to locate the temperature value for which the efficiency is highest by plotting a graph, to give us a visual aid and a reasonable starting guess. We will then graph the derivative of our efficiency equation. Since we are looking for the maximum of our efficiency, we can say that the x intercept of the derivative curve will be where the gradient of our efficiency curve is zero. That will be where our maxima is located. Once we have obtained the temperature value we can simply put that value back into our efficiency equation to find the maximum efficiency for our range of temperatures.\n",
    "\n",
    "\n"
   ]
  },
  {
   "source": [
    "# Content\n",
    "## Introduction\n",
    "## Content\n",
    "## Methods \n",
    "### Method 1 - graphing Efficiency \n",
    "- Imports \n",
    "- Eff(T) function\n",
    "- Data Preparation Method\n",
    "- Data Analysis Method\n",
    "### Method 2 - Graphing Efficiency Derivative\n",
    "- Imports\n",
    "- Functions\n",
    "- Data Preparation Method\n",
    "### Methods 3 - Finding an expected root\n",
    "### Methods 4 - The bisection algorithm & Regula Falsi\n",
    "- Imports\n",
    "- Functions\n",
    "- Looping\n",
    "- Bisection Method\n",
    "    - Forward Derivative\n",
    "    - Extrapolated Derivative\n",
    "    - Central Derivative\n",
    "- Regula Falsi\n",
    "    - Forward Derivative\n",
    "    - Extrapolated Derivative\n",
    "    - Central Derivative\n",
    "### Methods 5 - The Newton-Raphson method\n",
    "- Imports\n",
    "- Functions\n",
    "- Looping\n",
    "- Extrapolated Second Derivative\n",
    "    - Extrapolated First Derivative\n",
    "    - Central First Derivative\n",
    "    - Forward First Derivative\n",
    "- Forward Second Derivative \n",
    "    - Extrapolated First Derivative\n",
    "    - Central First Derivative\n",
    "    - Forward First Derivative\n",
    "- Central second Derivative\n",
    "    - Extrapolated First Derivative\n",
    "    - Central First Derivative\n",
    "    - Forward First Derivative\n",
    "## Result compilation\n",
    "## Discussion\n",
    "## Conclusion\n",
    "## References"
   ],
   "cell_type": "markdown",
   "metadata": {}
  },
  {
   "cell_type": "markdown",
   "metadata": {
    "collapsed": false
   },
   "source": [
    "## Methods 1 - Graphing Efficiency\n",
    "### Imports\n",
    "from an online library called Sci.Py we can import many scientific functions and features that help us with anything related to scientific computing. Here, we use it to import the Gaussian Quadrature function. This is an efficient integration method that has already been written into the Scipy library, meaning all we need to do is import it into our code. It will return a numerical value of an integrated function from its input, along with the errors for the integral. Using the same library, we can also import values for scientific constants to suitable degrees of accuracy. We did this with c, k and h; the speed of light, the boltzmann constant and planks constant. From here we should print our imported values to see how accurate they are. We can also use the Numpy module which allows python to work well with arrays and understand trigonomic functions for example. The final module we will import is called matplotlib. This module allows us to easily visualise data using graphs, it will be very very important to have this be available to us.\n",
    "### Eff(T) Function\n",
    "We can create a function that only takes a parameter t (temperature). The reason we can do this is because this function doesn't rely on any other functions we've written and we can use t to calculate all the numbers we plan on using. We can calculate our bounds using the pair of given wavelengths which remain constant, t which we give the function. we create a function called effT representing the efficiency equation and then return the integrated version of it from the bounds it calculated (its integrated using the imported quadrature function, return allows for data the function calculates to be further used outside the function).\n",
    "### Data Preparation Method\n",
    "We can now have this equation calculate many efficiencies for a set of temperatues, store those as a list, and plot the list. We create an empty list called efficiency that will store all our efficiency values. To calculate them, we use 'linspace' to create an array of numbers with a chosen interval. I've chosen to go from 300 to 100000 with 9701 numbers inbetween, this gives us intervals of exactly 1. I've then used a for loop to iterate over each value in our array of temperatures, T, that passess each value to my eff function. The calculated efficiency value is then added to the efficiency list & this happens with all integars from 300 to 10000. \n",
    "### Data analysis Method\n",
    "Finally, we can create a plot of the data we've got using matplotlib commands (which were obtained via importing matplotlib as plt). We can plot a graph that features temperature on the x axis and efficiency on the y axis by using plt.plot(x,y) and replacing x and y with relative sets of data for those axis. We can then label each axis with a string using plt.axislabel('string'). Finally, to make the plot easier to read, we can add a grid simply by using plt.grid()."
   ]
  },
  {
   "cell_type": "code",
   "execution_count": 218,
   "metadata": {
    "collapsed": false,
    "tags": []
   },
   "outputs": [
    {
     "output_type": "stream",
     "name": "stdout",
     "text": [
      "c: 299792458.0, h: 6.62607015e-34, k: 1.380649e-23\n"
     ]
    },
    {
     "output_type": "display_data",
     "data": {
      "text/plain": "<Figure size 432x288 with 1 Axes>",
      "image/svg+xml": "<?xml version=\"1.0\" encoding=\"utf-8\" standalone=\"no\"?>\r\n<!DOCTYPE svg PUBLIC \"-//W3C//DTD SVG 1.1//EN\"\r\n  \"http://www.w3.org/Graphics/SVG/1.1/DTD/svg11.dtd\">\r\n<!-- Created with matplotlib (https://matplotlib.org/) -->\r\n<svg height=\"262.19625pt\" version=\"1.1\" viewBox=\"0 0 386.469318 262.19625\" width=\"386.469318pt\" xmlns=\"http://www.w3.org/2000/svg\" xmlns:xlink=\"http://www.w3.org/1999/xlink\">\r\n <metadata>\r\n  <rdf:RDF xmlns:cc=\"http://creativecommons.org/ns#\" xmlns:dc=\"http://purl.org/dc/elements/1.1/\" xmlns:rdf=\"http://www.w3.org/1999/02/22-rdf-syntax-ns#\">\r\n   <cc:Work>\r\n    <dc:type rdf:resource=\"http://purl.org/dc/dcmitype/StillImage\"/>\r\n    <dc:date>2021-03-12T23:20:51.120754</dc:date>\r\n    <dc:format>image/svg+xml</dc:format>\r\n    <dc:creator>\r\n     <cc:Agent>\r\n      <dc:title>Matplotlib v3.3.2, https://matplotlib.org/</dc:title>\r\n     </cc:Agent>\r\n    </dc:creator>\r\n   </cc:Work>\r\n  </rdf:RDF>\r\n </metadata>\r\n <defs>\r\n  <style type=\"text/css\">*{stroke-linecap:butt;stroke-linejoin:round;}</style>\r\n </defs>\r\n <g id=\"figure_1\">\r\n  <g id=\"patch_1\">\r\n   <path d=\"M 0 262.19625 \r\nL 386.469318 262.19625 \r\nL 386.469318 0 \r\nL 0 0 \r\nz\r\n\" style=\"fill:none;\"/>\r\n  </g>\r\n  <g id=\"axes_1\">\r\n   <g id=\"patch_2\">\r\n    <path d=\"M 43.78125 224.64 \r\nL 378.58125 224.64 \r\nL 378.58125 7.2 \r\nL 43.78125 7.2 \r\nz\r\n\" style=\"fill:#ffffff;\"/>\r\n   </g>\r\n   <g id=\"matplotlib.axis_1\">\r\n    <g id=\"xtick_1\">\r\n     <g id=\"line2d_1\">\r\n      <path clip-path=\"url(#pc37bd76205)\" d=\"M 49.586123 224.64 \r\nL 49.586123 7.2 \r\n\" style=\"fill:none;stroke:#b0b0b0;stroke-linecap:square;stroke-width:0.8;\"/>\r\n     </g>\r\n     <g id=\"line2d_2\">\r\n      <defs>\r\n       <path d=\"M 0 0 \r\nL 0 3.5 \r\n\" id=\"m1b29cbed04\" style=\"stroke:#000000;stroke-width:0.8;\"/>\r\n      </defs>\r\n      <g>\r\n       <use style=\"stroke:#000000;stroke-width:0.8;\" x=\"49.586123\" xlink:href=\"#m1b29cbed04\" y=\"224.64\"/>\r\n      </g>\r\n     </g>\r\n     <g id=\"text_1\">\r\n      <!-- 0 -->\r\n      <g transform=\"translate(46.404873 239.238437)scale(0.1 -0.1)\">\r\n       <defs>\r\n        <path d=\"M 31.78125 66.40625 \r\nQ 24.171875 66.40625 20.328125 58.90625 \r\nQ 16.5 51.421875 16.5 36.375 \r\nQ 16.5 21.390625 20.328125 13.890625 \r\nQ 24.171875 6.390625 31.78125 6.390625 \r\nQ 39.453125 6.390625 43.28125 13.890625 \r\nQ 47.125 21.390625 47.125 36.375 \r\nQ 47.125 51.421875 43.28125 58.90625 \r\nQ 39.453125 66.40625 31.78125 66.40625 \r\nz\r\nM 31.78125 74.21875 \r\nQ 44.046875 74.21875 50.515625 64.515625 \r\nQ 56.984375 54.828125 56.984375 36.375 \r\nQ 56.984375 17.96875 50.515625 8.265625 \r\nQ 44.046875 -1.421875 31.78125 -1.421875 \r\nQ 19.53125 -1.421875 13.0625 8.265625 \r\nQ 6.59375 17.96875 6.59375 36.375 \r\nQ 6.59375 54.828125 13.0625 64.515625 \r\nQ 19.53125 74.21875 31.78125 74.21875 \r\nz\r\n\" id=\"DejaVuSans-48\"/>\r\n       </defs>\r\n       <use xlink:href=\"#DejaVuSans-48\"/>\r\n      </g>\r\n     </g>\r\n    </g>\r\n    <g id=\"xtick_2\">\r\n     <g id=\"line2d_3\">\r\n      <path clip-path=\"url(#pc37bd76205)\" d=\"M 112.341512 224.64 \r\nL 112.341512 7.2 \r\n\" style=\"fill:none;stroke:#b0b0b0;stroke-linecap:square;stroke-width:0.8;\"/>\r\n     </g>\r\n     <g id=\"line2d_4\">\r\n      <g>\r\n       <use style=\"stroke:#000000;stroke-width:0.8;\" x=\"112.341512\" xlink:href=\"#m1b29cbed04\" y=\"224.64\"/>\r\n      </g>\r\n     </g>\r\n     <g id=\"text_2\">\r\n      <!-- 2000 -->\r\n      <g transform=\"translate(99.616512 239.238437)scale(0.1 -0.1)\">\r\n       <defs>\r\n        <path d=\"M 19.1875 8.296875 \r\nL 53.609375 8.296875 \r\nL 53.609375 0 \r\nL 7.328125 0 \r\nL 7.328125 8.296875 \r\nQ 12.9375 14.109375 22.625 23.890625 \r\nQ 32.328125 33.6875 34.8125 36.53125 \r\nQ 39.546875 41.84375 41.421875 45.53125 \r\nQ 43.3125 49.21875 43.3125 52.78125 \r\nQ 43.3125 58.59375 39.234375 62.25 \r\nQ 35.15625 65.921875 28.609375 65.921875 \r\nQ 23.96875 65.921875 18.8125 64.3125 \r\nQ 13.671875 62.703125 7.8125 59.421875 \r\nL 7.8125 69.390625 \r\nQ 13.765625 71.78125 18.9375 73 \r\nQ 24.125 74.21875 28.421875 74.21875 \r\nQ 39.75 74.21875 46.484375 68.546875 \r\nQ 53.21875 62.890625 53.21875 53.421875 \r\nQ 53.21875 48.921875 51.53125 44.890625 \r\nQ 49.859375 40.875 45.40625 35.40625 \r\nQ 44.1875 33.984375 37.640625 27.21875 \r\nQ 31.109375 20.453125 19.1875 8.296875 \r\nz\r\n\" id=\"DejaVuSans-50\"/>\r\n       </defs>\r\n       <use xlink:href=\"#DejaVuSans-50\"/>\r\n       <use x=\"63.623047\" xlink:href=\"#DejaVuSans-48\"/>\r\n       <use x=\"127.246094\" xlink:href=\"#DejaVuSans-48\"/>\r\n       <use x=\"190.869141\" xlink:href=\"#DejaVuSans-48\"/>\r\n      </g>\r\n     </g>\r\n    </g>\r\n    <g id=\"xtick_3\">\r\n     <g id=\"line2d_5\">\r\n      <path clip-path=\"url(#pc37bd76205)\" d=\"M 175.096901 224.64 \r\nL 175.096901 7.2 \r\n\" style=\"fill:none;stroke:#b0b0b0;stroke-linecap:square;stroke-width:0.8;\"/>\r\n     </g>\r\n     <g id=\"line2d_6\">\r\n      <g>\r\n       <use style=\"stroke:#000000;stroke-width:0.8;\" x=\"175.096901\" xlink:href=\"#m1b29cbed04\" y=\"224.64\"/>\r\n      </g>\r\n     </g>\r\n     <g id=\"text_3\">\r\n      <!-- 4000 -->\r\n      <g transform=\"translate(162.371901 239.238437)scale(0.1 -0.1)\">\r\n       <defs>\r\n        <path d=\"M 37.796875 64.3125 \r\nL 12.890625 25.390625 \r\nL 37.796875 25.390625 \r\nz\r\nM 35.203125 72.90625 \r\nL 47.609375 72.90625 \r\nL 47.609375 25.390625 \r\nL 58.015625 25.390625 \r\nL 58.015625 17.1875 \r\nL 47.609375 17.1875 \r\nL 47.609375 0 \r\nL 37.796875 0 \r\nL 37.796875 17.1875 \r\nL 4.890625 17.1875 \r\nL 4.890625 26.703125 \r\nz\r\n\" id=\"DejaVuSans-52\"/>\r\n       </defs>\r\n       <use xlink:href=\"#DejaVuSans-52\"/>\r\n       <use x=\"63.623047\" xlink:href=\"#DejaVuSans-48\"/>\r\n       <use x=\"127.246094\" xlink:href=\"#DejaVuSans-48\"/>\r\n       <use x=\"190.869141\" xlink:href=\"#DejaVuSans-48\"/>\r\n      </g>\r\n     </g>\r\n    </g>\r\n    <g id=\"xtick_4\">\r\n     <g id=\"line2d_7\">\r\n      <path clip-path=\"url(#pc37bd76205)\" d=\"M 237.85229 224.64 \r\nL 237.85229 7.2 \r\n\" style=\"fill:none;stroke:#b0b0b0;stroke-linecap:square;stroke-width:0.8;\"/>\r\n     </g>\r\n     <g id=\"line2d_8\">\r\n      <g>\r\n       <use style=\"stroke:#000000;stroke-width:0.8;\" x=\"237.85229\" xlink:href=\"#m1b29cbed04\" y=\"224.64\"/>\r\n      </g>\r\n     </g>\r\n     <g id=\"text_4\">\r\n      <!-- 6000 -->\r\n      <g transform=\"translate(225.12729 239.238437)scale(0.1 -0.1)\">\r\n       <defs>\r\n        <path d=\"M 33.015625 40.375 \r\nQ 26.375 40.375 22.484375 35.828125 \r\nQ 18.609375 31.296875 18.609375 23.390625 \r\nQ 18.609375 15.53125 22.484375 10.953125 \r\nQ 26.375 6.390625 33.015625 6.390625 \r\nQ 39.65625 6.390625 43.53125 10.953125 \r\nQ 47.40625 15.53125 47.40625 23.390625 \r\nQ 47.40625 31.296875 43.53125 35.828125 \r\nQ 39.65625 40.375 33.015625 40.375 \r\nz\r\nM 52.59375 71.296875 \r\nL 52.59375 62.3125 \r\nQ 48.875 64.0625 45.09375 64.984375 \r\nQ 41.3125 65.921875 37.59375 65.921875 \r\nQ 27.828125 65.921875 22.671875 59.328125 \r\nQ 17.53125 52.734375 16.796875 39.40625 \r\nQ 19.671875 43.65625 24.015625 45.921875 \r\nQ 28.375 48.1875 33.59375 48.1875 \r\nQ 44.578125 48.1875 50.953125 41.515625 \r\nQ 57.328125 34.859375 57.328125 23.390625 \r\nQ 57.328125 12.15625 50.6875 5.359375 \r\nQ 44.046875 -1.421875 33.015625 -1.421875 \r\nQ 20.359375 -1.421875 13.671875 8.265625 \r\nQ 6.984375 17.96875 6.984375 36.375 \r\nQ 6.984375 53.65625 15.1875 63.9375 \r\nQ 23.390625 74.21875 37.203125 74.21875 \r\nQ 40.921875 74.21875 44.703125 73.484375 \r\nQ 48.484375 72.75 52.59375 71.296875 \r\nz\r\n\" id=\"DejaVuSans-54\"/>\r\n       </defs>\r\n       <use xlink:href=\"#DejaVuSans-54\"/>\r\n       <use x=\"63.623047\" xlink:href=\"#DejaVuSans-48\"/>\r\n       <use x=\"127.246094\" xlink:href=\"#DejaVuSans-48\"/>\r\n       <use x=\"190.869141\" xlink:href=\"#DejaVuSans-48\"/>\r\n      </g>\r\n     </g>\r\n    </g>\r\n    <g id=\"xtick_5\">\r\n     <g id=\"line2d_9\">\r\n      <path clip-path=\"url(#pc37bd76205)\" d=\"M 300.607679 224.64 \r\nL 300.607679 7.2 \r\n\" style=\"fill:none;stroke:#b0b0b0;stroke-linecap:square;stroke-width:0.8;\"/>\r\n     </g>\r\n     <g id=\"line2d_10\">\r\n      <g>\r\n       <use style=\"stroke:#000000;stroke-width:0.8;\" x=\"300.607679\" xlink:href=\"#m1b29cbed04\" y=\"224.64\"/>\r\n      </g>\r\n     </g>\r\n     <g id=\"text_5\">\r\n      <!-- 8000 -->\r\n      <g transform=\"translate(287.882679 239.238437)scale(0.1 -0.1)\">\r\n       <defs>\r\n        <path d=\"M 31.78125 34.625 \r\nQ 24.75 34.625 20.71875 30.859375 \r\nQ 16.703125 27.09375 16.703125 20.515625 \r\nQ 16.703125 13.921875 20.71875 10.15625 \r\nQ 24.75 6.390625 31.78125 6.390625 \r\nQ 38.8125 6.390625 42.859375 10.171875 \r\nQ 46.921875 13.96875 46.921875 20.515625 \r\nQ 46.921875 27.09375 42.890625 30.859375 \r\nQ 38.875 34.625 31.78125 34.625 \r\nz\r\nM 21.921875 38.8125 \r\nQ 15.578125 40.375 12.03125 44.71875 \r\nQ 8.5 49.078125 8.5 55.328125 \r\nQ 8.5 64.0625 14.71875 69.140625 \r\nQ 20.953125 74.21875 31.78125 74.21875 \r\nQ 42.671875 74.21875 48.875 69.140625 \r\nQ 55.078125 64.0625 55.078125 55.328125 \r\nQ 55.078125 49.078125 51.53125 44.71875 \r\nQ 48 40.375 41.703125 38.8125 \r\nQ 48.828125 37.15625 52.796875 32.3125 \r\nQ 56.78125 27.484375 56.78125 20.515625 \r\nQ 56.78125 9.90625 50.3125 4.234375 \r\nQ 43.84375 -1.421875 31.78125 -1.421875 \r\nQ 19.734375 -1.421875 13.25 4.234375 \r\nQ 6.78125 9.90625 6.78125 20.515625 \r\nQ 6.78125 27.484375 10.78125 32.3125 \r\nQ 14.796875 37.15625 21.921875 38.8125 \r\nz\r\nM 18.3125 54.390625 \r\nQ 18.3125 48.734375 21.84375 45.5625 \r\nQ 25.390625 42.390625 31.78125 42.390625 \r\nQ 38.140625 42.390625 41.71875 45.5625 \r\nQ 45.3125 48.734375 45.3125 54.390625 \r\nQ 45.3125 60.0625 41.71875 63.234375 \r\nQ 38.140625 66.40625 31.78125 66.40625 \r\nQ 25.390625 66.40625 21.84375 63.234375 \r\nQ 18.3125 60.0625 18.3125 54.390625 \r\nz\r\n\" id=\"DejaVuSans-56\"/>\r\n       </defs>\r\n       <use xlink:href=\"#DejaVuSans-56\"/>\r\n       <use x=\"63.623047\" xlink:href=\"#DejaVuSans-48\"/>\r\n       <use x=\"127.246094\" xlink:href=\"#DejaVuSans-48\"/>\r\n       <use x=\"190.869141\" xlink:href=\"#DejaVuSans-48\"/>\r\n      </g>\r\n     </g>\r\n    </g>\r\n    <g id=\"xtick_6\">\r\n     <g id=\"line2d_11\">\r\n      <path clip-path=\"url(#pc37bd76205)\" d=\"M 363.363068 224.64 \r\nL 363.363068 7.2 \r\n\" style=\"fill:none;stroke:#b0b0b0;stroke-linecap:square;stroke-width:0.8;\"/>\r\n     </g>\r\n     <g id=\"line2d_12\">\r\n      <g>\r\n       <use style=\"stroke:#000000;stroke-width:0.8;\" x=\"363.363068\" xlink:href=\"#m1b29cbed04\" y=\"224.64\"/>\r\n      </g>\r\n     </g>\r\n     <g id=\"text_6\">\r\n      <!-- 10000 -->\r\n      <g transform=\"translate(347.456818 239.238437)scale(0.1 -0.1)\">\r\n       <defs>\r\n        <path d=\"M 12.40625 8.296875 \r\nL 28.515625 8.296875 \r\nL 28.515625 63.921875 \r\nL 10.984375 60.40625 \r\nL 10.984375 69.390625 \r\nL 28.421875 72.90625 \r\nL 38.28125 72.90625 \r\nL 38.28125 8.296875 \r\nL 54.390625 8.296875 \r\nL 54.390625 0 \r\nL 12.40625 0 \r\nz\r\n\" id=\"DejaVuSans-49\"/>\r\n       </defs>\r\n       <use xlink:href=\"#DejaVuSans-49\"/>\r\n       <use x=\"63.623047\" xlink:href=\"#DejaVuSans-48\"/>\r\n       <use x=\"127.246094\" xlink:href=\"#DejaVuSans-48\"/>\r\n       <use x=\"190.869141\" xlink:href=\"#DejaVuSans-48\"/>\r\n       <use x=\"254.492188\" xlink:href=\"#DejaVuSans-48\"/>\r\n      </g>\r\n     </g>\r\n    </g>\r\n    <g id=\"text_7\">\r\n     <!-- temperature -->\r\n     <g transform=\"translate(179.755469 252.916562)scale(0.1 -0.1)\">\r\n      <defs>\r\n       <path d=\"M 18.3125 70.21875 \r\nL 18.3125 54.6875 \r\nL 36.8125 54.6875 \r\nL 36.8125 47.703125 \r\nL 18.3125 47.703125 \r\nL 18.3125 18.015625 \r\nQ 18.3125 11.328125 20.140625 9.421875 \r\nQ 21.96875 7.515625 27.59375 7.515625 \r\nL 36.8125 7.515625 \r\nL 36.8125 0 \r\nL 27.59375 0 \r\nQ 17.1875 0 13.234375 3.875 \r\nQ 9.28125 7.765625 9.28125 18.015625 \r\nL 9.28125 47.703125 \r\nL 2.6875 47.703125 \r\nL 2.6875 54.6875 \r\nL 9.28125 54.6875 \r\nL 9.28125 70.21875 \r\nz\r\n\" id=\"DejaVuSans-116\"/>\r\n       <path d=\"M 56.203125 29.59375 \r\nL 56.203125 25.203125 \r\nL 14.890625 25.203125 \r\nQ 15.484375 15.921875 20.484375 11.0625 \r\nQ 25.484375 6.203125 34.421875 6.203125 \r\nQ 39.59375 6.203125 44.453125 7.46875 \r\nQ 49.3125 8.734375 54.109375 11.28125 \r\nL 54.109375 2.78125 \r\nQ 49.265625 0.734375 44.1875 -0.34375 \r\nQ 39.109375 -1.421875 33.890625 -1.421875 \r\nQ 20.796875 -1.421875 13.15625 6.1875 \r\nQ 5.515625 13.8125 5.515625 26.8125 \r\nQ 5.515625 40.234375 12.765625 48.109375 \r\nQ 20.015625 56 32.328125 56 \r\nQ 43.359375 56 49.78125 48.890625 \r\nQ 56.203125 41.796875 56.203125 29.59375 \r\nz\r\nM 47.21875 32.234375 \r\nQ 47.125 39.59375 43.09375 43.984375 \r\nQ 39.0625 48.390625 32.421875 48.390625 \r\nQ 24.90625 48.390625 20.390625 44.140625 \r\nQ 15.875 39.890625 15.1875 32.171875 \r\nz\r\n\" id=\"DejaVuSans-101\"/>\r\n       <path d=\"M 52 44.1875 \r\nQ 55.375 50.25 60.0625 53.125 \r\nQ 64.75 56 71.09375 56 \r\nQ 79.640625 56 84.28125 50.015625 \r\nQ 88.921875 44.046875 88.921875 33.015625 \r\nL 88.921875 0 \r\nL 79.890625 0 \r\nL 79.890625 32.71875 \r\nQ 79.890625 40.578125 77.09375 44.375 \r\nQ 74.3125 48.1875 68.609375 48.1875 \r\nQ 61.625 48.1875 57.5625 43.546875 \r\nQ 53.515625 38.921875 53.515625 30.90625 \r\nL 53.515625 0 \r\nL 44.484375 0 \r\nL 44.484375 32.71875 \r\nQ 44.484375 40.625 41.703125 44.40625 \r\nQ 38.921875 48.1875 33.109375 48.1875 \r\nQ 26.21875 48.1875 22.15625 43.53125 \r\nQ 18.109375 38.875 18.109375 30.90625 \r\nL 18.109375 0 \r\nL 9.078125 0 \r\nL 9.078125 54.6875 \r\nL 18.109375 54.6875 \r\nL 18.109375 46.1875 \r\nQ 21.1875 51.21875 25.484375 53.609375 \r\nQ 29.78125 56 35.6875 56 \r\nQ 41.65625 56 45.828125 52.96875 \r\nQ 50 49.953125 52 44.1875 \r\nz\r\n\" id=\"DejaVuSans-109\"/>\r\n       <path d=\"M 18.109375 8.203125 \r\nL 18.109375 -20.796875 \r\nL 9.078125 -20.796875 \r\nL 9.078125 54.6875 \r\nL 18.109375 54.6875 \r\nL 18.109375 46.390625 \r\nQ 20.953125 51.265625 25.265625 53.625 \r\nQ 29.59375 56 35.59375 56 \r\nQ 45.5625 56 51.78125 48.09375 \r\nQ 58.015625 40.1875 58.015625 27.296875 \r\nQ 58.015625 14.40625 51.78125 6.484375 \r\nQ 45.5625 -1.421875 35.59375 -1.421875 \r\nQ 29.59375 -1.421875 25.265625 0.953125 \r\nQ 20.953125 3.328125 18.109375 8.203125 \r\nz\r\nM 48.6875 27.296875 \r\nQ 48.6875 37.203125 44.609375 42.84375 \r\nQ 40.53125 48.484375 33.40625 48.484375 \r\nQ 26.265625 48.484375 22.1875 42.84375 \r\nQ 18.109375 37.203125 18.109375 27.296875 \r\nQ 18.109375 17.390625 22.1875 11.75 \r\nQ 26.265625 6.109375 33.40625 6.109375 \r\nQ 40.53125 6.109375 44.609375 11.75 \r\nQ 48.6875 17.390625 48.6875 27.296875 \r\nz\r\n\" id=\"DejaVuSans-112\"/>\r\n       <path d=\"M 41.109375 46.296875 \r\nQ 39.59375 47.171875 37.8125 47.578125 \r\nQ 36.03125 48 33.890625 48 \r\nQ 26.265625 48 22.1875 43.046875 \r\nQ 18.109375 38.09375 18.109375 28.8125 \r\nL 18.109375 0 \r\nL 9.078125 0 \r\nL 9.078125 54.6875 \r\nL 18.109375 54.6875 \r\nL 18.109375 46.1875 \r\nQ 20.953125 51.171875 25.484375 53.578125 \r\nQ 30.03125 56 36.53125 56 \r\nQ 37.453125 56 38.578125 55.875 \r\nQ 39.703125 55.765625 41.0625 55.515625 \r\nz\r\n\" id=\"DejaVuSans-114\"/>\r\n       <path d=\"M 34.28125 27.484375 \r\nQ 23.390625 27.484375 19.1875 25 \r\nQ 14.984375 22.515625 14.984375 16.5 \r\nQ 14.984375 11.71875 18.140625 8.90625 \r\nQ 21.296875 6.109375 26.703125 6.109375 \r\nQ 34.1875 6.109375 38.703125 11.40625 \r\nQ 43.21875 16.703125 43.21875 25.484375 \r\nL 43.21875 27.484375 \r\nz\r\nM 52.203125 31.203125 \r\nL 52.203125 0 \r\nL 43.21875 0 \r\nL 43.21875 8.296875 \r\nQ 40.140625 3.328125 35.546875 0.953125 \r\nQ 30.953125 -1.421875 24.3125 -1.421875 \r\nQ 15.921875 -1.421875 10.953125 3.296875 \r\nQ 6 8.015625 6 15.921875 \r\nQ 6 25.140625 12.171875 29.828125 \r\nQ 18.359375 34.515625 30.609375 34.515625 \r\nL 43.21875 34.515625 \r\nL 43.21875 35.40625 \r\nQ 43.21875 41.609375 39.140625 45 \r\nQ 35.0625 48.390625 27.6875 48.390625 \r\nQ 23 48.390625 18.546875 47.265625 \r\nQ 14.109375 46.140625 10.015625 43.890625 \r\nL 10.015625 52.203125 \r\nQ 14.9375 54.109375 19.578125 55.046875 \r\nQ 24.21875 56 28.609375 56 \r\nQ 40.484375 56 46.34375 49.84375 \r\nQ 52.203125 43.703125 52.203125 31.203125 \r\nz\r\n\" id=\"DejaVuSans-97\"/>\r\n       <path d=\"M 8.5 21.578125 \r\nL 8.5 54.6875 \r\nL 17.484375 54.6875 \r\nL 17.484375 21.921875 \r\nQ 17.484375 14.15625 20.5 10.265625 \r\nQ 23.53125 6.390625 29.59375 6.390625 \r\nQ 36.859375 6.390625 41.078125 11.03125 \r\nQ 45.3125 15.671875 45.3125 23.6875 \r\nL 45.3125 54.6875 \r\nL 54.296875 54.6875 \r\nL 54.296875 0 \r\nL 45.3125 0 \r\nL 45.3125 8.40625 \r\nQ 42.046875 3.421875 37.71875 1 \r\nQ 33.40625 -1.421875 27.6875 -1.421875 \r\nQ 18.265625 -1.421875 13.375 4.4375 \r\nQ 8.5 10.296875 8.5 21.578125 \r\nz\r\nM 31.109375 56 \r\nz\r\n\" id=\"DejaVuSans-117\"/>\r\n      </defs>\r\n      <use xlink:href=\"#DejaVuSans-116\"/>\r\n      <use x=\"39.208984\" xlink:href=\"#DejaVuSans-101\"/>\r\n      <use x=\"100.732422\" xlink:href=\"#DejaVuSans-109\"/>\r\n      <use x=\"198.144531\" xlink:href=\"#DejaVuSans-112\"/>\r\n      <use x=\"261.621094\" xlink:href=\"#DejaVuSans-101\"/>\r\n      <use x=\"323.144531\" xlink:href=\"#DejaVuSans-114\"/>\r\n      <use x=\"364.257812\" xlink:href=\"#DejaVuSans-97\"/>\r\n      <use x=\"425.537109\" xlink:href=\"#DejaVuSans-116\"/>\r\n      <use x=\"464.746094\" xlink:href=\"#DejaVuSans-117\"/>\r\n      <use x=\"528.125\" xlink:href=\"#DejaVuSans-114\"/>\r\n      <use x=\"566.988281\" xlink:href=\"#DejaVuSans-101\"/>\r\n     </g>\r\n    </g>\r\n   </g>\r\n   <g id=\"matplotlib.axis_2\">\r\n    <g id=\"ytick_1\">\r\n     <g id=\"line2d_13\">\r\n      <path clip-path=\"url(#pc37bd76205)\" d=\"M 43.78125 214.756364 \r\nL 378.58125 214.756364 \r\n\" style=\"fill:none;stroke:#b0b0b0;stroke-linecap:square;stroke-width:0.8;\"/>\r\n     </g>\r\n     <g id=\"line2d_14\">\r\n      <defs>\r\n       <path d=\"M 0 0 \r\nL -3.5 0 \r\n\" id=\"m42fa2ee099\" style=\"stroke:#000000;stroke-width:0.8;\"/>\r\n      </defs>\r\n      <g>\r\n       <use style=\"stroke:#000000;stroke-width:0.8;\" x=\"43.78125\" xlink:href=\"#m42fa2ee099\" y=\"214.756364\"/>\r\n      </g>\r\n     </g>\r\n     <g id=\"text_8\">\r\n      <!-- 0.0 -->\r\n      <g transform=\"translate(20.878125 218.555582)scale(0.1 -0.1)\">\r\n       <defs>\r\n        <path d=\"M 10.6875 12.40625 \r\nL 21 12.40625 \r\nL 21 0 \r\nL 10.6875 0 \r\nz\r\n\" id=\"DejaVuSans-46\"/>\r\n       </defs>\r\n       <use xlink:href=\"#DejaVuSans-48\"/>\r\n       <use x=\"63.623047\" xlink:href=\"#DejaVuSans-46\"/>\r\n       <use x=\"95.410156\" xlink:href=\"#DejaVuSans-48\"/>\r\n      </g>\r\n     </g>\r\n    </g>\r\n    <g id=\"ytick_2\">\r\n     <g id=\"line2d_15\">\r\n      <path clip-path=\"url(#pc37bd76205)\" d=\"M 43.78125 170.993817 \r\nL 378.58125 170.993817 \r\n\" style=\"fill:none;stroke:#b0b0b0;stroke-linecap:square;stroke-width:0.8;\"/>\r\n     </g>\r\n     <g id=\"line2d_16\">\r\n      <g>\r\n       <use style=\"stroke:#000000;stroke-width:0.8;\" x=\"43.78125\" xlink:href=\"#m42fa2ee099\" y=\"170.993817\"/>\r\n      </g>\r\n     </g>\r\n     <g id=\"text_9\">\r\n      <!-- 0.1 -->\r\n      <g transform=\"translate(20.878125 174.793036)scale(0.1 -0.1)\">\r\n       <use xlink:href=\"#DejaVuSans-48\"/>\r\n       <use x=\"63.623047\" xlink:href=\"#DejaVuSans-46\"/>\r\n       <use x=\"95.410156\" xlink:href=\"#DejaVuSans-49\"/>\r\n      </g>\r\n     </g>\r\n    </g>\r\n    <g id=\"ytick_3\">\r\n     <g id=\"line2d_17\">\r\n      <path clip-path=\"url(#pc37bd76205)\" d=\"M 43.78125 127.23127 \r\nL 378.58125 127.23127 \r\n\" style=\"fill:none;stroke:#b0b0b0;stroke-linecap:square;stroke-width:0.8;\"/>\r\n     </g>\r\n     <g id=\"line2d_18\">\r\n      <g>\r\n       <use style=\"stroke:#000000;stroke-width:0.8;\" x=\"43.78125\" xlink:href=\"#m42fa2ee099\" y=\"127.23127\"/>\r\n      </g>\r\n     </g>\r\n     <g id=\"text_10\">\r\n      <!-- 0.2 -->\r\n      <g transform=\"translate(20.878125 131.030489)scale(0.1 -0.1)\">\r\n       <use xlink:href=\"#DejaVuSans-48\"/>\r\n       <use x=\"63.623047\" xlink:href=\"#DejaVuSans-46\"/>\r\n       <use x=\"95.410156\" xlink:href=\"#DejaVuSans-50\"/>\r\n      </g>\r\n     </g>\r\n    </g>\r\n    <g id=\"ytick_4\">\r\n     <g id=\"line2d_19\">\r\n      <path clip-path=\"url(#pc37bd76205)\" d=\"M 43.78125 83.468723 \r\nL 378.58125 83.468723 \r\n\" style=\"fill:none;stroke:#b0b0b0;stroke-linecap:square;stroke-width:0.8;\"/>\r\n     </g>\r\n     <g id=\"line2d_20\">\r\n      <g>\r\n       <use style=\"stroke:#000000;stroke-width:0.8;\" x=\"43.78125\" xlink:href=\"#m42fa2ee099\" y=\"83.468723\"/>\r\n      </g>\r\n     </g>\r\n     <g id=\"text_11\">\r\n      <!-- 0.3 -->\r\n      <g transform=\"translate(20.878125 87.267942)scale(0.1 -0.1)\">\r\n       <defs>\r\n        <path d=\"M 40.578125 39.3125 \r\nQ 47.65625 37.796875 51.625 33 \r\nQ 55.609375 28.21875 55.609375 21.1875 \r\nQ 55.609375 10.40625 48.1875 4.484375 \r\nQ 40.765625 -1.421875 27.09375 -1.421875 \r\nQ 22.515625 -1.421875 17.65625 -0.515625 \r\nQ 12.796875 0.390625 7.625 2.203125 \r\nL 7.625 11.71875 \r\nQ 11.71875 9.328125 16.59375 8.109375 \r\nQ 21.484375 6.890625 26.8125 6.890625 \r\nQ 36.078125 6.890625 40.9375 10.546875 \r\nQ 45.796875 14.203125 45.796875 21.1875 \r\nQ 45.796875 27.640625 41.28125 31.265625 \r\nQ 36.765625 34.90625 28.71875 34.90625 \r\nL 20.21875 34.90625 \r\nL 20.21875 43.015625 \r\nL 29.109375 43.015625 \r\nQ 36.375 43.015625 40.234375 45.921875 \r\nQ 44.09375 48.828125 44.09375 54.296875 \r\nQ 44.09375 59.90625 40.109375 62.90625 \r\nQ 36.140625 65.921875 28.71875 65.921875 \r\nQ 24.65625 65.921875 20.015625 65.03125 \r\nQ 15.375 64.15625 9.8125 62.3125 \r\nL 9.8125 71.09375 \r\nQ 15.4375 72.65625 20.34375 73.4375 \r\nQ 25.25 74.21875 29.59375 74.21875 \r\nQ 40.828125 74.21875 47.359375 69.109375 \r\nQ 53.90625 64.015625 53.90625 55.328125 \r\nQ 53.90625 49.265625 50.4375 45.09375 \r\nQ 46.96875 40.921875 40.578125 39.3125 \r\nz\r\n\" id=\"DejaVuSans-51\"/>\r\n       </defs>\r\n       <use xlink:href=\"#DejaVuSans-48\"/>\r\n       <use x=\"63.623047\" xlink:href=\"#DejaVuSans-46\"/>\r\n       <use x=\"95.410156\" xlink:href=\"#DejaVuSans-51\"/>\r\n      </g>\r\n     </g>\r\n    </g>\r\n    <g id=\"ytick_5\">\r\n     <g id=\"line2d_21\">\r\n      <path clip-path=\"url(#pc37bd76205)\" d=\"M 43.78125 39.706176 \r\nL 378.58125 39.706176 \r\n\" style=\"fill:none;stroke:#b0b0b0;stroke-linecap:square;stroke-width:0.8;\"/>\r\n     </g>\r\n     <g id=\"line2d_22\">\r\n      <g>\r\n       <use style=\"stroke:#000000;stroke-width:0.8;\" x=\"43.78125\" xlink:href=\"#m42fa2ee099\" y=\"39.706176\"/>\r\n      </g>\r\n     </g>\r\n     <g id=\"text_12\">\r\n      <!-- 0.4 -->\r\n      <g transform=\"translate(20.878125 43.505395)scale(0.1 -0.1)\">\r\n       <use xlink:href=\"#DejaVuSans-48\"/>\r\n       <use x=\"63.623047\" xlink:href=\"#DejaVuSans-46\"/>\r\n       <use x=\"95.410156\" xlink:href=\"#DejaVuSans-52\"/>\r\n      </g>\r\n     </g>\r\n    </g>\r\n    <g id=\"text_13\">\r\n     <!-- efficiency -->\r\n     <g transform=\"translate(14.798438 139.998125)rotate(-90)scale(0.1 -0.1)\">\r\n      <defs>\r\n       <path d=\"M 37.109375 75.984375 \r\nL 37.109375 68.5 \r\nL 28.515625 68.5 \r\nQ 23.6875 68.5 21.796875 66.546875 \r\nQ 19.921875 64.59375 19.921875 59.515625 \r\nL 19.921875 54.6875 \r\nL 34.71875 54.6875 \r\nL 34.71875 47.703125 \r\nL 19.921875 47.703125 \r\nL 19.921875 0 \r\nL 10.890625 0 \r\nL 10.890625 47.703125 \r\nL 2.296875 47.703125 \r\nL 2.296875 54.6875 \r\nL 10.890625 54.6875 \r\nL 10.890625 58.5 \r\nQ 10.890625 67.625 15.140625 71.796875 \r\nQ 19.390625 75.984375 28.609375 75.984375 \r\nz\r\n\" id=\"DejaVuSans-102\"/>\r\n       <path d=\"M 9.421875 54.6875 \r\nL 18.40625 54.6875 \r\nL 18.40625 0 \r\nL 9.421875 0 \r\nz\r\nM 9.421875 75.984375 \r\nL 18.40625 75.984375 \r\nL 18.40625 64.59375 \r\nL 9.421875 64.59375 \r\nz\r\n\" id=\"DejaVuSans-105\"/>\r\n       <path d=\"M 48.78125 52.59375 \r\nL 48.78125 44.1875 \r\nQ 44.96875 46.296875 41.140625 47.34375 \r\nQ 37.3125 48.390625 33.40625 48.390625 \r\nQ 24.65625 48.390625 19.8125 42.84375 \r\nQ 14.984375 37.3125 14.984375 27.296875 \r\nQ 14.984375 17.28125 19.8125 11.734375 \r\nQ 24.65625 6.203125 33.40625 6.203125 \r\nQ 37.3125 6.203125 41.140625 7.25 \r\nQ 44.96875 8.296875 48.78125 10.40625 \r\nL 48.78125 2.09375 \r\nQ 45.015625 0.34375 40.984375 -0.53125 \r\nQ 36.96875 -1.421875 32.421875 -1.421875 \r\nQ 20.0625 -1.421875 12.78125 6.34375 \r\nQ 5.515625 14.109375 5.515625 27.296875 \r\nQ 5.515625 40.671875 12.859375 48.328125 \r\nQ 20.21875 56 33.015625 56 \r\nQ 37.15625 56 41.109375 55.140625 \r\nQ 45.0625 54.296875 48.78125 52.59375 \r\nz\r\n\" id=\"DejaVuSans-99\"/>\r\n       <path d=\"M 54.890625 33.015625 \r\nL 54.890625 0 \r\nL 45.90625 0 \r\nL 45.90625 32.71875 \r\nQ 45.90625 40.484375 42.875 44.328125 \r\nQ 39.84375 48.1875 33.796875 48.1875 \r\nQ 26.515625 48.1875 22.3125 43.546875 \r\nQ 18.109375 38.921875 18.109375 30.90625 \r\nL 18.109375 0 \r\nL 9.078125 0 \r\nL 9.078125 54.6875 \r\nL 18.109375 54.6875 \r\nL 18.109375 46.1875 \r\nQ 21.34375 51.125 25.703125 53.5625 \r\nQ 30.078125 56 35.796875 56 \r\nQ 45.21875 56 50.046875 50.171875 \r\nQ 54.890625 44.34375 54.890625 33.015625 \r\nz\r\n\" id=\"DejaVuSans-110\"/>\r\n       <path d=\"M 32.171875 -5.078125 \r\nQ 28.375 -14.84375 24.75 -17.8125 \r\nQ 21.140625 -20.796875 15.09375 -20.796875 \r\nL 7.90625 -20.796875 \r\nL 7.90625 -13.28125 \r\nL 13.1875 -13.28125 \r\nQ 16.890625 -13.28125 18.9375 -11.515625 \r\nQ 21 -9.765625 23.484375 -3.21875 \r\nL 25.09375 0.875 \r\nL 2.984375 54.6875 \r\nL 12.5 54.6875 \r\nL 29.59375 11.921875 \r\nL 46.6875 54.6875 \r\nL 56.203125 54.6875 \r\nz\r\n\" id=\"DejaVuSans-121\"/>\r\n      </defs>\r\n      <use xlink:href=\"#DejaVuSans-101\"/>\r\n      <use x=\"61.523438\" xlink:href=\"#DejaVuSans-102\"/>\r\n      <use x=\"96.728516\" xlink:href=\"#DejaVuSans-102\"/>\r\n      <use x=\"131.933594\" xlink:href=\"#DejaVuSans-105\"/>\r\n      <use x=\"159.716797\" xlink:href=\"#DejaVuSans-99\"/>\r\n      <use x=\"214.697266\" xlink:href=\"#DejaVuSans-105\"/>\r\n      <use x=\"242.480469\" xlink:href=\"#DejaVuSans-101\"/>\r\n      <use x=\"304.003906\" xlink:href=\"#DejaVuSans-110\"/>\r\n      <use x=\"367.382812\" xlink:href=\"#DejaVuSans-99\"/>\r\n      <use x=\"422.363281\" xlink:href=\"#DejaVuSans-121\"/>\r\n     </g>\r\n    </g>\r\n   </g>\r\n   <g id=\"line2d_23\">\r\n    <path clip-path=\"url(#pc37bd76205)\" d=\"M 58.999432 214.756364 \r\nL 90.59677 214.645318 \r\nL 95.334802 214.381347 \r\nL 98.911859 213.9647 \r\nL 101.955496 213.390157 \r\nL 104.716733 212.643337 \r\nL 107.289704 211.716964 \r\nL 109.737164 210.601284 \r\nL 112.153246 209.253546 \r\nL 114.537951 207.666344 \r\nL 116.922656 205.811497 \r\nL 119.370116 203.621347 \r\nL 121.880332 201.069878 \r\nL 124.48468 198.097521 \r\nL 127.183162 194.675745 \r\nL 130.038532 190.690819 \r\nL 133.082168 186.055135 \r\nL 136.376826 180.623289 \r\nL 139.985261 174.236389 \r\nL 144.064362 166.550793 \r\nL 148.865149 157.01147 \r\nL 155.172065 143.947016 \r\nL 173.371128 105.957313 \r\nL 178.92498 95.044366 \r\nL 183.851278 85.842464 \r\nL 188.401044 77.805225 \r\nL 192.699788 70.655917 \r\nL 196.810266 64.246573 \r\nL 200.763855 58.488998 \r\nL 204.591934 53.301561 \r\nL 208.32588 48.611272 \r\nL 211.99707 44.354793 \r\nL 215.574127 40.542759 \r\nL 219.119807 37.085709 \r\nL 222.634108 33.968673 \r\nL 226.117033 31.175844 \r\nL 229.568579 28.690903 \r\nL 233.020125 26.478374 \r\nL 236.471672 24.528639 \r\nL 239.923218 22.831628 \r\nL 243.406142 21.364804 \r\nL 246.920444 20.123793 \r\nL 250.497501 19.095552 \r\nL 254.137314 18.2803 \r\nL 257.871259 17.673093 \r\nL 261.699338 17.277645 \r\nL 265.62155 17.096303 \r\nL 269.70065 17.13227 \r\nL 273.936639 17.394907 \r\nL 278.329516 17.891352 \r\nL 282.942037 18.638082 \r\nL 287.80558 19.653395 \r\nL 292.951522 20.957682 \r\nL 298.442618 22.582397 \r\nL 304.341625 24.563936 \r\nL 310.711297 26.941583 \r\nL 317.708523 29.795019 \r\nL 325.521569 33.227026 \r\nL 334.432834 37.390712 \r\nL 345.069872 42.615018 \r\nL 359.095702 49.76843 \r\nL 363.363068 51.97893 \r\nL 363.363068 51.97893 \r\n\" style=\"fill:none;stroke:#1f77b4;stroke-linecap:square;stroke-width:1.5;\"/>\r\n   </g>\r\n   <g id=\"patch_3\">\r\n    <path d=\"M 43.78125 224.64 \r\nL 43.78125 7.2 \r\n\" style=\"fill:none;stroke:#000000;stroke-linecap:square;stroke-linejoin:miter;stroke-width:0.8;\"/>\r\n   </g>\r\n   <g id=\"patch_4\">\r\n    <path d=\"M 378.58125 224.64 \r\nL 378.58125 7.2 \r\n\" style=\"fill:none;stroke:#000000;stroke-linecap:square;stroke-linejoin:miter;stroke-width:0.8;\"/>\r\n   </g>\r\n   <g id=\"patch_5\">\r\n    <path d=\"M 43.78125 224.64 \r\nL 378.58125 224.64 \r\n\" style=\"fill:none;stroke:#000000;stroke-linecap:square;stroke-linejoin:miter;stroke-width:0.8;\"/>\r\n   </g>\r\n   <g id=\"patch_6\">\r\n    <path d=\"M 43.78125 7.2 \r\nL 378.58125 7.2 \r\n\" style=\"fill:none;stroke:#000000;stroke-linecap:square;stroke-linejoin:miter;stroke-width:0.8;\"/>\r\n   </g>\r\n  </g>\r\n </g>\r\n <defs>\r\n  <clipPath id=\"pc37bd76205\">\r\n   <rect height=\"217.44\" width=\"334.8\" x=\"43.78125\" y=\"7.2\"/>\r\n  </clipPath>\r\n </defs>\r\n</svg>\r\n",
      "image/png": "[encoded data removed]"
     },
     "metadata": {
      "needs_background": "light"
     }
    }
   ],
   "source": [
    "# Imports\n",
    "from scipy.integrate import quad\n",
    "from scipy.constants import c, h, k\n",
    "from numpy import *\n",
    "import matplotlib.pyplot as plt\n",
    "\n",
    "# testing imported values\n",
    "print(f'c: {c}, h: {h}, k: {k}')\n",
    "\n",
    "# Efficiency function\n",
    "def eff(t):\n",
    "    lambda1 = 390e-9\n",
    "    lambda2 = 750e-9\n",
    "    upper = (h*c)/(lambda1*k*t)\n",
    "    lower = (h*c)/(lambda2*k*t)\n",
    "    effT = lambda x: ( 15/pi**4 ) * ( (x**3) / (exp(x)-1) )\n",
    "    return (quad(effT, lower ,upper)[0])\n",
    "\n",
    "# aquiring efficiency values in given temperature range\n",
    "efficiency = []\n",
    "T = linspace(300,10000,int(9701))\n",
    "for t in T:\n",
    "    efficiency.append(eff(t))\n",
    "\n",
    "# plotting a graph of temperature v efficiency\n",
    "plt.plot(T, efficiency)\n",
    "plt.ylabel('efficiency')\n",
    "plt.xlabel('temperature')\n",
    "plt.grid()"
   ]
  },
  {
   "cell_type": "markdown",
   "metadata": {
    "collapsed": false
   },
   "source": [
    "## Methods 2 - Graphing Efficiency Derivative\n",
    "### Imports\n",
    "Although jupyter only requires imports to be done once, for debugging purposes I prefer to have all imports and functions used in each cell be visible, this allows me to visualise what is going on and problem solve much easier as it lets me view everything at once. Similarly, we want to import our constants: c, h, and k from the Scipy module and the math module, numpy. Our current objective, now that we've seen the graph of efficiency, is to define derivative functions that we can use to form a derivative curve. This will help us understand where the x intercept value is and potentially allow us to see which methods work best based on values of step size that the derivative function takes. \n",
    "### Functions\n",
    "The derivative methods featured here are: Forward Difference (fder), Central Difference (cder), Extrapolated Difference (ED) and the Imaginary Step (IS). Each method has their own accuracy levels based on tested values of H. To save time and make calling these functions simpler, I've given each function the step size value its most accurate with as a default parameter, that way we dont need to add it into the parameters when we call the function. Each function will take the function that needs deriving (f) & a temperature value to put inside the function (t). The equations for each method are as follows:\n",
    "\n",
    "$$\n",
    "Forward - Difference = f'(x, h)_\\text{FD} = \\frac{f(x + h) - f(x)}{h}. (3)\n",
    "$$\n",
    "$$\n",
    "Central - Difference = f'(x, h)_\\text{CD} = \\frac{f(x + \\tfrac12h) - f(x - \\tfrac12h)}{h}. (3)\n",
    "$$\n",
    "$$\n",
    "Extrapolated - Difference = f'(x, h)_\\text{ED} = \\tfrac13\\big(4f'(x, \\tfrac12h)_\\text{CD} - f'(x, h)_\\text{CD}\\big).\n",
    "$$\n",
    "$$\n",
    "Imaginary - Step = f'(x, h)_\\text{IS} = \\frac{\\mathrm{Im}\\{f(x + \\mathrm{i}h)\\}}{h}\n",
    "$$\n",
    "\n",
    "where x is our test value, h is our step size and f is our function. We can then define a function that will calculate what the efficiency is for each temperature value as this will be needed for the derivative methods. Although this function is very similar to the previous version: 'eff', I have rewritten it here for reason stated in the introduction, as well as renaming it to 'f' for convention. \n",
    "### Data Preparation Method\n",
    "We can create 4 lists, each list will include corresponding efficiency values for each integar between 300 and 10000. I have used the same code to create our integar list of temperatures as before. To actually obtain our derivative values I have coded a for loop to iterate over all elements in our list of integar temperatures and asked python to calculate what the value of the derivative of efficiency is for each of the temperature values the for loop iterates over. It will do this for every method of differentiation we have looked at and add each calculated value to their respective lists. Python will then plot a graph featuring temperature as its x value, and each list of derivative values as its y values. each curve is labelled by looking at the derivative method used."
   ]
  },
  {
   "cell_type": "code",
   "execution_count": 219,
   "metadata": {
    "collapsed": false
   },
   "outputs": [
    {
     "output_type": "stream",
     "name": "stderr",
     "text": [
      "C:\\Users\\saash\\anaconda3\\lib\\site-packages\\scipy\\integrate\\quadpack.py:463: ComplexWarning: Casting complex values to real discards the imaginary part\n  return _quadpack._qagse(func,a,b,args,full_output,epsabs,epsrel,limit)\n"
     ]
    },
    {
     "output_type": "display_data",
     "data": {
      "text/plain": "<Figure size 432x288 with 1 Axes>",
      "image/svg+xml": "<?xml version=\"1.0\" encoding=\"utf-8\" standalone=\"no\"?>\r\n<!DOCTYPE svg PUBLIC \"-//W3C//DTD SVG 1.1//EN\"\r\n  \"http://www.w3.org/Graphics/SVG/1.1/DTD/svg11.dtd\">\r\n<!-- Created with matplotlib (https://matplotlib.org/) -->\r\n<svg height=\"262.19625pt\" version=\"1.1\" viewBox=\"0 0 426.661506 262.19625\" width=\"426.661506pt\" xmlns=\"http://www.w3.org/2000/svg\" xmlns:xlink=\"http://www.w3.org/1999/xlink\">\r\n <metadata>\r\n  <rdf:RDF xmlns:cc=\"http://creativecommons.org/ns#\" xmlns:dc=\"http://purl.org/dc/elements/1.1/\" xmlns:rdf=\"http://www.w3.org/1999/02/22-rdf-syntax-ns#\">\r\n   <cc:Work>\r\n    <dc:type rdf:resource=\"http://purl.org/dc/dcmitype/StillImage\"/>\r\n    <dc:date>2021-03-12T23:20:57.611260</dc:date>\r\n    <dc:format>image/svg+xml</dc:format>\r\n    <dc:creator>\r\n     <cc:Agent>\r\n      <dc:title>Matplotlib v3.3.2, https://matplotlib.org/</dc:title>\r\n     </cc:Agent>\r\n    </dc:creator>\r\n   </cc:Work>\r\n  </rdf:RDF>\r\n </metadata>\r\n <defs>\r\n  <style type=\"text/css\">*{stroke-linecap:butt;stroke-linejoin:round;}</style>\r\n </defs>\r\n <g id=\"figure_1\">\r\n  <g id=\"patch_1\">\r\n   <path d=\"M 0 262.19625 \r\nL 426.661506 262.19625 \r\nL 426.661506 0 \r\nL 0 0 \r\nz\r\n\" style=\"fill:none;\"/>\r\n  </g>\r\n  <g id=\"axes_1\">\r\n   <g id=\"patch_2\">\r\n    <path d=\"M 83.973438 224.64 \r\nL 418.773438 224.64 \r\nL 418.773438 7.2 \r\nL 83.973438 7.2 \r\nz\r\n\" style=\"fill:#ffffff;\"/>\r\n   </g>\r\n   <g id=\"matplotlib.axis_1\">\r\n    <g id=\"xtick_1\">\r\n     <g id=\"line2d_1\">\r\n      <path clip-path=\"url(#pbf646738d3)\" d=\"M 89.778311 224.64 \r\nL 89.778311 7.2 \r\n\" style=\"fill:none;stroke:#b0b0b0;stroke-linecap:square;stroke-width:0.8;\"/>\r\n     </g>\r\n     <g id=\"line2d_2\">\r\n      <defs>\r\n       <path d=\"M 0 0 \r\nL 0 3.5 \r\n\" id=\"m27e41dbdcf\" style=\"stroke:#000000;stroke-width:0.8;\"/>\r\n      </defs>\r\n      <g>\r\n       <use style=\"stroke:#000000;stroke-width:0.8;\" x=\"89.778311\" xlink:href=\"#m27e41dbdcf\" y=\"224.64\"/>\r\n      </g>\r\n     </g>\r\n     <g id=\"text_1\">\r\n      <!-- 0 -->\r\n      <g transform=\"translate(86.597061 239.238437)scale(0.1 -0.1)\">\r\n       <defs>\r\n        <path d=\"M 31.78125 66.40625 \r\nQ 24.171875 66.40625 20.328125 58.90625 \r\nQ 16.5 51.421875 16.5 36.375 \r\nQ 16.5 21.390625 20.328125 13.890625 \r\nQ 24.171875 6.390625 31.78125 6.390625 \r\nQ 39.453125 6.390625 43.28125 13.890625 \r\nQ 47.125 21.390625 47.125 36.375 \r\nQ 47.125 51.421875 43.28125 58.90625 \r\nQ 39.453125 66.40625 31.78125 66.40625 \r\nz\r\nM 31.78125 74.21875 \r\nQ 44.046875 74.21875 50.515625 64.515625 \r\nQ 56.984375 54.828125 56.984375 36.375 \r\nQ 56.984375 17.96875 50.515625 8.265625 \r\nQ 44.046875 -1.421875 31.78125 -1.421875 \r\nQ 19.53125 -1.421875 13.0625 8.265625 \r\nQ 6.59375 17.96875 6.59375 36.375 \r\nQ 6.59375 54.828125 13.0625 64.515625 \r\nQ 19.53125 74.21875 31.78125 74.21875 \r\nz\r\n\" id=\"DejaVuSans-48\"/>\r\n       </defs>\r\n       <use xlink:href=\"#DejaVuSans-48\"/>\r\n      </g>\r\n     </g>\r\n    </g>\r\n    <g id=\"xtick_2\">\r\n     <g id=\"line2d_3\">\r\n      <path clip-path=\"url(#pbf646738d3)\" d=\"M 152.5337 224.64 \r\nL 152.5337 7.2 \r\n\" style=\"fill:none;stroke:#b0b0b0;stroke-linecap:square;stroke-width:0.8;\"/>\r\n     </g>\r\n     <g id=\"line2d_4\">\r\n      <g>\r\n       <use style=\"stroke:#000000;stroke-width:0.8;\" x=\"152.5337\" xlink:href=\"#m27e41dbdcf\" y=\"224.64\"/>\r\n      </g>\r\n     </g>\r\n     <g id=\"text_2\">\r\n      <!-- 2000 -->\r\n      <g transform=\"translate(139.8087 239.238437)scale(0.1 -0.1)\">\r\n       <defs>\r\n        <path d=\"M 19.1875 8.296875 \r\nL 53.609375 8.296875 \r\nL 53.609375 0 \r\nL 7.328125 0 \r\nL 7.328125 8.296875 \r\nQ 12.9375 14.109375 22.625 23.890625 \r\nQ 32.328125 33.6875 34.8125 36.53125 \r\nQ 39.546875 41.84375 41.421875 45.53125 \r\nQ 43.3125 49.21875 43.3125 52.78125 \r\nQ 43.3125 58.59375 39.234375 62.25 \r\nQ 35.15625 65.921875 28.609375 65.921875 \r\nQ 23.96875 65.921875 18.8125 64.3125 \r\nQ 13.671875 62.703125 7.8125 59.421875 \r\nL 7.8125 69.390625 \r\nQ 13.765625 71.78125 18.9375 73 \r\nQ 24.125 74.21875 28.421875 74.21875 \r\nQ 39.75 74.21875 46.484375 68.546875 \r\nQ 53.21875 62.890625 53.21875 53.421875 \r\nQ 53.21875 48.921875 51.53125 44.890625 \r\nQ 49.859375 40.875 45.40625 35.40625 \r\nQ 44.1875 33.984375 37.640625 27.21875 \r\nQ 31.109375 20.453125 19.1875 8.296875 \r\nz\r\n\" id=\"DejaVuSans-50\"/>\r\n       </defs>\r\n       <use xlink:href=\"#DejaVuSans-50\"/>\r\n       <use x=\"63.623047\" xlink:href=\"#DejaVuSans-48\"/>\r\n       <use x=\"127.246094\" xlink:href=\"#DejaVuSans-48\"/>\r\n       <use x=\"190.869141\" xlink:href=\"#DejaVuSans-48\"/>\r\n      </g>\r\n     </g>\r\n    </g>\r\n    <g id=\"xtick_3\">\r\n     <g id=\"line2d_5\">\r\n      <path clip-path=\"url(#pbf646738d3)\" d=\"M 215.289089 224.64 \r\nL 215.289089 7.2 \r\n\" style=\"fill:none;stroke:#b0b0b0;stroke-linecap:square;stroke-width:0.8;\"/>\r\n     </g>\r\n     <g id=\"line2d_6\">\r\n      <g>\r\n       <use style=\"stroke:#000000;stroke-width:0.8;\" x=\"215.289089\" xlink:href=\"#m27e41dbdcf\" y=\"224.64\"/>\r\n      </g>\r\n     </g>\r\n     <g id=\"text_3\">\r\n      <!-- 4000 -->\r\n      <g transform=\"translate(202.564089 239.238437)scale(0.1 -0.1)\">\r\n       <defs>\r\n        <path d=\"M 37.796875 64.3125 \r\nL 12.890625 25.390625 \r\nL 37.796875 25.390625 \r\nz\r\nM 35.203125 72.90625 \r\nL 47.609375 72.90625 \r\nL 47.609375 25.390625 \r\nL 58.015625 25.390625 \r\nL 58.015625 17.1875 \r\nL 47.609375 17.1875 \r\nL 47.609375 0 \r\nL 37.796875 0 \r\nL 37.796875 17.1875 \r\nL 4.890625 17.1875 \r\nL 4.890625 26.703125 \r\nz\r\n\" id=\"DejaVuSans-52\"/>\r\n       </defs>\r\n       <use xlink:href=\"#DejaVuSans-52\"/>\r\n       <use x=\"63.623047\" xlink:href=\"#DejaVuSans-48\"/>\r\n       <use x=\"127.246094\" xlink:href=\"#DejaVuSans-48\"/>\r\n       <use x=\"190.869141\" xlink:href=\"#DejaVuSans-48\"/>\r\n      </g>\r\n     </g>\r\n    </g>\r\n    <g id=\"xtick_4\">\r\n     <g id=\"line2d_7\">\r\n      <path clip-path=\"url(#pbf646738d3)\" d=\"M 278.044478 224.64 \r\nL 278.044478 7.2 \r\n\" style=\"fill:none;stroke:#b0b0b0;stroke-linecap:square;stroke-width:0.8;\"/>\r\n     </g>\r\n     <g id=\"line2d_8\">\r\n      <g>\r\n       <use style=\"stroke:#000000;stroke-width:0.8;\" x=\"278.044478\" xlink:href=\"#m27e41dbdcf\" y=\"224.64\"/>\r\n      </g>\r\n     </g>\r\n     <g id=\"text_4\">\r\n      <!-- 6000 -->\r\n      <g transform=\"translate(265.319478 239.238437)scale(0.1 -0.1)\">\r\n       <defs>\r\n        <path d=\"M 33.015625 40.375 \r\nQ 26.375 40.375 22.484375 35.828125 \r\nQ 18.609375 31.296875 18.609375 23.390625 \r\nQ 18.609375 15.53125 22.484375 10.953125 \r\nQ 26.375 6.390625 33.015625 6.390625 \r\nQ 39.65625 6.390625 43.53125 10.953125 \r\nQ 47.40625 15.53125 47.40625 23.390625 \r\nQ 47.40625 31.296875 43.53125 35.828125 \r\nQ 39.65625 40.375 33.015625 40.375 \r\nz\r\nM 52.59375 71.296875 \r\nL 52.59375 62.3125 \r\nQ 48.875 64.0625 45.09375 64.984375 \r\nQ 41.3125 65.921875 37.59375 65.921875 \r\nQ 27.828125 65.921875 22.671875 59.328125 \r\nQ 17.53125 52.734375 16.796875 39.40625 \r\nQ 19.671875 43.65625 24.015625 45.921875 \r\nQ 28.375 48.1875 33.59375 48.1875 \r\nQ 44.578125 48.1875 50.953125 41.515625 \r\nQ 57.328125 34.859375 57.328125 23.390625 \r\nQ 57.328125 12.15625 50.6875 5.359375 \r\nQ 44.046875 -1.421875 33.015625 -1.421875 \r\nQ 20.359375 -1.421875 13.671875 8.265625 \r\nQ 6.984375 17.96875 6.984375 36.375 \r\nQ 6.984375 53.65625 15.1875 63.9375 \r\nQ 23.390625 74.21875 37.203125 74.21875 \r\nQ 40.921875 74.21875 44.703125 73.484375 \r\nQ 48.484375 72.75 52.59375 71.296875 \r\nz\r\n\" id=\"DejaVuSans-54\"/>\r\n       </defs>\r\n       <use xlink:href=\"#DejaVuSans-54\"/>\r\n       <use x=\"63.623047\" xlink:href=\"#DejaVuSans-48\"/>\r\n       <use x=\"127.246094\" xlink:href=\"#DejaVuSans-48\"/>\r\n       <use x=\"190.869141\" xlink:href=\"#DejaVuSans-48\"/>\r\n      </g>\r\n     </g>\r\n    </g>\r\n    <g id=\"xtick_5\">\r\n     <g id=\"line2d_9\">\r\n      <path clip-path=\"url(#pbf646738d3)\" d=\"M 340.799867 224.64 \r\nL 340.799867 7.2 \r\n\" style=\"fill:none;stroke:#b0b0b0;stroke-linecap:square;stroke-width:0.8;\"/>\r\n     </g>\r\n     <g id=\"line2d_10\">\r\n      <g>\r\n       <use style=\"stroke:#000000;stroke-width:0.8;\" x=\"340.799867\" xlink:href=\"#m27e41dbdcf\" y=\"224.64\"/>\r\n      </g>\r\n     </g>\r\n     <g id=\"text_5\">\r\n      <!-- 8000 -->\r\n      <g transform=\"translate(328.074867 239.238437)scale(0.1 -0.1)\">\r\n       <defs>\r\n        <path d=\"M 31.78125 34.625 \r\nQ 24.75 34.625 20.71875 30.859375 \r\nQ 16.703125 27.09375 16.703125 20.515625 \r\nQ 16.703125 13.921875 20.71875 10.15625 \r\nQ 24.75 6.390625 31.78125 6.390625 \r\nQ 38.8125 6.390625 42.859375 10.171875 \r\nQ 46.921875 13.96875 46.921875 20.515625 \r\nQ 46.921875 27.09375 42.890625 30.859375 \r\nQ 38.875 34.625 31.78125 34.625 \r\nz\r\nM 21.921875 38.8125 \r\nQ 15.578125 40.375 12.03125 44.71875 \r\nQ 8.5 49.078125 8.5 55.328125 \r\nQ 8.5 64.0625 14.71875 69.140625 \r\nQ 20.953125 74.21875 31.78125 74.21875 \r\nQ 42.671875 74.21875 48.875 69.140625 \r\nQ 55.078125 64.0625 55.078125 55.328125 \r\nQ 55.078125 49.078125 51.53125 44.71875 \r\nQ 48 40.375 41.703125 38.8125 \r\nQ 48.828125 37.15625 52.796875 32.3125 \r\nQ 56.78125 27.484375 56.78125 20.515625 \r\nQ 56.78125 9.90625 50.3125 4.234375 \r\nQ 43.84375 -1.421875 31.78125 -1.421875 \r\nQ 19.734375 -1.421875 13.25 4.234375 \r\nQ 6.78125 9.90625 6.78125 20.515625 \r\nQ 6.78125 27.484375 10.78125 32.3125 \r\nQ 14.796875 37.15625 21.921875 38.8125 \r\nz\r\nM 18.3125 54.390625 \r\nQ 18.3125 48.734375 21.84375 45.5625 \r\nQ 25.390625 42.390625 31.78125 42.390625 \r\nQ 38.140625 42.390625 41.71875 45.5625 \r\nQ 45.3125 48.734375 45.3125 54.390625 \r\nQ 45.3125 60.0625 41.71875 63.234375 \r\nQ 38.140625 66.40625 31.78125 66.40625 \r\nQ 25.390625 66.40625 21.84375 63.234375 \r\nQ 18.3125 60.0625 18.3125 54.390625 \r\nz\r\n\" id=\"DejaVuSans-56\"/>\r\n       </defs>\r\n       <use xlink:href=\"#DejaVuSans-56\"/>\r\n       <use x=\"63.623047\" xlink:href=\"#DejaVuSans-48\"/>\r\n       <use x=\"127.246094\" xlink:href=\"#DejaVuSans-48\"/>\r\n       <use x=\"190.869141\" xlink:href=\"#DejaVuSans-48\"/>\r\n      </g>\r\n     </g>\r\n    </g>\r\n    <g id=\"xtick_6\">\r\n     <g id=\"line2d_11\">\r\n      <path clip-path=\"url(#pbf646738d3)\" d=\"M 403.555256 224.64 \r\nL 403.555256 7.2 \r\n\" style=\"fill:none;stroke:#b0b0b0;stroke-linecap:square;stroke-width:0.8;\"/>\r\n     </g>\r\n     <g id=\"line2d_12\">\r\n      <g>\r\n       <use style=\"stroke:#000000;stroke-width:0.8;\" x=\"403.555256\" xlink:href=\"#m27e41dbdcf\" y=\"224.64\"/>\r\n      </g>\r\n     </g>\r\n     <g id=\"text_6\">\r\n      <!-- 10000 -->\r\n      <g transform=\"translate(387.649006 239.238437)scale(0.1 -0.1)\">\r\n       <defs>\r\n        <path d=\"M 12.40625 8.296875 \r\nL 28.515625 8.296875 \r\nL 28.515625 63.921875 \r\nL 10.984375 60.40625 \r\nL 10.984375 69.390625 \r\nL 28.421875 72.90625 \r\nL 38.28125 72.90625 \r\nL 38.28125 8.296875 \r\nL 54.390625 8.296875 \r\nL 54.390625 0 \r\nL 12.40625 0 \r\nz\r\n\" id=\"DejaVuSans-49\"/>\r\n       </defs>\r\n       <use xlink:href=\"#DejaVuSans-49\"/>\r\n       <use x=\"63.623047\" xlink:href=\"#DejaVuSans-48\"/>\r\n       <use x=\"127.246094\" xlink:href=\"#DejaVuSans-48\"/>\r\n       <use x=\"190.869141\" xlink:href=\"#DejaVuSans-48\"/>\r\n       <use x=\"254.492188\" xlink:href=\"#DejaVuSans-48\"/>\r\n      </g>\r\n     </g>\r\n    </g>\r\n    <g id=\"text_7\">\r\n     <!-- temperature -->\r\n     <g transform=\"translate(219.947656 252.916562)scale(0.1 -0.1)\">\r\n      <defs>\r\n       <path d=\"M 18.3125 70.21875 \r\nL 18.3125 54.6875 \r\nL 36.8125 54.6875 \r\nL 36.8125 47.703125 \r\nL 18.3125 47.703125 \r\nL 18.3125 18.015625 \r\nQ 18.3125 11.328125 20.140625 9.421875 \r\nQ 21.96875 7.515625 27.59375 7.515625 \r\nL 36.8125 7.515625 \r\nL 36.8125 0 \r\nL 27.59375 0 \r\nQ 17.1875 0 13.234375 3.875 \r\nQ 9.28125 7.765625 9.28125 18.015625 \r\nL 9.28125 47.703125 \r\nL 2.6875 47.703125 \r\nL 2.6875 54.6875 \r\nL 9.28125 54.6875 \r\nL 9.28125 70.21875 \r\nz\r\n\" id=\"DejaVuSans-116\"/>\r\n       <path d=\"M 56.203125 29.59375 \r\nL 56.203125 25.203125 \r\nL 14.890625 25.203125 \r\nQ 15.484375 15.921875 20.484375 11.0625 \r\nQ 25.484375 6.203125 34.421875 6.203125 \r\nQ 39.59375 6.203125 44.453125 7.46875 \r\nQ 49.3125 8.734375 54.109375 11.28125 \r\nL 54.109375 2.78125 \r\nQ 49.265625 0.734375 44.1875 -0.34375 \r\nQ 39.109375 -1.421875 33.890625 -1.421875 \r\nQ 20.796875 -1.421875 13.15625 6.1875 \r\nQ 5.515625 13.8125 5.515625 26.8125 \r\nQ 5.515625 40.234375 12.765625 48.109375 \r\nQ 20.015625 56 32.328125 56 \r\nQ 43.359375 56 49.78125 48.890625 \r\nQ 56.203125 41.796875 56.203125 29.59375 \r\nz\r\nM 47.21875 32.234375 \r\nQ 47.125 39.59375 43.09375 43.984375 \r\nQ 39.0625 48.390625 32.421875 48.390625 \r\nQ 24.90625 48.390625 20.390625 44.140625 \r\nQ 15.875 39.890625 15.1875 32.171875 \r\nz\r\n\" id=\"DejaVuSans-101\"/>\r\n       <path d=\"M 52 44.1875 \r\nQ 55.375 50.25 60.0625 53.125 \r\nQ 64.75 56 71.09375 56 \r\nQ 79.640625 56 84.28125 50.015625 \r\nQ 88.921875 44.046875 88.921875 33.015625 \r\nL 88.921875 0 \r\nL 79.890625 0 \r\nL 79.890625 32.71875 \r\nQ 79.890625 40.578125 77.09375 44.375 \r\nQ 74.3125 48.1875 68.609375 48.1875 \r\nQ 61.625 48.1875 57.5625 43.546875 \r\nQ 53.515625 38.921875 53.515625 30.90625 \r\nL 53.515625 0 \r\nL 44.484375 0 \r\nL 44.484375 32.71875 \r\nQ 44.484375 40.625 41.703125 44.40625 \r\nQ 38.921875 48.1875 33.109375 48.1875 \r\nQ 26.21875 48.1875 22.15625 43.53125 \r\nQ 18.109375 38.875 18.109375 30.90625 \r\nL 18.109375 0 \r\nL 9.078125 0 \r\nL 9.078125 54.6875 \r\nL 18.109375 54.6875 \r\nL 18.109375 46.1875 \r\nQ 21.1875 51.21875 25.484375 53.609375 \r\nQ 29.78125 56 35.6875 56 \r\nQ 41.65625 56 45.828125 52.96875 \r\nQ 50 49.953125 52 44.1875 \r\nz\r\n\" id=\"DejaVuSans-109\"/>\r\n       <path d=\"M 18.109375 8.203125 \r\nL 18.109375 -20.796875 \r\nL 9.078125 -20.796875 \r\nL 9.078125 54.6875 \r\nL 18.109375 54.6875 \r\nL 18.109375 46.390625 \r\nQ 20.953125 51.265625 25.265625 53.625 \r\nQ 29.59375 56 35.59375 56 \r\nQ 45.5625 56 51.78125 48.09375 \r\nQ 58.015625 40.1875 58.015625 27.296875 \r\nQ 58.015625 14.40625 51.78125 6.484375 \r\nQ 45.5625 -1.421875 35.59375 -1.421875 \r\nQ 29.59375 -1.421875 25.265625 0.953125 \r\nQ 20.953125 3.328125 18.109375 8.203125 \r\nz\r\nM 48.6875 27.296875 \r\nQ 48.6875 37.203125 44.609375 42.84375 \r\nQ 40.53125 48.484375 33.40625 48.484375 \r\nQ 26.265625 48.484375 22.1875 42.84375 \r\nQ 18.109375 37.203125 18.109375 27.296875 \r\nQ 18.109375 17.390625 22.1875 11.75 \r\nQ 26.265625 6.109375 33.40625 6.109375 \r\nQ 40.53125 6.109375 44.609375 11.75 \r\nQ 48.6875 17.390625 48.6875 27.296875 \r\nz\r\n\" id=\"DejaVuSans-112\"/>\r\n       <path d=\"M 41.109375 46.296875 \r\nQ 39.59375 47.171875 37.8125 47.578125 \r\nQ 36.03125 48 33.890625 48 \r\nQ 26.265625 48 22.1875 43.046875 \r\nQ 18.109375 38.09375 18.109375 28.8125 \r\nL 18.109375 0 \r\nL 9.078125 0 \r\nL 9.078125 54.6875 \r\nL 18.109375 54.6875 \r\nL 18.109375 46.1875 \r\nQ 20.953125 51.171875 25.484375 53.578125 \r\nQ 30.03125 56 36.53125 56 \r\nQ 37.453125 56 38.578125 55.875 \r\nQ 39.703125 55.765625 41.0625 55.515625 \r\nz\r\n\" id=\"DejaVuSans-114\"/>\r\n       <path d=\"M 34.28125 27.484375 \r\nQ 23.390625 27.484375 19.1875 25 \r\nQ 14.984375 22.515625 14.984375 16.5 \r\nQ 14.984375 11.71875 18.140625 8.90625 \r\nQ 21.296875 6.109375 26.703125 6.109375 \r\nQ 34.1875 6.109375 38.703125 11.40625 \r\nQ 43.21875 16.703125 43.21875 25.484375 \r\nL 43.21875 27.484375 \r\nz\r\nM 52.203125 31.203125 \r\nL 52.203125 0 \r\nL 43.21875 0 \r\nL 43.21875 8.296875 \r\nQ 40.140625 3.328125 35.546875 0.953125 \r\nQ 30.953125 -1.421875 24.3125 -1.421875 \r\nQ 15.921875 -1.421875 10.953125 3.296875 \r\nQ 6 8.015625 6 15.921875 \r\nQ 6 25.140625 12.171875 29.828125 \r\nQ 18.359375 34.515625 30.609375 34.515625 \r\nL 43.21875 34.515625 \r\nL 43.21875 35.40625 \r\nQ 43.21875 41.609375 39.140625 45 \r\nQ 35.0625 48.390625 27.6875 48.390625 \r\nQ 23 48.390625 18.546875 47.265625 \r\nQ 14.109375 46.140625 10.015625 43.890625 \r\nL 10.015625 52.203125 \r\nQ 14.9375 54.109375 19.578125 55.046875 \r\nQ 24.21875 56 28.609375 56 \r\nQ 40.484375 56 46.34375 49.84375 \r\nQ 52.203125 43.703125 52.203125 31.203125 \r\nz\r\n\" id=\"DejaVuSans-97\"/>\r\n       <path d=\"M 8.5 21.578125 \r\nL 8.5 54.6875 \r\nL 17.484375 54.6875 \r\nL 17.484375 21.921875 \r\nQ 17.484375 14.15625 20.5 10.265625 \r\nQ 23.53125 6.390625 29.59375 6.390625 \r\nQ 36.859375 6.390625 41.078125 11.03125 \r\nQ 45.3125 15.671875 45.3125 23.6875 \r\nL 45.3125 54.6875 \r\nL 54.296875 54.6875 \r\nL 54.296875 0 \r\nL 45.3125 0 \r\nL 45.3125 8.40625 \r\nQ 42.046875 3.421875 37.71875 1 \r\nQ 33.40625 -1.421875 27.6875 -1.421875 \r\nQ 18.265625 -1.421875 13.375 4.4375 \r\nQ 8.5 10.296875 8.5 21.578125 \r\nz\r\nM 31.109375 56 \r\nz\r\n\" id=\"DejaVuSans-117\"/>\r\n      </defs>\r\n      <use xlink:href=\"#DejaVuSans-116\"/>\r\n      <use x=\"39.208984\" xlink:href=\"#DejaVuSans-101\"/>\r\n      <use x=\"100.732422\" xlink:href=\"#DejaVuSans-109\"/>\r\n      <use x=\"198.144531\" xlink:href=\"#DejaVuSans-112\"/>\r\n      <use x=\"261.621094\" xlink:href=\"#DejaVuSans-101\"/>\r\n      <use x=\"323.144531\" xlink:href=\"#DejaVuSans-114\"/>\r\n      <use x=\"364.257812\" xlink:href=\"#DejaVuSans-97\"/>\r\n      <use x=\"425.537109\" xlink:href=\"#DejaVuSans-116\"/>\r\n      <use x=\"464.746094\" xlink:href=\"#DejaVuSans-117\"/>\r\n      <use x=\"528.125\" xlink:href=\"#DejaVuSans-114\"/>\r\n      <use x=\"566.988281\" xlink:href=\"#DejaVuSans-101\"/>\r\n     </g>\r\n    </g>\r\n   </g>\r\n   <g id=\"matplotlib.axis_2\">\r\n    <g id=\"ytick_1\">\r\n     <g id=\"line2d_13\">\r\n      <path clip-path=\"url(#pbf646738d3)\" d=\"M 83.973438 201.972455 \r\nL 418.773438 201.972455 \r\n\" style=\"fill:none;stroke:#b0b0b0;stroke-linecap:square;stroke-width:0.8;\"/>\r\n     </g>\r\n     <g id=\"line2d_14\">\r\n      <defs>\r\n       <path d=\"M 0 0 \r\nL -3.5 0 \r\n\" id=\"m11d70132dc\" style=\"stroke:#000000;stroke-width:0.8;\"/>\r\n      </defs>\r\n      <g>\r\n       <use style=\"stroke:#000000;stroke-width:0.8;\" x=\"83.973438\" xlink:href=\"#m11d70132dc\" y=\"201.972455\"/>\r\n      </g>\r\n     </g>\r\n     <g id=\"text_8\">\r\n      <!-- −0.000025 -->\r\n      <g transform=\"translate(20.878125 205.771673)scale(0.1 -0.1)\">\r\n       <defs>\r\n        <path d=\"M 10.59375 35.5 \r\nL 73.1875 35.5 \r\nL 73.1875 27.203125 \r\nL 10.59375 27.203125 \r\nz\r\n\" id=\"DejaVuSans-8722\"/>\r\n        <path d=\"M 10.6875 12.40625 \r\nL 21 12.40625 \r\nL 21 0 \r\nL 10.6875 0 \r\nz\r\n\" id=\"DejaVuSans-46\"/>\r\n        <path d=\"M 10.796875 72.90625 \r\nL 49.515625 72.90625 \r\nL 49.515625 64.59375 \r\nL 19.828125 64.59375 \r\nL 19.828125 46.734375 \r\nQ 21.96875 47.46875 24.109375 47.828125 \r\nQ 26.265625 48.1875 28.421875 48.1875 \r\nQ 40.625 48.1875 47.75 41.5 \r\nQ 54.890625 34.8125 54.890625 23.390625 \r\nQ 54.890625 11.625 47.5625 5.09375 \r\nQ 40.234375 -1.421875 26.90625 -1.421875 \r\nQ 22.3125 -1.421875 17.546875 -0.640625 \r\nQ 12.796875 0.140625 7.71875 1.703125 \r\nL 7.71875 11.625 \r\nQ 12.109375 9.234375 16.796875 8.0625 \r\nQ 21.484375 6.890625 26.703125 6.890625 \r\nQ 35.15625 6.890625 40.078125 11.328125 \r\nQ 45.015625 15.765625 45.015625 23.390625 \r\nQ 45.015625 31 40.078125 35.4375 \r\nQ 35.15625 39.890625 26.703125 39.890625 \r\nQ 22.75 39.890625 18.8125 39.015625 \r\nQ 14.890625 38.140625 10.796875 36.28125 \r\nz\r\n\" id=\"DejaVuSans-53\"/>\r\n       </defs>\r\n       <use xlink:href=\"#DejaVuSans-8722\"/>\r\n       <use x=\"83.789062\" xlink:href=\"#DejaVuSans-48\"/>\r\n       <use x=\"147.412109\" xlink:href=\"#DejaVuSans-46\"/>\r\n       <use x=\"179.199219\" xlink:href=\"#DejaVuSans-48\"/>\r\n       <use x=\"242.822266\" xlink:href=\"#DejaVuSans-48\"/>\r\n       <use x=\"306.445312\" xlink:href=\"#DejaVuSans-48\"/>\r\n       <use x=\"370.068359\" xlink:href=\"#DejaVuSans-48\"/>\r\n       <use x=\"433.691406\" xlink:href=\"#DejaVuSans-50\"/>\r\n       <use x=\"497.314453\" xlink:href=\"#DejaVuSans-53\"/>\r\n      </g>\r\n     </g>\r\n    </g>\r\n    <g id=\"ytick_2\">\r\n     <g id=\"line2d_15\">\r\n      <path clip-path=\"url(#pbf646738d3)\" d=\"M 83.973438 175.816785 \r\nL 418.773438 175.816785 \r\n\" style=\"fill:none;stroke:#b0b0b0;stroke-linecap:square;stroke-width:0.8;\"/>\r\n     </g>\r\n     <g id=\"line2d_16\">\r\n      <g>\r\n       <use style=\"stroke:#000000;stroke-width:0.8;\" x=\"83.973438\" xlink:href=\"#m11d70132dc\" y=\"175.816785\"/>\r\n      </g>\r\n     </g>\r\n     <g id=\"text_9\">\r\n      <!-- 0.000000 -->\r\n      <g transform=\"translate(29.257813 179.616004)scale(0.1 -0.1)\">\r\n       <use xlink:href=\"#DejaVuSans-48\"/>\r\n       <use x=\"63.623047\" xlink:href=\"#DejaVuSans-46\"/>\r\n       <use x=\"95.410156\" xlink:href=\"#DejaVuSans-48\"/>\r\n       <use x=\"159.033203\" xlink:href=\"#DejaVuSans-48\"/>\r\n       <use x=\"222.65625\" xlink:href=\"#DejaVuSans-48\"/>\r\n       <use x=\"286.279297\" xlink:href=\"#DejaVuSans-48\"/>\r\n       <use x=\"349.902344\" xlink:href=\"#DejaVuSans-48\"/>\r\n       <use x=\"413.525391\" xlink:href=\"#DejaVuSans-48\"/>\r\n      </g>\r\n     </g>\r\n    </g>\r\n    <g id=\"ytick_3\">\r\n     <g id=\"line2d_17\">\r\n      <path clip-path=\"url(#pbf646738d3)\" d=\"M 83.973438 149.661115 \r\nL 418.773438 149.661115 \r\n\" style=\"fill:none;stroke:#b0b0b0;stroke-linecap:square;stroke-width:0.8;\"/>\r\n     </g>\r\n     <g id=\"line2d_18\">\r\n      <g>\r\n       <use style=\"stroke:#000000;stroke-width:0.8;\" x=\"83.973438\" xlink:href=\"#m11d70132dc\" y=\"149.661115\"/>\r\n      </g>\r\n     </g>\r\n     <g id=\"text_10\">\r\n      <!-- 0.000025 -->\r\n      <g transform=\"translate(29.257813 153.460334)scale(0.1 -0.1)\">\r\n       <use xlink:href=\"#DejaVuSans-48\"/>\r\n       <use x=\"63.623047\" xlink:href=\"#DejaVuSans-46\"/>\r\n       <use x=\"95.410156\" xlink:href=\"#DejaVuSans-48\"/>\r\n       <use x=\"159.033203\" xlink:href=\"#DejaVuSans-48\"/>\r\n       <use x=\"222.65625\" xlink:href=\"#DejaVuSans-48\"/>\r\n       <use x=\"286.279297\" xlink:href=\"#DejaVuSans-48\"/>\r\n       <use x=\"349.902344\" xlink:href=\"#DejaVuSans-50\"/>\r\n       <use x=\"413.525391\" xlink:href=\"#DejaVuSans-53\"/>\r\n      </g>\r\n     </g>\r\n    </g>\r\n    <g id=\"ytick_4\">\r\n     <g id=\"line2d_19\">\r\n      <path clip-path=\"url(#pbf646738d3)\" d=\"M 83.973438 123.505445 \r\nL 418.773438 123.505445 \r\n\" style=\"fill:none;stroke:#b0b0b0;stroke-linecap:square;stroke-width:0.8;\"/>\r\n     </g>\r\n     <g id=\"line2d_20\">\r\n      <g>\r\n       <use style=\"stroke:#000000;stroke-width:0.8;\" x=\"83.973438\" xlink:href=\"#m11d70132dc\" y=\"123.505445\"/>\r\n      </g>\r\n     </g>\r\n     <g id=\"text_11\">\r\n      <!-- 0.000050 -->\r\n      <g transform=\"translate(29.257813 127.304664)scale(0.1 -0.1)\">\r\n       <use xlink:href=\"#DejaVuSans-48\"/>\r\n       <use x=\"63.623047\" xlink:href=\"#DejaVuSans-46\"/>\r\n       <use x=\"95.410156\" xlink:href=\"#DejaVuSans-48\"/>\r\n       <use x=\"159.033203\" xlink:href=\"#DejaVuSans-48\"/>\r\n       <use x=\"222.65625\" xlink:href=\"#DejaVuSans-48\"/>\r\n       <use x=\"286.279297\" xlink:href=\"#DejaVuSans-48\"/>\r\n       <use x=\"349.902344\" xlink:href=\"#DejaVuSans-53\"/>\r\n       <use x=\"413.525391\" xlink:href=\"#DejaVuSans-48\"/>\r\n      </g>\r\n     </g>\r\n    </g>\r\n    <g id=\"ytick_5\">\r\n     <g id=\"line2d_21\">\r\n      <path clip-path=\"url(#pbf646738d3)\" d=\"M 83.973438 97.349776 \r\nL 418.773438 97.349776 \r\n\" style=\"fill:none;stroke:#b0b0b0;stroke-linecap:square;stroke-width:0.8;\"/>\r\n     </g>\r\n     <g id=\"line2d_22\">\r\n      <g>\r\n       <use style=\"stroke:#000000;stroke-width:0.8;\" x=\"83.973438\" xlink:href=\"#m11d70132dc\" y=\"97.349776\"/>\r\n      </g>\r\n     </g>\r\n     <g id=\"text_12\">\r\n      <!-- 0.000075 -->\r\n      <g transform=\"translate(29.257813 101.148994)scale(0.1 -0.1)\">\r\n       <defs>\r\n        <path d=\"M 8.203125 72.90625 \r\nL 55.078125 72.90625 \r\nL 55.078125 68.703125 \r\nL 28.609375 0 \r\nL 18.3125 0 \r\nL 43.21875 64.59375 \r\nL 8.203125 64.59375 \r\nz\r\n\" id=\"DejaVuSans-55\"/>\r\n       </defs>\r\n       <use xlink:href=\"#DejaVuSans-48\"/>\r\n       <use x=\"63.623047\" xlink:href=\"#DejaVuSans-46\"/>\r\n       <use x=\"95.410156\" xlink:href=\"#DejaVuSans-48\"/>\r\n       <use x=\"159.033203\" xlink:href=\"#DejaVuSans-48\"/>\r\n       <use x=\"222.65625\" xlink:href=\"#DejaVuSans-48\"/>\r\n       <use x=\"286.279297\" xlink:href=\"#DejaVuSans-48\"/>\r\n       <use x=\"349.902344\" xlink:href=\"#DejaVuSans-55\"/>\r\n       <use x=\"413.525391\" xlink:href=\"#DejaVuSans-53\"/>\r\n      </g>\r\n     </g>\r\n    </g>\r\n    <g id=\"ytick_6\">\r\n     <g id=\"line2d_23\">\r\n      <path clip-path=\"url(#pbf646738d3)\" d=\"M 83.973438 71.194106 \r\nL 418.773438 71.194106 \r\n\" style=\"fill:none;stroke:#b0b0b0;stroke-linecap:square;stroke-width:0.8;\"/>\r\n     </g>\r\n     <g id=\"line2d_24\">\r\n      <g>\r\n       <use style=\"stroke:#000000;stroke-width:0.8;\" x=\"83.973438\" xlink:href=\"#m11d70132dc\" y=\"71.194106\"/>\r\n      </g>\r\n     </g>\r\n     <g id=\"text_13\">\r\n      <!-- 0.000100 -->\r\n      <g transform=\"translate(29.257813 74.993325)scale(0.1 -0.1)\">\r\n       <use xlink:href=\"#DejaVuSans-48\"/>\r\n       <use x=\"63.623047\" xlink:href=\"#DejaVuSans-46\"/>\r\n       <use x=\"95.410156\" xlink:href=\"#DejaVuSans-48\"/>\r\n       <use x=\"159.033203\" xlink:href=\"#DejaVuSans-48\"/>\r\n       <use x=\"222.65625\" xlink:href=\"#DejaVuSans-48\"/>\r\n       <use x=\"286.279297\" xlink:href=\"#DejaVuSans-49\"/>\r\n       <use x=\"349.902344\" xlink:href=\"#DejaVuSans-48\"/>\r\n       <use x=\"413.525391\" xlink:href=\"#DejaVuSans-48\"/>\r\n      </g>\r\n     </g>\r\n    </g>\r\n    <g id=\"ytick_7\">\r\n     <g id=\"line2d_25\">\r\n      <path clip-path=\"url(#pbf646738d3)\" d=\"M 83.973438 45.038436 \r\nL 418.773438 45.038436 \r\n\" style=\"fill:none;stroke:#b0b0b0;stroke-linecap:square;stroke-width:0.8;\"/>\r\n     </g>\r\n     <g id=\"line2d_26\">\r\n      <g>\r\n       <use style=\"stroke:#000000;stroke-width:0.8;\" x=\"83.973438\" xlink:href=\"#m11d70132dc\" y=\"45.038436\"/>\r\n      </g>\r\n     </g>\r\n     <g id=\"text_14\">\r\n      <!-- 0.000125 -->\r\n      <g transform=\"translate(29.257813 48.837655)scale(0.1 -0.1)\">\r\n       <use xlink:href=\"#DejaVuSans-48\"/>\r\n       <use x=\"63.623047\" xlink:href=\"#DejaVuSans-46\"/>\r\n       <use x=\"95.410156\" xlink:href=\"#DejaVuSans-48\"/>\r\n       <use x=\"159.033203\" xlink:href=\"#DejaVuSans-48\"/>\r\n       <use x=\"222.65625\" xlink:href=\"#DejaVuSans-48\"/>\r\n       <use x=\"286.279297\" xlink:href=\"#DejaVuSans-49\"/>\r\n       <use x=\"349.902344\" xlink:href=\"#DejaVuSans-50\"/>\r\n       <use x=\"413.525391\" xlink:href=\"#DejaVuSans-53\"/>\r\n      </g>\r\n     </g>\r\n    </g>\r\n    <g id=\"ytick_8\">\r\n     <g id=\"line2d_27\">\r\n      <path clip-path=\"url(#pbf646738d3)\" d=\"M 83.973438 18.882767 \r\nL 418.773438 18.882767 \r\n\" style=\"fill:none;stroke:#b0b0b0;stroke-linecap:square;stroke-width:0.8;\"/>\r\n     </g>\r\n     <g id=\"line2d_28\">\r\n      <g>\r\n       <use style=\"stroke:#000000;stroke-width:0.8;\" x=\"83.973438\" xlink:href=\"#m11d70132dc\" y=\"18.882767\"/>\r\n      </g>\r\n     </g>\r\n     <g id=\"text_15\">\r\n      <!-- 0.000150 -->\r\n      <g transform=\"translate(29.257813 22.681985)scale(0.1 -0.1)\">\r\n       <use xlink:href=\"#DejaVuSans-48\"/>\r\n       <use x=\"63.623047\" xlink:href=\"#DejaVuSans-46\"/>\r\n       <use x=\"95.410156\" xlink:href=\"#DejaVuSans-48\"/>\r\n       <use x=\"159.033203\" xlink:href=\"#DejaVuSans-48\"/>\r\n       <use x=\"222.65625\" xlink:href=\"#DejaVuSans-48\"/>\r\n       <use x=\"286.279297\" xlink:href=\"#DejaVuSans-49\"/>\r\n       <use x=\"349.902344\" xlink:href=\"#DejaVuSans-53\"/>\r\n       <use x=\"413.525391\" xlink:href=\"#DejaVuSans-48\"/>\r\n      </g>\r\n     </g>\r\n    </g>\r\n    <g id=\"text_16\">\r\n     <!-- efficiency deriavtive -->\r\n     <g transform=\"translate(14.798438 166.691094)rotate(-90)scale(0.1 -0.1)\">\r\n      <defs>\r\n       <path d=\"M 37.109375 75.984375 \r\nL 37.109375 68.5 \r\nL 28.515625 68.5 \r\nQ 23.6875 68.5 21.796875 66.546875 \r\nQ 19.921875 64.59375 19.921875 59.515625 \r\nL 19.921875 54.6875 \r\nL 34.71875 54.6875 \r\nL 34.71875 47.703125 \r\nL 19.921875 47.703125 \r\nL 19.921875 0 \r\nL 10.890625 0 \r\nL 10.890625 47.703125 \r\nL 2.296875 47.703125 \r\nL 2.296875 54.6875 \r\nL 10.890625 54.6875 \r\nL 10.890625 58.5 \r\nQ 10.890625 67.625 15.140625 71.796875 \r\nQ 19.390625 75.984375 28.609375 75.984375 \r\nz\r\n\" id=\"DejaVuSans-102\"/>\r\n       <path d=\"M 9.421875 54.6875 \r\nL 18.40625 54.6875 \r\nL 18.40625 0 \r\nL 9.421875 0 \r\nz\r\nM 9.421875 75.984375 \r\nL 18.40625 75.984375 \r\nL 18.40625 64.59375 \r\nL 9.421875 64.59375 \r\nz\r\n\" id=\"DejaVuSans-105\"/>\r\n       <path d=\"M 48.78125 52.59375 \r\nL 48.78125 44.1875 \r\nQ 44.96875 46.296875 41.140625 47.34375 \r\nQ 37.3125 48.390625 33.40625 48.390625 \r\nQ 24.65625 48.390625 19.8125 42.84375 \r\nQ 14.984375 37.3125 14.984375 27.296875 \r\nQ 14.984375 17.28125 19.8125 11.734375 \r\nQ 24.65625 6.203125 33.40625 6.203125 \r\nQ 37.3125 6.203125 41.140625 7.25 \r\nQ 44.96875 8.296875 48.78125 10.40625 \r\nL 48.78125 2.09375 \r\nQ 45.015625 0.34375 40.984375 -0.53125 \r\nQ 36.96875 -1.421875 32.421875 -1.421875 \r\nQ 20.0625 -1.421875 12.78125 6.34375 \r\nQ 5.515625 14.109375 5.515625 27.296875 \r\nQ 5.515625 40.671875 12.859375 48.328125 \r\nQ 20.21875 56 33.015625 56 \r\nQ 37.15625 56 41.109375 55.140625 \r\nQ 45.0625 54.296875 48.78125 52.59375 \r\nz\r\n\" id=\"DejaVuSans-99\"/>\r\n       <path d=\"M 54.890625 33.015625 \r\nL 54.890625 0 \r\nL 45.90625 0 \r\nL 45.90625 32.71875 \r\nQ 45.90625 40.484375 42.875 44.328125 \r\nQ 39.84375 48.1875 33.796875 48.1875 \r\nQ 26.515625 48.1875 22.3125 43.546875 \r\nQ 18.109375 38.921875 18.109375 30.90625 \r\nL 18.109375 0 \r\nL 9.078125 0 \r\nL 9.078125 54.6875 \r\nL 18.109375 54.6875 \r\nL 18.109375 46.1875 \r\nQ 21.34375 51.125 25.703125 53.5625 \r\nQ 30.078125 56 35.796875 56 \r\nQ 45.21875 56 50.046875 50.171875 \r\nQ 54.890625 44.34375 54.890625 33.015625 \r\nz\r\n\" id=\"DejaVuSans-110\"/>\r\n       <path d=\"M 32.171875 -5.078125 \r\nQ 28.375 -14.84375 24.75 -17.8125 \r\nQ 21.140625 -20.796875 15.09375 -20.796875 \r\nL 7.90625 -20.796875 \r\nL 7.90625 -13.28125 \r\nL 13.1875 -13.28125 \r\nQ 16.890625 -13.28125 18.9375 -11.515625 \r\nQ 21 -9.765625 23.484375 -3.21875 \r\nL 25.09375 0.875 \r\nL 2.984375 54.6875 \r\nL 12.5 54.6875 \r\nL 29.59375 11.921875 \r\nL 46.6875 54.6875 \r\nL 56.203125 54.6875 \r\nz\r\n\" id=\"DejaVuSans-121\"/>\r\n       <path id=\"DejaVuSans-32\"/>\r\n       <path d=\"M 45.40625 46.390625 \r\nL 45.40625 75.984375 \r\nL 54.390625 75.984375 \r\nL 54.390625 0 \r\nL 45.40625 0 \r\nL 45.40625 8.203125 \r\nQ 42.578125 3.328125 38.25 0.953125 \r\nQ 33.9375 -1.421875 27.875 -1.421875 \r\nQ 17.96875 -1.421875 11.734375 6.484375 \r\nQ 5.515625 14.40625 5.515625 27.296875 \r\nQ 5.515625 40.1875 11.734375 48.09375 \r\nQ 17.96875 56 27.875 56 \r\nQ 33.9375 56 38.25 53.625 \r\nQ 42.578125 51.265625 45.40625 46.390625 \r\nz\r\nM 14.796875 27.296875 \r\nQ 14.796875 17.390625 18.875 11.75 \r\nQ 22.953125 6.109375 30.078125 6.109375 \r\nQ 37.203125 6.109375 41.296875 11.75 \r\nQ 45.40625 17.390625 45.40625 27.296875 \r\nQ 45.40625 37.203125 41.296875 42.84375 \r\nQ 37.203125 48.484375 30.078125 48.484375 \r\nQ 22.953125 48.484375 18.875 42.84375 \r\nQ 14.796875 37.203125 14.796875 27.296875 \r\nz\r\n\" id=\"DejaVuSans-100\"/>\r\n       <path d=\"M 2.984375 54.6875 \r\nL 12.5 54.6875 \r\nL 29.59375 8.796875 \r\nL 46.6875 54.6875 \r\nL 56.203125 54.6875 \r\nL 35.6875 0 \r\nL 23.484375 0 \r\nz\r\n\" id=\"DejaVuSans-118\"/>\r\n      </defs>\r\n      <use xlink:href=\"#DejaVuSans-101\"/>\r\n      <use x=\"61.523438\" xlink:href=\"#DejaVuSans-102\"/>\r\n      <use x=\"96.728516\" xlink:href=\"#DejaVuSans-102\"/>\r\n      <use x=\"131.933594\" xlink:href=\"#DejaVuSans-105\"/>\r\n      <use x=\"159.716797\" xlink:href=\"#DejaVuSans-99\"/>\r\n      <use x=\"214.697266\" xlink:href=\"#DejaVuSans-105\"/>\r\n      <use x=\"242.480469\" xlink:href=\"#DejaVuSans-101\"/>\r\n      <use x=\"304.003906\" xlink:href=\"#DejaVuSans-110\"/>\r\n      <use x=\"367.382812\" xlink:href=\"#DejaVuSans-99\"/>\r\n      <use x=\"422.363281\" xlink:href=\"#DejaVuSans-121\"/>\r\n      <use x=\"481.542969\" xlink:href=\"#DejaVuSans-32\"/>\r\n      <use x=\"513.330078\" xlink:href=\"#DejaVuSans-100\"/>\r\n      <use x=\"576.806641\" xlink:href=\"#DejaVuSans-101\"/>\r\n      <use x=\"638.330078\" xlink:href=\"#DejaVuSans-114\"/>\r\n      <use x=\"679.443359\" xlink:href=\"#DejaVuSans-105\"/>\r\n      <use x=\"707.226562\" xlink:href=\"#DejaVuSans-97\"/>\r\n      <use x=\"768.505859\" xlink:href=\"#DejaVuSans-118\"/>\r\n      <use x=\"827.685547\" xlink:href=\"#DejaVuSans-116\"/>\r\n      <use x=\"866.894531\" xlink:href=\"#DejaVuSans-105\"/>\r\n      <use x=\"894.677734\" xlink:href=\"#DejaVuSans-118\"/>\r\n      <use x=\"953.857422\" xlink:href=\"#DejaVuSans-101\"/>\r\n     </g>\r\n    </g>\r\n   </g>\r\n   <g id=\"line2d_29\">\r\n    <path clip-path=\"url(#pbf646738d3)\" d=\"M 99.191619 175.816785 \r\nL 121.344272 175.706078 \r\nL 124.35653 175.447204 \r\nL 126.584347 175.041009 \r\nL 128.467008 174.476999 \r\nL 130.161404 173.739646 \r\nL 131.761666 172.798081 \r\nL 133.299173 171.631827 \r\nL 134.805303 170.20982 \r\nL 136.34281 168.446112 \r\nL 137.911694 166.299307 \r\nL 139.543334 163.67794 \r\nL 141.23773 160.526881 \r\nL 143.057636 156.656215 \r\nL 145.003053 151.976925 \r\nL 147.105359 146.32771 \r\nL 149.458686 139.345379 \r\nL 152.157168 130.61487 \r\nL 155.483203 119.054854 \r\nL 160.754656 99.799232 \r\nL 166.68504 78.366115 \r\nL 170.199342 66.485324 \r\nL 173.148845 57.256311 \r\nL 175.815949 49.61288 \r\nL 178.263409 43.251461 \r\nL 180.553981 37.901849 \r\nL 182.687664 33.464732 \r\nL 184.695837 29.780442 \r\nL 186.609876 26.716301 \r\nL 188.46116 24.167842 \r\nL 190.186933 22.156713 \r\nL 191.849951 20.546986 \r\nL 193.512969 19.253722 \r\nL 195.050476 18.33343 \r\nL 196.556605 17.681803 \r\nL 198.031357 17.276772 \r\nL 199.474731 17.097314 \r\nL 200.918105 17.124813 \r\nL 202.455612 17.37472 \r\nL 203.993119 17.842474 \r\nL 205.656137 18.583278 \r\nL 207.319154 19.556217 \r\nL 209.107683 20.847333 \r\nL 211.115855 22.581461 \r\nL 213.186783 24.661876 \r\nL 215.54011 27.356748 \r\nL 217.987571 30.497275 \r\nL 220.686052 34.314577 \r\nL 223.541423 38.706437 \r\nL 226.961591 44.369956 \r\nL 231.166202 51.811453 \r\nL 236.186633 61.193601 \r\nL 243.30937 75.024524 \r\nL 256.142847 100.030673 \r\nL 263.234206 113.260323 \r\nL 268.693925 122.964277 \r\nL 273.620223 131.295924 \r\nL 278.954431 139.821665 \r\nL 283.59833 146.804177 \r\nL 288.556005 153.79511 \r\nL 292.886127 159.507879 \r\nL 297.090738 164.706258 \r\nL 301.075706 169.320786 \r\nL 305.060673 173.638249 \r\nL 309.422172 178.031851 \r\nL 313.564028 181.894395 \r\nL 317.643128 185.41469 \r\nL 321.879117 188.784564 \r\nL 325.769951 191.635112 \r\nL 330.476605 194.785397 \r\nL 334.932238 197.483492 \r\nL 339.38787 199.921226 \r\nL 344.000392 202.187923 \r\nL 349.146333 204.428718 \r\nL 353.601966 206.141126 \r\nL 359.249951 208.030785 \r\nL 365.211713 209.71369 \r\nL 370.577299 210.979542 \r\nL 375.785996 212.003966 \r\nL 383.442154 213.181657 \r\nL 390.9728 214.004031 \r\nL 397.060073 214.456685 \r\nL 403.555256 214.756364 \r\nL 403.555256 214.756364 \r\n\" style=\"fill:none;stroke:#ff0000;stroke-linecap:square;stroke-width:1.5;\"/>\r\n   </g>\r\n   <g id=\"patch_3\">\r\n    <path d=\"M 83.973438 224.64 \r\nL 83.973438 7.2 \r\n\" style=\"fill:none;stroke:#000000;stroke-linecap:square;stroke-linejoin:miter;stroke-width:0.8;\"/>\r\n   </g>\r\n   <g id=\"patch_4\">\r\n    <path d=\"M 418.773438 224.64 \r\nL 418.773438 7.2 \r\n\" style=\"fill:none;stroke:#000000;stroke-linecap:square;stroke-linejoin:miter;stroke-width:0.8;\"/>\r\n   </g>\r\n   <g id=\"patch_5\">\r\n    <path d=\"M 83.973438 224.64 \r\nL 418.773438 224.64 \r\n\" style=\"fill:none;stroke:#000000;stroke-linecap:square;stroke-linejoin:miter;stroke-width:0.8;\"/>\r\n   </g>\r\n   <g id=\"patch_6\">\r\n    <path d=\"M 83.973438 7.2 \r\nL 418.773438 7.2 \r\n\" style=\"fill:none;stroke:#000000;stroke-linecap:square;stroke-linejoin:miter;stroke-width:0.8;\"/>\r\n   </g>\r\n   <g id=\"legend_1\">\r\n    <g id=\"patch_7\">\r\n     <path d=\"M 341.432812 29.878125 \r\nL 411.773437 29.878125 \r\nQ 413.773437 29.878125 413.773437 27.878125 \r\nL 413.773437 14.2 \r\nQ 413.773437 12.2 411.773437 12.2 \r\nL 341.432812 12.2 \r\nQ 339.432812 12.2 339.432812 14.2 \r\nL 339.432812 27.878125 \r\nQ 339.432812 29.878125 341.432812 29.878125 \r\nz\r\n\" style=\"fill:#ffffff;opacity:0.8;stroke:#cccccc;stroke-linejoin:miter;\"/>\r\n    </g>\r\n    <g id=\"line2d_30\">\r\n     <path d=\"M 343.432812 20.298437 \r\nL 363.432812 20.298437 \r\n\" style=\"fill:none;stroke:#ff0000;stroke-linecap:square;stroke-width:1.5;\"/>\r\n    </g>\r\n    <g id=\"line2d_31\"/>\r\n    <g id=\"text_17\">\r\n     <!-- forward -->\r\n     <g transform=\"translate(371.432812 23.798437)scale(0.1 -0.1)\">\r\n      <defs>\r\n       <path d=\"M 30.609375 48.390625 \r\nQ 23.390625 48.390625 19.1875 42.75 \r\nQ 14.984375 37.109375 14.984375 27.296875 \r\nQ 14.984375 17.484375 19.15625 11.84375 \r\nQ 23.34375 6.203125 30.609375 6.203125 \r\nQ 37.796875 6.203125 41.984375 11.859375 \r\nQ 46.1875 17.53125 46.1875 27.296875 \r\nQ 46.1875 37.015625 41.984375 42.703125 \r\nQ 37.796875 48.390625 30.609375 48.390625 \r\nz\r\nM 30.609375 56 \r\nQ 42.328125 56 49.015625 48.375 \r\nQ 55.71875 40.765625 55.71875 27.296875 \r\nQ 55.71875 13.875 49.015625 6.21875 \r\nQ 42.328125 -1.421875 30.609375 -1.421875 \r\nQ 18.84375 -1.421875 12.171875 6.21875 \r\nQ 5.515625 13.875 5.515625 27.296875 \r\nQ 5.515625 40.765625 12.171875 48.375 \r\nQ 18.84375 56 30.609375 56 \r\nz\r\n\" id=\"DejaVuSans-111\"/>\r\n       <path d=\"M 4.203125 54.6875 \r\nL 13.1875 54.6875 \r\nL 24.421875 12.015625 \r\nL 35.59375 54.6875 \r\nL 46.1875 54.6875 \r\nL 57.421875 12.015625 \r\nL 68.609375 54.6875 \r\nL 77.59375 54.6875 \r\nL 63.28125 0 \r\nL 52.6875 0 \r\nL 40.921875 44.828125 \r\nL 29.109375 0 \r\nL 18.5 0 \r\nz\r\n\" id=\"DejaVuSans-119\"/>\r\n      </defs>\r\n      <use xlink:href=\"#DejaVuSans-102\"/>\r\n      <use x=\"35.205078\" xlink:href=\"#DejaVuSans-111\"/>\r\n      <use x=\"96.386719\" xlink:href=\"#DejaVuSans-114\"/>\r\n      <use x=\"137.5\" xlink:href=\"#DejaVuSans-119\"/>\r\n      <use x=\"219.287109\" xlink:href=\"#DejaVuSans-97\"/>\r\n      <use x=\"280.566406\" xlink:href=\"#DejaVuSans-114\"/>\r\n      <use x=\"319.929688\" xlink:href=\"#DejaVuSans-100\"/>\r\n     </g>\r\n    </g>\r\n   </g>\r\n  </g>\r\n </g>\r\n <defs>\r\n  <clipPath id=\"pbf646738d3\">\r\n   <rect height=\"217.44\" width=\"334.8\" x=\"83.973438\" y=\"7.2\"/>\r\n  </clipPath>\r\n </defs>\r\n</svg>\r\n",
      "image/png": "[encoded data removed]"
     },
     "metadata": {
      "needs_background": "light"
     }
    },
    {
     "output_type": "display_data",
     "data": {
      "text/plain": "<Figure size 432x288 with 1 Axes>",
      "image/svg+xml": "<?xml version=\"1.0\" encoding=\"utf-8\" standalone=\"no\"?>\r\n<!DOCTYPE svg PUBLIC \"-//W3C//DTD SVG 1.1//EN\"\r\n  \"http://www.w3.org/Graphics/SVG/1.1/DTD/svg11.dtd\">\r\n<!-- Created with matplotlib (https://matplotlib.org/) -->\r\n<svg height=\"262.19625pt\" version=\"1.1\" viewBox=\"0 0 426.661506 262.19625\" width=\"426.661506pt\" xmlns=\"http://www.w3.org/2000/svg\" xmlns:xlink=\"http://www.w3.org/1999/xlink\">\r\n <metadata>\r\n  <rdf:RDF xmlns:cc=\"http://creativecommons.org/ns#\" xmlns:dc=\"http://purl.org/dc/elements/1.1/\" xmlns:rdf=\"http://www.w3.org/1999/02/22-rdf-syntax-ns#\">\r\n   <cc:Work>\r\n    <dc:type rdf:resource=\"http://purl.org/dc/dcmitype/StillImage\"/>\r\n    <dc:date>2021-03-12T23:20:58.278402</dc:date>\r\n    <dc:format>image/svg+xml</dc:format>\r\n    <dc:creator>\r\n     <cc:Agent>\r\n      <dc:title>Matplotlib v3.3.2, https://matplotlib.org/</dc:title>\r\n     </cc:Agent>\r\n    </dc:creator>\r\n   </cc:Work>\r\n  </rdf:RDF>\r\n </metadata>\r\n <defs>\r\n  <style type=\"text/css\">*{stroke-linecap:butt;stroke-linejoin:round;}</style>\r\n </defs>\r\n <g id=\"figure_1\">\r\n  <g id=\"patch_1\">\r\n   <path d=\"M 0 262.19625 \r\nL 426.661506 262.19625 \r\nL 426.661506 0 \r\nL 0 0 \r\nz\r\n\" style=\"fill:none;\"/>\r\n  </g>\r\n  <g id=\"axes_1\">\r\n   <g id=\"patch_2\">\r\n    <path d=\"M 83.973438 224.64 \r\nL 418.773438 224.64 \r\nL 418.773438 7.2 \r\nL 83.973438 7.2 \r\nz\r\n\" style=\"fill:#ffffff;\"/>\r\n   </g>\r\n   <g id=\"matplotlib.axis_1\">\r\n    <g id=\"xtick_1\">\r\n     <g id=\"line2d_1\">\r\n      <path clip-path=\"url(#p5172bb7b9a)\" d=\"M 89.778311 224.64 \r\nL 89.778311 7.2 \r\n\" style=\"fill:none;stroke:#b0b0b0;stroke-linecap:square;stroke-width:0.8;\"/>\r\n     </g>\r\n     <g id=\"line2d_2\">\r\n      <defs>\r\n       <path d=\"M 0 0 \r\nL 0 3.5 \r\n\" id=\"mbc61f5c6fe\" style=\"stroke:#000000;stroke-width:0.8;\"/>\r\n      </defs>\r\n      <g>\r\n       <use style=\"stroke:#000000;stroke-width:0.8;\" x=\"89.778311\" xlink:href=\"#mbc61f5c6fe\" y=\"224.64\"/>\r\n      </g>\r\n     </g>\r\n     <g id=\"text_1\">\r\n      <!-- 0 -->\r\n      <g transform=\"translate(86.597061 239.238437)scale(0.1 -0.1)\">\r\n       <defs>\r\n        <path d=\"M 31.78125 66.40625 \r\nQ 24.171875 66.40625 20.328125 58.90625 \r\nQ 16.5 51.421875 16.5 36.375 \r\nQ 16.5 21.390625 20.328125 13.890625 \r\nQ 24.171875 6.390625 31.78125 6.390625 \r\nQ 39.453125 6.390625 43.28125 13.890625 \r\nQ 47.125 21.390625 47.125 36.375 \r\nQ 47.125 51.421875 43.28125 58.90625 \r\nQ 39.453125 66.40625 31.78125 66.40625 \r\nz\r\nM 31.78125 74.21875 \r\nQ 44.046875 74.21875 50.515625 64.515625 \r\nQ 56.984375 54.828125 56.984375 36.375 \r\nQ 56.984375 17.96875 50.515625 8.265625 \r\nQ 44.046875 -1.421875 31.78125 -1.421875 \r\nQ 19.53125 -1.421875 13.0625 8.265625 \r\nQ 6.59375 17.96875 6.59375 36.375 \r\nQ 6.59375 54.828125 13.0625 64.515625 \r\nQ 19.53125 74.21875 31.78125 74.21875 \r\nz\r\n\" id=\"DejaVuSans-48\"/>\r\n       </defs>\r\n       <use xlink:href=\"#DejaVuSans-48\"/>\r\n      </g>\r\n     </g>\r\n    </g>\r\n    <g id=\"xtick_2\">\r\n     <g id=\"line2d_3\">\r\n      <path clip-path=\"url(#p5172bb7b9a)\" d=\"M 152.5337 224.64 \r\nL 152.5337 7.2 \r\n\" style=\"fill:none;stroke:#b0b0b0;stroke-linecap:square;stroke-width:0.8;\"/>\r\n     </g>\r\n     <g id=\"line2d_4\">\r\n      <g>\r\n       <use style=\"stroke:#000000;stroke-width:0.8;\" x=\"152.5337\" xlink:href=\"#mbc61f5c6fe\" y=\"224.64\"/>\r\n      </g>\r\n     </g>\r\n     <g id=\"text_2\">\r\n      <!-- 2000 -->\r\n      <g transform=\"translate(139.8087 239.238437)scale(0.1 -0.1)\">\r\n       <defs>\r\n        <path d=\"M 19.1875 8.296875 \r\nL 53.609375 8.296875 \r\nL 53.609375 0 \r\nL 7.328125 0 \r\nL 7.328125 8.296875 \r\nQ 12.9375 14.109375 22.625 23.890625 \r\nQ 32.328125 33.6875 34.8125 36.53125 \r\nQ 39.546875 41.84375 41.421875 45.53125 \r\nQ 43.3125 49.21875 43.3125 52.78125 \r\nQ 43.3125 58.59375 39.234375 62.25 \r\nQ 35.15625 65.921875 28.609375 65.921875 \r\nQ 23.96875 65.921875 18.8125 64.3125 \r\nQ 13.671875 62.703125 7.8125 59.421875 \r\nL 7.8125 69.390625 \r\nQ 13.765625 71.78125 18.9375 73 \r\nQ 24.125 74.21875 28.421875 74.21875 \r\nQ 39.75 74.21875 46.484375 68.546875 \r\nQ 53.21875 62.890625 53.21875 53.421875 \r\nQ 53.21875 48.921875 51.53125 44.890625 \r\nQ 49.859375 40.875 45.40625 35.40625 \r\nQ 44.1875 33.984375 37.640625 27.21875 \r\nQ 31.109375 20.453125 19.1875 8.296875 \r\nz\r\n\" id=\"DejaVuSans-50\"/>\r\n       </defs>\r\n       <use xlink:href=\"#DejaVuSans-50\"/>\r\n       <use x=\"63.623047\" xlink:href=\"#DejaVuSans-48\"/>\r\n       <use x=\"127.246094\" xlink:href=\"#DejaVuSans-48\"/>\r\n       <use x=\"190.869141\" xlink:href=\"#DejaVuSans-48\"/>\r\n      </g>\r\n     </g>\r\n    </g>\r\n    <g id=\"xtick_3\">\r\n     <g id=\"line2d_5\">\r\n      <path clip-path=\"url(#p5172bb7b9a)\" d=\"M 215.289089 224.64 \r\nL 215.289089 7.2 \r\n\" style=\"fill:none;stroke:#b0b0b0;stroke-linecap:square;stroke-width:0.8;\"/>\r\n     </g>\r\n     <g id=\"line2d_6\">\r\n      <g>\r\n       <use style=\"stroke:#000000;stroke-width:0.8;\" x=\"215.289089\" xlink:href=\"#mbc61f5c6fe\" y=\"224.64\"/>\r\n      </g>\r\n     </g>\r\n     <g id=\"text_3\">\r\n      <!-- 4000 -->\r\n      <g transform=\"translate(202.564089 239.238437)scale(0.1 -0.1)\">\r\n       <defs>\r\n        <path d=\"M 37.796875 64.3125 \r\nL 12.890625 25.390625 \r\nL 37.796875 25.390625 \r\nz\r\nM 35.203125 72.90625 \r\nL 47.609375 72.90625 \r\nL 47.609375 25.390625 \r\nL 58.015625 25.390625 \r\nL 58.015625 17.1875 \r\nL 47.609375 17.1875 \r\nL 47.609375 0 \r\nL 37.796875 0 \r\nL 37.796875 17.1875 \r\nL 4.890625 17.1875 \r\nL 4.890625 26.703125 \r\nz\r\n\" id=\"DejaVuSans-52\"/>\r\n       </defs>\r\n       <use xlink:href=\"#DejaVuSans-52\"/>\r\n       <use x=\"63.623047\" xlink:href=\"#DejaVuSans-48\"/>\r\n       <use x=\"127.246094\" xlink:href=\"#DejaVuSans-48\"/>\r\n       <use x=\"190.869141\" xlink:href=\"#DejaVuSans-48\"/>\r\n      </g>\r\n     </g>\r\n    </g>\r\n    <g id=\"xtick_4\">\r\n     <g id=\"line2d_7\">\r\n      <path clip-path=\"url(#p5172bb7b9a)\" d=\"M 278.044478 224.64 \r\nL 278.044478 7.2 \r\n\" style=\"fill:none;stroke:#b0b0b0;stroke-linecap:square;stroke-width:0.8;\"/>\r\n     </g>\r\n     <g id=\"line2d_8\">\r\n      <g>\r\n       <use style=\"stroke:#000000;stroke-width:0.8;\" x=\"278.044478\" xlink:href=\"#mbc61f5c6fe\" y=\"224.64\"/>\r\n      </g>\r\n     </g>\r\n     <g id=\"text_4\">\r\n      <!-- 6000 -->\r\n      <g transform=\"translate(265.319478 239.238437)scale(0.1 -0.1)\">\r\n       <defs>\r\n        <path d=\"M 33.015625 40.375 \r\nQ 26.375 40.375 22.484375 35.828125 \r\nQ 18.609375 31.296875 18.609375 23.390625 \r\nQ 18.609375 15.53125 22.484375 10.953125 \r\nQ 26.375 6.390625 33.015625 6.390625 \r\nQ 39.65625 6.390625 43.53125 10.953125 \r\nQ 47.40625 15.53125 47.40625 23.390625 \r\nQ 47.40625 31.296875 43.53125 35.828125 \r\nQ 39.65625 40.375 33.015625 40.375 \r\nz\r\nM 52.59375 71.296875 \r\nL 52.59375 62.3125 \r\nQ 48.875 64.0625 45.09375 64.984375 \r\nQ 41.3125 65.921875 37.59375 65.921875 \r\nQ 27.828125 65.921875 22.671875 59.328125 \r\nQ 17.53125 52.734375 16.796875 39.40625 \r\nQ 19.671875 43.65625 24.015625 45.921875 \r\nQ 28.375 48.1875 33.59375 48.1875 \r\nQ 44.578125 48.1875 50.953125 41.515625 \r\nQ 57.328125 34.859375 57.328125 23.390625 \r\nQ 57.328125 12.15625 50.6875 5.359375 \r\nQ 44.046875 -1.421875 33.015625 -1.421875 \r\nQ 20.359375 -1.421875 13.671875 8.265625 \r\nQ 6.984375 17.96875 6.984375 36.375 \r\nQ 6.984375 53.65625 15.1875 63.9375 \r\nQ 23.390625 74.21875 37.203125 74.21875 \r\nQ 40.921875 74.21875 44.703125 73.484375 \r\nQ 48.484375 72.75 52.59375 71.296875 \r\nz\r\n\" id=\"DejaVuSans-54\"/>\r\n       </defs>\r\n       <use xlink:href=\"#DejaVuSans-54\"/>\r\n       <use x=\"63.623047\" xlink:href=\"#DejaVuSans-48\"/>\r\n       <use x=\"127.246094\" xlink:href=\"#DejaVuSans-48\"/>\r\n       <use x=\"190.869141\" xlink:href=\"#DejaVuSans-48\"/>\r\n      </g>\r\n     </g>\r\n    </g>\r\n    <g id=\"xtick_5\">\r\n     <g id=\"line2d_9\">\r\n      <path clip-path=\"url(#p5172bb7b9a)\" d=\"M 340.799867 224.64 \r\nL 340.799867 7.2 \r\n\" style=\"fill:none;stroke:#b0b0b0;stroke-linecap:square;stroke-width:0.8;\"/>\r\n     </g>\r\n     <g id=\"line2d_10\">\r\n      <g>\r\n       <use style=\"stroke:#000000;stroke-width:0.8;\" x=\"340.799867\" xlink:href=\"#mbc61f5c6fe\" y=\"224.64\"/>\r\n      </g>\r\n     </g>\r\n     <g id=\"text_5\">\r\n      <!-- 8000 -->\r\n      <g transform=\"translate(328.074867 239.238437)scale(0.1 -0.1)\">\r\n       <defs>\r\n        <path d=\"M 31.78125 34.625 \r\nQ 24.75 34.625 20.71875 30.859375 \r\nQ 16.703125 27.09375 16.703125 20.515625 \r\nQ 16.703125 13.921875 20.71875 10.15625 \r\nQ 24.75 6.390625 31.78125 6.390625 \r\nQ 38.8125 6.390625 42.859375 10.171875 \r\nQ 46.921875 13.96875 46.921875 20.515625 \r\nQ 46.921875 27.09375 42.890625 30.859375 \r\nQ 38.875 34.625 31.78125 34.625 \r\nz\r\nM 21.921875 38.8125 \r\nQ 15.578125 40.375 12.03125 44.71875 \r\nQ 8.5 49.078125 8.5 55.328125 \r\nQ 8.5 64.0625 14.71875 69.140625 \r\nQ 20.953125 74.21875 31.78125 74.21875 \r\nQ 42.671875 74.21875 48.875 69.140625 \r\nQ 55.078125 64.0625 55.078125 55.328125 \r\nQ 55.078125 49.078125 51.53125 44.71875 \r\nQ 48 40.375 41.703125 38.8125 \r\nQ 48.828125 37.15625 52.796875 32.3125 \r\nQ 56.78125 27.484375 56.78125 20.515625 \r\nQ 56.78125 9.90625 50.3125 4.234375 \r\nQ 43.84375 -1.421875 31.78125 -1.421875 \r\nQ 19.734375 -1.421875 13.25 4.234375 \r\nQ 6.78125 9.90625 6.78125 20.515625 \r\nQ 6.78125 27.484375 10.78125 32.3125 \r\nQ 14.796875 37.15625 21.921875 38.8125 \r\nz\r\nM 18.3125 54.390625 \r\nQ 18.3125 48.734375 21.84375 45.5625 \r\nQ 25.390625 42.390625 31.78125 42.390625 \r\nQ 38.140625 42.390625 41.71875 45.5625 \r\nQ 45.3125 48.734375 45.3125 54.390625 \r\nQ 45.3125 60.0625 41.71875 63.234375 \r\nQ 38.140625 66.40625 31.78125 66.40625 \r\nQ 25.390625 66.40625 21.84375 63.234375 \r\nQ 18.3125 60.0625 18.3125 54.390625 \r\nz\r\n\" id=\"DejaVuSans-56\"/>\r\n       </defs>\r\n       <use xlink:href=\"#DejaVuSans-56\"/>\r\n       <use x=\"63.623047\" xlink:href=\"#DejaVuSans-48\"/>\r\n       <use x=\"127.246094\" xlink:href=\"#DejaVuSans-48\"/>\r\n       <use x=\"190.869141\" xlink:href=\"#DejaVuSans-48\"/>\r\n      </g>\r\n     </g>\r\n    </g>\r\n    <g id=\"xtick_6\">\r\n     <g id=\"line2d_11\">\r\n      <path clip-path=\"url(#p5172bb7b9a)\" d=\"M 403.555256 224.64 \r\nL 403.555256 7.2 \r\n\" style=\"fill:none;stroke:#b0b0b0;stroke-linecap:square;stroke-width:0.8;\"/>\r\n     </g>\r\n     <g id=\"line2d_12\">\r\n      <g>\r\n       <use style=\"stroke:#000000;stroke-width:0.8;\" x=\"403.555256\" xlink:href=\"#mbc61f5c6fe\" y=\"224.64\"/>\r\n      </g>\r\n     </g>\r\n     <g id=\"text_6\">\r\n      <!-- 10000 -->\r\n      <g transform=\"translate(387.649006 239.238437)scale(0.1 -0.1)\">\r\n       <defs>\r\n        <path d=\"M 12.40625 8.296875 \r\nL 28.515625 8.296875 \r\nL 28.515625 63.921875 \r\nL 10.984375 60.40625 \r\nL 10.984375 69.390625 \r\nL 28.421875 72.90625 \r\nL 38.28125 72.90625 \r\nL 38.28125 8.296875 \r\nL 54.390625 8.296875 \r\nL 54.390625 0 \r\nL 12.40625 0 \r\nz\r\n\" id=\"DejaVuSans-49\"/>\r\n       </defs>\r\n       <use xlink:href=\"#DejaVuSans-49\"/>\r\n       <use x=\"63.623047\" xlink:href=\"#DejaVuSans-48\"/>\r\n       <use x=\"127.246094\" xlink:href=\"#DejaVuSans-48\"/>\r\n       <use x=\"190.869141\" xlink:href=\"#DejaVuSans-48\"/>\r\n       <use x=\"254.492188\" xlink:href=\"#DejaVuSans-48\"/>\r\n      </g>\r\n     </g>\r\n    </g>\r\n    <g id=\"text_7\">\r\n     <!-- temperature -->\r\n     <g transform=\"translate(219.947656 252.916562)scale(0.1 -0.1)\">\r\n      <defs>\r\n       <path d=\"M 18.3125 70.21875 \r\nL 18.3125 54.6875 \r\nL 36.8125 54.6875 \r\nL 36.8125 47.703125 \r\nL 18.3125 47.703125 \r\nL 18.3125 18.015625 \r\nQ 18.3125 11.328125 20.140625 9.421875 \r\nQ 21.96875 7.515625 27.59375 7.515625 \r\nL 36.8125 7.515625 \r\nL 36.8125 0 \r\nL 27.59375 0 \r\nQ 17.1875 0 13.234375 3.875 \r\nQ 9.28125 7.765625 9.28125 18.015625 \r\nL 9.28125 47.703125 \r\nL 2.6875 47.703125 \r\nL 2.6875 54.6875 \r\nL 9.28125 54.6875 \r\nL 9.28125 70.21875 \r\nz\r\n\" id=\"DejaVuSans-116\"/>\r\n       <path d=\"M 56.203125 29.59375 \r\nL 56.203125 25.203125 \r\nL 14.890625 25.203125 \r\nQ 15.484375 15.921875 20.484375 11.0625 \r\nQ 25.484375 6.203125 34.421875 6.203125 \r\nQ 39.59375 6.203125 44.453125 7.46875 \r\nQ 49.3125 8.734375 54.109375 11.28125 \r\nL 54.109375 2.78125 \r\nQ 49.265625 0.734375 44.1875 -0.34375 \r\nQ 39.109375 -1.421875 33.890625 -1.421875 \r\nQ 20.796875 -1.421875 13.15625 6.1875 \r\nQ 5.515625 13.8125 5.515625 26.8125 \r\nQ 5.515625 40.234375 12.765625 48.109375 \r\nQ 20.015625 56 32.328125 56 \r\nQ 43.359375 56 49.78125 48.890625 \r\nQ 56.203125 41.796875 56.203125 29.59375 \r\nz\r\nM 47.21875 32.234375 \r\nQ 47.125 39.59375 43.09375 43.984375 \r\nQ 39.0625 48.390625 32.421875 48.390625 \r\nQ 24.90625 48.390625 20.390625 44.140625 \r\nQ 15.875 39.890625 15.1875 32.171875 \r\nz\r\n\" id=\"DejaVuSans-101\"/>\r\n       <path d=\"M 52 44.1875 \r\nQ 55.375 50.25 60.0625 53.125 \r\nQ 64.75 56 71.09375 56 \r\nQ 79.640625 56 84.28125 50.015625 \r\nQ 88.921875 44.046875 88.921875 33.015625 \r\nL 88.921875 0 \r\nL 79.890625 0 \r\nL 79.890625 32.71875 \r\nQ 79.890625 40.578125 77.09375 44.375 \r\nQ 74.3125 48.1875 68.609375 48.1875 \r\nQ 61.625 48.1875 57.5625 43.546875 \r\nQ 53.515625 38.921875 53.515625 30.90625 \r\nL 53.515625 0 \r\nL 44.484375 0 \r\nL 44.484375 32.71875 \r\nQ 44.484375 40.625 41.703125 44.40625 \r\nQ 38.921875 48.1875 33.109375 48.1875 \r\nQ 26.21875 48.1875 22.15625 43.53125 \r\nQ 18.109375 38.875 18.109375 30.90625 \r\nL 18.109375 0 \r\nL 9.078125 0 \r\nL 9.078125 54.6875 \r\nL 18.109375 54.6875 \r\nL 18.109375 46.1875 \r\nQ 21.1875 51.21875 25.484375 53.609375 \r\nQ 29.78125 56 35.6875 56 \r\nQ 41.65625 56 45.828125 52.96875 \r\nQ 50 49.953125 52 44.1875 \r\nz\r\n\" id=\"DejaVuSans-109\"/>\r\n       <path d=\"M 18.109375 8.203125 \r\nL 18.109375 -20.796875 \r\nL 9.078125 -20.796875 \r\nL 9.078125 54.6875 \r\nL 18.109375 54.6875 \r\nL 18.109375 46.390625 \r\nQ 20.953125 51.265625 25.265625 53.625 \r\nQ 29.59375 56 35.59375 56 \r\nQ 45.5625 56 51.78125 48.09375 \r\nQ 58.015625 40.1875 58.015625 27.296875 \r\nQ 58.015625 14.40625 51.78125 6.484375 \r\nQ 45.5625 -1.421875 35.59375 -1.421875 \r\nQ 29.59375 -1.421875 25.265625 0.953125 \r\nQ 20.953125 3.328125 18.109375 8.203125 \r\nz\r\nM 48.6875 27.296875 \r\nQ 48.6875 37.203125 44.609375 42.84375 \r\nQ 40.53125 48.484375 33.40625 48.484375 \r\nQ 26.265625 48.484375 22.1875 42.84375 \r\nQ 18.109375 37.203125 18.109375 27.296875 \r\nQ 18.109375 17.390625 22.1875 11.75 \r\nQ 26.265625 6.109375 33.40625 6.109375 \r\nQ 40.53125 6.109375 44.609375 11.75 \r\nQ 48.6875 17.390625 48.6875 27.296875 \r\nz\r\n\" id=\"DejaVuSans-112\"/>\r\n       <path d=\"M 41.109375 46.296875 \r\nQ 39.59375 47.171875 37.8125 47.578125 \r\nQ 36.03125 48 33.890625 48 \r\nQ 26.265625 48 22.1875 43.046875 \r\nQ 18.109375 38.09375 18.109375 28.8125 \r\nL 18.109375 0 \r\nL 9.078125 0 \r\nL 9.078125 54.6875 \r\nL 18.109375 54.6875 \r\nL 18.109375 46.1875 \r\nQ 20.953125 51.171875 25.484375 53.578125 \r\nQ 30.03125 56 36.53125 56 \r\nQ 37.453125 56 38.578125 55.875 \r\nQ 39.703125 55.765625 41.0625 55.515625 \r\nz\r\n\" id=\"DejaVuSans-114\"/>\r\n       <path d=\"M 34.28125 27.484375 \r\nQ 23.390625 27.484375 19.1875 25 \r\nQ 14.984375 22.515625 14.984375 16.5 \r\nQ 14.984375 11.71875 18.140625 8.90625 \r\nQ 21.296875 6.109375 26.703125 6.109375 \r\nQ 34.1875 6.109375 38.703125 11.40625 \r\nQ 43.21875 16.703125 43.21875 25.484375 \r\nL 43.21875 27.484375 \r\nz\r\nM 52.203125 31.203125 \r\nL 52.203125 0 \r\nL 43.21875 0 \r\nL 43.21875 8.296875 \r\nQ 40.140625 3.328125 35.546875 0.953125 \r\nQ 30.953125 -1.421875 24.3125 -1.421875 \r\nQ 15.921875 -1.421875 10.953125 3.296875 \r\nQ 6 8.015625 6 15.921875 \r\nQ 6 25.140625 12.171875 29.828125 \r\nQ 18.359375 34.515625 30.609375 34.515625 \r\nL 43.21875 34.515625 \r\nL 43.21875 35.40625 \r\nQ 43.21875 41.609375 39.140625 45 \r\nQ 35.0625 48.390625 27.6875 48.390625 \r\nQ 23 48.390625 18.546875 47.265625 \r\nQ 14.109375 46.140625 10.015625 43.890625 \r\nL 10.015625 52.203125 \r\nQ 14.9375 54.109375 19.578125 55.046875 \r\nQ 24.21875 56 28.609375 56 \r\nQ 40.484375 56 46.34375 49.84375 \r\nQ 52.203125 43.703125 52.203125 31.203125 \r\nz\r\n\" id=\"DejaVuSans-97\"/>\r\n       <path d=\"M 8.5 21.578125 \r\nL 8.5 54.6875 \r\nL 17.484375 54.6875 \r\nL 17.484375 21.921875 \r\nQ 17.484375 14.15625 20.5 10.265625 \r\nQ 23.53125 6.390625 29.59375 6.390625 \r\nQ 36.859375 6.390625 41.078125 11.03125 \r\nQ 45.3125 15.671875 45.3125 23.6875 \r\nL 45.3125 54.6875 \r\nL 54.296875 54.6875 \r\nL 54.296875 0 \r\nL 45.3125 0 \r\nL 45.3125 8.40625 \r\nQ 42.046875 3.421875 37.71875 1 \r\nQ 33.40625 -1.421875 27.6875 -1.421875 \r\nQ 18.265625 -1.421875 13.375 4.4375 \r\nQ 8.5 10.296875 8.5 21.578125 \r\nz\r\nM 31.109375 56 \r\nz\r\n\" id=\"DejaVuSans-117\"/>\r\n      </defs>\r\n      <use xlink:href=\"#DejaVuSans-116\"/>\r\n      <use x=\"39.208984\" xlink:href=\"#DejaVuSans-101\"/>\r\n      <use x=\"100.732422\" xlink:href=\"#DejaVuSans-109\"/>\r\n      <use x=\"198.144531\" xlink:href=\"#DejaVuSans-112\"/>\r\n      <use x=\"261.621094\" xlink:href=\"#DejaVuSans-101\"/>\r\n      <use x=\"323.144531\" xlink:href=\"#DejaVuSans-114\"/>\r\n      <use x=\"364.257812\" xlink:href=\"#DejaVuSans-97\"/>\r\n      <use x=\"425.537109\" xlink:href=\"#DejaVuSans-116\"/>\r\n      <use x=\"464.746094\" xlink:href=\"#DejaVuSans-117\"/>\r\n      <use x=\"528.125\" xlink:href=\"#DejaVuSans-114\"/>\r\n      <use x=\"566.988281\" xlink:href=\"#DejaVuSans-101\"/>\r\n     </g>\r\n    </g>\r\n   </g>\r\n   <g id=\"matplotlib.axis_2\">\r\n    <g id=\"ytick_1\">\r\n     <g id=\"line2d_13\">\r\n      <path clip-path=\"url(#p5172bb7b9a)\" d=\"M 83.973438 201.972339 \r\nL 418.773438 201.972339 \r\n\" style=\"fill:none;stroke:#b0b0b0;stroke-linecap:square;stroke-width:0.8;\"/>\r\n     </g>\r\n     <g id=\"line2d_14\">\r\n      <defs>\r\n       <path d=\"M 0 0 \r\nL -3.5 0 \r\n\" id=\"m836bdc7490\" style=\"stroke:#000000;stroke-width:0.8;\"/>\r\n      </defs>\r\n      <g>\r\n       <use style=\"stroke:#000000;stroke-width:0.8;\" x=\"83.973438\" xlink:href=\"#m836bdc7490\" y=\"201.972339\"/>\r\n      </g>\r\n     </g>\r\n     <g id=\"text_8\">\r\n      <!-- −0.000025 -->\r\n      <g transform=\"translate(20.878125 205.771558)scale(0.1 -0.1)\">\r\n       <defs>\r\n        <path d=\"M 10.59375 35.5 \r\nL 73.1875 35.5 \r\nL 73.1875 27.203125 \r\nL 10.59375 27.203125 \r\nz\r\n\" id=\"DejaVuSans-8722\"/>\r\n        <path d=\"M 10.6875 12.40625 \r\nL 21 12.40625 \r\nL 21 0 \r\nL 10.6875 0 \r\nz\r\n\" id=\"DejaVuSans-46\"/>\r\n        <path d=\"M 10.796875 72.90625 \r\nL 49.515625 72.90625 \r\nL 49.515625 64.59375 \r\nL 19.828125 64.59375 \r\nL 19.828125 46.734375 \r\nQ 21.96875 47.46875 24.109375 47.828125 \r\nQ 26.265625 48.1875 28.421875 48.1875 \r\nQ 40.625 48.1875 47.75 41.5 \r\nQ 54.890625 34.8125 54.890625 23.390625 \r\nQ 54.890625 11.625 47.5625 5.09375 \r\nQ 40.234375 -1.421875 26.90625 -1.421875 \r\nQ 22.3125 -1.421875 17.546875 -0.640625 \r\nQ 12.796875 0.140625 7.71875 1.703125 \r\nL 7.71875 11.625 \r\nQ 12.109375 9.234375 16.796875 8.0625 \r\nQ 21.484375 6.890625 26.703125 6.890625 \r\nQ 35.15625 6.890625 40.078125 11.328125 \r\nQ 45.015625 15.765625 45.015625 23.390625 \r\nQ 45.015625 31 40.078125 35.4375 \r\nQ 35.15625 39.890625 26.703125 39.890625 \r\nQ 22.75 39.890625 18.8125 39.015625 \r\nQ 14.890625 38.140625 10.796875 36.28125 \r\nz\r\n\" id=\"DejaVuSans-53\"/>\r\n       </defs>\r\n       <use xlink:href=\"#DejaVuSans-8722\"/>\r\n       <use x=\"83.789062\" xlink:href=\"#DejaVuSans-48\"/>\r\n       <use x=\"147.412109\" xlink:href=\"#DejaVuSans-46\"/>\r\n       <use x=\"179.199219\" xlink:href=\"#DejaVuSans-48\"/>\r\n       <use x=\"242.822266\" xlink:href=\"#DejaVuSans-48\"/>\r\n       <use x=\"306.445312\" xlink:href=\"#DejaVuSans-48\"/>\r\n       <use x=\"370.068359\" xlink:href=\"#DejaVuSans-48\"/>\r\n       <use x=\"433.691406\" xlink:href=\"#DejaVuSans-50\"/>\r\n       <use x=\"497.314453\" xlink:href=\"#DejaVuSans-53\"/>\r\n      </g>\r\n     </g>\r\n    </g>\r\n    <g id=\"ytick_2\">\r\n     <g id=\"line2d_15\">\r\n      <path clip-path=\"url(#p5172bb7b9a)\" d=\"M 83.973438 175.816688 \r\nL 418.773438 175.816688 \r\n\" style=\"fill:none;stroke:#b0b0b0;stroke-linecap:square;stroke-width:0.8;\"/>\r\n     </g>\r\n     <g id=\"line2d_16\">\r\n      <g>\r\n       <use style=\"stroke:#000000;stroke-width:0.8;\" x=\"83.973438\" xlink:href=\"#m836bdc7490\" y=\"175.816688\"/>\r\n      </g>\r\n     </g>\r\n     <g id=\"text_9\">\r\n      <!-- 0.000000 -->\r\n      <g transform=\"translate(29.257813 179.615907)scale(0.1 -0.1)\">\r\n       <use xlink:href=\"#DejaVuSans-48\"/>\r\n       <use x=\"63.623047\" xlink:href=\"#DejaVuSans-46\"/>\r\n       <use x=\"95.410156\" xlink:href=\"#DejaVuSans-48\"/>\r\n       <use x=\"159.033203\" xlink:href=\"#DejaVuSans-48\"/>\r\n       <use x=\"222.65625\" xlink:href=\"#DejaVuSans-48\"/>\r\n       <use x=\"286.279297\" xlink:href=\"#DejaVuSans-48\"/>\r\n       <use x=\"349.902344\" xlink:href=\"#DejaVuSans-48\"/>\r\n       <use x=\"413.525391\" xlink:href=\"#DejaVuSans-48\"/>\r\n      </g>\r\n     </g>\r\n    </g>\r\n    <g id=\"ytick_3\">\r\n     <g id=\"line2d_17\">\r\n      <path clip-path=\"url(#p5172bb7b9a)\" d=\"M 83.973438 149.661038 \r\nL 418.773438 149.661038 \r\n\" style=\"fill:none;stroke:#b0b0b0;stroke-linecap:square;stroke-width:0.8;\"/>\r\n     </g>\r\n     <g id=\"line2d_18\">\r\n      <g>\r\n       <use style=\"stroke:#000000;stroke-width:0.8;\" x=\"83.973438\" xlink:href=\"#m836bdc7490\" y=\"149.661038\"/>\r\n      </g>\r\n     </g>\r\n     <g id=\"text_10\">\r\n      <!-- 0.000025 -->\r\n      <g transform=\"translate(29.257813 153.460256)scale(0.1 -0.1)\">\r\n       <use xlink:href=\"#DejaVuSans-48\"/>\r\n       <use x=\"63.623047\" xlink:href=\"#DejaVuSans-46\"/>\r\n       <use x=\"95.410156\" xlink:href=\"#DejaVuSans-48\"/>\r\n       <use x=\"159.033203\" xlink:href=\"#DejaVuSans-48\"/>\r\n       <use x=\"222.65625\" xlink:href=\"#DejaVuSans-48\"/>\r\n       <use x=\"286.279297\" xlink:href=\"#DejaVuSans-48\"/>\r\n       <use x=\"349.902344\" xlink:href=\"#DejaVuSans-50\"/>\r\n       <use x=\"413.525391\" xlink:href=\"#DejaVuSans-53\"/>\r\n      </g>\r\n     </g>\r\n    </g>\r\n    <g id=\"ytick_4\">\r\n     <g id=\"line2d_19\">\r\n      <path clip-path=\"url(#p5172bb7b9a)\" d=\"M 83.973438 123.505387 \r\nL 418.773438 123.505387 \r\n\" style=\"fill:none;stroke:#b0b0b0;stroke-linecap:square;stroke-width:0.8;\"/>\r\n     </g>\r\n     <g id=\"line2d_20\">\r\n      <g>\r\n       <use style=\"stroke:#000000;stroke-width:0.8;\" x=\"83.973438\" xlink:href=\"#m836bdc7490\" y=\"123.505387\"/>\r\n      </g>\r\n     </g>\r\n     <g id=\"text_11\">\r\n      <!-- 0.000050 -->\r\n      <g transform=\"translate(29.257813 127.304606)scale(0.1 -0.1)\">\r\n       <use xlink:href=\"#DejaVuSans-48\"/>\r\n       <use x=\"63.623047\" xlink:href=\"#DejaVuSans-46\"/>\r\n       <use x=\"95.410156\" xlink:href=\"#DejaVuSans-48\"/>\r\n       <use x=\"159.033203\" xlink:href=\"#DejaVuSans-48\"/>\r\n       <use x=\"222.65625\" xlink:href=\"#DejaVuSans-48\"/>\r\n       <use x=\"286.279297\" xlink:href=\"#DejaVuSans-48\"/>\r\n       <use x=\"349.902344\" xlink:href=\"#DejaVuSans-53\"/>\r\n       <use x=\"413.525391\" xlink:href=\"#DejaVuSans-48\"/>\r\n      </g>\r\n     </g>\r\n    </g>\r\n    <g id=\"ytick_5\">\r\n     <g id=\"line2d_21\">\r\n      <path clip-path=\"url(#p5172bb7b9a)\" d=\"M 83.973438 97.349736 \r\nL 418.773438 97.349736 \r\n\" style=\"fill:none;stroke:#b0b0b0;stroke-linecap:square;stroke-width:0.8;\"/>\r\n     </g>\r\n     <g id=\"line2d_22\">\r\n      <g>\r\n       <use style=\"stroke:#000000;stroke-width:0.8;\" x=\"83.973438\" xlink:href=\"#m836bdc7490\" y=\"97.349736\"/>\r\n      </g>\r\n     </g>\r\n     <g id=\"text_12\">\r\n      <!-- 0.000075 -->\r\n      <g transform=\"translate(29.257813 101.148955)scale(0.1 -0.1)\">\r\n       <defs>\r\n        <path d=\"M 8.203125 72.90625 \r\nL 55.078125 72.90625 \r\nL 55.078125 68.703125 \r\nL 28.609375 0 \r\nL 18.3125 0 \r\nL 43.21875 64.59375 \r\nL 8.203125 64.59375 \r\nz\r\n\" id=\"DejaVuSans-55\"/>\r\n       </defs>\r\n       <use xlink:href=\"#DejaVuSans-48\"/>\r\n       <use x=\"63.623047\" xlink:href=\"#DejaVuSans-46\"/>\r\n       <use x=\"95.410156\" xlink:href=\"#DejaVuSans-48\"/>\r\n       <use x=\"159.033203\" xlink:href=\"#DejaVuSans-48\"/>\r\n       <use x=\"222.65625\" xlink:href=\"#DejaVuSans-48\"/>\r\n       <use x=\"286.279297\" xlink:href=\"#DejaVuSans-48\"/>\r\n       <use x=\"349.902344\" xlink:href=\"#DejaVuSans-55\"/>\r\n       <use x=\"413.525391\" xlink:href=\"#DejaVuSans-53\"/>\r\n      </g>\r\n     </g>\r\n    </g>\r\n    <g id=\"ytick_6\">\r\n     <g id=\"line2d_23\">\r\n      <path clip-path=\"url(#p5172bb7b9a)\" d=\"M 83.973438 71.194085 \r\nL 418.773438 71.194085 \r\n\" style=\"fill:none;stroke:#b0b0b0;stroke-linecap:square;stroke-width:0.8;\"/>\r\n     </g>\r\n     <g id=\"line2d_24\">\r\n      <g>\r\n       <use style=\"stroke:#000000;stroke-width:0.8;\" x=\"83.973438\" xlink:href=\"#m836bdc7490\" y=\"71.194085\"/>\r\n      </g>\r\n     </g>\r\n     <g id=\"text_13\">\r\n      <!-- 0.000100 -->\r\n      <g transform=\"translate(29.257813 74.993304)scale(0.1 -0.1)\">\r\n       <use xlink:href=\"#DejaVuSans-48\"/>\r\n       <use x=\"63.623047\" xlink:href=\"#DejaVuSans-46\"/>\r\n       <use x=\"95.410156\" xlink:href=\"#DejaVuSans-48\"/>\r\n       <use x=\"159.033203\" xlink:href=\"#DejaVuSans-48\"/>\r\n       <use x=\"222.65625\" xlink:href=\"#DejaVuSans-48\"/>\r\n       <use x=\"286.279297\" xlink:href=\"#DejaVuSans-49\"/>\r\n       <use x=\"349.902344\" xlink:href=\"#DejaVuSans-48\"/>\r\n       <use x=\"413.525391\" xlink:href=\"#DejaVuSans-48\"/>\r\n      </g>\r\n     </g>\r\n    </g>\r\n    <g id=\"ytick_7\">\r\n     <g id=\"line2d_25\">\r\n      <path clip-path=\"url(#p5172bb7b9a)\" d=\"M 83.973438 45.038435 \r\nL 418.773438 45.038435 \r\n\" style=\"fill:none;stroke:#b0b0b0;stroke-linecap:square;stroke-width:0.8;\"/>\r\n     </g>\r\n     <g id=\"line2d_26\">\r\n      <g>\r\n       <use style=\"stroke:#000000;stroke-width:0.8;\" x=\"83.973438\" xlink:href=\"#m836bdc7490\" y=\"45.038435\"/>\r\n      </g>\r\n     </g>\r\n     <g id=\"text_14\">\r\n      <!-- 0.000125 -->\r\n      <g transform=\"translate(29.257813 48.837654)scale(0.1 -0.1)\">\r\n       <use xlink:href=\"#DejaVuSans-48\"/>\r\n       <use x=\"63.623047\" xlink:href=\"#DejaVuSans-46\"/>\r\n       <use x=\"95.410156\" xlink:href=\"#DejaVuSans-48\"/>\r\n       <use x=\"159.033203\" xlink:href=\"#DejaVuSans-48\"/>\r\n       <use x=\"222.65625\" xlink:href=\"#DejaVuSans-48\"/>\r\n       <use x=\"286.279297\" xlink:href=\"#DejaVuSans-49\"/>\r\n       <use x=\"349.902344\" xlink:href=\"#DejaVuSans-50\"/>\r\n       <use x=\"413.525391\" xlink:href=\"#DejaVuSans-53\"/>\r\n      </g>\r\n     </g>\r\n    </g>\r\n    <g id=\"ytick_8\">\r\n     <g id=\"line2d_27\">\r\n      <path clip-path=\"url(#p5172bb7b9a)\" d=\"M 83.973438 18.882784 \r\nL 418.773438 18.882784 \r\n\" style=\"fill:none;stroke:#b0b0b0;stroke-linecap:square;stroke-width:0.8;\"/>\r\n     </g>\r\n     <g id=\"line2d_28\">\r\n      <g>\r\n       <use style=\"stroke:#000000;stroke-width:0.8;\" x=\"83.973438\" xlink:href=\"#m836bdc7490\" y=\"18.882784\"/>\r\n      </g>\r\n     </g>\r\n     <g id=\"text_15\">\r\n      <!-- 0.000150 -->\r\n      <g transform=\"translate(29.257813 22.682003)scale(0.1 -0.1)\">\r\n       <use xlink:href=\"#DejaVuSans-48\"/>\r\n       <use x=\"63.623047\" xlink:href=\"#DejaVuSans-46\"/>\r\n       <use x=\"95.410156\" xlink:href=\"#DejaVuSans-48\"/>\r\n       <use x=\"159.033203\" xlink:href=\"#DejaVuSans-48\"/>\r\n       <use x=\"222.65625\" xlink:href=\"#DejaVuSans-48\"/>\r\n       <use x=\"286.279297\" xlink:href=\"#DejaVuSans-49\"/>\r\n       <use x=\"349.902344\" xlink:href=\"#DejaVuSans-53\"/>\r\n       <use x=\"413.525391\" xlink:href=\"#DejaVuSans-48\"/>\r\n      </g>\r\n     </g>\r\n    </g>\r\n    <g id=\"text_16\">\r\n     <!-- efficiency deriavtive -->\r\n     <g transform=\"translate(14.798438 166.691094)rotate(-90)scale(0.1 -0.1)\">\r\n      <defs>\r\n       <path d=\"M 37.109375 75.984375 \r\nL 37.109375 68.5 \r\nL 28.515625 68.5 \r\nQ 23.6875 68.5 21.796875 66.546875 \r\nQ 19.921875 64.59375 19.921875 59.515625 \r\nL 19.921875 54.6875 \r\nL 34.71875 54.6875 \r\nL 34.71875 47.703125 \r\nL 19.921875 47.703125 \r\nL 19.921875 0 \r\nL 10.890625 0 \r\nL 10.890625 47.703125 \r\nL 2.296875 47.703125 \r\nL 2.296875 54.6875 \r\nL 10.890625 54.6875 \r\nL 10.890625 58.5 \r\nQ 10.890625 67.625 15.140625 71.796875 \r\nQ 19.390625 75.984375 28.609375 75.984375 \r\nz\r\n\" id=\"DejaVuSans-102\"/>\r\n       <path d=\"M 9.421875 54.6875 \r\nL 18.40625 54.6875 \r\nL 18.40625 0 \r\nL 9.421875 0 \r\nz\r\nM 9.421875 75.984375 \r\nL 18.40625 75.984375 \r\nL 18.40625 64.59375 \r\nL 9.421875 64.59375 \r\nz\r\n\" id=\"DejaVuSans-105\"/>\r\n       <path d=\"M 48.78125 52.59375 \r\nL 48.78125 44.1875 \r\nQ 44.96875 46.296875 41.140625 47.34375 \r\nQ 37.3125 48.390625 33.40625 48.390625 \r\nQ 24.65625 48.390625 19.8125 42.84375 \r\nQ 14.984375 37.3125 14.984375 27.296875 \r\nQ 14.984375 17.28125 19.8125 11.734375 \r\nQ 24.65625 6.203125 33.40625 6.203125 \r\nQ 37.3125 6.203125 41.140625 7.25 \r\nQ 44.96875 8.296875 48.78125 10.40625 \r\nL 48.78125 2.09375 \r\nQ 45.015625 0.34375 40.984375 -0.53125 \r\nQ 36.96875 -1.421875 32.421875 -1.421875 \r\nQ 20.0625 -1.421875 12.78125 6.34375 \r\nQ 5.515625 14.109375 5.515625 27.296875 \r\nQ 5.515625 40.671875 12.859375 48.328125 \r\nQ 20.21875 56 33.015625 56 \r\nQ 37.15625 56 41.109375 55.140625 \r\nQ 45.0625 54.296875 48.78125 52.59375 \r\nz\r\n\" id=\"DejaVuSans-99\"/>\r\n       <path d=\"M 54.890625 33.015625 \r\nL 54.890625 0 \r\nL 45.90625 0 \r\nL 45.90625 32.71875 \r\nQ 45.90625 40.484375 42.875 44.328125 \r\nQ 39.84375 48.1875 33.796875 48.1875 \r\nQ 26.515625 48.1875 22.3125 43.546875 \r\nQ 18.109375 38.921875 18.109375 30.90625 \r\nL 18.109375 0 \r\nL 9.078125 0 \r\nL 9.078125 54.6875 \r\nL 18.109375 54.6875 \r\nL 18.109375 46.1875 \r\nQ 21.34375 51.125 25.703125 53.5625 \r\nQ 30.078125 56 35.796875 56 \r\nQ 45.21875 56 50.046875 50.171875 \r\nQ 54.890625 44.34375 54.890625 33.015625 \r\nz\r\n\" id=\"DejaVuSans-110\"/>\r\n       <path d=\"M 32.171875 -5.078125 \r\nQ 28.375 -14.84375 24.75 -17.8125 \r\nQ 21.140625 -20.796875 15.09375 -20.796875 \r\nL 7.90625 -20.796875 \r\nL 7.90625 -13.28125 \r\nL 13.1875 -13.28125 \r\nQ 16.890625 -13.28125 18.9375 -11.515625 \r\nQ 21 -9.765625 23.484375 -3.21875 \r\nL 25.09375 0.875 \r\nL 2.984375 54.6875 \r\nL 12.5 54.6875 \r\nL 29.59375 11.921875 \r\nL 46.6875 54.6875 \r\nL 56.203125 54.6875 \r\nz\r\n\" id=\"DejaVuSans-121\"/>\r\n       <path id=\"DejaVuSans-32\"/>\r\n       <path d=\"M 45.40625 46.390625 \r\nL 45.40625 75.984375 \r\nL 54.390625 75.984375 \r\nL 54.390625 0 \r\nL 45.40625 0 \r\nL 45.40625 8.203125 \r\nQ 42.578125 3.328125 38.25 0.953125 \r\nQ 33.9375 -1.421875 27.875 -1.421875 \r\nQ 17.96875 -1.421875 11.734375 6.484375 \r\nQ 5.515625 14.40625 5.515625 27.296875 \r\nQ 5.515625 40.1875 11.734375 48.09375 \r\nQ 17.96875 56 27.875 56 \r\nQ 33.9375 56 38.25 53.625 \r\nQ 42.578125 51.265625 45.40625 46.390625 \r\nz\r\nM 14.796875 27.296875 \r\nQ 14.796875 17.390625 18.875 11.75 \r\nQ 22.953125 6.109375 30.078125 6.109375 \r\nQ 37.203125 6.109375 41.296875 11.75 \r\nQ 45.40625 17.390625 45.40625 27.296875 \r\nQ 45.40625 37.203125 41.296875 42.84375 \r\nQ 37.203125 48.484375 30.078125 48.484375 \r\nQ 22.953125 48.484375 18.875 42.84375 \r\nQ 14.796875 37.203125 14.796875 27.296875 \r\nz\r\n\" id=\"DejaVuSans-100\"/>\r\n       <path d=\"M 2.984375 54.6875 \r\nL 12.5 54.6875 \r\nL 29.59375 8.796875 \r\nL 46.6875 54.6875 \r\nL 56.203125 54.6875 \r\nL 35.6875 0 \r\nL 23.484375 0 \r\nz\r\n\" id=\"DejaVuSans-118\"/>\r\n      </defs>\r\n      <use xlink:href=\"#DejaVuSans-101\"/>\r\n      <use x=\"61.523438\" xlink:href=\"#DejaVuSans-102\"/>\r\n      <use x=\"96.728516\" xlink:href=\"#DejaVuSans-102\"/>\r\n      <use x=\"131.933594\" xlink:href=\"#DejaVuSans-105\"/>\r\n      <use x=\"159.716797\" xlink:href=\"#DejaVuSans-99\"/>\r\n      <use x=\"214.697266\" xlink:href=\"#DejaVuSans-105\"/>\r\n      <use x=\"242.480469\" xlink:href=\"#DejaVuSans-101\"/>\r\n      <use x=\"304.003906\" xlink:href=\"#DejaVuSans-110\"/>\r\n      <use x=\"367.382812\" xlink:href=\"#DejaVuSans-99\"/>\r\n      <use x=\"422.363281\" xlink:href=\"#DejaVuSans-121\"/>\r\n      <use x=\"481.542969\" xlink:href=\"#DejaVuSans-32\"/>\r\n      <use x=\"513.330078\" xlink:href=\"#DejaVuSans-100\"/>\r\n      <use x=\"576.806641\" xlink:href=\"#DejaVuSans-101\"/>\r\n      <use x=\"638.330078\" xlink:href=\"#DejaVuSans-114\"/>\r\n      <use x=\"679.443359\" xlink:href=\"#DejaVuSans-105\"/>\r\n      <use x=\"707.226562\" xlink:href=\"#DejaVuSans-97\"/>\r\n      <use x=\"768.505859\" xlink:href=\"#DejaVuSans-118\"/>\r\n      <use x=\"827.685547\" xlink:href=\"#DejaVuSans-116\"/>\r\n      <use x=\"866.894531\" xlink:href=\"#DejaVuSans-105\"/>\r\n      <use x=\"894.677734\" xlink:href=\"#DejaVuSans-118\"/>\r\n      <use x=\"953.857422\" xlink:href=\"#DejaVuSans-101\"/>\r\n     </g>\r\n    </g>\r\n   </g>\r\n   <g id=\"line2d_29\">\r\n    <path clip-path=\"url(#p5172bb7b9a)\" d=\"M 99.191619 175.816688 \r\nL 121.344272 175.705981 \r\nL 124.35653 175.447108 \r\nL 126.584347 175.040913 \r\nL 128.467008 174.476904 \r\nL 130.161404 173.739552 \r\nL 131.761666 172.797987 \r\nL 133.299173 171.631735 \r\nL 134.805303 170.209728 \r\nL 136.34281 168.44602 \r\nL 137.911694 166.299219 \r\nL 139.543334 163.677856 \r\nL 141.23773 160.526797 \r\nL 143.057636 156.656131 \r\nL 145.003053 151.976853 \r\nL 147.105359 146.327644 \r\nL 149.458686 139.345304 \r\nL 152.157168 130.614796 \r\nL 155.483203 119.054787 \r\nL 160.754656 99.799175 \r\nL 166.716418 78.256471 \r\nL 170.23072 66.383208 \r\nL 173.211601 57.068393 \r\nL 175.878705 49.441675 \r\nL 178.326165 43.096935 \r\nL 180.616736 37.763676 \r\nL 182.75042 33.342405 \r\nL 184.758592 29.673042 \r\nL 186.672632 26.623253 \r\nL 188.492538 24.128094 \r\nL 190.249689 22.090145 \r\nL 191.912706 20.492568 \r\nL 193.512969 19.253794 \r\nL 195.081854 18.317281 \r\nL 196.587983 17.670695 \r\nL 198.094112 17.264545 \r\nL 199.600242 17.091426 \r\nL 201.106371 17.14352 \r\nL 202.643878 17.420428 \r\nL 204.24414 17.938944 \r\nL 205.907158 18.715494 \r\nL 207.664309 19.785991 \r\nL 209.546971 21.201774 \r\nL 211.555143 22.998674 \r\nL 213.720204 25.243039 \r\nL 216.073531 28.013116 \r\nL 218.646502 31.396694 \r\nL 221.470495 35.487168 \r\nL 224.639642 40.481189 \r\nL 228.248077 46.597083 \r\nL 232.484065 54.230295 \r\nL 237.849651 64.38439 \r\nL 246.855049 81.991124 \r\nL 256.801779 101.285033 \r\nL 263.108695 113.03193 \r\nL 268.631169 122.855481 \r\nL 273.714356 131.450693 \r\nL 278.515143 139.139594 \r\nL 283.127664 146.115308 \r\nL 287.614675 152.50469 \r\nL 292.03893 158.418934 \r\nL 296.369051 163.838231 \r\nL 300.667796 168.862244 \r\nL 304.903784 173.473575 \r\nL 309.108395 177.726987 \r\nL 313.344384 181.69691 \r\nL 317.580373 185.362508 \r\nL 321.816362 188.736754 \r\nL 326.115106 191.876951 \r\nL 330.445228 194.765331 \r\nL 334.838105 197.429013 \r\nL 339.293737 199.872205 \r\nL 343.843503 202.114773 \r\nL 348.51878 204.170868 \r\nL 353.288189 206.026868 \r\nL 358.245865 207.71645 \r\nL 363.360429 209.223345 \r\nL 368.600504 210.539009 \r\nL 374.091601 211.69153 \r\nL 379.896474 212.681788 \r\nL 385.952369 213.490161 \r\nL 392.384796 214.124812 \r\nL 399.287889 214.579489 \r\nL 403.555256 214.756364 \r\nL 403.555256 214.756364 \r\n\" style=\"fill:none;stroke:#008000;stroke-linecap:square;stroke-width:1.5;\"/>\r\n   </g>\r\n   <g id=\"patch_3\">\r\n    <path d=\"M 83.973438 224.64 \r\nL 83.973438 7.2 \r\n\" style=\"fill:none;stroke:#000000;stroke-linecap:square;stroke-linejoin:miter;stroke-width:0.8;\"/>\r\n   </g>\r\n   <g id=\"patch_4\">\r\n    <path d=\"M 418.773438 224.64 \r\nL 418.773438 7.2 \r\n\" style=\"fill:none;stroke:#000000;stroke-linecap:square;stroke-linejoin:miter;stroke-width:0.8;\"/>\r\n   </g>\r\n   <g id=\"patch_5\">\r\n    <path d=\"M 83.973438 224.64 \r\nL 418.773438 224.64 \r\n\" style=\"fill:none;stroke:#000000;stroke-linecap:square;stroke-linejoin:miter;stroke-width:0.8;\"/>\r\n   </g>\r\n   <g id=\"patch_6\">\r\n    <path d=\"M 83.973438 7.2 \r\nL 418.773438 7.2 \r\n\" style=\"fill:none;stroke:#000000;stroke-linecap:square;stroke-linejoin:miter;stroke-width:0.8;\"/>\r\n   </g>\r\n   <g id=\"legend_1\">\r\n    <g id=\"patch_7\">\r\n     <path d=\"M 344.846875 29.878125 \r\nL 411.773437 29.878125 \r\nQ 413.773437 29.878125 413.773437 27.878125 \r\nL 413.773437 14.2 \r\nQ 413.773437 12.2 411.773437 12.2 \r\nL 344.846875 12.2 \r\nQ 342.846875 12.2 342.846875 14.2 \r\nL 342.846875 27.878125 \r\nQ 342.846875 29.878125 344.846875 29.878125 \r\nz\r\n\" style=\"fill:#ffffff;opacity:0.8;stroke:#cccccc;stroke-linejoin:miter;\"/>\r\n    </g>\r\n    <g id=\"line2d_30\">\r\n     <path d=\"M 346.846875 20.298437 \r\nL 366.846875 20.298437 \r\n\" style=\"fill:none;stroke:#008000;stroke-linecap:square;stroke-width:1.5;\"/>\r\n    </g>\r\n    <g id=\"line2d_31\"/>\r\n    <g id=\"text_17\">\r\n     <!-- central -->\r\n     <g transform=\"translate(374.846875 23.798437)scale(0.1 -0.1)\">\r\n      <defs>\r\n       <path d=\"M 9.421875 75.984375 \r\nL 18.40625 75.984375 \r\nL 18.40625 0 \r\nL 9.421875 0 \r\nz\r\n\" id=\"DejaVuSans-108\"/>\r\n      </defs>\r\n      <use xlink:href=\"#DejaVuSans-99\"/>\r\n      <use x=\"54.980469\" xlink:href=\"#DejaVuSans-101\"/>\r\n      <use x=\"116.503906\" xlink:href=\"#DejaVuSans-110\"/>\r\n      <use x=\"179.882812\" xlink:href=\"#DejaVuSans-116\"/>\r\n      <use x=\"219.091797\" xlink:href=\"#DejaVuSans-114\"/>\r\n      <use x=\"260.205078\" xlink:href=\"#DejaVuSans-97\"/>\r\n      <use x=\"321.484375\" xlink:href=\"#DejaVuSans-108\"/>\r\n     </g>\r\n    </g>\r\n   </g>\r\n  </g>\r\n </g>\r\n <defs>\r\n  <clipPath id=\"p5172bb7b9a\">\r\n   <rect height=\"217.44\" width=\"334.8\" x=\"83.973438\" y=\"7.2\"/>\r\n  </clipPath>\r\n </defs>\r\n</svg>\r\n",
      "image/png": "[encoded data removed]"
     },
     "metadata": {
      "needs_background": "light"
     }
    },
    {
     "output_type": "display_data",
     "data": {
      "text/plain": "<Figure size 432x288 with 1 Axes>",
      "image/svg+xml": "<?xml version=\"1.0\" encoding=\"utf-8\" standalone=\"no\"?>\r\n<!DOCTYPE svg PUBLIC \"-//W3C//DTD SVG 1.1//EN\"\r\n  \"http://www.w3.org/Graphics/SVG/1.1/DTD/svg11.dtd\">\r\n<!-- Created with matplotlib (https://matplotlib.org/) -->\r\n<svg height=\"262.19625pt\" version=\"1.1\" viewBox=\"0 0 426.661506 262.19625\" width=\"426.661506pt\" xmlns=\"http://www.w3.org/2000/svg\" xmlns:xlink=\"http://www.w3.org/1999/xlink\">\r\n <metadata>\r\n  <rdf:RDF xmlns:cc=\"http://creativecommons.org/ns#\" xmlns:dc=\"http://purl.org/dc/elements/1.1/\" xmlns:rdf=\"http://www.w3.org/1999/02/22-rdf-syntax-ns#\">\r\n   <cc:Work>\r\n    <dc:type rdf:resource=\"http://purl.org/dc/dcmitype/StillImage\"/>\r\n    <dc:date>2021-03-12T23:20:58.801518</dc:date>\r\n    <dc:format>image/svg+xml</dc:format>\r\n    <dc:creator>\r\n     <cc:Agent>\r\n      <dc:title>Matplotlib v3.3.2, https://matplotlib.org/</dc:title>\r\n     </cc:Agent>\r\n    </dc:creator>\r\n   </cc:Work>\r\n  </rdf:RDF>\r\n </metadata>\r\n <defs>\r\n  <style type=\"text/css\">*{stroke-linecap:butt;stroke-linejoin:round;}</style>\r\n </defs>\r\n <g id=\"figure_1\">\r\n  <g id=\"patch_1\">\r\n   <path d=\"M 0 262.19625 \r\nL 426.661506 262.19625 \r\nL 426.661506 0 \r\nL 0 0 \r\nz\r\n\" style=\"fill:none;\"/>\r\n  </g>\r\n  <g id=\"axes_1\">\r\n   <g id=\"patch_2\">\r\n    <path d=\"M 83.973438 224.64 \r\nL 418.773438 224.64 \r\nL 418.773438 7.2 \r\nL 83.973438 7.2 \r\nz\r\n\" style=\"fill:#ffffff;\"/>\r\n   </g>\r\n   <g id=\"matplotlib.axis_1\">\r\n    <g id=\"xtick_1\">\r\n     <g id=\"line2d_1\">\r\n      <path clip-path=\"url(#p51cff73368)\" d=\"M 89.778311 224.64 \r\nL 89.778311 7.2 \r\n\" style=\"fill:none;stroke:#b0b0b0;stroke-linecap:square;stroke-width:0.8;\"/>\r\n     </g>\r\n     <g id=\"line2d_2\">\r\n      <defs>\r\n       <path d=\"M 0 0 \r\nL 0 3.5 \r\n\" id=\"m48271d7bdc\" style=\"stroke:#000000;stroke-width:0.8;\"/>\r\n      </defs>\r\n      <g>\r\n       <use style=\"stroke:#000000;stroke-width:0.8;\" x=\"89.778311\" xlink:href=\"#m48271d7bdc\" y=\"224.64\"/>\r\n      </g>\r\n     </g>\r\n     <g id=\"text_1\">\r\n      <!-- 0 -->\r\n      <g transform=\"translate(86.597061 239.238437)scale(0.1 -0.1)\">\r\n       <defs>\r\n        <path d=\"M 31.78125 66.40625 \r\nQ 24.171875 66.40625 20.328125 58.90625 \r\nQ 16.5 51.421875 16.5 36.375 \r\nQ 16.5 21.390625 20.328125 13.890625 \r\nQ 24.171875 6.390625 31.78125 6.390625 \r\nQ 39.453125 6.390625 43.28125 13.890625 \r\nQ 47.125 21.390625 47.125 36.375 \r\nQ 47.125 51.421875 43.28125 58.90625 \r\nQ 39.453125 66.40625 31.78125 66.40625 \r\nz\r\nM 31.78125 74.21875 \r\nQ 44.046875 74.21875 50.515625 64.515625 \r\nQ 56.984375 54.828125 56.984375 36.375 \r\nQ 56.984375 17.96875 50.515625 8.265625 \r\nQ 44.046875 -1.421875 31.78125 -1.421875 \r\nQ 19.53125 -1.421875 13.0625 8.265625 \r\nQ 6.59375 17.96875 6.59375 36.375 \r\nQ 6.59375 54.828125 13.0625 64.515625 \r\nQ 19.53125 74.21875 31.78125 74.21875 \r\nz\r\n\" id=\"DejaVuSans-48\"/>\r\n       </defs>\r\n       <use xlink:href=\"#DejaVuSans-48\"/>\r\n      </g>\r\n     </g>\r\n    </g>\r\n    <g id=\"xtick_2\">\r\n     <g id=\"line2d_3\">\r\n      <path clip-path=\"url(#p51cff73368)\" d=\"M 152.5337 224.64 \r\nL 152.5337 7.2 \r\n\" style=\"fill:none;stroke:#b0b0b0;stroke-linecap:square;stroke-width:0.8;\"/>\r\n     </g>\r\n     <g id=\"line2d_4\">\r\n      <g>\r\n       <use style=\"stroke:#000000;stroke-width:0.8;\" x=\"152.5337\" xlink:href=\"#m48271d7bdc\" y=\"224.64\"/>\r\n      </g>\r\n     </g>\r\n     <g id=\"text_2\">\r\n      <!-- 2000 -->\r\n      <g transform=\"translate(139.8087 239.238437)scale(0.1 -0.1)\">\r\n       <defs>\r\n        <path d=\"M 19.1875 8.296875 \r\nL 53.609375 8.296875 \r\nL 53.609375 0 \r\nL 7.328125 0 \r\nL 7.328125 8.296875 \r\nQ 12.9375 14.109375 22.625 23.890625 \r\nQ 32.328125 33.6875 34.8125 36.53125 \r\nQ 39.546875 41.84375 41.421875 45.53125 \r\nQ 43.3125 49.21875 43.3125 52.78125 \r\nQ 43.3125 58.59375 39.234375 62.25 \r\nQ 35.15625 65.921875 28.609375 65.921875 \r\nQ 23.96875 65.921875 18.8125 64.3125 \r\nQ 13.671875 62.703125 7.8125 59.421875 \r\nL 7.8125 69.390625 \r\nQ 13.765625 71.78125 18.9375 73 \r\nQ 24.125 74.21875 28.421875 74.21875 \r\nQ 39.75 74.21875 46.484375 68.546875 \r\nQ 53.21875 62.890625 53.21875 53.421875 \r\nQ 53.21875 48.921875 51.53125 44.890625 \r\nQ 49.859375 40.875 45.40625 35.40625 \r\nQ 44.1875 33.984375 37.640625 27.21875 \r\nQ 31.109375 20.453125 19.1875 8.296875 \r\nz\r\n\" id=\"DejaVuSans-50\"/>\r\n       </defs>\r\n       <use xlink:href=\"#DejaVuSans-50\"/>\r\n       <use x=\"63.623047\" xlink:href=\"#DejaVuSans-48\"/>\r\n       <use x=\"127.246094\" xlink:href=\"#DejaVuSans-48\"/>\r\n       <use x=\"190.869141\" xlink:href=\"#DejaVuSans-48\"/>\r\n      </g>\r\n     </g>\r\n    </g>\r\n    <g id=\"xtick_3\">\r\n     <g id=\"line2d_5\">\r\n      <path clip-path=\"url(#p51cff73368)\" d=\"M 215.289089 224.64 \r\nL 215.289089 7.2 \r\n\" style=\"fill:none;stroke:#b0b0b0;stroke-linecap:square;stroke-width:0.8;\"/>\r\n     </g>\r\n     <g id=\"line2d_6\">\r\n      <g>\r\n       <use style=\"stroke:#000000;stroke-width:0.8;\" x=\"215.289089\" xlink:href=\"#m48271d7bdc\" y=\"224.64\"/>\r\n      </g>\r\n     </g>\r\n     <g id=\"text_3\">\r\n      <!-- 4000 -->\r\n      <g transform=\"translate(202.564089 239.238437)scale(0.1 -0.1)\">\r\n       <defs>\r\n        <path d=\"M 37.796875 64.3125 \r\nL 12.890625 25.390625 \r\nL 37.796875 25.390625 \r\nz\r\nM 35.203125 72.90625 \r\nL 47.609375 72.90625 \r\nL 47.609375 25.390625 \r\nL 58.015625 25.390625 \r\nL 58.015625 17.1875 \r\nL 47.609375 17.1875 \r\nL 47.609375 0 \r\nL 37.796875 0 \r\nL 37.796875 17.1875 \r\nL 4.890625 17.1875 \r\nL 4.890625 26.703125 \r\nz\r\n\" id=\"DejaVuSans-52\"/>\r\n       </defs>\r\n       <use xlink:href=\"#DejaVuSans-52\"/>\r\n       <use x=\"63.623047\" xlink:href=\"#DejaVuSans-48\"/>\r\n       <use x=\"127.246094\" xlink:href=\"#DejaVuSans-48\"/>\r\n       <use x=\"190.869141\" xlink:href=\"#DejaVuSans-48\"/>\r\n      </g>\r\n     </g>\r\n    </g>\r\n    <g id=\"xtick_4\">\r\n     <g id=\"line2d_7\">\r\n      <path clip-path=\"url(#p51cff73368)\" d=\"M 278.044478 224.64 \r\nL 278.044478 7.2 \r\n\" style=\"fill:none;stroke:#b0b0b0;stroke-linecap:square;stroke-width:0.8;\"/>\r\n     </g>\r\n     <g id=\"line2d_8\">\r\n      <g>\r\n       <use style=\"stroke:#000000;stroke-width:0.8;\" x=\"278.044478\" xlink:href=\"#m48271d7bdc\" y=\"224.64\"/>\r\n      </g>\r\n     </g>\r\n     <g id=\"text_4\">\r\n      <!-- 6000 -->\r\n      <g transform=\"translate(265.319478 239.238437)scale(0.1 -0.1)\">\r\n       <defs>\r\n        <path d=\"M 33.015625 40.375 \r\nQ 26.375 40.375 22.484375 35.828125 \r\nQ 18.609375 31.296875 18.609375 23.390625 \r\nQ 18.609375 15.53125 22.484375 10.953125 \r\nQ 26.375 6.390625 33.015625 6.390625 \r\nQ 39.65625 6.390625 43.53125 10.953125 \r\nQ 47.40625 15.53125 47.40625 23.390625 \r\nQ 47.40625 31.296875 43.53125 35.828125 \r\nQ 39.65625 40.375 33.015625 40.375 \r\nz\r\nM 52.59375 71.296875 \r\nL 52.59375 62.3125 \r\nQ 48.875 64.0625 45.09375 64.984375 \r\nQ 41.3125 65.921875 37.59375 65.921875 \r\nQ 27.828125 65.921875 22.671875 59.328125 \r\nQ 17.53125 52.734375 16.796875 39.40625 \r\nQ 19.671875 43.65625 24.015625 45.921875 \r\nQ 28.375 48.1875 33.59375 48.1875 \r\nQ 44.578125 48.1875 50.953125 41.515625 \r\nQ 57.328125 34.859375 57.328125 23.390625 \r\nQ 57.328125 12.15625 50.6875 5.359375 \r\nQ 44.046875 -1.421875 33.015625 -1.421875 \r\nQ 20.359375 -1.421875 13.671875 8.265625 \r\nQ 6.984375 17.96875 6.984375 36.375 \r\nQ 6.984375 53.65625 15.1875 63.9375 \r\nQ 23.390625 74.21875 37.203125 74.21875 \r\nQ 40.921875 74.21875 44.703125 73.484375 \r\nQ 48.484375 72.75 52.59375 71.296875 \r\nz\r\n\" id=\"DejaVuSans-54\"/>\r\n       </defs>\r\n       <use xlink:href=\"#DejaVuSans-54\"/>\r\n       <use x=\"63.623047\" xlink:href=\"#DejaVuSans-48\"/>\r\n       <use x=\"127.246094\" xlink:href=\"#DejaVuSans-48\"/>\r\n       <use x=\"190.869141\" xlink:href=\"#DejaVuSans-48\"/>\r\n      </g>\r\n     </g>\r\n    </g>\r\n    <g id=\"xtick_5\">\r\n     <g id=\"line2d_9\">\r\n      <path clip-path=\"url(#p51cff73368)\" d=\"M 340.799867 224.64 \r\nL 340.799867 7.2 \r\n\" style=\"fill:none;stroke:#b0b0b0;stroke-linecap:square;stroke-width:0.8;\"/>\r\n     </g>\r\n     <g id=\"line2d_10\">\r\n      <g>\r\n       <use style=\"stroke:#000000;stroke-width:0.8;\" x=\"340.799867\" xlink:href=\"#m48271d7bdc\" y=\"224.64\"/>\r\n      </g>\r\n     </g>\r\n     <g id=\"text_5\">\r\n      <!-- 8000 -->\r\n      <g transform=\"translate(328.074867 239.238437)scale(0.1 -0.1)\">\r\n       <defs>\r\n        <path d=\"M 31.78125 34.625 \r\nQ 24.75 34.625 20.71875 30.859375 \r\nQ 16.703125 27.09375 16.703125 20.515625 \r\nQ 16.703125 13.921875 20.71875 10.15625 \r\nQ 24.75 6.390625 31.78125 6.390625 \r\nQ 38.8125 6.390625 42.859375 10.171875 \r\nQ 46.921875 13.96875 46.921875 20.515625 \r\nQ 46.921875 27.09375 42.890625 30.859375 \r\nQ 38.875 34.625 31.78125 34.625 \r\nz\r\nM 21.921875 38.8125 \r\nQ 15.578125 40.375 12.03125 44.71875 \r\nQ 8.5 49.078125 8.5 55.328125 \r\nQ 8.5 64.0625 14.71875 69.140625 \r\nQ 20.953125 74.21875 31.78125 74.21875 \r\nQ 42.671875 74.21875 48.875 69.140625 \r\nQ 55.078125 64.0625 55.078125 55.328125 \r\nQ 55.078125 49.078125 51.53125 44.71875 \r\nQ 48 40.375 41.703125 38.8125 \r\nQ 48.828125 37.15625 52.796875 32.3125 \r\nQ 56.78125 27.484375 56.78125 20.515625 \r\nQ 56.78125 9.90625 50.3125 4.234375 \r\nQ 43.84375 -1.421875 31.78125 -1.421875 \r\nQ 19.734375 -1.421875 13.25 4.234375 \r\nQ 6.78125 9.90625 6.78125 20.515625 \r\nQ 6.78125 27.484375 10.78125 32.3125 \r\nQ 14.796875 37.15625 21.921875 38.8125 \r\nz\r\nM 18.3125 54.390625 \r\nQ 18.3125 48.734375 21.84375 45.5625 \r\nQ 25.390625 42.390625 31.78125 42.390625 \r\nQ 38.140625 42.390625 41.71875 45.5625 \r\nQ 45.3125 48.734375 45.3125 54.390625 \r\nQ 45.3125 60.0625 41.71875 63.234375 \r\nQ 38.140625 66.40625 31.78125 66.40625 \r\nQ 25.390625 66.40625 21.84375 63.234375 \r\nQ 18.3125 60.0625 18.3125 54.390625 \r\nz\r\n\" id=\"DejaVuSans-56\"/>\r\n       </defs>\r\n       <use xlink:href=\"#DejaVuSans-56\"/>\r\n       <use x=\"63.623047\" xlink:href=\"#DejaVuSans-48\"/>\r\n       <use x=\"127.246094\" xlink:href=\"#DejaVuSans-48\"/>\r\n       <use x=\"190.869141\" xlink:href=\"#DejaVuSans-48\"/>\r\n      </g>\r\n     </g>\r\n    </g>\r\n    <g id=\"xtick_6\">\r\n     <g id=\"line2d_11\">\r\n      <path clip-path=\"url(#p51cff73368)\" d=\"M 403.555256 224.64 \r\nL 403.555256 7.2 \r\n\" style=\"fill:none;stroke:#b0b0b0;stroke-linecap:square;stroke-width:0.8;\"/>\r\n     </g>\r\n     <g id=\"line2d_12\">\r\n      <g>\r\n       <use style=\"stroke:#000000;stroke-width:0.8;\" x=\"403.555256\" xlink:href=\"#m48271d7bdc\" y=\"224.64\"/>\r\n      </g>\r\n     </g>\r\n     <g id=\"text_6\">\r\n      <!-- 10000 -->\r\n      <g transform=\"translate(387.649006 239.238437)scale(0.1 -0.1)\">\r\n       <defs>\r\n        <path d=\"M 12.40625 8.296875 \r\nL 28.515625 8.296875 \r\nL 28.515625 63.921875 \r\nL 10.984375 60.40625 \r\nL 10.984375 69.390625 \r\nL 28.421875 72.90625 \r\nL 38.28125 72.90625 \r\nL 38.28125 8.296875 \r\nL 54.390625 8.296875 \r\nL 54.390625 0 \r\nL 12.40625 0 \r\nz\r\n\" id=\"DejaVuSans-49\"/>\r\n       </defs>\r\n       <use xlink:href=\"#DejaVuSans-49\"/>\r\n       <use x=\"63.623047\" xlink:href=\"#DejaVuSans-48\"/>\r\n       <use x=\"127.246094\" xlink:href=\"#DejaVuSans-48\"/>\r\n       <use x=\"190.869141\" xlink:href=\"#DejaVuSans-48\"/>\r\n       <use x=\"254.492188\" xlink:href=\"#DejaVuSans-48\"/>\r\n      </g>\r\n     </g>\r\n    </g>\r\n    <g id=\"text_7\">\r\n     <!-- temperature -->\r\n     <g transform=\"translate(219.947656 252.916562)scale(0.1 -0.1)\">\r\n      <defs>\r\n       <path d=\"M 18.3125 70.21875 \r\nL 18.3125 54.6875 \r\nL 36.8125 54.6875 \r\nL 36.8125 47.703125 \r\nL 18.3125 47.703125 \r\nL 18.3125 18.015625 \r\nQ 18.3125 11.328125 20.140625 9.421875 \r\nQ 21.96875 7.515625 27.59375 7.515625 \r\nL 36.8125 7.515625 \r\nL 36.8125 0 \r\nL 27.59375 0 \r\nQ 17.1875 0 13.234375 3.875 \r\nQ 9.28125 7.765625 9.28125 18.015625 \r\nL 9.28125 47.703125 \r\nL 2.6875 47.703125 \r\nL 2.6875 54.6875 \r\nL 9.28125 54.6875 \r\nL 9.28125 70.21875 \r\nz\r\n\" id=\"DejaVuSans-116\"/>\r\n       <path d=\"M 56.203125 29.59375 \r\nL 56.203125 25.203125 \r\nL 14.890625 25.203125 \r\nQ 15.484375 15.921875 20.484375 11.0625 \r\nQ 25.484375 6.203125 34.421875 6.203125 \r\nQ 39.59375 6.203125 44.453125 7.46875 \r\nQ 49.3125 8.734375 54.109375 11.28125 \r\nL 54.109375 2.78125 \r\nQ 49.265625 0.734375 44.1875 -0.34375 \r\nQ 39.109375 -1.421875 33.890625 -1.421875 \r\nQ 20.796875 -1.421875 13.15625 6.1875 \r\nQ 5.515625 13.8125 5.515625 26.8125 \r\nQ 5.515625 40.234375 12.765625 48.109375 \r\nQ 20.015625 56 32.328125 56 \r\nQ 43.359375 56 49.78125 48.890625 \r\nQ 56.203125 41.796875 56.203125 29.59375 \r\nz\r\nM 47.21875 32.234375 \r\nQ 47.125 39.59375 43.09375 43.984375 \r\nQ 39.0625 48.390625 32.421875 48.390625 \r\nQ 24.90625 48.390625 20.390625 44.140625 \r\nQ 15.875 39.890625 15.1875 32.171875 \r\nz\r\n\" id=\"DejaVuSans-101\"/>\r\n       <path d=\"M 52 44.1875 \r\nQ 55.375 50.25 60.0625 53.125 \r\nQ 64.75 56 71.09375 56 \r\nQ 79.640625 56 84.28125 50.015625 \r\nQ 88.921875 44.046875 88.921875 33.015625 \r\nL 88.921875 0 \r\nL 79.890625 0 \r\nL 79.890625 32.71875 \r\nQ 79.890625 40.578125 77.09375 44.375 \r\nQ 74.3125 48.1875 68.609375 48.1875 \r\nQ 61.625 48.1875 57.5625 43.546875 \r\nQ 53.515625 38.921875 53.515625 30.90625 \r\nL 53.515625 0 \r\nL 44.484375 0 \r\nL 44.484375 32.71875 \r\nQ 44.484375 40.625 41.703125 44.40625 \r\nQ 38.921875 48.1875 33.109375 48.1875 \r\nQ 26.21875 48.1875 22.15625 43.53125 \r\nQ 18.109375 38.875 18.109375 30.90625 \r\nL 18.109375 0 \r\nL 9.078125 0 \r\nL 9.078125 54.6875 \r\nL 18.109375 54.6875 \r\nL 18.109375 46.1875 \r\nQ 21.1875 51.21875 25.484375 53.609375 \r\nQ 29.78125 56 35.6875 56 \r\nQ 41.65625 56 45.828125 52.96875 \r\nQ 50 49.953125 52 44.1875 \r\nz\r\n\" id=\"DejaVuSans-109\"/>\r\n       <path d=\"M 18.109375 8.203125 \r\nL 18.109375 -20.796875 \r\nL 9.078125 -20.796875 \r\nL 9.078125 54.6875 \r\nL 18.109375 54.6875 \r\nL 18.109375 46.390625 \r\nQ 20.953125 51.265625 25.265625 53.625 \r\nQ 29.59375 56 35.59375 56 \r\nQ 45.5625 56 51.78125 48.09375 \r\nQ 58.015625 40.1875 58.015625 27.296875 \r\nQ 58.015625 14.40625 51.78125 6.484375 \r\nQ 45.5625 -1.421875 35.59375 -1.421875 \r\nQ 29.59375 -1.421875 25.265625 0.953125 \r\nQ 20.953125 3.328125 18.109375 8.203125 \r\nz\r\nM 48.6875 27.296875 \r\nQ 48.6875 37.203125 44.609375 42.84375 \r\nQ 40.53125 48.484375 33.40625 48.484375 \r\nQ 26.265625 48.484375 22.1875 42.84375 \r\nQ 18.109375 37.203125 18.109375 27.296875 \r\nQ 18.109375 17.390625 22.1875 11.75 \r\nQ 26.265625 6.109375 33.40625 6.109375 \r\nQ 40.53125 6.109375 44.609375 11.75 \r\nQ 48.6875 17.390625 48.6875 27.296875 \r\nz\r\n\" id=\"DejaVuSans-112\"/>\r\n       <path d=\"M 41.109375 46.296875 \r\nQ 39.59375 47.171875 37.8125 47.578125 \r\nQ 36.03125 48 33.890625 48 \r\nQ 26.265625 48 22.1875 43.046875 \r\nQ 18.109375 38.09375 18.109375 28.8125 \r\nL 18.109375 0 \r\nL 9.078125 0 \r\nL 9.078125 54.6875 \r\nL 18.109375 54.6875 \r\nL 18.109375 46.1875 \r\nQ 20.953125 51.171875 25.484375 53.578125 \r\nQ 30.03125 56 36.53125 56 \r\nQ 37.453125 56 38.578125 55.875 \r\nQ 39.703125 55.765625 41.0625 55.515625 \r\nz\r\n\" id=\"DejaVuSans-114\"/>\r\n       <path d=\"M 34.28125 27.484375 \r\nQ 23.390625 27.484375 19.1875 25 \r\nQ 14.984375 22.515625 14.984375 16.5 \r\nQ 14.984375 11.71875 18.140625 8.90625 \r\nQ 21.296875 6.109375 26.703125 6.109375 \r\nQ 34.1875 6.109375 38.703125 11.40625 \r\nQ 43.21875 16.703125 43.21875 25.484375 \r\nL 43.21875 27.484375 \r\nz\r\nM 52.203125 31.203125 \r\nL 52.203125 0 \r\nL 43.21875 0 \r\nL 43.21875 8.296875 \r\nQ 40.140625 3.328125 35.546875 0.953125 \r\nQ 30.953125 -1.421875 24.3125 -1.421875 \r\nQ 15.921875 -1.421875 10.953125 3.296875 \r\nQ 6 8.015625 6 15.921875 \r\nQ 6 25.140625 12.171875 29.828125 \r\nQ 18.359375 34.515625 30.609375 34.515625 \r\nL 43.21875 34.515625 \r\nL 43.21875 35.40625 \r\nQ 43.21875 41.609375 39.140625 45 \r\nQ 35.0625 48.390625 27.6875 48.390625 \r\nQ 23 48.390625 18.546875 47.265625 \r\nQ 14.109375 46.140625 10.015625 43.890625 \r\nL 10.015625 52.203125 \r\nQ 14.9375 54.109375 19.578125 55.046875 \r\nQ 24.21875 56 28.609375 56 \r\nQ 40.484375 56 46.34375 49.84375 \r\nQ 52.203125 43.703125 52.203125 31.203125 \r\nz\r\n\" id=\"DejaVuSans-97\"/>\r\n       <path d=\"M 8.5 21.578125 \r\nL 8.5 54.6875 \r\nL 17.484375 54.6875 \r\nL 17.484375 21.921875 \r\nQ 17.484375 14.15625 20.5 10.265625 \r\nQ 23.53125 6.390625 29.59375 6.390625 \r\nQ 36.859375 6.390625 41.078125 11.03125 \r\nQ 45.3125 15.671875 45.3125 23.6875 \r\nL 45.3125 54.6875 \r\nL 54.296875 54.6875 \r\nL 54.296875 0 \r\nL 45.3125 0 \r\nL 45.3125 8.40625 \r\nQ 42.046875 3.421875 37.71875 1 \r\nQ 33.40625 -1.421875 27.6875 -1.421875 \r\nQ 18.265625 -1.421875 13.375 4.4375 \r\nQ 8.5 10.296875 8.5 21.578125 \r\nz\r\nM 31.109375 56 \r\nz\r\n\" id=\"DejaVuSans-117\"/>\r\n      </defs>\r\n      <use xlink:href=\"#DejaVuSans-116\"/>\r\n      <use x=\"39.208984\" xlink:href=\"#DejaVuSans-101\"/>\r\n      <use x=\"100.732422\" xlink:href=\"#DejaVuSans-109\"/>\r\n      <use x=\"198.144531\" xlink:href=\"#DejaVuSans-112\"/>\r\n      <use x=\"261.621094\" xlink:href=\"#DejaVuSans-101\"/>\r\n      <use x=\"323.144531\" xlink:href=\"#DejaVuSans-114\"/>\r\n      <use x=\"364.257812\" xlink:href=\"#DejaVuSans-97\"/>\r\n      <use x=\"425.537109\" xlink:href=\"#DejaVuSans-116\"/>\r\n      <use x=\"464.746094\" xlink:href=\"#DejaVuSans-117\"/>\r\n      <use x=\"528.125\" xlink:href=\"#DejaVuSans-114\"/>\r\n      <use x=\"566.988281\" xlink:href=\"#DejaVuSans-101\"/>\r\n     </g>\r\n    </g>\r\n   </g>\r\n   <g id=\"matplotlib.axis_2\">\r\n    <g id=\"ytick_1\">\r\n     <g id=\"line2d_13\">\r\n      <path clip-path=\"url(#p51cff73368)\" d=\"M 83.973438 201.972341 \r\nL 418.773438 201.972341 \r\n\" style=\"fill:none;stroke:#b0b0b0;stroke-linecap:square;stroke-width:0.8;\"/>\r\n     </g>\r\n     <g id=\"line2d_14\">\r\n      <defs>\r\n       <path d=\"M 0 0 \r\nL -3.5 0 \r\n\" id=\"mfd132b5c3a\" style=\"stroke:#000000;stroke-width:0.8;\"/>\r\n      </defs>\r\n      <g>\r\n       <use style=\"stroke:#000000;stroke-width:0.8;\" x=\"83.973438\" xlink:href=\"#mfd132b5c3a\" y=\"201.972341\"/>\r\n      </g>\r\n     </g>\r\n     <g id=\"text_8\">\r\n      <!-- −0.000025 -->\r\n      <g transform=\"translate(20.878125 205.77156)scale(0.1 -0.1)\">\r\n       <defs>\r\n        <path d=\"M 10.59375 35.5 \r\nL 73.1875 35.5 \r\nL 73.1875 27.203125 \r\nL 10.59375 27.203125 \r\nz\r\n\" id=\"DejaVuSans-8722\"/>\r\n        <path d=\"M 10.6875 12.40625 \r\nL 21 12.40625 \r\nL 21 0 \r\nL 10.6875 0 \r\nz\r\n\" id=\"DejaVuSans-46\"/>\r\n        <path d=\"M 10.796875 72.90625 \r\nL 49.515625 72.90625 \r\nL 49.515625 64.59375 \r\nL 19.828125 64.59375 \r\nL 19.828125 46.734375 \r\nQ 21.96875 47.46875 24.109375 47.828125 \r\nQ 26.265625 48.1875 28.421875 48.1875 \r\nQ 40.625 48.1875 47.75 41.5 \r\nQ 54.890625 34.8125 54.890625 23.390625 \r\nQ 54.890625 11.625 47.5625 5.09375 \r\nQ 40.234375 -1.421875 26.90625 -1.421875 \r\nQ 22.3125 -1.421875 17.546875 -0.640625 \r\nQ 12.796875 0.140625 7.71875 1.703125 \r\nL 7.71875 11.625 \r\nQ 12.109375 9.234375 16.796875 8.0625 \r\nQ 21.484375 6.890625 26.703125 6.890625 \r\nQ 35.15625 6.890625 40.078125 11.328125 \r\nQ 45.015625 15.765625 45.015625 23.390625 \r\nQ 45.015625 31 40.078125 35.4375 \r\nQ 35.15625 39.890625 26.703125 39.890625 \r\nQ 22.75 39.890625 18.8125 39.015625 \r\nQ 14.890625 38.140625 10.796875 36.28125 \r\nz\r\n\" id=\"DejaVuSans-53\"/>\r\n       </defs>\r\n       <use xlink:href=\"#DejaVuSans-8722\"/>\r\n       <use x=\"83.789062\" xlink:href=\"#DejaVuSans-48\"/>\r\n       <use x=\"147.412109\" xlink:href=\"#DejaVuSans-46\"/>\r\n       <use x=\"179.199219\" xlink:href=\"#DejaVuSans-48\"/>\r\n       <use x=\"242.822266\" xlink:href=\"#DejaVuSans-48\"/>\r\n       <use x=\"306.445312\" xlink:href=\"#DejaVuSans-48\"/>\r\n       <use x=\"370.068359\" xlink:href=\"#DejaVuSans-48\"/>\r\n       <use x=\"433.691406\" xlink:href=\"#DejaVuSans-50\"/>\r\n       <use x=\"497.314453\" xlink:href=\"#DejaVuSans-53\"/>\r\n      </g>\r\n     </g>\r\n    </g>\r\n    <g id=\"ytick_2\">\r\n     <g id=\"line2d_15\">\r\n      <path clip-path=\"url(#p51cff73368)\" d=\"M 83.973438 175.816689 \r\nL 418.773438 175.816689 \r\n\" style=\"fill:none;stroke:#b0b0b0;stroke-linecap:square;stroke-width:0.8;\"/>\r\n     </g>\r\n     <g id=\"line2d_16\">\r\n      <g>\r\n       <use style=\"stroke:#000000;stroke-width:0.8;\" x=\"83.973438\" xlink:href=\"#mfd132b5c3a\" y=\"175.816689\"/>\r\n      </g>\r\n     </g>\r\n     <g id=\"text_9\">\r\n      <!-- 0.000000 -->\r\n      <g transform=\"translate(29.257813 179.615907)scale(0.1 -0.1)\">\r\n       <use xlink:href=\"#DejaVuSans-48\"/>\r\n       <use x=\"63.623047\" xlink:href=\"#DejaVuSans-46\"/>\r\n       <use x=\"95.410156\" xlink:href=\"#DejaVuSans-48\"/>\r\n       <use x=\"159.033203\" xlink:href=\"#DejaVuSans-48\"/>\r\n       <use x=\"222.65625\" xlink:href=\"#DejaVuSans-48\"/>\r\n       <use x=\"286.279297\" xlink:href=\"#DejaVuSans-48\"/>\r\n       <use x=\"349.902344\" xlink:href=\"#DejaVuSans-48\"/>\r\n       <use x=\"413.525391\" xlink:href=\"#DejaVuSans-48\"/>\r\n      </g>\r\n     </g>\r\n    </g>\r\n    <g id=\"ytick_3\">\r\n     <g id=\"line2d_17\">\r\n      <path clip-path=\"url(#p51cff73368)\" d=\"M 83.973438 149.661036 \r\nL 418.773438 149.661036 \r\n\" style=\"fill:none;stroke:#b0b0b0;stroke-linecap:square;stroke-width:0.8;\"/>\r\n     </g>\r\n     <g id=\"line2d_18\">\r\n      <g>\r\n       <use style=\"stroke:#000000;stroke-width:0.8;\" x=\"83.973438\" xlink:href=\"#mfd132b5c3a\" y=\"149.661036\"/>\r\n      </g>\r\n     </g>\r\n     <g id=\"text_10\">\r\n      <!-- 0.000025 -->\r\n      <g transform=\"translate(29.257813 153.460255)scale(0.1 -0.1)\">\r\n       <use xlink:href=\"#DejaVuSans-48\"/>\r\n       <use x=\"63.623047\" xlink:href=\"#DejaVuSans-46\"/>\r\n       <use x=\"95.410156\" xlink:href=\"#DejaVuSans-48\"/>\r\n       <use x=\"159.033203\" xlink:href=\"#DejaVuSans-48\"/>\r\n       <use x=\"222.65625\" xlink:href=\"#DejaVuSans-48\"/>\r\n       <use x=\"286.279297\" xlink:href=\"#DejaVuSans-48\"/>\r\n       <use x=\"349.902344\" xlink:href=\"#DejaVuSans-50\"/>\r\n       <use x=\"413.525391\" xlink:href=\"#DejaVuSans-53\"/>\r\n      </g>\r\n     </g>\r\n    </g>\r\n    <g id=\"ytick_4\">\r\n     <g id=\"line2d_19\">\r\n      <path clip-path=\"url(#p51cff73368)\" d=\"M 83.973438 123.505384 \r\nL 418.773438 123.505384 \r\n\" style=\"fill:none;stroke:#b0b0b0;stroke-linecap:square;stroke-width:0.8;\"/>\r\n     </g>\r\n     <g id=\"line2d_20\">\r\n      <g>\r\n       <use style=\"stroke:#000000;stroke-width:0.8;\" x=\"83.973438\" xlink:href=\"#mfd132b5c3a\" y=\"123.505384\"/>\r\n      </g>\r\n     </g>\r\n     <g id=\"text_11\">\r\n      <!-- 0.000050 -->\r\n      <g transform=\"translate(29.257813 127.304603)scale(0.1 -0.1)\">\r\n       <use xlink:href=\"#DejaVuSans-48\"/>\r\n       <use x=\"63.623047\" xlink:href=\"#DejaVuSans-46\"/>\r\n       <use x=\"95.410156\" xlink:href=\"#DejaVuSans-48\"/>\r\n       <use x=\"159.033203\" xlink:href=\"#DejaVuSans-48\"/>\r\n       <use x=\"222.65625\" xlink:href=\"#DejaVuSans-48\"/>\r\n       <use x=\"286.279297\" xlink:href=\"#DejaVuSans-48\"/>\r\n       <use x=\"349.902344\" xlink:href=\"#DejaVuSans-53\"/>\r\n       <use x=\"413.525391\" xlink:href=\"#DejaVuSans-48\"/>\r\n      </g>\r\n     </g>\r\n    </g>\r\n    <g id=\"ytick_5\">\r\n     <g id=\"line2d_21\">\r\n      <path clip-path=\"url(#p51cff73368)\" d=\"M 83.973438 97.349732 \r\nL 418.773438 97.349732 \r\n\" style=\"fill:none;stroke:#b0b0b0;stroke-linecap:square;stroke-width:0.8;\"/>\r\n     </g>\r\n     <g id=\"line2d_22\">\r\n      <g>\r\n       <use style=\"stroke:#000000;stroke-width:0.8;\" x=\"83.973438\" xlink:href=\"#mfd132b5c3a\" y=\"97.349732\"/>\r\n      </g>\r\n     </g>\r\n     <g id=\"text_12\">\r\n      <!-- 0.000075 -->\r\n      <g transform=\"translate(29.257813 101.148951)scale(0.1 -0.1)\">\r\n       <defs>\r\n        <path d=\"M 8.203125 72.90625 \r\nL 55.078125 72.90625 \r\nL 55.078125 68.703125 \r\nL 28.609375 0 \r\nL 18.3125 0 \r\nL 43.21875 64.59375 \r\nL 8.203125 64.59375 \r\nz\r\n\" id=\"DejaVuSans-55\"/>\r\n       </defs>\r\n       <use xlink:href=\"#DejaVuSans-48\"/>\r\n       <use x=\"63.623047\" xlink:href=\"#DejaVuSans-46\"/>\r\n       <use x=\"95.410156\" xlink:href=\"#DejaVuSans-48\"/>\r\n       <use x=\"159.033203\" xlink:href=\"#DejaVuSans-48\"/>\r\n       <use x=\"222.65625\" xlink:href=\"#DejaVuSans-48\"/>\r\n       <use x=\"286.279297\" xlink:href=\"#DejaVuSans-48\"/>\r\n       <use x=\"349.902344\" xlink:href=\"#DejaVuSans-55\"/>\r\n       <use x=\"413.525391\" xlink:href=\"#DejaVuSans-53\"/>\r\n      </g>\r\n     </g>\r\n    </g>\r\n    <g id=\"ytick_6\">\r\n     <g id=\"line2d_23\">\r\n      <path clip-path=\"url(#p51cff73368)\" d=\"M 83.973438 71.19408 \r\nL 418.773438 71.19408 \r\n\" style=\"fill:none;stroke:#b0b0b0;stroke-linecap:square;stroke-width:0.8;\"/>\r\n     </g>\r\n     <g id=\"line2d_24\">\r\n      <g>\r\n       <use style=\"stroke:#000000;stroke-width:0.8;\" x=\"83.973438\" xlink:href=\"#mfd132b5c3a\" y=\"71.19408\"/>\r\n      </g>\r\n     </g>\r\n     <g id=\"text_13\">\r\n      <!-- 0.000100 -->\r\n      <g transform=\"translate(29.257813 74.993299)scale(0.1 -0.1)\">\r\n       <use xlink:href=\"#DejaVuSans-48\"/>\r\n       <use x=\"63.623047\" xlink:href=\"#DejaVuSans-46\"/>\r\n       <use x=\"95.410156\" xlink:href=\"#DejaVuSans-48\"/>\r\n       <use x=\"159.033203\" xlink:href=\"#DejaVuSans-48\"/>\r\n       <use x=\"222.65625\" xlink:href=\"#DejaVuSans-48\"/>\r\n       <use x=\"286.279297\" xlink:href=\"#DejaVuSans-49\"/>\r\n       <use x=\"349.902344\" xlink:href=\"#DejaVuSans-48\"/>\r\n       <use x=\"413.525391\" xlink:href=\"#DejaVuSans-48\"/>\r\n      </g>\r\n     </g>\r\n    </g>\r\n    <g id=\"ytick_7\">\r\n     <g id=\"line2d_25\">\r\n      <path clip-path=\"url(#p51cff73368)\" d=\"M 83.973438 45.038428 \r\nL 418.773438 45.038428 \r\n\" style=\"fill:none;stroke:#b0b0b0;stroke-linecap:square;stroke-width:0.8;\"/>\r\n     </g>\r\n     <g id=\"line2d_26\">\r\n      <g>\r\n       <use style=\"stroke:#000000;stroke-width:0.8;\" x=\"83.973438\" xlink:href=\"#mfd132b5c3a\" y=\"45.038428\"/>\r\n      </g>\r\n     </g>\r\n     <g id=\"text_14\">\r\n      <!-- 0.000125 -->\r\n      <g transform=\"translate(29.257813 48.837647)scale(0.1 -0.1)\">\r\n       <use xlink:href=\"#DejaVuSans-48\"/>\r\n       <use x=\"63.623047\" xlink:href=\"#DejaVuSans-46\"/>\r\n       <use x=\"95.410156\" xlink:href=\"#DejaVuSans-48\"/>\r\n       <use x=\"159.033203\" xlink:href=\"#DejaVuSans-48\"/>\r\n       <use x=\"222.65625\" xlink:href=\"#DejaVuSans-48\"/>\r\n       <use x=\"286.279297\" xlink:href=\"#DejaVuSans-49\"/>\r\n       <use x=\"349.902344\" xlink:href=\"#DejaVuSans-50\"/>\r\n       <use x=\"413.525391\" xlink:href=\"#DejaVuSans-53\"/>\r\n      </g>\r\n     </g>\r\n    </g>\r\n    <g id=\"ytick_8\">\r\n     <g id=\"line2d_27\">\r\n      <path clip-path=\"url(#p51cff73368)\" d=\"M 83.973438 18.882776 \r\nL 418.773438 18.882776 \r\n\" style=\"fill:none;stroke:#b0b0b0;stroke-linecap:square;stroke-width:0.8;\"/>\r\n     </g>\r\n     <g id=\"line2d_28\">\r\n      <g>\r\n       <use style=\"stroke:#000000;stroke-width:0.8;\" x=\"83.973438\" xlink:href=\"#mfd132b5c3a\" y=\"18.882776\"/>\r\n      </g>\r\n     </g>\r\n     <g id=\"text_15\">\r\n      <!-- 0.000150 -->\r\n      <g transform=\"translate(29.257813 22.681994)scale(0.1 -0.1)\">\r\n       <use xlink:href=\"#DejaVuSans-48\"/>\r\n       <use x=\"63.623047\" xlink:href=\"#DejaVuSans-46\"/>\r\n       <use x=\"95.410156\" xlink:href=\"#DejaVuSans-48\"/>\r\n       <use x=\"159.033203\" xlink:href=\"#DejaVuSans-48\"/>\r\n       <use x=\"222.65625\" xlink:href=\"#DejaVuSans-48\"/>\r\n       <use x=\"286.279297\" xlink:href=\"#DejaVuSans-49\"/>\r\n       <use x=\"349.902344\" xlink:href=\"#DejaVuSans-53\"/>\r\n       <use x=\"413.525391\" xlink:href=\"#DejaVuSans-48\"/>\r\n      </g>\r\n     </g>\r\n    </g>\r\n    <g id=\"text_16\">\r\n     <!-- efficiency deriavtive -->\r\n     <g transform=\"translate(14.798438 166.691094)rotate(-90)scale(0.1 -0.1)\">\r\n      <defs>\r\n       <path d=\"M 37.109375 75.984375 \r\nL 37.109375 68.5 \r\nL 28.515625 68.5 \r\nQ 23.6875 68.5 21.796875 66.546875 \r\nQ 19.921875 64.59375 19.921875 59.515625 \r\nL 19.921875 54.6875 \r\nL 34.71875 54.6875 \r\nL 34.71875 47.703125 \r\nL 19.921875 47.703125 \r\nL 19.921875 0 \r\nL 10.890625 0 \r\nL 10.890625 47.703125 \r\nL 2.296875 47.703125 \r\nL 2.296875 54.6875 \r\nL 10.890625 54.6875 \r\nL 10.890625 58.5 \r\nQ 10.890625 67.625 15.140625 71.796875 \r\nQ 19.390625 75.984375 28.609375 75.984375 \r\nz\r\n\" id=\"DejaVuSans-102\"/>\r\n       <path d=\"M 9.421875 54.6875 \r\nL 18.40625 54.6875 \r\nL 18.40625 0 \r\nL 9.421875 0 \r\nz\r\nM 9.421875 75.984375 \r\nL 18.40625 75.984375 \r\nL 18.40625 64.59375 \r\nL 9.421875 64.59375 \r\nz\r\n\" id=\"DejaVuSans-105\"/>\r\n       <path d=\"M 48.78125 52.59375 \r\nL 48.78125 44.1875 \r\nQ 44.96875 46.296875 41.140625 47.34375 \r\nQ 37.3125 48.390625 33.40625 48.390625 \r\nQ 24.65625 48.390625 19.8125 42.84375 \r\nQ 14.984375 37.3125 14.984375 27.296875 \r\nQ 14.984375 17.28125 19.8125 11.734375 \r\nQ 24.65625 6.203125 33.40625 6.203125 \r\nQ 37.3125 6.203125 41.140625 7.25 \r\nQ 44.96875 8.296875 48.78125 10.40625 \r\nL 48.78125 2.09375 \r\nQ 45.015625 0.34375 40.984375 -0.53125 \r\nQ 36.96875 -1.421875 32.421875 -1.421875 \r\nQ 20.0625 -1.421875 12.78125 6.34375 \r\nQ 5.515625 14.109375 5.515625 27.296875 \r\nQ 5.515625 40.671875 12.859375 48.328125 \r\nQ 20.21875 56 33.015625 56 \r\nQ 37.15625 56 41.109375 55.140625 \r\nQ 45.0625 54.296875 48.78125 52.59375 \r\nz\r\n\" id=\"DejaVuSans-99\"/>\r\n       <path d=\"M 54.890625 33.015625 \r\nL 54.890625 0 \r\nL 45.90625 0 \r\nL 45.90625 32.71875 \r\nQ 45.90625 40.484375 42.875 44.328125 \r\nQ 39.84375 48.1875 33.796875 48.1875 \r\nQ 26.515625 48.1875 22.3125 43.546875 \r\nQ 18.109375 38.921875 18.109375 30.90625 \r\nL 18.109375 0 \r\nL 9.078125 0 \r\nL 9.078125 54.6875 \r\nL 18.109375 54.6875 \r\nL 18.109375 46.1875 \r\nQ 21.34375 51.125 25.703125 53.5625 \r\nQ 30.078125 56 35.796875 56 \r\nQ 45.21875 56 50.046875 50.171875 \r\nQ 54.890625 44.34375 54.890625 33.015625 \r\nz\r\n\" id=\"DejaVuSans-110\"/>\r\n       <path d=\"M 32.171875 -5.078125 \r\nQ 28.375 -14.84375 24.75 -17.8125 \r\nQ 21.140625 -20.796875 15.09375 -20.796875 \r\nL 7.90625 -20.796875 \r\nL 7.90625 -13.28125 \r\nL 13.1875 -13.28125 \r\nQ 16.890625 -13.28125 18.9375 -11.515625 \r\nQ 21 -9.765625 23.484375 -3.21875 \r\nL 25.09375 0.875 \r\nL 2.984375 54.6875 \r\nL 12.5 54.6875 \r\nL 29.59375 11.921875 \r\nL 46.6875 54.6875 \r\nL 56.203125 54.6875 \r\nz\r\n\" id=\"DejaVuSans-121\"/>\r\n       <path id=\"DejaVuSans-32\"/>\r\n       <path d=\"M 45.40625 46.390625 \r\nL 45.40625 75.984375 \r\nL 54.390625 75.984375 \r\nL 54.390625 0 \r\nL 45.40625 0 \r\nL 45.40625 8.203125 \r\nQ 42.578125 3.328125 38.25 0.953125 \r\nQ 33.9375 -1.421875 27.875 -1.421875 \r\nQ 17.96875 -1.421875 11.734375 6.484375 \r\nQ 5.515625 14.40625 5.515625 27.296875 \r\nQ 5.515625 40.1875 11.734375 48.09375 \r\nQ 17.96875 56 27.875 56 \r\nQ 33.9375 56 38.25 53.625 \r\nQ 42.578125 51.265625 45.40625 46.390625 \r\nz\r\nM 14.796875 27.296875 \r\nQ 14.796875 17.390625 18.875 11.75 \r\nQ 22.953125 6.109375 30.078125 6.109375 \r\nQ 37.203125 6.109375 41.296875 11.75 \r\nQ 45.40625 17.390625 45.40625 27.296875 \r\nQ 45.40625 37.203125 41.296875 42.84375 \r\nQ 37.203125 48.484375 30.078125 48.484375 \r\nQ 22.953125 48.484375 18.875 42.84375 \r\nQ 14.796875 37.203125 14.796875 27.296875 \r\nz\r\n\" id=\"DejaVuSans-100\"/>\r\n       <path d=\"M 2.984375 54.6875 \r\nL 12.5 54.6875 \r\nL 29.59375 8.796875 \r\nL 46.6875 54.6875 \r\nL 56.203125 54.6875 \r\nL 35.6875 0 \r\nL 23.484375 0 \r\nz\r\n\" id=\"DejaVuSans-118\"/>\r\n      </defs>\r\n      <use xlink:href=\"#DejaVuSans-101\"/>\r\n      <use x=\"61.523438\" xlink:href=\"#DejaVuSans-102\"/>\r\n      <use x=\"96.728516\" xlink:href=\"#DejaVuSans-102\"/>\r\n      <use x=\"131.933594\" xlink:href=\"#DejaVuSans-105\"/>\r\n      <use x=\"159.716797\" xlink:href=\"#DejaVuSans-99\"/>\r\n      <use x=\"214.697266\" xlink:href=\"#DejaVuSans-105\"/>\r\n      <use x=\"242.480469\" xlink:href=\"#DejaVuSans-101\"/>\r\n      <use x=\"304.003906\" xlink:href=\"#DejaVuSans-110\"/>\r\n      <use x=\"367.382812\" xlink:href=\"#DejaVuSans-99\"/>\r\n      <use x=\"422.363281\" xlink:href=\"#DejaVuSans-121\"/>\r\n      <use x=\"481.542969\" xlink:href=\"#DejaVuSans-32\"/>\r\n      <use x=\"513.330078\" xlink:href=\"#DejaVuSans-100\"/>\r\n      <use x=\"576.806641\" xlink:href=\"#DejaVuSans-101\"/>\r\n      <use x=\"638.330078\" xlink:href=\"#DejaVuSans-114\"/>\r\n      <use x=\"679.443359\" xlink:href=\"#DejaVuSans-105\"/>\r\n      <use x=\"707.226562\" xlink:href=\"#DejaVuSans-97\"/>\r\n      <use x=\"768.505859\" xlink:href=\"#DejaVuSans-118\"/>\r\n      <use x=\"827.685547\" xlink:href=\"#DejaVuSans-116\"/>\r\n      <use x=\"866.894531\" xlink:href=\"#DejaVuSans-105\"/>\r\n      <use x=\"894.677734\" xlink:href=\"#DejaVuSans-118\"/>\r\n      <use x=\"953.857422\" xlink:href=\"#DejaVuSans-101\"/>\r\n     </g>\r\n    </g>\r\n   </g>\r\n   <g id=\"line2d_29\">\r\n    <path clip-path=\"url(#p51cff73368)\" d=\"M 99.191619 175.816689 \r\nL 121.344272 175.705982 \r\nL 124.35653 175.447108 \r\nL 126.584347 175.040913 \r\nL 128.467008 174.476904 \r\nL 130.161404 173.739552 \r\nL 131.761666 172.797988 \r\nL 133.299173 171.631735 \r\nL 134.805303 170.209728 \r\nL 136.34281 168.44602 \r\nL 137.911694 166.299219 \r\nL 139.543334 163.677856 \r\nL 141.23773 160.526797 \r\nL 143.057636 156.65613 \r\nL 145.003053 151.976852 \r\nL 147.105359 146.327643 \r\nL 149.458686 139.345302 \r\nL 152.157168 130.614794 \r\nL 155.483203 119.054786 \r\nL 160.754656 99.799172 \r\nL 166.716418 78.256468 \r\nL 170.23072 66.383201 \r\nL 173.211601 57.068391 \r\nL 175.878705 49.441671 \r\nL 178.326165 43.096932 \r\nL 180.616736 37.76367 \r\nL 182.75042 33.342397 \r\nL 184.758592 29.673036 \r\nL 186.672632 26.623245 \r\nL 188.492538 24.128095 \r\nL 190.249689 22.090143 \r\nL 191.912706 20.492563 \r\nL 193.512969 19.25378 \r\nL 195.081854 18.317271 \r\nL 196.587983 17.670692 \r\nL 198.094112 17.264535 \r\nL 199.600242 17.091426 \r\nL 201.106371 17.143518 \r\nL 202.643878 17.420419 \r\nL 204.24414 17.938935 \r\nL 205.907158 18.715492 \r\nL 207.664309 19.785979 \r\nL 209.546971 21.201763 \r\nL 211.555143 22.998668 \r\nL 213.720204 25.243021 \r\nL 216.073531 28.013113 \r\nL 218.646502 31.396674 \r\nL 221.470495 35.48716 \r\nL 224.639642 40.481179 \r\nL 228.248077 46.597077 \r\nL 232.484065 54.230275 \r\nL 237.849651 64.384382 \r\nL 246.792294 81.867841 \r\nL 256.770401 101.2254 \r\nL 263.077318 112.974779 \r\nL 268.599792 122.801033 \r\nL 273.682978 131.39904 \r\nL 278.483766 139.090746 \r\nL 283.127664 146.115312 \r\nL 287.614675 152.504684 \r\nL 292.007552 158.378331 \r\nL 296.337674 163.800258 \r\nL 300.60504 168.791429 \r\nL 304.841029 173.407678 \r\nL 309.077018 177.696419 \r\nL 313.281629 181.640345 \r\nL 317.517617 185.310365 \r\nL 321.753606 188.688822 \r\nL 326.05235 191.833096 \r\nL 330.382472 194.725371 \r\nL 334.775349 197.392774 \r\nL 339.230982 199.839539 \r\nL 343.780748 202.085505 \r\nL 348.456024 204.144873 \r\nL 353.256811 206.015411 \r\nL 358.183109 207.696508 \r\nL 363.297674 209.206241 \r\nL 368.600504 210.539015 \r\nL 374.122978 211.697493 \r\nL 379.927852 212.686555 \r\nL 386.046502 213.501057 \r\nL 392.510307 214.135082 \r\nL 399.4134 214.585781 \r\nL 403.555256 214.756364 \r\nL 403.555256 214.756364 \r\n\" style=\"fill:none;stroke:#0000ff;stroke-linecap:square;stroke-width:1.5;\"/>\r\n   </g>\r\n   <g id=\"patch_3\">\r\n    <path d=\"M 83.973438 224.64 \r\nL 83.973438 7.2 \r\n\" style=\"fill:none;stroke:#000000;stroke-linecap:square;stroke-linejoin:miter;stroke-width:0.8;\"/>\r\n   </g>\r\n   <g id=\"patch_4\">\r\n    <path d=\"M 418.773438 224.64 \r\nL 418.773438 7.2 \r\n\" style=\"fill:none;stroke:#000000;stroke-linecap:square;stroke-linejoin:miter;stroke-width:0.8;\"/>\r\n   </g>\r\n   <g id=\"patch_5\">\r\n    <path d=\"M 83.973438 224.64 \r\nL 418.773438 224.64 \r\n\" style=\"fill:none;stroke:#000000;stroke-linecap:square;stroke-linejoin:miter;stroke-width:0.8;\"/>\r\n   </g>\r\n   <g id=\"patch_6\">\r\n    <path d=\"M 83.973438 7.2 \r\nL 418.773438 7.2 \r\n\" style=\"fill:none;stroke:#000000;stroke-linecap:square;stroke-linejoin:miter;stroke-width:0.8;\"/>\r\n   </g>\r\n   <g id=\"legend_1\">\r\n    <g id=\"patch_7\">\r\n     <path d=\"M 347.36875 29.878125 \r\nL 411.773438 29.878125 \r\nQ 413.773438 29.878125 413.773438 27.878125 \r\nL 413.773438 14.2 \r\nQ 413.773438 12.2 411.773438 12.2 \r\nL 347.36875 12.2 \r\nQ 345.36875 12.2 345.36875 14.2 \r\nL 345.36875 27.878125 \r\nQ 345.36875 29.878125 347.36875 29.878125 \r\nz\r\n\" style=\"fill:#ffffff;opacity:0.8;stroke:#cccccc;stroke-linejoin:miter;\"/>\r\n    </g>\r\n    <g id=\"line2d_30\">\r\n     <path d=\"M 349.36875 20.298437 \r\nL 369.36875 20.298437 \r\n\" style=\"fill:none;stroke:#0000ff;stroke-linecap:square;stroke-width:1.5;\"/>\r\n    </g>\r\n    <g id=\"line2d_31\"/>\r\n    <g id=\"text_17\">\r\n     <!-- extrap -->\r\n     <g transform=\"translate(377.36875 23.798437)scale(0.1 -0.1)\">\r\n      <defs>\r\n       <path d=\"M 54.890625 54.6875 \r\nL 35.109375 28.078125 \r\nL 55.90625 0 \r\nL 45.3125 0 \r\nL 29.390625 21.484375 \r\nL 13.484375 0 \r\nL 2.875 0 \r\nL 24.125 28.609375 \r\nL 4.6875 54.6875 \r\nL 15.28125 54.6875 \r\nL 29.78125 35.203125 \r\nL 44.28125 54.6875 \r\nz\r\n\" id=\"DejaVuSans-120\"/>\r\n      </defs>\r\n      <use xlink:href=\"#DejaVuSans-101\"/>\r\n      <use x=\"59.773438\" xlink:href=\"#DejaVuSans-120\"/>\r\n      <use x=\"118.953125\" xlink:href=\"#DejaVuSans-116\"/>\r\n      <use x=\"158.162109\" xlink:href=\"#DejaVuSans-114\"/>\r\n      <use x=\"199.275391\" xlink:href=\"#DejaVuSans-97\"/>\r\n      <use x=\"260.554688\" xlink:href=\"#DejaVuSans-112\"/>\r\n     </g>\r\n    </g>\r\n   </g>\r\n  </g>\r\n </g>\r\n <defs>\r\n  <clipPath id=\"p51cff73368\">\r\n   <rect height=\"217.44\" width=\"334.8\" x=\"83.973438\" y=\"7.2\"/>\r\n  </clipPath>\r\n </defs>\r\n</svg>\r\n",
      "image/png": "[encoded data removed]"
     },
     "metadata": {
      "needs_background": "light"
     }
    }
   ],
   "source": [
    "from scipy.constants import c, h, k\n",
    "from numpy import *\n",
    "\n",
    "#forward derivative \n",
    "def fder(f, t, h=1e-6):\n",
    "    return (f(t + h) - f(t)) / h\n",
    "\n",
    "#Extrapolated derivative\n",
    "def ED(f,t,h=1e-1):\n",
    "    return (1/3)*(4*cder(f, t, (0.5*h))-cder(f, t, h))\n",
    "\n",
    "#Central Derivative\n",
    "def cder(f,t, h=1e-5):\n",
    "    return (f(t + h) - f(t - h))/(2*h)\n",
    "\n",
    "#Imaginary step Derivative (unused), see results\n",
    "def IS(f, t, h=1e-8):\n",
    "    return (f(t + 1j * h)).imag / h\n",
    "\n",
    "def f(t):\n",
    "    lambda1 = 390e-9\n",
    "    lambda2 = 750e-9\n",
    "    upper = (h*c)/(lambda1*k*t)\n",
    "    lower = (h*c)/(lambda2*k*t)\n",
    "    effT = lambda x: ( 15/pi**4 ) * ( (x**3) / (exp(x)-1) )\n",
    "    return (quad(effT, lower ,upper)[0])\n",
    "\n",
    "# aquiring efficiency derivative values\n",
    "d_eff = []\n",
    "c_eff = []\n",
    "extrapdiff_eff = []\n",
    "imaginary = []\n",
    "T = linspace(300,10000,int(9701))\n",
    "for t in T:\n",
    "    d_eff.append(fder(f, t))\n",
    "    c_eff.append(cder(f,t))\n",
    "    extrapdiff_eff.append(ED(f,t))\n",
    "    imaginary.append(IS(f, t))\n",
    "\n",
    "# plotting temperature v efficiency dervivate\n",
    "plt.plot(T, d_eff, 'r-', label='forward')\n",
    "plt.grid()\n",
    "plt.legend()\n",
    "plt.ylabel('efficiency deriavtive')\n",
    "plt.xlabel('temperature')\n",
    "plt.show()\n",
    "\n",
    "plt.plot(T, c_eff, 'g-', label='central')\n",
    "plt.grid()\n",
    "plt.legend()\n",
    "plt.ylabel('efficiency deriavtive')\n",
    "plt.xlabel('temperature')\n",
    "plt.show()\n",
    "\n",
    "plt.plot(T, extrapdiff_eff, 'b-', label='extrap')\n",
    "plt.grid()\n",
    "plt.legend()\n",
    "plt.ylabel('efficiency deriavtive')\n",
    "plt.xlabel('temperature')\n",
    "plt.show()"
   ]
  },
  {
   "source": [
    "## Methods 3 - Finding an expected root\n",
    "here, we have used a simple for loop to iterate over all the y values of the derivative curve, for this we have chosen the forward difference values although, since this code just obtains a starting value for later methods, the difference method values used for this is not important. We could have used either calculated values from central difference or extrapolated difference if we wanted too. The code looks for a consecutive pair of numbers where the first number is positive and the second is negative, this will tell us roughly where our x intercept of our derivative curve is and we can use that to see what temperature values this occurs at. The idea is, for each value in the list of derivative values, we look at the value with an index value one higher and compare the two. Since the temperature list and calculated derivative list are the same length. The indexes will match each temperature for each respective derivative calculation so we can use the final index for the pair of calculated values to obtain their respective temperature values."
   ],
   "cell_type": "markdown",
   "metadata": {}
  },
  {
   "cell_type": "code",
   "execution_count": 220,
   "metadata": {
    "collapsed": false
   },
   "outputs": [
    {
     "output_type": "stream",
     "name": "stdout",
     "text": [
      "i: 0.000000017374990, next value: -0.000000012767565\nx: 6928.000000000000, x: 6929.000000000000000\nroot interval found\n"
     ]
    }
   ],
   "source": [
    "# estimating the root interval\n",
    "count = 1\n",
    "for i in d_eff:\n",
    "    if i > 0 and d_eff[count] < 0:\n",
    "        print(f'i: {i:.15f}, next value: {d_eff[count]:.15f}')\n",
    "        print(f'x: {T[count-1]:.12f}, x: {T[count]:.15f}')\n",
    "        print('root interval found')\n",
    "    count += 1"
   ]
  },
  {
   "cell_type": "markdown",
   "metadata": {
    "collapsed": false
   },
   "source": [
    "## Methods 4 - The bisection algorithm & Regula Falsi\n",
    "\n",
    "The bisection algorithm takes as input a function $f$ and range $(l, u)$ such that $f(l)$ and $f(u)$ have opposite signs. We *bisect* the range – that is, find the middle, $m$ – and depending on the sign of $f(m)$, we can locate the root in either the lower half $(l, m)$ or upper half $(m, u)$.\n",
    "\n",
    "For both methods we have used both the forward difference, central difference and extrapolated difference to find a root, these results will be analyzed in the results section\n",
    "\n",
    "### Imports\n",
    "the imports are the same as the previous cells, nothing new here\n",
    "### Functions\n",
    "f & fder are the same functions as before, its been rewritten for reasons explained in the introduction. Also note, references to y are refering to using the derivative of efficiency as the function since that is the function we are looking at here. The bisection_step function takes only 1 parameter for simplicity sake. Ideally, this one parameter is a tuple containing an upper and lower limit. We can then unpack the tuple inside the function and sensibly name each bound in the tuple. For the bisection step to work, the x value of our x intercept must be between our bounds, we can check this by checking whether the product of y(x lower) and y(x upper) is lower then 0. Simply put, if the product is less then 0, the x intercept value is inbetween the bounds and we can continue with the algorithm. We must then find the midpoint of x upper and x lower, we can do this by diving their sum by 2. We can also print the current values, just for debugging or problem solving purposes (to see if theres something wrong with them or ensure that there isnt somethign wrong with them for example). From here, we must exaime whether the x intercept is between the lower bound and the mid point, or the mid point and upper bound by using the same process as we used to identify whether the intercept is inbetween the initial upper and lower bounds (by finding their product and looking at its sign). If the product is less then 0, the bounds become x lower and the midpoint (which replaces the x upper value), and if the product is above zero, we replace x lower with the mid point and that with x upper become the new bounds. If somehow the bounds are close enough where the product is rounded to 0, we have a safe estimate of where the root is located. From these evaluations we should return our new bounds so that we may reuse the function with the bounds it calculates.\n",
    "### Looping\n",
    "we create a variable to monitor iterations, this is called n and n will increase by 1 each time the bounds are recalculated. We set our initial bounds to a sensible range, we can do this by reading our first graph and seeing that the peak is roughly near 6900 to 7000. From here we must call the bisection step function to calculate our first set of bounds. This is the case as we'd like to create a while loop that only stops once the bounds have a reached a point where the difference between the 2 values is low enough for us to assume its located the intercept. For us to use the bounds in the while condition, they must be initalised before the loop. Hence calling the function once before the loop begins. In the while condition, we can say; the corresponding y values of the higher and lower x value must not be 0, this way the loop will continue to run until that is the case, since the bounds will eventually feature an x intercept, the y values will eventually reach 0 and we can use this to control how our loop behaves. Each time the loop iterates over itself, we increase n by 1, ask it to print the iteration number n, so we can see how many iterations its gone through in the prints. We also ask it to print the current bounds its calculated so we can evaulate how quickly its converging based on the bounds themself and the iteration number. Once the while loop condition has been met a print to say the code has finished running is just to ensure that the user is aware a root has been found and the while loop finished properly."
   ]
  },
  {
   "source": [
    "### Bisection method, Forward derviative"
   ],
   "cell_type": "markdown",
   "metadata": {}
  },
  {
   "cell_type": "code",
   "execution_count": 239,
   "metadata": {
    "collapsed": false
   },
   "outputs": [
    {
     "output_type": "stream",
     "name": "stdout",
     "text": [
      "---- 0 ----\nXl: 6928.0000000000 Xu: 6929.0000000000 fder(Xl): 0.000000017374990 fder(Xm): 0.000000002220446 fder(Xu): -0.000000012823076\n---- 1 ----\nXl: 6928.5000000000 Xu: 6929.0000000000 fder(Xl): 0.000000002220446 fder(Xm): -0.000000005273559 fder(Xu): -0.000000012823076\n---- 2 ----\nXl: 6928.5000000000 Xu: 6928.7500000000 fder(Xl): 0.000000002220446 fder(Xm): -0.000000001387779 fder(Xu): -0.000000005273559\n---- 3 ----\nXl: 6928.5000000000 Xu: 6928.6250000000 fder(Xl): 0.000000002220446 fder(Xm): 0.000000000555112 fder(Xu): -0.000000001387779\n---- 4 ----\nXl: 6928.5625000000 Xu: 6928.6250000000 fder(Xl): 0.000000000555112 fder(Xm): -0.000000000610623 fder(Xu): -0.000000001387779\n---- 5 ----\nXl: 6928.5625000000 Xu: 6928.5937500000 fder(Xl): 0.000000000555112 fder(Xm): -0.000000000166533 fder(Xu): -0.000000000610623\n---- 6 ----\nXl: 6928.5625000000 Xu: 6928.5781250000 fder(Xl): 0.000000000555112 fder(Xm): 0.000000000111022 fder(Xu): -0.000000000166533\n---- 7 ----\nXl: 6928.5703125000 Xu: 6928.5781250000 fder(Xl): 0.000000000111022 fder(Xm): 0.000000000055511 fder(Xu): -0.000000000166533\n---- 8 ----\nXl: 6928.5742187500 Xu: 6928.5781250000 fder(Xl): 0.000000000055511 fder(Xm): 0.000000000111022 fder(Xu): -0.000000000166533\n---- 9 ----\nXl: 6928.5761718750 Xu: 6928.5781250000 fder(Xl): 0.000000000111022 fder(Xm): -0.000000000166533 fder(Xu): -0.000000000166533\n---- 10 ----\nXl: 6928.5761718750 Xu: 6928.5771484375 fder(Xl): 0.000000000111022 fder(Xm): -0.000000000166533 fder(Xu): -0.000000000166533\n---- 11 ----\nXl: 6928.5761718750 Xu: 6928.5766601562 fder(Xl): 0.000000000111022 fder(Xm): 0.000000000166533 fder(Xu): -0.000000000166533\nroot found: 6928.5765380859375\n"
     ]
    }
   ],
   "source": [
    "# forward derivative\n",
    "from scipy.constants import c, h, k\n",
    "from numpy import *\n",
    "from scipy.integrate import quad\n",
    "import matplotlib.pyplot as plt\n",
    "\n",
    "# efficiency function\n",
    "def f(t):\n",
    "    lambda1 = 390e-9\n",
    "    lambda2 = 750e-9\n",
    "    upper = (h*c)/(lambda1*k*t)\n",
    "    lower = (h*c)/(lambda2*k*t)\n",
    "    effT = lambda x:  (x**3) / (exp(x)-1) \n",
    "    return ( 15/pi**4 ) * (quad(effT, lower ,upper)[0])\n",
    "\n",
    "# forward derivative function\n",
    "def fder(t, h=1e-6):\n",
    "    return (f(t + h) - f(t)) / h\n",
    "\n",
    "# bisection step function using forward difference\n",
    "def bisection_step(bounds):\n",
    "    Xl, Xu = bounds\n",
    "    if fder(Xu)*fder(Xl) < 0:\n",
    "        Xm = (Xu + Xl) / 2\n",
    "        # to see all useful calculated values\n",
    "        print(f'Xl: {Xl:.10f} Xu: {Xu:.10f} fder(Xl): {fder(Xl):.15f} fder(Xm): {fder(Xm):.15f} fder(Xu): {fder(Xu):.15f}')\n",
    "        if fder(Xu)*fder(Xl) < 0:\n",
    "            if fder(Xl) * fder(Xm) < 0:\n",
    "                Xu = Xm\n",
    "                return (Xl, Xu)\n",
    "            elif fder(Xl) * fder(Xm) > 0:\n",
    "                Xl = Xm\n",
    "                return (Xl, Xu)\n",
    "            elif fder(Xl) * fder(Xm) == 0:\n",
    "                Root = Xm\n",
    "                return Root\n",
    "    else:\n",
    "        print('wrong bounds')\n",
    "\n",
    "# looping\n",
    "n = 0\n",
    "bounds = 6928,6929\n",
    "print('----',n,'----')\n",
    "bounds = (bisection_step(bounds))\n",
    "try:\n",
    "    while abs(abs(fder(max(bounds))) - abs(fder(min(bounds)))) > 1e-15:\n",
    "        n += 1\n",
    "        print('----',n,'----')\n",
    "        bounds = (bisection_step(bounds))\n",
    "\n",
    "except(TypeError):\n",
    "    pass\n",
    "\n",
    "print('root found:', abs(bounds[0]+bounds[1])/2)"
   ]
  },
  {
   "source": [
    "### Bisection method, extrapolated derviative"
   ],
   "cell_type": "markdown",
   "metadata": {}
  },
  {
   "cell_type": "code",
   "execution_count": 222,
   "metadata": {},
   "outputs": [
    {
     "output_type": "stream",
     "name": "stdout",
     "text": [
      "---- 0 ----\nXl: 6900.0000000000 Xu: 7000.0000000000 ED(Xl): 0.000000871131298 ED(Xm): -0.000000644012357 ED(Xu): -0.000002117209965\n---- 1 ----\nXl: 6900.0000000000 Xu: 6950.0000000000 ED(Xl): 0.000000871131298 ED(Xm): 0.000000108282103 ED(Xu): -0.000000644012357\n---- 2 ----\nXl: 6925.0000000000 Xu: 6950.0000000000 ED(Xl): 0.000000108282103 ED(Xm): -0.000000269180255 ED(Xu): -0.000000644012357\n---- 3 ----\nXl: 6925.0000000000 Xu: 6937.5000000000 ED(Xl): 0.000000108282103 ED(Xm): -0.000000080778389 ED(Xu): -0.000000269180255\n---- 4 ----\nXl: 6925.0000000000 Xu: 6931.2500000000 ED(Xl): 0.000000108282103 ED(Xm): 0.000000013669465 ED(Xu): -0.000000080778389\n---- 5 ----\nXl: 6928.1250000000 Xu: 6931.2500000000 ED(Xl): 0.000000013669465 ED(Xm): -0.000000033575054 ED(Xu): -0.000000080778389\n---- 6 ----\nXl: 6928.1250000000 Xu: 6929.6875000000 ED(Xl): 0.000000013669465 ED(Xm): -0.000000009957945 ED(Xu): -0.000000033575054\n---- 7 ----\nXl: 6928.1250000000 Xu: 6928.9062500000 ED(Xl): 0.000000013669465 ED(Xm): 0.000000001854473 ED(Xu): -0.000000009957945\n---- 8 ----\nXl: 6928.5156250000 Xu: 6928.9062500000 ED(Xl): 0.000000001854473 ED(Xm): -0.000000004052055 ED(Xu): -0.000000009957945\n---- 9 ----\nXl: 6928.5156250000 Xu: 6928.7109375000 ED(Xl): 0.000000001854473 ED(Xm): -0.000000001098873 ED(Xu): -0.000000004052055\n---- 10 ----\nXl: 6928.5156250000 Xu: 6928.6132812500 ED(Xl): 0.000000001854473 ED(Xm): 0.000000000377781 ED(Xu): -0.000000001098873\n---- 11 ----\nXl: 6928.5644531250 Xu: 6928.6132812500 ED(Xl): 0.000000000377781 ED(Xm): -0.000000000360549 ED(Xu): -0.000000001098873\n---- 12 ----\nXl: 6928.5644531250 Xu: 6928.5888671875 ED(Xl): 0.000000000377781 ED(Xm): 0.000000000008612 ED(Xu): -0.000000000360549\n---- 13 ----\nXl: 6928.5766601562 Xu: 6928.5888671875 ED(Xl): 0.000000000008612 ED(Xm): -0.000000000175969 ED(Xu): -0.000000000360549\n---- 14 ----\nXl: 6928.5766601562 Xu: 6928.5827636719 ED(Xl): 0.000000000008612 ED(Xm): -0.000000000083679 ED(Xu): -0.000000000175969\n---- 15 ----\nXl: 6928.5766601562 Xu: 6928.5797119141 ED(Xl): 0.000000000008612 ED(Xm): -0.000000000037531 ED(Xu): -0.000000000083679\n---- 16 ----\nXl: 6928.5766601562 Xu: 6928.5781860352 ED(Xl): 0.000000000008612 ED(Xm): -0.000000000014460 ED(Xu): -0.000000000037531\n---- 17 ----\nXl: 6928.5766601562 Xu: 6928.5774230957 ED(Xl): 0.000000000008612 ED(Xm): -0.000000000002924 ED(Xu): -0.000000000014460\n---- 18 ----\nXl: 6928.5766601562 Xu: 6928.5770416260 ED(Xl): 0.000000000008612 ED(Xm): 0.000000000002848 ED(Xu): -0.000000000002924\n---- 19 ----\nXl: 6928.5768508911 Xu: 6928.5770416260 ED(Xl): 0.000000000002848 ED(Xm): -0.000000000000038 ED(Xu): -0.000000000002924\n---- 20 ----\nXl: 6928.5768508911 Xu: 6928.5769462585 ED(Xl): 0.000000000002848 ED(Xm): 0.000000000001403 ED(Xu): -0.000000000000038\n---- 21 ----\nXl: 6928.5768985748 Xu: 6928.5769462585 ED(Xl): 0.000000000001403 ED(Xm): 0.000000000000685 ED(Xu): -0.000000000000038\n---- 22 ----\nXl: 6928.5769224167 Xu: 6928.5769462585 ED(Xl): 0.000000000000685 ED(Xm): 0.000000000000320 ED(Xu): -0.000000000000038\n---- 23 ----\nXl: 6928.5769343376 Xu: 6928.5769462585 ED(Xl): 0.000000000000320 ED(Xm): 0.000000000000140 ED(Xu): -0.000000000000038\n---- 24 ----\nXl: 6928.5769402981 Xu: 6928.5769462585 ED(Xl): 0.000000000000140 ED(Xm): 0.000000000000054 ED(Xu): -0.000000000000038\n---- 25 ----\nXl: 6928.5769432783 Xu: 6928.5769462585 ED(Xl): 0.000000000000054 ED(Xm): 0.000000000000009 ED(Xu): -0.000000000000038\n---- 26 ----\nXl: 6928.5769447684 Xu: 6928.5769462585 ED(Xl): 0.000000000000009 ED(Xm): -0.000000000000015 ED(Xu): -0.000000000000038\n---- 27 ----\nXl: 6928.5769447684 Xu: 6928.5769455135 ED(Xl): 0.000000000000009 ED(Xm): -0.000000000000006 ED(Xu): -0.000000000000015\n---- 28 ----\nXl: 6928.5769447684 Xu: 6928.5769451410 ED(Xl): 0.000000000000009 ED(Xm): 0.000000000000002 ED(Xu): -0.000000000000006\n---- 29 ----\nXl: 6928.5769449547 Xu: 6928.5769451410 ED(Xl): 0.000000000000002 ED(Xm): -0.000000000000001 ED(Xu): -0.000000000000006\nroot found: 6928.576945001259\n"
     ]
    }
   ],
   "source": [
    "# extrapolated derivative\n",
    "from scipy.constants import c, h, k\n",
    "from numpy import *\n",
    "from scipy.integrate import quad\n",
    "import matplotlib.pyplot as plt\n",
    "\n",
    "# efficiency function\n",
    "def f(t):\n",
    "    lambda1 = 390e-9\n",
    "    lambda2 = 750e-9\n",
    "    upper = (h*c)/(lambda1*k*t)\n",
    "    lower = (h*c)/(lambda2*k*t)\n",
    "    effT = lambda x:  (x**3) / (exp(x)-1) \n",
    "    return ( 15/pi**4 ) * (quad(effT, lower ,upper)[0])\n",
    "    \n",
    "# Extrapolated derivative\n",
    "def ED(t,h=1e-1):\n",
    "    return (1/3)*(4*cder(f, t, (0.5*h))-cder(f, t, h))\n",
    "\n",
    "# Central Derivative\n",
    "def cder(f,t, h=1e-5):\n",
    "    return (f(t + h) - f(t - h))/(2*h)\n",
    "\n",
    "# bisection step function using Extrapolated difference\n",
    "def bisection_step(bounds):\n",
    "    Xl, Xu = bounds\n",
    "    if ED(Xu)*ED(Xl) < 0:\n",
    "        Xm = (Xu + Xl) / 2\n",
    "        print(f'Xl: {Xl:.10f} Xu: {Xu:.10f} ED(Xl): {ED(Xl):.15f} ED(Xm): {ED(Xm):.15f} ED(Xu): {ED(Xu):.15f}')\n",
    "        if ED(Xu)*ED(Xl) < 0:\n",
    "            if ED(Xl) * ED(Xm) < 0:\n",
    "                Xu = Xm\n",
    "                return (Xl, Xu)\n",
    "            elif ED(Xl) * ED(Xm) > 0:\n",
    "                Xl = Xm\n",
    "                return (Xl, Xu)\n",
    "            elif ED(Xl) * ED(Xm) == 0:\n",
    "                Root = Xm\n",
    "                return Root\n",
    "    else:\n",
    "        print('wrong bounds')\n",
    "\n",
    "# looping\n",
    "n = 0\n",
    "bounds = 6928,6929\n",
    "print('----',n,'----')\n",
    "bounds = (bisection_step(bounds))\n",
    "try:\n",
    "    while abs(abs(ED(max(bounds))) - abs(ED(min(bounds)))) > 1e-15:\n",
    "        n += 1\n",
    "        print('----',n,'----')\n",
    "        bounds = (bisection_step(bounds))\n",
    "\n",
    "except(TypeError):\n",
    "    pass\n",
    "\n",
    "print('root found:', abs(bounds[0]+bounds[1])/2)"
   ]
  },
  {
   "source": [
    "### Bisection method, central derviative"
   ],
   "cell_type": "markdown",
   "metadata": {}
  },
  {
   "cell_type": "code",
   "execution_count": 223,
   "metadata": {},
   "outputs": [
    {
     "output_type": "stream",
     "name": "stdout",
     "text": [
      "---- 0 ----\n",
      "Xl: 6900.0000000000 Xu: 7000.0000000000 CD(Xl): 0.000000871136496 CD(Xm): -0.000000644018172 CD(Xu): -0.000002117203635\n",
      "---- 1 ----\n",
      "Xl: 6900.0000000000 Xu: 6950.0000000000 CD(Xl): 0.000000871136496 CD(Xm): 0.000000108288378 CD(Xu): -0.000000644018172\n",
      "---- 2 ----\n",
      "Xl: 6925.0000000000 Xu: 6950.0000000000 CD(Xl): 0.000000108288378 CD(Xm): -0.000000269170797 CD(Xu): -0.000000644018172\n",
      "---- 3 ----\n",
      "Xl: 6925.0000000000 Xu: 6937.5000000000 CD(Xl): 0.000000108288378 CD(Xm): -0.000000080779827 CD(Xu): -0.000000269170797\n",
      "---- 4 ----\n",
      "Xl: 6925.0000000000 Xu: 6931.2500000000 CD(Xl): 0.000000108288378 CD(Xm): 0.000000013666845 CD(Xu): -0.000000080779827\n",
      "---- 5 ----\n",
      "Xl: 6928.1250000000 Xu: 6931.2500000000 CD(Xl): 0.000000013666845 CD(Xm): -0.000000033584246 CD(Xu): -0.000000080779827\n",
      "---- 6 ----\n",
      "Xl: 6928.1250000000 Xu: 6929.6875000000 CD(Xl): 0.000000013666845 CD(Xm): -0.000000009950374 CD(Xu): -0.000000033584246\n",
      "---- 7 ----\n",
      "Xl: 6928.1250000000 Xu: 6928.9062500000 CD(Xl): 0.000000013666845 CD(Xm): 0.000000001856848 CD(Xu): -0.000000009950374\n",
      "---- 8 ----\n",
      "Xl: 6928.5156250000 Xu: 6928.9062500000 CD(Xl): 0.000000001856848 CD(Xm): -0.000000004055090 CD(Xu): -0.000000009950374\n",
      "---- 9 ----\n",
      "Xl: 6928.5156250000 Xu: 6928.7109375000 CD(Xl): 0.000000001856848 CD(Xm): -0.000000001096345 CD(Xu): -0.000000004055090\n",
      "---- 10 ----\n",
      "Xl: 6928.5156250000 Xu: 6928.6132812500 CD(Xl): 0.000000001856848 CD(Xm): 0.000000000374700 CD(Xu): -0.000000001096345\n",
      "---- 11 ----\n",
      "Xl: 6928.5644531250 Xu: 6928.6132812500 CD(Xl): 0.000000000374700 CD(Xm): -0.000000000363598 CD(Xu): -0.000000001096345\n",
      "---- 12 ----\n",
      "Xl: 6928.5644531250 Xu: 6928.5888671875 CD(Xl): 0.000000000374700 CD(Xm): 0.000000000005551 CD(Xu): -0.000000000363598\n",
      "---- 13 ----\n",
      "Xl: 6928.5766601562 Xu: 6928.5888671875 CD(Xl): 0.000000000005551 CD(Xm): -0.000000000174860 CD(Xu): -0.000000000363598\n",
      "---- 14 ----\n",
      "Xl: 6928.5766601562 Xu: 6928.5827636719 CD(Xl): 0.000000000005551 CD(Xm): -0.000000000086042 CD(Xu): -0.000000000174860\n",
      "---- 15 ----\n",
      "Xl: 6928.5766601562 Xu: 6928.5797119141 CD(Xl): 0.000000000005551 CD(Xm): -0.000000000038858 CD(Xu): -0.000000000086042\n",
      "---- 16 ----\n",
      "Xl: 6928.5766601562 Xu: 6928.5781860352 CD(Xl): 0.000000000005551 CD(Xm): -0.000000000013878 CD(Xu): -0.000000000038858\n",
      "---- 17 ----\n",
      "Xl: 6928.5766601562 Xu: 6928.5774230957 CD(Xl): 0.000000000005551 CD(Xm): -0.000000000005551 CD(Xu): -0.000000000013878\n",
      "root found: 6928.576850891113\n"
     ]
    }
   ],
   "source": [
    "# central derivative\n",
    "from scipy.constants import c, h, k\n",
    "from numpy import *\n",
    "from scipy.integrate import quad\n",
    "import matplotlib.pyplot as plt\n",
    "\n",
    "# efficiency function\n",
    "def f(t):\n",
    "    lambda1 = 390e-9\n",
    "    lambda2 = 750e-9\n",
    "    upper = (h*c)/(lambda1*k*t)\n",
    "    lower = (h*c)/(lambda2*k*t)\n",
    "    effT = lambda x:  (x**3) / (exp(x)-1) \n",
    "    return ( 15/pi**4 ) * (quad(effT, lower ,upper)[0])\n",
    "    \n",
    "# Extrapolated derivative\n",
    "def ED(t,h=1e-1):\n",
    "    return (1/3)*(4*CD(f, t, (0.5*h))-CD(f, t, h))\n",
    "\n",
    "# Central Derivative\n",
    "def CD(t, h=1e-5):\n",
    "    return (f(t + h) - f(t - h))/(2*h)\n",
    "\n",
    "# bisection step function using Extrapolated difference\n",
    "def bisection_step(bounds):\n",
    "    Xl, Xu = bounds\n",
    "    if CD(Xu)*CD(Xl) < 0:\n",
    "        Xm = (Xu + Xl) / 2\n",
    "        print(f'Xl: {Xl:.10f} Xu: {Xu:.10f} CD(Xl): {CD(Xl):.15f} CD(Xm): {CD(Xm):.15f} CD(Xu): {CD(Xu):.15f}')\n",
    "        if CD(Xu)*CD(Xl) < 0:\n",
    "            if CD(Xl) * CD(Xm) < 0:\n",
    "                Xu = Xm\n",
    "                return (Xl, Xu)\n",
    "            elif CD(Xl) * CD(Xm) > 0:\n",
    "                Xl = Xm\n",
    "                return (Xl, Xu)\n",
    "            elif CD(Xl) * CD(Xm) == 0:\n",
    "                Root = Xm\n",
    "                return Root\n",
    "    else:\n",
    "        print('wrong bounds')\n",
    "\n",
    "# looping\n",
    "n = 0\n",
    "bounds = 6900,7000\n",
    "print('----',n,'----')\n",
    "bounds = (bisection_step(bounds))\n",
    "try:\n",
    "    while abs(abs(CD(max(bounds))) - abs(CD(min(bounds)))) > 1e-15:\n",
    "        n += 1\n",
    "        print('----',n,'----')\n",
    "        bounds = (bisection_step(bounds))\n",
    "\n",
    "except(TypeError):\n",
    "    pass\n",
    "\n",
    "print('root found:', abs(bounds[0]+bounds[1])/2)"
   ]
  },
  {
   "cell_type": "markdown",
   "metadata": {
    "collapsed": false
   },
   "source": [
    "## Regula falsi\n",
    "\n",
    "This algorithm is very similar but tries to make a more sensible guess at the root than simply the midpoint of the range. Instead, we calculate the intersection point of a straight line through $(l, f(l))$ and $(u, f(u))$, which turns out to be\n",
    "$$\n",
    "m = \\frac{lf(u) - uf(l)}{f(u)-f(l)}\n",
    "$$\n",
    "\n",
    "The only difference in code is the way the mid point is calculated, every other line is the exact same so splitting up these algorithms to have their own method sections seems redundant as results will be analysed in the results section."
   ]
  },
  {
   "source": [
    "### Regula Falsi forward derviative"
   ],
   "cell_type": "markdown",
   "metadata": {}
  },
  {
   "cell_type": "code",
   "execution_count": 238,
   "metadata": {
    "collapsed": false
   },
   "outputs": [
    {
     "output_type": "stream",
     "name": "stdout",
     "text": [
      "---- 0 ----\nXl: 6900.0000000000 Xu: 7000.0000000000 fder(Xl): 0.000000871303030 fder(Xm): -0.000000017319479 fder(Xu): -0.000002117195308\n---- 1 ----\nXl: 6900.0000000000 Xu: 6929.1552121257 fder(Xl): 0.000000871303030 fder(Xm): -0.000000000444089 fder(Xu): -0.000000017319479\n---- 2 ----\nXl: 6900.0000000000 Xu: 6928.5869696105 fder(Xl): 0.000000871303030 fder(Xm): 0.000000000055511 fder(Xu): -0.000000000444089\n---- 3 ----\nXl: 6928.5724067121 Xu: 6928.5869696105 fder(Xl): 0.000000000055511 fder(Xm): 0.000000000166533 fder(Xu): -0.000000000444089\n---- 4 ----\nXl: 6928.5740248119 Xu: 6928.5869696105 fder(Xl): 0.000000000166533 fder(Xm): -0.000000000055511 fder(Xu): -0.000000000444089\n---- 5 ----\nXl: 6928.5740248119 Xu: 6928.5775552115 fder(Xl): 0.000000000166533 fder(Xm): -0.000000000277556 fder(Xu): -0.000000000055511\n---- 6 ----\nXl: 6928.5740248119 Xu: 6928.5766726116 fder(Xl): 0.000000000166533 fder(Xm): -0.000000000111022 fder(Xu): -0.000000000277556\n---- 7 ----\nXl: 6928.5740248119 Xu: 6928.5750177368 fder(Xl): 0.000000000166533 fder(Xm): 0.000000000222045 fder(Xu): -0.000000000111022\n---- 8 ----\nXl: 6928.5746205669 Xu: 6928.5750177368 fder(Xl): 0.000000000222045 fder(Xm): 0.000000000111022 fder(Xu): -0.000000000111022\nroot found: (6928.574885346828, 6928.575017736813)\n"
     ]
    }
   ],
   "source": [
    "# forward difference\n",
    "from scipy.constants import c, h, k\n",
    "from numpy import *\n",
    "from scipy.integrate import quad\n",
    "import matplotlib.pyplot as plt\n",
    "\n",
    "# Efficiency function\n",
    "def f(t):\n",
    "    lambda1 = 390e-9\n",
    "    lambda2 = 750e-9\n",
    "    upper = (h*c)/(lambda1*k*t)\n",
    "    lower = (h*c)/(lambda2*k*t)\n",
    "    effT = lambda x:  (x**3) / (exp(x)-1) \n",
    "    return ( 15/pi**4 ) * (quad(effT, lower ,upper)[0])\n",
    "\n",
    "# Forward difference\n",
    "def fder(t, h=1e-6):\n",
    "    return (f(t + h) - f(t)) / h\n",
    "\n",
    "# Regula falsi with forward difference\n",
    "def Regula(bounds):\n",
    "    Xl, Xu = bounds\n",
    "    if fder(Xu)*fder(Xl) < 0:\n",
    "        Xm = (Xl*fder(Xu) - Xu*fder(Xl))/(fder(Xu) - fder(Xl))\n",
    "        print(f'Xl: {Xl:.10f} Xu: {Xu:.10f} fder(Xl): {fder(Xl):.15f} fder(Xm): {fder(Xm):.15f} fder(Xu): {fder(Xu):.15f}')\n",
    "        if fder(Xu)*fder(Xl) < 0:\n",
    "            if fder(Xl) * fder(Xm) < 0:\n",
    "                Xu = Xm\n",
    "                return (Xl, Xu)\n",
    "            elif fder(Xl) * fder(Xm) > 0:\n",
    "                Xl = Xm\n",
    "                return (Xl, Xu)\n",
    "            elif fder(Xl) * fder(Xm) == 0:\n",
    "                Root = Xm\n",
    "                return Root\n",
    "    else:\n",
    "        print('wrong bounds')\n",
    "\n",
    "# looping\n",
    "n = 0\n",
    "bounds = 6900,7000\n",
    "print('----',n,'----')\n",
    "bounds = (Regula(bounds))\n",
    "try:\n",
    "    while abs(abs(fder(max(bounds))) - abs(fder(min(bounds)))) > 1e-15:\n",
    "        n += 1\n",
    "        print('----',n,'----')\n",
    "        bounds = (Regula(bounds))\n",
    "\n",
    "except(TypeError):\n",
    "    pass\n",
    "\n",
    "print('root found:', bounds)"
   ]
  },
  {
   "source": [
    "### Regula Falsi extrapolated derviative"
   ],
   "cell_type": "markdown",
   "metadata": {}
  },
  {
   "cell_type": "code",
   "execution_count": 225,
   "metadata": {},
   "outputs": [
    {
     "output_type": "stream",
     "name": "stdout",
     "text": [
      "---- 1 ----\nXl: 6900.0000000000 Xu: 7000.0000000000 ED(Xl): 0.000000871131298 ED(Xm): -0.000000017357753 ED(Xu): -0.000002117209965\n---- 2 ----\nXl: 6900.0000000000 Xu: 6929.1509978705 ED(Xl): 0.000000871131298 ED(Xm): -0.000000000137643 ED(Xu): -0.000000017357753\n---- 3 ----\nXl: 6900.0000000000 Xu: 6928.5814963940 ED(Xl): 0.000000871131298 ED(Xm): -0.000000000001091 ED(Xu): -0.000000000137643\n---- 4 ----\nXl: 6900.0000000000 Xu: 6928.5769810960 ED(Xl): 0.000000871131298 ED(Xm): -0.000000000000009 ED(Xu): -0.000000000001091\n---- 5 ----\nXl: 6900.0000000000 Xu: 6928.5769452919 ED(Xl): 0.000000871131298 ED(Xm): -0.000000000000001 ED(Xu): -0.000000000000009\n---- 6 ----\nXl: 6900.0000000000 Xu: 6928.5769449945 ED(Xl): 0.000000871131298 ED(Xm): -0.000000000000001 ED(Xu): -0.000000000000001\n---- 7 ----\nXl: 6900.0000000000 Xu: 6928.5769449580 ED(Xl): 0.000000871131298 ED(Xm): 0.000000000000002 ED(Xu): -0.000000000000001\nroot found: 6928.5769449383115\n"
     ]
    }
   ],
   "source": [
    "# extrapolated difference\n",
    "from scipy.constants import c, h, k\n",
    "from numpy import *\n",
    "from scipy.integrate import quad\n",
    "import matplotlib.pyplot as plt\n",
    "\n",
    "# efficiency function\n",
    "def f(t):\n",
    "    lambda1 = 390e-9\n",
    "    lambda2 = 750e-9\n",
    "    upper = (h*c)/(lambda1*k*t)\n",
    "    lower = (h*c)/(lambda2*k*t)\n",
    "    effT = lambda x:  (x**3) / (exp(x)-1) \n",
    "    return ( 15/pi**4 ) * (quad(effT, lower ,upper)[0])\n",
    "    \n",
    "#Extrapolated derivative\n",
    "def ED(t,h=1e-1):\n",
    "    return (1/3)*(4*cder(f, t, (0.5*h))-cder(f, t, h))\n",
    "\n",
    "#Central Derivative\n",
    "def cder(f,t, h=1e-5):\n",
    "    return (f(t + h) - f(t - h))/(2*h)\n",
    "\n",
    "# Regula falsi with extrapolated difference\n",
    "def Regula(bounds):\n",
    "    Xl, Xu = bounds\n",
    "    if ED(Xu)*ED(Xl) < 0:\n",
    "        Xm = (Xl*ED(Xu) - Xu*ED(Xl))/(ED(Xu) - ED(Xl))\n",
    "        print(f'Xl: {Xl:.10f} Xu: {Xu:.10f} ED(Xl): {ED(Xl):.15f} ED(Xm): {ED(Xm):.15f} ED(Xu): {ED(Xu):.15f}')\n",
    "        if ED(Xu)*ED(Xl) < 0:\n",
    "            if ED(Xl) * ED(Xm) < 0:\n",
    "                Xu = Xm\n",
    "                return (Xl, Xu)\n",
    "            elif ED(Xl) * ED(Xm) > 0:\n",
    "                Xl = Xm\n",
    "                return (Xl, Xu)\n",
    "            elif ED(Xl) * ED(Xm) == 0:\n",
    "                Root = Xm\n",
    "                return Root\n",
    "    else:\n",
    "        print('wrong bounds')\n",
    "\n",
    "# looping\n",
    "n = 1\n",
    "bounds = 6900,7000\n",
    "print('----',n,'----')\n",
    "bounds = (Regula(bounds))\n",
    "try:\n",
    "    while abs(abs(ED(max(bounds))) - abs(ED(min(bounds)))) > 1e-15:\n",
    "        n += 1\n",
    "        print('----',n,'----')\n",
    "        bounds = (Regula(bounds))\n",
    "\n",
    "except(TypeError):\n",
    "    pass\n",
    "\n",
    "print('root found:', abs(bounds[0]+bounds[1])/2)"
   ]
  },
  {
   "source": [
    "### Regula Falsi central derviative"
   ],
   "cell_type": "markdown",
   "metadata": {}
  },
  {
   "cell_type": "code",
   "execution_count": 226,
   "metadata": {},
   "outputs": [
    {
     "output_type": "stream",
     "name": "stdout",
     "text": [
      "---- 1 ----\nXl: 6900.0000000000 Xu: 7000.0000000000 CD(Xl): 0.000000871136496 CD(Xm): -0.000000017366664 CD(Xu): -0.000002117203635\n---- 2 ----\nXl: 6900.0000000000 Xu: 6929.1511828678 CD(Xl): 0.000000871136496 CD(Xm): -0.000000000136002 CD(Xu): -0.000000017366664\n---- 3 ----\nXl: 6900.0000000000 Xu: 6928.5813944742 CD(Xl): 0.000000871136496 CD(Xm): 0.000000000000000 CD(Xu): -0.000000000136002\n6928.576933027294\n"
     ]
    }
   ],
   "source": [
    "# central difference\n",
    "from scipy.constants import c, h, k\n",
    "from numpy import *\n",
    "from scipy.integrate import quad\n",
    "import matplotlib.pyplot as plt\n",
    "\n",
    "# efficiency function\n",
    "def f(t):\n",
    "    lambda1 = 390e-9\n",
    "    lambda2 = 750e-9\n",
    "    upper = (h*c)/(lambda1*k*t)\n",
    "    lower = (h*c)/(lambda2*k*t)\n",
    "    effT = lambda x:  (x**3) / (exp(x)-1) \n",
    "    return ( 15/pi**4 ) * (quad(effT, lower ,upper)[0])\n",
    "    \n",
    "#Extrapolated derivative\n",
    "def ED(t,h=1e-1):\n",
    "    return (1/3)*(4*CD(f, t, (0.5*h))-CD(f, t, h))\n",
    "\n",
    "#Central Derivative\n",
    "def CD(t, h=1e-5):\n",
    "    return (f(t + h) - f(t - h))/(2*h)\n",
    "\n",
    "# Regula falsi with extrapolated difference\n",
    "def Regula(bounds):\n",
    "    Xl, Xu = bounds\n",
    "    if CD(Xu)*CD(Xl) < 0:\n",
    "        Xm = (Xl*CD(Xu) - Xu*CD(Xl))/(CD(Xu) - CD(Xl))\n",
    "        print(f'Xl: {Xl:.10f} Xu: {Xu:.10f} CD(Xl): {CD(Xl):.15f} CD(Xm): {CD(Xm):.15f} CD(Xu): {CD(Xu):.15f}')\n",
    "        if CD(Xu)*CD(Xl) < 0:\n",
    "            if CD(Xl) * CD(Xm) < 0:\n",
    "                Xu = Xm\n",
    "                return (Xl, Xu)\n",
    "            elif CD(Xl) * CD(Xm) > 0:\n",
    "                Xl = Xm\n",
    "                return (Xl, Xu)\n",
    "            elif CD(Xl) * CD(Xm) == 0:\n",
    "                Root = Xm\n",
    "                return Root\n",
    "    else:\n",
    "        print('wrong bounds')\n",
    "\n",
    "# looping\n",
    "n = 1\n",
    "bounds = 6900,7000\n",
    "print('----',n,'----')\n",
    "bounds = (Regula(bounds))\n",
    "try:\n",
    "    while abs(abs(CD(max(bounds))) - abs(CD(min(bounds)))) > 1e-15:\n",
    "        n += 1\n",
    "        print('----',n,'----')\n",
    "        bounds = (Regula(bounds))\n",
    "\n",
    "except(TypeError):\n",
    "    pass\n",
    "\n",
    "print(bounds)"
   ]
  },
  {
   "cell_type": "markdown",
   "metadata": {
    "collapsed": false
   },
   "source": [
    "## Methods 5 -  The Newton-Raphson method\n",
    "The Newton-Raphson algorithm involves linearising the function at some guess $x_0$ – that is, we follow the *derivative* down to the $x$-axis rather than the function itself:\n",
    "\n",
    "Mathematically, \n",
    "$$\n",
    "x_{n+1} = x_n - \\frac{f(x_n)}{f'(x_n)}.\n",
    "$$\n",
    "\n",
    "Note: I have used every combination of methods for finding the first and second derivative, the results will be analyzed in the results section\n",
    "\n",
    "### Imports\n",
    "the imports are the same as before, nothing new here.\n",
    "### Functions\n",
    "for the newton step function, we will be using the extrapolated derivative (and thereforem the central derivative as its used to calculated the extrapolated derivative) as ED (and CD). These functions were defined before but are being redefined with newer names for reasons stated in the introduction. The newton step function takes a 2 parameters, the function its applying itself too, and an x value to evaluate the function at. We simply have it return the Mathematical equation we have written above. Since, in the fraction, whatever derivative of f is on the numerator (e.g the *first/second* derivative), we'll always be taking the next derivative in the denominator (e.g the *second/third* derivative). As this is the case, we can simply state that the we want f to be the numerator (whatever f is will depend on the parameters), and the denominator will be the direct derivative of f which we can find by having it run through the extrapolated derivative function. The function for f has been taken from previous cells with no changes. We need a function to find the derivative of f and return a function, which is the 'derivative' functions purpose. The idea is that, once the newton step function is called, it will be given what the derivative function returns as that the y we're looking at since we want to find the x intercept of the derivative curve. the derivative function will apply the ED function to the original efficiency equation and give that derived function to the newton step function to use as f. This will actually repeat itself as the denominator of the fraction in the newton step function uses the ED function. f, which is currently the first derivative of the efficiency equation will get passed to the ED function and it'll calculate the second derivative value at the given t value (this also happens with the first derivative) and this will then be passed back to the newton step function so it can numerically calculate the fraction and return the numerical result of the equation for iterative use.\n",
    "### Looping\n",
    "we start by defining a guess value, we can start at any sensible value. For the same reasons as calling the bisection function before the while loop as before, we call the newton step before the while loop here as the same principle applies. we want to have the while loop run until the difference between the current value it calculates and the next value is less then a reasonably small number that we can define as epsilon. We also create variable to monitor the iteration count called n. In the while loop, we state that while the absolute value of the difference between current x value (x) and the next value up (xU) is greater then epsilon, we'd like our while loop to continue looping. We must then redefine our 'current' value of x as a new one is being calculated. we do this by saying that our next current value of x, is our old 'next x value up' (xU) value, and our actual new x value (xU) is whatever the newton step function returns. we then increase the iteration count n by 1 and print x along with the iteration count so we can monitor the speed of the process.\n",
    "\n"
   ]
  },
  {
   "source": [
    "### Newton step ED - ED "
   ],
   "cell_type": "markdown",
   "metadata": {}
  },
  {
   "cell_type": "code",
   "execution_count": 227,
   "metadata": {
    "collapsed": false
   },
   "outputs": [
    {
     "output_type": "stream",
     "name": "stdout",
     "text": [
      "x: 6761.609933904368, iteration: 1.00 \nx: 6921.284925355427, iteration: 2.00 \nx: 6928.5621320316195, iteration: 3.00 \nx: 6928.57694498089, iteration: 4.00 \nx: 6928.576944876874, iteration: 5.00 \nx: 6928.576944956415, iteration: 6.00 \nx: 6928.576945109377, iteration: 7.00 \nx: 6928.576945017599, iteration: 8.00 \nx: 6928.576945060429, iteration: 9.00 \nx: 6928.57694488911, iteration: 10.00 \nx: 6928.576944993125, iteration: 11.00 \n"
     ]
    }
   ],
   "source": [
    "# using ED - ED\n",
    "from scipy.constants import c, h, k\n",
    "from numpy import *\n",
    "from scipy.integrate import quad\n",
    "import matplotlib.pyplot as plt\n",
    "\n",
    "# central difference for use in extrapolated difference formula\n",
    "def CD(f,t,h=1e-5):\n",
    "    return (f(t+(h/2))-f(t-(h/2)))/h\n",
    "\n",
    "# extrapolated difference\n",
    "def ED(f,t,h=1e-1):\n",
    "    return (1/3)*(4*CD(f, t, (0.5*h))-CD(f, t, h))\n",
    "\n",
    "# newton step function\n",
    "def newton(f,t):\n",
    "    return t -(f(t)/ED(f,t))\n",
    "\n",
    "# forward difference\n",
    "def FD(f, t, h=1e-6):\n",
    "    return (f(t + h) - f(t)) / h\n",
    "\n",
    "#efficiency function\n",
    "def f(t):\n",
    "    lambda1 = 390e-9\n",
    "    lambda2 = 750e-9\n",
    "    upper = (h*c)/(lambda1*k*t)\n",
    "    lower = (h*c)/(lambda2*k*t)\n",
    "    effT = lambda x: ( 15/pi**4 ) * ( (x**3) / (exp(x)-1) )\n",
    "    return (quad(effT, lower ,upper)[0])\n",
    "\n",
    "# aquiring derivative function\n",
    "def derivative(t):\n",
    "    return ED(f,t)\n",
    "\n",
    "\n",
    "# looping\n",
    "x = 6000\n",
    "xU = newton(derivative,x)\n",
    "epsilon = 1e-8\n",
    "n = 0\n",
    "while abs(x-xU)>epsilon:\n",
    "    xU,x = newton(derivative, xU), xU\n",
    "    n += 1\n",
    "    print(f'x: {x}, iteration: {n:.2f} ')"
   ]
  },
  {
   "source": [
    "### Newton step CD - ED "
   ],
   "cell_type": "markdown",
   "metadata": {}
  },
  {
   "cell_type": "code",
   "execution_count": 228,
   "metadata": {},
   "outputs": [
    {
     "output_type": "stream",
     "name": "stdout",
     "text": [
      "x: 6761.134856242616, iteration: 1.00 \n",
      "x: 6920.99085178082, iteration: 2.00 \n",
      "x: 6928.669961793181, iteration: 3.00 \n",
      "x: 6928.575814844239, iteration: 4.00 \n",
      "x: 6928.5771151538365, iteration: 5.00 \n",
      "x: 6928.576561648301, iteration: 6.00 \n",
      "x: 6928.577276359439, iteration: 7.00 \n",
      "x: 6928.577096070977, iteration: 8.00 \n",
      "x: 6928.577639549238, iteration: 9.00 \n",
      "x: 6928.57709672656, iteration: 10.00 \n",
      "x: 6928.5767286284, iteration: 11.00 \n",
      "x: 6928.577090074183, iteration: 12.00 \n",
      "x: 6928.576722427124, iteration: 13.00 \n",
      "x: 6928.57635136961, iteration: 14.00 \n"
     ]
    }
   ],
   "source": [
    "# using CD - ED\n",
    "from scipy.constants import c, h, k\n",
    "from numpy import *\n",
    "from scipy.integrate import quad\n",
    "import matplotlib.pyplot as plt\n",
    "\n",
    "# central difference for use in extrapolated difference formula\n",
    "def CD(f,t,h=1e-5):\n",
    "    return (f(t+(h/2))-f(t-(h/2)))/h\n",
    "\n",
    "# extrapolated difference\n",
    "def ED(f,t,h=1e-1):\n",
    "    return (1/3)*(4*CD(f, t, (0.5*h))-CD(f, t, h))\n",
    "\n",
    "# newton step function\n",
    "def newton(f,t):\n",
    "    return t -(f(t)/ED(f,t))\n",
    "\n",
    "# forward difference\n",
    "def FD(f, t, h=1e-6):\n",
    "    return (f(t + h) - f(t)) / h\n",
    "\n",
    "#efficiency function\n",
    "def f(t):\n",
    "    lambda1 = 390e-9\n",
    "    lambda2 = 750e-9\n",
    "    upper = (h*c)/(lambda1*k*t)\n",
    "    lower = (h*c)/(lambda2*k*t)\n",
    "    effT = lambda x: ( 15/pi**4 ) * ( (x**3) / (exp(x)-1) )\n",
    "    return (quad(effT, lower ,upper)[0])\n",
    "\n",
    "# aquiring derivative function\n",
    "def derivative(t):\n",
    "    return CD(f,t)\n",
    "\n",
    "\n",
    "# looping\n",
    "x = 6000\n",
    "xU = newton(derivative,x)\n",
    "epsilon = 1e-8\n",
    "n = 0\n",
    "while abs(x-xU)>epsilon:\n",
    "    xU,x = newton(derivative, xU), xU\n",
    "    n += 1\n",
    "    print(f'x: {x}, iteration: {n:.2f} ')"
   ]
  },
  {
   "source": [
    "### Newton step FD - ED "
   ],
   "cell_type": "markdown",
   "metadata": {}
  },
  {
   "cell_type": "code",
   "execution_count": 229,
   "metadata": {},
   "outputs": [
    {
     "output_type": "stream",
     "name": "stdout",
     "text": [
      "x: 6723.79213483146, iteration: 1.00 \nx: 6898.2413959152045, iteration: 2.00 \nx: 6934.215496634629, iteration: 3.00 \nx: 6928.644587543719, iteration: 4.00 \nx: 6928.57752872019, iteration: 5.00 \nx: 6928.5790994008175, iteration: 6.00 \n"
     ]
    }
   ],
   "source": [
    "# using FD - ED \n",
    "from scipy.constants import c, h, k\n",
    "from numpy import *\n",
    "from scipy.integrate import quad\n",
    "import matplotlib.pyplot as plt\n",
    "\n",
    "# central difference for use in extrapolated difference formula\n",
    "def CD(f,t,h=1e-5):\n",
    "    return (f(t+(h/2))-f(t-(h/2)))/h\n",
    "\n",
    "# extrapolated difference\n",
    "def ED(f,t,h=1e-1):\n",
    "    return (1/3)*(4*CD(f, t, (0.5*h))-CD(f, t, h))\n",
    "\n",
    "# newton step function\n",
    "def newton(f,t):\n",
    "    return t -(f(t)/ED(f,t))\n",
    "\n",
    "# forward difference\n",
    "def FD(f, t, h=1e-6):\n",
    "    return (f(t + h) - f(t)) / h\n",
    "\n",
    "#efficiency function\n",
    "def f(t):\n",
    "    lambda1 = 390e-9\n",
    "    lambda2 = 750e-9\n",
    "    upper = (h*c)/(lambda1*k*t)\n",
    "    lower = (h*c)/(lambda2*k*t)\n",
    "    effT = lambda x: ( 15/pi**4 ) * ( (x**3) / (exp(x)-1) )\n",
    "    return (quad(effT, lower ,upper)[0])\n",
    "\n",
    "# aquiring derivative function\n",
    "def derivative(t):\n",
    "    return FD(f,t)\n",
    "\n",
    "\n",
    "# looping\n",
    "x = 6000\n",
    "xU = newton(derivative,x)\n",
    "epsilon = 1e-8\n",
    "n = 0\n",
    "while abs(x-xU)>epsilon:\n",
    "    xU,x = newton(derivative, xU), xU\n",
    "    n += 1\n",
    "    print(f'x: {x}, iteration: {n:.2f} ')"
   ]
  },
  {
   "source": [
    "### Newton step ED - FD "
   ],
   "cell_type": "markdown",
   "metadata": {}
  },
  {
   "cell_type": "code",
   "execution_count": 230,
   "metadata": {},
   "outputs": [
    {
     "output_type": "stream",
     "name": "stdout",
     "text": [
      "x: 6723.79083771161, iteration: 1.00 \n",
      "x: 6917.307209034015, iteration: 2.00 \n",
      "x: 6928.371254285182, iteration: 3.00 \n",
      "x: 6928.59098975577, iteration: 4.00 \n",
      "x: 6928.57673233341, iteration: 5.00 \n",
      "x: 6928.576903540307, iteration: 6.00 \n",
      "x: 6928.576946989026, iteration: 7.00 \n",
      "x: 6928.576945429026, iteration: 8.00 \n",
      "x: 6928.576944938342, iteration: 9.00 \n",
      "x: 6928.576945115858, iteration: 10.00 \n",
      "x: 6928.576945039387, iteration: 11.00 \n",
      "x: 6928.5769450161315, iteration: 12.00 \n"
     ]
    }
   ],
   "source": [
    "# using ED - FD\n",
    "from scipy.constants import c, h, k\n",
    "from numpy import *\n",
    "from scipy.integrate import quad\n",
    "import matplotlib.pyplot as plt\n",
    "\n",
    "# central difference for use in extrapolated difference formula\n",
    "def CD(f,t,h=1e-5):\n",
    "    return (f(t+(h/2))-f(t-(h/2)))/h\n",
    "\n",
    "# extrapolated difference\n",
    "def ED(f,t,h=1e-1):\n",
    "    return (1/3)*(4*CD(f, t, (0.5*h))-CD(f, t, h))\n",
    "\n",
    "# newton step function\n",
    "def newton(f,t):\n",
    "    return t -(f(t)/FD(f,t))\n",
    "\n",
    "# forward difference\n",
    "def FD(f, t, h=1e-6):\n",
    "    return (f(t + h) - f(t)) / h\n",
    "\n",
    "#efficiency function\n",
    "def f(t):\n",
    "    lambda1 = 390e-9\n",
    "    lambda2 = 750e-9\n",
    "    upper = (h*c)/(lambda1*k*t)\n",
    "    lower = (h*c)/(lambda2*k*t)\n",
    "    effT = lambda x: ( 15/pi**4 ) * ( (x**3) / (exp(x)-1) )\n",
    "    return (quad(effT, lower ,upper)[0])\n",
    "\n",
    "# aquiring derivative function\n",
    "def derivative(t):\n",
    "    return ED(f,t)\n",
    "\n",
    "\n",
    "# looping\n",
    "x = 6000\n",
    "xU = newton(derivative,x)\n",
    "epsilon = 1e-8\n",
    "n = 0\n",
    "while abs(x-xU)>epsilon:\n",
    "    xU,x = newton(derivative, xU), xU\n",
    "    n += 1\n",
    "    print(f'x: {x}, iteration: {n:.2f} ')"
   ]
  },
  {
   "source": [
    "### Newton step CD - FD "
   ],
   "cell_type": "markdown",
   "metadata": {}
  },
  {
   "cell_type": "code",
   "execution_count": 231,
   "metadata": {},
   "outputs": [
    {
     "output_type": "stream",
     "name": "stdout",
     "text": [
      "doesnt find root\n"
     ]
    }
   ],
   "source": [
    "'''\n",
    "# using CD - FD\n",
    "from scipy.constants import c, h, k\n",
    "from numpy import *\n",
    "from scipy.integrate import quad\n",
    "import matplotlib.pyplot as plt\n",
    "\n",
    "# central difference for use in extrapolated difference formula\n",
    "def CD(f,t,h=1e-5):\n",
    "    return (f(t+(h/2))-f(t-(h/2)))/h\n",
    "\n",
    "# extrapolated difference\n",
    "def ED(f,t,h=1e-1):\n",
    "    return (1/3)*(4*CD(f, t, (0.5*h))-CD(f, t, h))\n",
    "\n",
    "# newton step function\n",
    "def newton(f,t):\n",
    "    return t -(f(t)/FD(f,t))\n",
    "\n",
    "# forward difference\n",
    "def FD(f, t, h=1e-6):\n",
    "    return (f(t + h) - f(t)) / h\n",
    "\n",
    "#efficiency function\n",
    "def f(t):\n",
    "    lambda1 = 390e-9\n",
    "    lambda2 = 750e-9\n",
    "    upper = (h*c)/(lambda1*k*t)\n",
    "    lower = (h*c)/(lambda2*k*t)\n",
    "    effT = lambda x: ( 15/pi**4 ) * ( (x**3) / (exp(x)-1) )\n",
    "    return (quad(effT, lower ,upper)[0])\n",
    "\n",
    "# aquiring derivative function\n",
    "def derivative(t):\n",
    "    return CD(f,t)\n",
    "\n",
    "\n",
    "# looping\n",
    "x = 6000\n",
    "xU = newton(derivative,x)\n",
    "epsilon = 1e-8\n",
    "n = 0\n",
    "while abs(x-xU)>epsilon:\n",
    "    xU,x = newton(derivative, xU), xU\n",
    "    n += 1\n",
    "    print(f'x: {x}, iteration: {n:.2f} ')\n",
    "'''\n",
    "print('doesnt find root')"
   ]
  },
  {
   "source": [
    "### Newton step FD - FD "
   ],
   "cell_type": "markdown",
   "metadata": {}
  },
  {
   "cell_type": "code",
   "execution_count": 232,
   "metadata": {},
   "outputs": [
    {
     "output_type": "stream",
     "name": "stdout",
     "text": [
      "doesnt find root\n"
     ]
    }
   ],
   "source": [
    "'''\n",
    "# using FD - FD\n",
    "from scipy.constants import c, h, k\n",
    "from numpy import *\n",
    "from scipy.integrate import quad\n",
    "import matplotlib.pyplot as plt\n",
    "\n",
    "# central difference for use in extrapolated difference formula\n",
    "def CD(f,t,h=1e-5):\n",
    "    return (f(t+(h/2))-f(t-(h/2)))/h\n",
    "\n",
    "# extrapolated difference\n",
    "def ED(f,t,h=1e-1):\n",
    "    return (1/3)*(4*CD(f, t, (0.5*h))-CD(f, t, h))\n",
    "\n",
    "# newton step function\n",
    "def newton(f,t):\n",
    "    return t -(f(t)/FD(f,t))\n",
    "\n",
    "# forward difference\n",
    "def FD(f, t, h=1e-6):\n",
    "    return (f(t + h) - f(t)) / h\n",
    "\n",
    "#efficiency function\n",
    "def f(t):\n",
    "    lambda1 = 390e-9\n",
    "    lambda2 = 750e-9\n",
    "    upper = (h*c)/(lambda1*k*t)\n",
    "    lower = (h*c)/(lambda2*k*t)\n",
    "    effT = lambda x: ( 15/pi**4 ) * ( (x**3) / (exp(x)-1) )\n",
    "    return (quad(effT, lower ,upper)[0])\n",
    "\n",
    "# aquiring derivative function\n",
    "def derivative(t):\n",
    "    return FD(f,t)\n",
    "\n",
    "\n",
    "# looping\n",
    "x = 6000\n",
    "xU = newton(derivative,x)\n",
    "epsilon = 1e-8\n",
    "n = 0\n",
    "while abs(x-xU)>epsilon:\n",
    "    xU,x = newton(derivative, xU), xU\n",
    "    n += 1\n",
    "    print(f'x: {x}, iteration: {n:.2f} ')\n",
    "'''\n",
    "print('doesnt find root')"
   ]
  },
  {
   "source": [
    "### Newton step ED - CD "
   ],
   "cell_type": "markdown",
   "metadata": {}
  },
  {
   "cell_type": "code",
   "execution_count": 233,
   "metadata": {},
   "outputs": [
    {
     "output_type": "stream",
     "name": "stdout",
     "text": [
      "x: 6761.134917397556, iteration: 1.00 \nx: 6919.576622217899, iteration: 2.00 \nx: 6928.524971288465, iteration: 3.00 \nx: 6928.577374372981, iteration: 4.00 \nx: 6928.576958062185, iteration: 5.00 \nx: 6928.576945103498, iteration: 6.00 \nx: 6928.576944976839, iteration: 7.00 \nx: 6928.576944836338, iteration: 8.00 \nx: 6928.57694511328, iteration: 9.00 \n"
     ]
    }
   ],
   "source": [
    "# using ED - CD\n",
    "from scipy.constants import c, h, k\n",
    "from numpy import *\n",
    "from scipy.integrate import quad\n",
    "import matplotlib.pyplot as plt\n",
    "\n",
    "# central difference for use in extrapolated difference formula\n",
    "def CD(f,t,h=1e-5):\n",
    "    return (f(t+(h/2))-f(t-(h/2)))/h\n",
    "\n",
    "# extrapolated difference\n",
    "def ED(f,t,h=1e-1):\n",
    "    return (1/3)*(4*CD(f, t, (0.5*h))-CD(f, t, h))\n",
    "\n",
    "# newton step function\n",
    "def newton(f,t):\n",
    "    return t -(f(t)/CD(f,t))\n",
    "\n",
    "# forward difference\n",
    "def FD(f, t, h=1e-6):\n",
    "    return (f(t + h) - f(t)) / h\n",
    "\n",
    "#efficiency function\n",
    "def f(t):\n",
    "    lambda1 = 390e-9\n",
    "    lambda2 = 750e-9\n",
    "    upper = (h*c)/(lambda1*k*t)\n",
    "    lower = (h*c)/(lambda2*k*t)\n",
    "    effT = lambda x: ( 15/pi**4 ) * ( (x**3) / (exp(x)-1) )\n",
    "    return (quad(effT, lower ,upper)[0])\n",
    "\n",
    "# aquiring derivative function\n",
    "def derivative(t):\n",
    "    return ED(f,t)\n",
    "\n",
    "\n",
    "# looping\n",
    "x = 6000\n",
    "xU = newton(derivative,x)\n",
    "epsilon = 1e-8\n",
    "n = 0\n",
    "while abs(x-xU)>epsilon:\n",
    "    xU,x = newton(derivative, xU), xU\n",
    "    n += 1\n",
    "    print(f'x: {x}, iteration: {n:.2f} ')"
   ]
  },
  {
   "source": [
    "### Newton step CD - CD "
   ],
   "cell_type": "markdown",
   "metadata": {}
  },
  {
   "cell_type": "code",
   "execution_count": 234,
   "metadata": {},
   "outputs": [
    {
     "output_type": "stream",
     "name": "stdout",
     "text": [
      "doesnt find root\n"
     ]
    }
   ],
   "source": [
    "'''\n",
    "# using CD - CD\n",
    "from scipy.constants import c, h, k\n",
    "from numpy import *\n",
    "from scipy.integrate import quad\n",
    "import matplotlib.pyplot as plt\n",
    "\n",
    "# central difference for use in extrapolated difference formula\n",
    "def CD(f,t,h=1e-5):\n",
    "    return (f(t+(h/2))-f(t-(h/2)))/h\n",
    "\n",
    "# extrapolated difference\n",
    "def ED(f,t,h=1e-1):\n",
    "    return (1/3)*(4*CD(f, t, (0.5*h))-CD(f, t, h))\n",
    "\n",
    "# newton step function\n",
    "def newton(f,t):\n",
    "    return t -(f(t)/CD(f,t))\n",
    "\n",
    "# forward difference\n",
    "def FD(f, t, h=1e-6):\n",
    "    return (f(t + h) - f(t)) / h\n",
    "\n",
    "#efficiency function\n",
    "def f(t):\n",
    "    lambda1 = 390e-9\n",
    "    lambda2 = 750e-9\n",
    "    upper = (h*c)/(lambda1*k*t)\n",
    "    lower = (h*c)/(lambda2*k*t)\n",
    "    effT = lambda x: ( 15/pi**4 ) * ( (x**3) / (exp(x)-1) )\n",
    "    return (quad(effT, lower ,upper)[0])\n",
    "\n",
    "# aquiring derivative function\n",
    "def derivative(t):\n",
    "    return CD(f,t)\n",
    "\n",
    "\n",
    "# looping\n",
    "x = 6000\n",
    "xU = newton(derivative,x)\n",
    "epsilon = 1e-8\n",
    "n = 0\n",
    "while abs(x-xU)>epsilon:\n",
    "    xU,x = newton(derivative, xU), xU\n",
    "    n += 1\n",
    "    print(f'x: {x}, iteration: {n:.2f} ')\n",
    "'''\n",
    "print('doesnt find root')"
   ]
  },
  {
   "source": [
    "### Newton step FD - CD "
   ],
   "cell_type": "markdown",
   "metadata": {}
  },
  {
   "cell_type": "code",
   "execution_count": 235,
   "metadata": {},
   "outputs": [
    {
     "output_type": "stream",
     "name": "stdout",
     "text": [
      "doesnt find root\n"
     ]
    }
   ],
   "source": [
    "'''\n",
    "# using FD - CD\n",
    "from scipy.constants import c, h, k\n",
    "from numpy import *\n",
    "from scipy.integrate import quad\n",
    "import matplotlib.pyplot as plt\n",
    "\n",
    "# central difference for use in extrapolated difference formula\n",
    "def CD(f,t,h=1e-5):\n",
    "    return (f(t+(h/2))-f(t-(h/2)))/h\n",
    "\n",
    "# extrapolated difference\n",
    "def ED(f,t,h=1e-1):\n",
    "    return (1/3)*(4*CD(f, t, (0.5*h))-CD(f, t, h))\n",
    "\n",
    "# newton step function\n",
    "def newton(f,t):\n",
    "    return t -(f(t)/CD(f,t))\n",
    "\n",
    "# forward difference\n",
    "def FD(f, t, h=1e-6):\n",
    "    return (f(t + h) - f(t)) / h\n",
    "\n",
    "#efficiency function\n",
    "def f(t):\n",
    "    lambda1 = 390e-9\n",
    "    lambda2 = 750e-9\n",
    "    upper = (h*c)/(lambda1*k*t)\n",
    "    lower = (h*c)/(lambda2*k*t)\n",
    "    effT = lambda x: ( 15/pi**4 ) * ( (x**3) / (exp(x)-1) )\n",
    "    return (quad(effT, lower ,upper)[0])\n",
    "\n",
    "# aquiring derivative function\n",
    "def derivative(t):\n",
    "    return FD(f,t)\n",
    "\n",
    "\n",
    "# looping\n",
    "x = 6000\n",
    "xU = newton(derivative,x)\n",
    "epsilon = 1e-8\n",
    "n = 0\n",
    "while abs(x-xU)>epsilon:\n",
    "    xU,x = newton(derivative, xU), xU\n",
    "    n += 1\n",
    "    print(f'x: {x}, iteration: {n:.2f} ')\n",
    "'''\n",
    "print('doesnt find root')"
   ]
  },
  {
   "source": [
    "## result compilation"
   ],
   "cell_type": "markdown",
   "metadata": {}
  },
  {
   "source": [
    "'''\n",
    "bisection step using forward difference after 13 iterations from 6900,7000\n",
    "root found: 6928.5736083984375\n",
    "\n",
    "bisection step using extrapolated difference after 30 iterations from 6900,7000\n",
    "root found: 6928.576945001259\n",
    "\n",
    "bisection step using central difference after 17 iterations from 6900,7000\n",
    "root found: 6928.576850891113\n",
    "\n",
    "Regula falsi using forwad difference after 9 iterations from 6900,7000\n",
    "root found: 6928.57495154182\n",
    "\n",
    "Regula falsi using extrapolated difference after 7 iterations from 6900,7000\n",
    "root found: 6928.5769449383115\n",
    "\n",
    "Regula falsi using central difference after 3 iterations from 6900,7000\n",
    "root found: 6928.576933027294\n",
    "\n",
    "newton step using ED - ED\n",
    "11 iterations, root was 6928.576944993125\n",
    "\n",
    "newton step using CD - ED\n",
    "14 iterations, root was 6928.57635136961\n",
    "\n",
    "newton step using FD - ED\n",
    "5 iterations, root was 6928.5790994008175\n",
    "\n",
    "newton step ED - FD\n",
    "x: 6928.5769450161315, iteration: 12.00\n",
    "\n",
    "newton step ED - CD\n",
    "x: 6928.57694511328, iteration: 9.00 \n",
    "'''\n",
    "\n",
    "#Efficiency function\n",
    "def f(t):\n",
    "    lambda1 = 390e-9\n",
    "    lambda2 = 750e-9\n",
    "    upper = (h*c)/(lambda1*k*t)\n",
    "    lower = (h*c)/(lambda2*k*t)\n",
    "    effT = lambda x: ( 15/pi**4 ) * ( (x**3) / (exp(x)-1) )\n",
    "    return (quad(effT, lower ,upper)[0])\n",
    "\n",
    "# useful results\n",
    "average = ((6928.5736083984375 + 6928.576945001259 + 6928.576850891113) + (6928.57495154182 + 6928.5769449383115 + 6928.576933027294) + (6928.576944993125 + 6928.57635136961 + 6928.5790994008175) + (6928.5769450161315) + 6928.57694511328)/11\n",
    "FDbisection_error = abs(average - 6928.5736083984375)\n",
    "EDbisection_error = abs(average - 6928.576945001259)\n",
    "CDbisection_error = abs(average - 6928.576850891113)\n",
    "FDregula_error = abs(average - 6928.57495154182)\n",
    "EDregula_error = abs(average - 6928.5769449383115)\n",
    "CDregula_error = abs(average - 6928.576933027294)\n",
    "EDEDnewton_error = abs(average - 6928.576944993125)\n",
    "CDEDnewton_error = abs(average - 6928.57635136961)\n",
    "FDEDnewton_error = abs(average - 6928.5790994008175)\n",
    "EDFDnewton_error = abs(average - 6928.5769450161315)\n",
    "EDCDnewton_error = abs(average - 6928.57694511328)\n",
    "\n",
    "# printing useful results\n",
    "print(f'most accurate result: {average}')\n",
    "print('---------------')\n",
    "print(f'FD bisection error: {FDbisection_error}')\n",
    "print(f'ED bisection error: {EDbisection_error}')\n",
    "print(f'CD bisection error: {CDbisection_error}')\n",
    "print('---------------')\n",
    "print(f'FD regula error: {FDregula_error}')\n",
    "print(f'ED regula error: {EDregula_error}')\n",
    "print(f'CD regula error: {CDregula_error}')\n",
    "print('---------------')\n",
    "print(f'FD - ED newton error: {FDEDnewton_error}')\n",
    "print(f'ED - ED newton error: {EDEDnewton_error}')\n",
    "print(f'CD - ED newton error: {CDEDnewton_error}')\n",
    "print(f'ED - FD newton error: {EDFDnewton_error}')\n",
    "print(f'ED - CD newton error: {EDCDnewton_error}')\n",
    "print('---------------')\n",
    "print(f'tungstens melting point is 3687k, the efficiency of a bulb operating at that temperature is {f(3687)*100}%') # (1)\n",
    "print(f'the estimated maximum efficieny of an incandescent light bulb is when temperature is {average}, at that temperature, efficency is {f(average)*100}%')\n",
    "print(f'secondary source for max efficiency: {f(6989)*100}% occurs at T: 6989') # (4)\n",
    "print(f'practical efficiency: {f(3300)*100}') # (5)\n",
    "print(f'--------------')"
   ],
   "cell_type": "code",
   "metadata": {},
   "execution_count": 256,
   "outputs": [
    {
     "output_type": "stream",
     "name": "stdout",
     "text": [
      "most accurate result: 6928.5765926992\n---------------\nFD bisection error: 0.0029843007623640005\nED bisection error: 0.00035230205958214356\nCD bisection error: 0.00025819191341724945\n---------------\nFD regula error: 0.001641157379708602\nED regula error: 0.00035223911163484445\nCD regula error: 0.00034032809435302624\n---------------\nFD - ED newton error: 0.002506701617676299\nED - ED newton error: 0.0003522939250615309\nCD - ED newton error: 0.0002413295896985801\nED - FD newton error: 0.00035231693163950695\nED - CD newton error: 0.0003524140802255715\n---------------\ntungstens melting point is 3687k, the efficiency of a bulb operating at that temperature is 21.05273095772901%\nthe estimated maximum efficieny of an incandescent light bulb is when temperature is 6928.5765926992, at that temperature, efficency is 45.16938402945044%\nsecondary source for max efficiency: 45.16392521870655% occurs at T: 6989\npractical efficiency: 15.20448321170392\n--------------\n"
     ]
    }
   ]
  },
  {
   "source": [
    "## Discussion\n",
    "from our methods, we have used many different ways of obtaining a maximum efficiency and taken the average of roots that those methods calculated, from there we put that average temperature back into the efficiency equation to calculate the efficiency at that operation temperature. Assuming that average is the most accurate value we can find, we can then estimate the errors of the final result for each method by finding the difference between those seperate values and the average value. Interestingly enough, from the data I've found, using the central difference derivative method for the first derivative, and the extrapolated difference to find the second derivative, along with the newton step method gave the most accurate result (this is assuming there are no anomolous results affecting the average, this is a safe assumption to make as all the results are extremely close together). Another interesting observation we can make from looking at the results we have obtained is that the FD derivative method is consistently inaccurate when compared to the other 2 derivative methods. This could be due to subtractive cancellation. Had we never tested the accuracy of each of these values, and gone off the graphs from 'Methods 2 - Graphing Efficiency Derivative', we'd have never been able to realise that FD isn't as accurate as the other methods since the graphs are near identical at the scale we have them at. From referrence (4), we can also determine that both our result and model are fairly accurate, as we were able to calculate a very similar root (the difference being caused by a slight difference in tested wavelength range). Along with this similarity, we have also obtained a very similar efficiency value for their maximum temperature. \n",
    "## Conclusion\n",
    "One thing that went surprisingly well with this project was how easy it was to experiment with different derivative methods, all that needed to be done was replacing which method was called, nothing else. One thing that went surprisingly well with this project was how easy it was to experiment with different derivative methods, all that needed to be done was replacing which method was called, nothing else. One thing that could've been done better was the error analysis overall. It would've been interesting to have values for how accurate each method is seperately, and weight the average based on the error of each contributing value. Although the quad function returns an error, that error would not be the error we're looking for as that error applies to the Gaussian Quadrate function inbuilt into the Scipy library, therefore the only thing that affects that error would be the value of t. This is seemingly useless as the range for t is the same across all derivative methods and therefore, the error that quad would give us wouldn't help us evaluate which derivative method has the smallest absolute error (without comparing all the results together as i have). I would also like to explore new ways of finding roots, or searching through lists or potentially making our current suggested temperature more accurate. An example of a new type of method I would have liked to implement is either the Binary Search for searching for the root interval or the Golden Ratio search for the same purpose.\n",
    "\n"
   ],
   "cell_type": "markdown",
   "metadata": {}
  },
  {
   "source": [
    "## Referrences \n",
    "(1) https://www.rsc.org/periodic-table/element/74/tungstenW\n",
    "M. Haynes, ed., CRC Handbook of Chemistry and Physics, CRC Press/Taylor and Francis, Boca Raton, FL, 95th Edition, 2015. access date: 09/03/2021\n",
    "\n",
    "(2) http://spiff.rit.edu/classes/phys317/lectures/planck.html \n",
    "MWR., Blackbody Radiation and the Planck Function, 2007 access date: 12/03/2021\n",
    "\n",
    "(3) https://www.lehigh.edu/~ineng2/clipper/notes/NumDif.htm \n",
    "HELM (2008), Numerical Differentiation, 2008 access date: 12/03/2021\n",
    "\n",
    "(4) https://www.researchgate.net/publication/241576537_Efficiency_and_efficacy_of_incandescent_lampsAgrawal \n",
    "Dulli & Leff, Harvey & Menon, V.. (1996). Efficiency and efficacy of incandescent lamps. American Journal of Physics - AMER J PHYS. 64. 649-654. 10.1119/1.18260. access date: 12/03/2021\n",
    "\n",
    "(5) https://www.sciencedirect.com/topics/engineering/filament-lamp \n",
    "Filament Lamp - an overview, ScienceDirect Topics, Engineering Materials 1 (Fifth Edition), 2019 access date: 12/03/2021\n",
    "\n"
   ],
   "cell_type": "markdown",
   "metadata": {}
  },
  {
   "source": [
    "import io\n",
    "from IPython.nbformat import current\n",
    "filepath = 'bulb.ipynb'\n",
    "with io.open(filepath, 'r', encoding='utf-8') as f:\n",
    "    nb = current.read(f, 'json')\n",
    "\n",
    "word_count = 0\n",
    "for cell in nb.worksheets[0].cells:\n",
    "    if cell.cell_type == \"markdown\":\n",
    "        word_count += len(cell['source'].replace('#', '').lstrip().split(' '))\n",
    "print(word_count)"
   ],
   "cell_type": "code",
   "metadata": {},
   "execution_count": 255,
   "outputs": [
    {
     "output_type": "stream",
     "name": "stdout",
     "text": [
      "3917\n"
     ]
    }
   ]
  },
  {
   "cell_type": "code",
   "execution_count": null,
   "metadata": {},
   "outputs": [],
   "source": []
  }
 ],
 "metadata": {
  "kernelspec": {
   "name": "python3",
   "display_name": "Python 3.8.5 64-bit (conda)",
   "metadata": {
    "interpreter": {
     "hash": "9c339327df5c41434c093d0a383a3242867e27a5b3d8553d2d5e7eb4649e6868"
    }
   }
  },
  "language_info": {
   "codemirror_mode": {
    "name": "ipython",
    "version": 3
   },
   "file_extension": ".py",
   "mimetype": "text/x-python",
   "name": "python",
   "nbconvert_exporter": "python",
   "pygments_lexer": "ipython3",
   "version": "3.8.5-final"
  },
  "orig_nbformat": 2
 },
 "nbformat": 4,
 "nbformat_minor": 4
}